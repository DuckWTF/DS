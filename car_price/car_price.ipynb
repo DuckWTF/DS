{
 "cells": [
  {
   "cell_type": "markdown",
   "metadata": {},
   "source": [
    "# Определение стоимости автомобилей"
   ]
  },
  {
   "cell_type": "markdown",
   "metadata": {},
   "source": [
    "Сервис по продаже автомобилей с пробегом «Не бит, не крашен» разрабатывает приложение для привлечения новых клиентов. В нём можно быстро узнать рыночную стоимость своего автомобиля. В вашем распоряжении исторические данные: технические характеристики, комплектации и цены автомобилей. Вам нужно построить модель для определения стоимости. \n",
    "\n",
    "Заказчику важны:\n",
    "\n",
    "- качество предсказания;\n",
    "- скорость предсказания;\n",
    "- время обучения."
   ]
  },
  {
   "cell_type": "markdown",
   "metadata": {
    "toc": true
   },
   "source": [
    "<h1>План исследования<span class=\"tocSkip\"></span></h1>\n",
    "<div class=\"toc\"><ul class=\"toc-item\"><li><span><a href=\"#Подготовим-данные\" data-toc-modified-id=\"Подготовим-данные-1\"><span class=\"toc-item-num\">1&nbsp;&nbsp;</span>Подготовим данные</a></span><ul class=\"toc-item\"><li><span><a href=\"#Импортируем-библиотеки\" data-toc-modified-id=\"Импортируем-библиотеки-1.1\"><span class=\"toc-item-num\">1.1&nbsp;&nbsp;</span>Импортируем библиотеки</a></span></li><li><span><a href=\"#Загрузим-данные\" data-toc-modified-id=\"Загрузим-данные-1.2\"><span class=\"toc-item-num\">1.2&nbsp;&nbsp;</span>Загрузим данные</a></span></li><li><span><a href=\"#Приведем-названия-столбцов-к-&quot;змеиному_виду&quot;\" data-toc-modified-id=\"Приведем-названия-столбцов-к-&quot;змеиному_виду&quot;-1.3\"><span class=\"toc-item-num\">1.3&nbsp;&nbsp;</span>Приведем названия столбцов к \"змеиному_виду\"</a></span></li><li><span><a href=\"#Обработаем-пропуски\" data-toc-modified-id=\"Обработаем-пропуски-1.4\"><span class=\"toc-item-num\">1.4&nbsp;&nbsp;</span>Обработаем пропуски</a></span></li><li><span><a href=\"#Обработаем-неявные-дубликаты\" data-toc-modified-id=\"Обработаем-неявные-дубликаты-1.5\"><span class=\"toc-item-num\">1.5&nbsp;&nbsp;</span>Обработаем неявные дубликаты</a></span></li><li><span><a href=\"#Изучим-данные\" data-toc-modified-id=\"Изучим-данные-1.6\"><span class=\"toc-item-num\">1.6&nbsp;&nbsp;</span>Изучим данные</a></span><ul class=\"toc-item\"><li><span><a href=\"#Изучим-price\" data-toc-modified-id=\"Изучим-price-1.6.1\"><span class=\"toc-item-num\">1.6.1&nbsp;&nbsp;</span>Изучим <code>price</code></a></span></li><li><span><a href=\"#Изучим-registration_year\" data-toc-modified-id=\"Изучим-registration_year-1.6.2\"><span class=\"toc-item-num\">1.6.2&nbsp;&nbsp;</span>Изучим <code>registration_year</code></a></span></li><li><span><a href=\"#Изучим-power\" data-toc-modified-id=\"Изучим-power-1.6.3\"><span class=\"toc-item-num\">1.6.3&nbsp;&nbsp;</span>Изучим <code>power</code></a></span></li><li><span><a href=\"#Изучим-kilometer\" data-toc-modified-id=\"Изучим-kilometer-1.6.4\"><span class=\"toc-item-num\">1.6.4&nbsp;&nbsp;</span>Изучим <code>kilometer</code></a></span></li><li><span><a href=\"#Изучим-категориальные-данные.\" data-toc-modified-id=\"Изучим-категориальные-данные.-1.6.5\"><span class=\"toc-item-num\">1.6.5&nbsp;&nbsp;</span>Изучим категориальные данные.</a></span></li><li><span><a href=\"#Кореляционный-анализ\" data-toc-modified-id=\"Кореляционный-анализ-1.6.6\"><span class=\"toc-item-num\">1.6.6&nbsp;&nbsp;</span>Кореляционный анализ</a></span></li></ul></li><li><span><a href=\"#Обработаем-аномалии\" data-toc-modified-id=\"Обработаем-аномалии-1.7\"><span class=\"toc-item-num\">1.7&nbsp;&nbsp;</span>Обработаем аномалии</a></span></li><li><span><a href=\"#Выводы\" data-toc-modified-id=\"Выводы-1.8\"><span class=\"toc-item-num\">1.8&nbsp;&nbsp;</span>Выводы</a></span></li></ul></li><li><span><a href=\"#Подготовка-и-обучение-моделей\" data-toc-modified-id=\"Подготовка-и-обучение-моделей-2\"><span class=\"toc-item-num\">2&nbsp;&nbsp;</span>Подготовка и обучение моделей</a></span><ul class=\"toc-item\"><li><span><a href=\"#Подготовим-выборки\" data-toc-modified-id=\"Подготовим-выборки-2.1\"><span class=\"toc-item-num\">2.1&nbsp;&nbsp;</span>Подготовим выборки</a></span></li><li><span><a href=\"#Подготовим-данные\" data-toc-modified-id=\"Подготовим-данные-2.2\"><span class=\"toc-item-num\">2.2&nbsp;&nbsp;</span>Подготовим данные</a></span></li><li><span><a href=\"#Обучим-модели\" data-toc-modified-id=\"Обучим-модели-2.3\"><span class=\"toc-item-num\">2.3&nbsp;&nbsp;</span>Обучим модели</a></span></li><li><span><a href=\"#Aнализ-скорости-работы-и-качества-моделей\" data-toc-modified-id=\"Aнализ-скорости-работы-и-качества-моделей-2.4\"><span class=\"toc-item-num\">2.4&nbsp;&nbsp;</span>Aнализ скорости работы и качества моделей</a></span></li><li><span><a href=\"#Подбор-гиперпараметров-для-лучшей-модели\" data-toc-modified-id=\"Подбор-гиперпараметров-для-лучшей-модели-2.5\"><span class=\"toc-item-num\">2.5&nbsp;&nbsp;</span>Подбор гиперпараметров для лучшей модели</a></span></li><li><span><a href=\"#Проверка-на-тестовой-выборке\" data-toc-modified-id=\"Проверка-на-тестовой-выборке-2.6\"><span class=\"toc-item-num\">2.6&nbsp;&nbsp;</span>Проверка на тестовой выборке</a></span></li></ul></li><li><span><a href=\"#Общий-вывод\" data-toc-modified-id=\"Общий-вывод-3\"><span class=\"toc-item-num\">3&nbsp;&nbsp;</span>Общий вывод</a></span></li><li><span><a href=\"#Чек-лист-проверки\" data-toc-modified-id=\"Чек-лист-проверки-4\"><span class=\"toc-item-num\">4&nbsp;&nbsp;</span>Чек-лист проверки</a></span></li></ul></div>"
   ]
  },
  {
   "cell_type": "markdown",
   "metadata": {},
   "source": [
    "## Подготовим данные"
   ]
  },
  {
   "cell_type": "markdown",
   "metadata": {},
   "source": [
    "### Импортируем библиотеки"
   ]
  },
  {
   "cell_type": "code",
   "execution_count": 1,
   "metadata": {
    "scrolled": true
   },
   "outputs": [
    {
     "name": "stdout",
     "output_type": "stream",
     "text": [
      "Requirement already satisfied: scikit-learn in /opt/conda/lib/python3.9/site-packages (1.5.1)\n",
      "Requirement already satisfied: threadpoolctl>=3.1.0 in /opt/conda/lib/python3.9/site-packages (from scikit-learn) (3.1.0)\n",
      "Requirement already satisfied: joblib>=1.2.0 in /opt/conda/lib/python3.9/site-packages (from scikit-learn) (1.4.2)\n",
      "Requirement already satisfied: scipy>=1.6.0 in /opt/conda/lib/python3.9/site-packages (from scikit-learn) (1.9.1)\n",
      "Requirement already satisfied: numpy>=1.19.5 in /opt/conda/lib/python3.9/site-packages (from scikit-learn) (1.21.1)\n"
     ]
    }
   ],
   "source": [
    "!pip install --upgrade scikit-learn"
   ]
  },
  {
   "cell_type": "code",
   "execution_count": 2,
   "metadata": {},
   "outputs": [],
   "source": [
    "\n",
    "from matplotlib import pyplot as plt\n",
    "from sklearn.compose import ColumnTransformer\n",
    "from sklearn.dummy import DummyRegressor\n",
    "from sklearn.ensemble import RandomForestRegressor\n",
    "from sklearn.linear_model import LinearRegression\n",
    "from sklearn.linear_model import Ridge\n",
    "from sklearn.metrics import mean_squared_error\n",
    "from sklearn.model_selection import GridSearchCV\n",
    "from sklearn.model_selection import RandomizedSearchCV, train_test_split\n",
    "from sklearn.model_selection import train_test_split\n",
    "from sklearn.pipeline import Pipeline\n",
    "from sklearn.preprocessing import LabelEncoder\n",
    "from sklearn.preprocessing import OneHotEncoder\n",
    "from sklearn.preprocessing import OrdinalEncoder\n",
    "from sklearn.preprocessing import StandardScaler\n",
    "from sklearn.tree import DecisionTreeRegressor\n",
    "from tqdm import tqdm\n",
    "\n",
    "import lightgbm as lgb\n",
    "import matplotlib.pyplot as plt\n",
    "import numpy as np\n",
    "import pandas as pd\n",
    "import re\n",
    "import seaborn as sns\n",
    "import time\n",
    "import warnings\n",
    "# Объявим константу\n",
    "RANDOM_STATE = 42"
   ]
  },
  {
   "cell_type": "markdown",
   "metadata": {},
   "source": [
    "### Загрузим данные"
   ]
  },
  {
   "cell_type": "code",
   "execution_count": 3,
   "metadata": {
    "scrolled": true
   },
   "outputs": [
    {
     "name": "stdout",
     "output_type": "stream",
     "text": [
      "<class 'pandas.core.frame.DataFrame'>\n",
      "RangeIndex: 354369 entries, 0 to 354368\n",
      "Data columns (total 16 columns):\n",
      " #   Column             Non-Null Count   Dtype \n",
      "---  ------             --------------   ----- \n",
      " 0   DateCrawled        354369 non-null  object\n",
      " 1   Price              354369 non-null  int64 \n",
      " 2   VehicleType        316879 non-null  object\n",
      " 3   RegistrationYear   354369 non-null  int64 \n",
      " 4   Gearbox            334536 non-null  object\n",
      " 5   Power              354369 non-null  int64 \n",
      " 6   Model              334664 non-null  object\n",
      " 7   Kilometer          354369 non-null  int64 \n",
      " 8   RegistrationMonth  354369 non-null  int64 \n",
      " 9   FuelType           321474 non-null  object\n",
      " 10  Brand              354369 non-null  object\n",
      " 11  Repaired           283215 non-null  object\n",
      " 12  DateCreated        354369 non-null  object\n",
      " 13  NumberOfPictures   354369 non-null  int64 \n",
      " 14  PostalCode         354369 non-null  int64 \n",
      " 15  LastSeen           354369 non-null  object\n",
      "dtypes: int64(7), object(9)\n",
      "memory usage: 43.3+ MB\n",
      "None\n",
      "               Price  RegistrationYear          Power      Kilometer  \\\n",
      "count  354369.000000     354369.000000  354369.000000  354369.000000   \n",
      "mean     4416.656776       2004.234448     110.094337  128211.172535   \n",
      "std      4514.158514         90.227958     189.850405   37905.341530   \n",
      "min         0.000000       1000.000000       0.000000    5000.000000   \n",
      "25%      1050.000000       1999.000000      69.000000  125000.000000   \n",
      "50%      2700.000000       2003.000000     105.000000  150000.000000   \n",
      "75%      6400.000000       2008.000000     143.000000  150000.000000   \n",
      "max     20000.000000       9999.000000   20000.000000  150000.000000   \n",
      "\n",
      "       RegistrationMonth  NumberOfPictures     PostalCode  \n",
      "count      354369.000000          354369.0  354369.000000  \n",
      "mean            5.714645               0.0   50508.689087  \n",
      "std             3.726421               0.0   25783.096248  \n",
      "min             0.000000               0.0    1067.000000  \n",
      "25%             3.000000               0.0   30165.000000  \n",
      "50%             6.000000               0.0   49413.000000  \n",
      "75%             9.000000               0.0   71083.000000  \n",
      "max            12.000000               0.0   99998.000000  \n"
     ]
    },
    {
     "data": {
      "text/html": [
       "<div>\n",
       "<style scoped>\n",
       "    .dataframe tbody tr th:only-of-type {\n",
       "        vertical-align: middle;\n",
       "    }\n",
       "\n",
       "    .dataframe tbody tr th {\n",
       "        vertical-align: top;\n",
       "    }\n",
       "\n",
       "    .dataframe thead th {\n",
       "        text-align: right;\n",
       "    }\n",
       "</style>\n",
       "<table border=\"1\" class=\"dataframe\">\n",
       "  <thead>\n",
       "    <tr style=\"text-align: right;\">\n",
       "      <th></th>\n",
       "      <th>DateCrawled</th>\n",
       "      <th>Price</th>\n",
       "      <th>VehicleType</th>\n",
       "      <th>RegistrationYear</th>\n",
       "      <th>Gearbox</th>\n",
       "      <th>Power</th>\n",
       "      <th>Model</th>\n",
       "      <th>Kilometer</th>\n",
       "      <th>RegistrationMonth</th>\n",
       "      <th>FuelType</th>\n",
       "      <th>Brand</th>\n",
       "      <th>Repaired</th>\n",
       "      <th>DateCreated</th>\n",
       "      <th>NumberOfPictures</th>\n",
       "      <th>PostalCode</th>\n",
       "      <th>LastSeen</th>\n",
       "    </tr>\n",
       "  </thead>\n",
       "  <tbody>\n",
       "    <tr>\n",
       "      <th>0</th>\n",
       "      <td>2016-03-24 11:52:17</td>\n",
       "      <td>480</td>\n",
       "      <td>NaN</td>\n",
       "      <td>1993</td>\n",
       "      <td>manual</td>\n",
       "      <td>0</td>\n",
       "      <td>golf</td>\n",
       "      <td>150000</td>\n",
       "      <td>0</td>\n",
       "      <td>petrol</td>\n",
       "      <td>volkswagen</td>\n",
       "      <td>NaN</td>\n",
       "      <td>2016-03-24 00:00:00</td>\n",
       "      <td>0</td>\n",
       "      <td>70435</td>\n",
       "      <td>2016-04-07 03:16:57</td>\n",
       "    </tr>\n",
       "    <tr>\n",
       "      <th>1</th>\n",
       "      <td>2016-03-24 10:58:45</td>\n",
       "      <td>18300</td>\n",
       "      <td>coupe</td>\n",
       "      <td>2011</td>\n",
       "      <td>manual</td>\n",
       "      <td>190</td>\n",
       "      <td>NaN</td>\n",
       "      <td>125000</td>\n",
       "      <td>5</td>\n",
       "      <td>gasoline</td>\n",
       "      <td>audi</td>\n",
       "      <td>yes</td>\n",
       "      <td>2016-03-24 00:00:00</td>\n",
       "      <td>0</td>\n",
       "      <td>66954</td>\n",
       "      <td>2016-04-07 01:46:50</td>\n",
       "    </tr>\n",
       "    <tr>\n",
       "      <th>2</th>\n",
       "      <td>2016-03-14 12:52:21</td>\n",
       "      <td>9800</td>\n",
       "      <td>suv</td>\n",
       "      <td>2004</td>\n",
       "      <td>auto</td>\n",
       "      <td>163</td>\n",
       "      <td>grand</td>\n",
       "      <td>125000</td>\n",
       "      <td>8</td>\n",
       "      <td>gasoline</td>\n",
       "      <td>jeep</td>\n",
       "      <td>NaN</td>\n",
       "      <td>2016-03-14 00:00:00</td>\n",
       "      <td>0</td>\n",
       "      <td>90480</td>\n",
       "      <td>2016-04-05 12:47:46</td>\n",
       "    </tr>\n",
       "    <tr>\n",
       "      <th>3</th>\n",
       "      <td>2016-03-17 16:54:04</td>\n",
       "      <td>1500</td>\n",
       "      <td>small</td>\n",
       "      <td>2001</td>\n",
       "      <td>manual</td>\n",
       "      <td>75</td>\n",
       "      <td>golf</td>\n",
       "      <td>150000</td>\n",
       "      <td>6</td>\n",
       "      <td>petrol</td>\n",
       "      <td>volkswagen</td>\n",
       "      <td>no</td>\n",
       "      <td>2016-03-17 00:00:00</td>\n",
       "      <td>0</td>\n",
       "      <td>91074</td>\n",
       "      <td>2016-03-17 17:40:17</td>\n",
       "    </tr>\n",
       "    <tr>\n",
       "      <th>4</th>\n",
       "      <td>2016-03-31 17:25:20</td>\n",
       "      <td>3600</td>\n",
       "      <td>small</td>\n",
       "      <td>2008</td>\n",
       "      <td>manual</td>\n",
       "      <td>69</td>\n",
       "      <td>fabia</td>\n",
       "      <td>90000</td>\n",
       "      <td>7</td>\n",
       "      <td>gasoline</td>\n",
       "      <td>skoda</td>\n",
       "      <td>no</td>\n",
       "      <td>2016-03-31 00:00:00</td>\n",
       "      <td>0</td>\n",
       "      <td>60437</td>\n",
       "      <td>2016-04-06 10:17:21</td>\n",
       "    </tr>\n",
       "  </tbody>\n",
       "</table>\n",
       "</div>"
      ],
      "text/plain": [
       "           DateCrawled  Price VehicleType  RegistrationYear Gearbox  Power  \\\n",
       "0  2016-03-24 11:52:17    480         NaN              1993  manual      0   \n",
       "1  2016-03-24 10:58:45  18300       coupe              2011  manual    190   \n",
       "2  2016-03-14 12:52:21   9800         suv              2004    auto    163   \n",
       "3  2016-03-17 16:54:04   1500       small              2001  manual     75   \n",
       "4  2016-03-31 17:25:20   3600       small              2008  manual     69   \n",
       "\n",
       "   Model  Kilometer  RegistrationMonth  FuelType       Brand Repaired  \\\n",
       "0   golf     150000                  0    petrol  volkswagen      NaN   \n",
       "1    NaN     125000                  5  gasoline        audi      yes   \n",
       "2  grand     125000                  8  gasoline        jeep      NaN   \n",
       "3   golf     150000                  6    petrol  volkswagen       no   \n",
       "4  fabia      90000                  7  gasoline       skoda       no   \n",
       "\n",
       "           DateCreated  NumberOfPictures  PostalCode             LastSeen  \n",
       "0  2016-03-24 00:00:00                 0       70435  2016-04-07 03:16:57  \n",
       "1  2016-03-24 00:00:00                 0       66954  2016-04-07 01:46:50  \n",
       "2  2016-03-14 00:00:00                 0       90480  2016-04-05 12:47:46  \n",
       "3  2016-03-17 00:00:00                 0       91074  2016-03-17 17:40:17  \n",
       "4  2016-03-31 00:00:00                 0       60437  2016-04-06 10:17:21  "
      ]
     },
     "execution_count": 3,
     "metadata": {},
     "output_type": "execute_result"
    }
   ],
   "source": [
    "# Загрузка данных\n",
    "df = pd.read_csv('/datasets/autos.csv')\n",
    "\n",
    "# Первичное исследование данных\n",
    "print(df.info())\n",
    "print(df.describe())\n",
    "df.head()"
   ]
  },
  {
   "cell_type": "markdown",
   "metadata": {},
   "source": [
    "### Приведем названия столбцов к \"змеиному_виду\""
   ]
  },
  {
   "cell_type": "code",
   "execution_count": 4,
   "metadata": {},
   "outputs": [
    {
     "name": "stdout",
     "output_type": "stream",
     "text": [
      "<class 'pandas.core.frame.DataFrame'>\n",
      "RangeIndex: 354369 entries, 0 to 354368\n",
      "Data columns (total 16 columns):\n",
      " #   Column              Non-Null Count   Dtype \n",
      "---  ------              --------------   ----- \n",
      " 0   date_crawled        354369 non-null  object\n",
      " 1   price               354369 non-null  int64 \n",
      " 2   vehicle_type        316879 non-null  object\n",
      " 3   registration_year   354369 non-null  int64 \n",
      " 4   gearbox             334536 non-null  object\n",
      " 5   power               354369 non-null  int64 \n",
      " 6   model               334664 non-null  object\n",
      " 7   kilometer           354369 non-null  int64 \n",
      " 8   registration_month  354369 non-null  int64 \n",
      " 9   fuel_type           321474 non-null  object\n",
      " 10  brand               354369 non-null  object\n",
      " 11  repaired            283215 non-null  object\n",
      " 12  date_created        354369 non-null  object\n",
      " 13  number_of_pictures  354369 non-null  int64 \n",
      " 14  postal_code         354369 non-null  int64 \n",
      " 15  last_seen           354369 non-null  object\n",
      "dtypes: int64(7), object(9)\n",
      "memory usage: 43.3+ MB\n"
     ]
    }
   ],
   "source": [
    "# Переименовываем столбцы \n",
    "df.rename(columns=lambda x: re.sub(r'(?<!^)([A-Z])', r'_\\1', x).lower(), inplace=True)\n",
    "# \n",
    "df.info()"
   ]
  },
  {
   "cell_type": "markdown",
   "metadata": {},
   "source": [
    "- Присутствуют пропуски в некоторых категориальных столбцах, таких как `vehicle_type`, `gearbox`, `model`, `fuel_type`, и особенно в столбце `repaired` (значительное количество пропусков). На следующем этапе заполним их значением *unknown*.\n",
    "- Присутствуют аномалии в столбцах, которые требуют предварительной фильтрации и очистки данных перед обучением моделей.\n",
    "- Столбец `date_crawled` имеет тип **object**, хотя, как и другие временные столбцы (`date_created`, `last_seen`), содержат дату, однако они не несут прямого влияния на прогнозирование цены, поэтому удалим их.\n",
    "- Столбцы`power` и `registration_year` содержат аномальные значения (например, мощность от 0 до 20,000 л.с. и годы регистрации от 1000 до 9999).\n",
    "- Столбец `number_of_pictures` состоит полностью из нулей, его также следует удалить."
   ]
  },
  {
   "cell_type": "markdown",
   "metadata": {},
   "source": [
    "### Обработаем пропуски"
   ]
  },
  {
   "cell_type": "markdown",
   "metadata": {},
   "source": [
    "Заполним пропуски в категориальных признаках значением *unknown*. Удалим неинформативные столбцы."
   ]
  },
  {
   "cell_type": "code",
   "execution_count": 5,
   "metadata": {},
   "outputs": [],
   "source": [
    "# Заполнение пропущенных значений\n",
    "df['vehicle_type'].fillna('unknown', inplace=True)\n",
    "df['gearbox'].fillna('unknown', inplace=True)\n",
    "df['fuel_type'].fillna('unknown', inplace=True)\n",
    "df['repaired'].fillna('unknown', inplace=True)\n",
    "df['model'].fillna('unknown', inplace=True)"
   ]
  },
  {
   "cell_type": "code",
   "execution_count": 6,
   "metadata": {
    "scrolled": false
   },
   "outputs": [
    {
     "name": "stdout",
     "output_type": "stream",
     "text": [
      "<class 'pandas.core.frame.DataFrame'>\n",
      "RangeIndex: 354369 entries, 0 to 354368\n",
      "Data columns (total 10 columns):\n",
      " #   Column             Non-Null Count   Dtype \n",
      "---  ------             --------------   ----- \n",
      " 0   price              354369 non-null  int64 \n",
      " 1   vehicle_type       354369 non-null  object\n",
      " 2   registration_year  354369 non-null  int64 \n",
      " 3   gearbox            354369 non-null  object\n",
      " 4   power              354369 non-null  int64 \n",
      " 5   model              354369 non-null  object\n",
      " 6   kilometer          354369 non-null  int64 \n",
      " 7   fuel_type          354369 non-null  object\n",
      " 8   brand              354369 non-null  object\n",
      " 9   repaired           354369 non-null  object\n",
      "dtypes: int64(4), object(6)\n",
      "memory usage: 27.0+ MB\n"
     ]
    }
   ],
   "source": [
    "# Удаление неинформативных столбцов\n",
    "df = df.drop(['date_crawled', 'date_created', 'last_seen', 'postal_code', 'number_of_pictures', 'registration_month' ], axis=1)\n",
    "\n",
    "# Проверим изменения\n",
    "df.info()"
   ]
  },
  {
   "cell_type": "markdown",
   "metadata": {},
   "source": [
    "### Обработаем неявные дубликаты"
   ]
  },
  {
   "cell_type": "code",
   "execution_count": 7,
   "metadata": {},
   "outputs": [
    {
     "name": "stdout",
     "output_type": "stream",
     "text": [
      "Уникальные значения для vehicle_type: \n",
      "sedan          91457\n",
      "small          79831\n",
      "wagon          65166\n",
      "unknown        37490\n",
      "bus            28775\n",
      "convertible    20203\n",
      "coupe          16163\n",
      "suv            11996\n",
      "other           3288\n",
      "Name: vehicle_type, dtype: int64\n",
      "\n",
      "Уникальные значения для gearbox: \n",
      "manual     268251\n",
      "auto        66285\n",
      "unknown     19833\n",
      "Name: gearbox, dtype: int64\n",
      "\n",
      "Уникальные значения для model: \n",
      "golf                  29232\n",
      "other                 24421\n",
      "3er                   19761\n",
      "unknown               19705\n",
      "polo                  13066\n",
      "                      ...  \n",
      "i3                        8\n",
      "serie_3                   4\n",
      "rangerover                4\n",
      "range_rover_evoque        2\n",
      "serie_1                   2\n",
      "Name: model, Length: 251, dtype: int64\n",
      "\n",
      "Уникальные значения для fuel_type: \n",
      "petrol      216352\n",
      "gasoline     98720\n",
      "unknown      32895\n",
      "lpg           5310\n",
      "cng            565\n",
      "hybrid         233\n",
      "other          204\n",
      "electric        90\n",
      "Name: fuel_type, dtype: int64\n",
      "\n",
      "Уникальные значения для brand: \n",
      "volkswagen        77013\n",
      "opel              39931\n",
      "bmw               36914\n",
      "mercedes_benz     32046\n",
      "audi              29456\n",
      "ford              25179\n",
      "renault           17927\n",
      "peugeot           10998\n",
      "fiat               9643\n",
      "seat               6907\n",
      "mazda              5615\n",
      "skoda              5500\n",
      "smart              5246\n",
      "citroen            5148\n",
      "nissan             4941\n",
      "toyota             4606\n",
      "hyundai            3587\n",
      "sonstige_autos     3374\n",
      "volvo              3210\n",
      "mini               3202\n",
      "mitsubishi         3022\n",
      "honda              2817\n",
      "kia                2465\n",
      "suzuki             2323\n",
      "alfa_romeo         2314\n",
      "chevrolet          1754\n",
      "chrysler           1439\n",
      "dacia               900\n",
      "daihatsu            806\n",
      "subaru              762\n",
      "porsche             758\n",
      "jeep                677\n",
      "trabant             589\n",
      "land_rover          545\n",
      "daewoo              542\n",
      "saab                526\n",
      "jaguar              505\n",
      "rover               486\n",
      "lancia              471\n",
      "lada                225\n",
      "Name: brand, dtype: int64\n",
      "\n",
      "Уникальные значения для repaired: \n",
      "no         247161\n",
      "unknown     71154\n",
      "yes         36054\n",
      "Name: repaired, dtype: int64\n",
      "\n"
     ]
    }
   ],
   "source": [
    "# Проверка уникальных значений категориальных данных \n",
    "for col in df.select_dtypes(include='object').columns:\n",
    "    print(f'Уникальные значения для {col}: ')\n",
    "    print(df[col].value_counts())\n",
    "    print()"
   ]
  },
  {
   "cell_type": "markdown",
   "metadata": {},
   "source": [
    "- У признака `fuel_type` есть значения *petrol* и *gasoline*, означающие одно и то же. Объединим их"
   ]
  },
  {
   "cell_type": "code",
   "execution_count": 8,
   "metadata": {},
   "outputs": [
    {
     "name": "stdout",
     "output_type": "stream",
     "text": [
      "petrol      315072\n",
      "unknown      32895\n",
      "lpg           5310\n",
      "cng            565\n",
      "hybrid         233\n",
      "other          204\n",
      "electric        90\n",
      "Name: fuel_type, dtype: int64\n"
     ]
    }
   ],
   "source": [
    "# Объединяем значения \"petrol\" и \"gasoline\" в одно значение \"petrol\"\n",
    "df['fuel_type'] = df['fuel_type'].replace({'gasoline': 'petrol'})\n",
    "\n",
    "# Проверим уникальные значения после замены\n",
    "print(df['fuel_type'].value_counts())\n"
   ]
  },
  {
   "cell_type": "markdown",
   "metadata": {},
   "source": [
    "### Изучим данные"
   ]
  },
  {
   "cell_type": "code",
   "execution_count": 9,
   "metadata": {},
   "outputs": [],
   "source": [
    "# Определим функцию для построения графиков и вывода данных\n",
    "def plot_data(df, column, title, xlabel, ylabel, columns_to_encode=None, encoding_lists=None, palette='Set2'):\n",
    "    \"\"\"\n",
    "    Функция для построения графиков данных, определяет тип данных в столбце и вызывает соответствующую функцию для построения \n",
    "    графика.\n",
    "    \n",
    "    Аргументы:\n",
    "    df (pd.DataFrame): Датафрейм с данными.\n",
    "    column (str): Название столбца для визуализации.\n",
    "    title (str): Заголовок графика.\n",
    "    xlabel (str): Название оси X.\n",
    "    ylabel (str): Название оси Y.\n",
    "    columns_to_encode (list, optional): Список столбцов, для которых требуется декодирование значений.\n",
    "    encoding_lists (list of lists, optional): Список списков с декодированными значениями для столбцов.\n",
    "    palette (str, optional): Название палитры для цветов графика.\n",
    "    \"\"\"\n",
    "    df_copy = df.copy()  # Создаем копию DataFrame\n",
    "\n",
    "    if df_copy[column].dtype == 'object' or df_copy[column].nunique() <= 5:\n",
    "        plot_categorical(df_copy, column, title, xlabel, ylabel, columns_to_encode, encoding_lists, palette)\n",
    "    else:\n",
    "        plot_numerical(df_copy, column, title, xlabel, ylabel, columns_to_encode, encoding_lists, palette)\n",
    "\n",
    "def get_encoding_dict(column, columns_to_encode, encoding_lists):\n",
    "    \"\"\"\n",
    "    Возвращает словарь декодирования для указанного столбца.\n",
    "    \n",
    "    Аргументы:\n",
    "    column (str): Название столбца для визуализации.\n",
    "    columns_to_encode (list): Список столбцов, для которых требуется декодирование значений.\n",
    "    encoding_lists (list of lists): Список списков с декодированными значениями для столбцов.\n",
    "    \n",
    "    Возвращает:\n",
    "    dict: Словарь декодирования для столбца или None, если декодирование не требуется.\n",
    "    \"\"\"\n",
    "    if columns_to_encode and column in columns_to_encode and encoding_lists:\n",
    "        index = columns_to_encode.index(column)\n",
    "        return {i: encoding_lists[index][i] for i in range(len(encoding_lists[index]))}\n",
    "    return None\n",
    "\n",
    "def plot_categorical(df, column, title, xlabel, ylabel, columns_to_encode, encoding_lists, palette):\n",
    "    \"\"\"\n",
    "    Функция для построения столбчатого графика для категориальных данных.\n",
    "    \n",
    "    Аргументы:\n",
    "    df (pd.DataFrame): Датафрейм с данными.\n",
    "    column (str): Название столбца для визуализации.\n",
    "    title (str): Заголовок графика.\n",
    "    xlabel (str): Название оси X.\n",
    "    ylabel (str): Название оси Y.\n",
    "    columns_to_encode (list, optional): Список столбцов, для которых требуется декодирование значений.\n",
    "    encoding_lists (list of lists, optional): Список списков с декодированными значениями для столбцов.\n",
    "    palette (str, optional): Название палитры для цветов графика.\n",
    "    \"\"\"\n",
    "    value_map = get_encoding_dict(column, columns_to_encode, encoding_lists)\n",
    "    if value_map:\n",
    "        df[column] = df[column].map(value_map)\n",
    "    \n",
    "    counts = df[column].value_counts()\n",
    "    total = counts.sum()\n",
    "\n",
    "    unique_values = len(counts)\n",
    "    height = min(unique_values * 1.6, 8)\n",
    "    height = max(height, 1.6)  #Выставляем минимальную высоту\n",
    "    \n",
    "    fig, ax = plt.subplots(figsize=(15, height))\n",
    "    bars = ax.barh(counts.index, counts.values, color=sns.color_palette(palette, unique_values), edgecolor='black')\n",
    "\n",
    "    legend_labels = ['{}: {} ({:.1f}%)'.format(i, j, (j / total) * 100) for i, j in zip(counts.index, counts.values)]\n",
    "    ax.legend(bars, legend_labels, title=column, loc='upper center', bbox_to_anchor=(0.5, -0.15), ncol=1)\n",
    "\n",
    "    ax.set_title(title)\n",
    "    ax.set_xlabel(xlabel)\n",
    "    ax.set_ylabel(ylabel)\n",
    "\n",
    "    ax.tick_params(axis='x', direction='inout', length=10, width=1, colors='black', pad=5, labelcolor='black')\n",
    "    ax.xaxis.set_tick_params(width=1, size=10, color='black', pad=5)\n",
    "    ax.tick_params(axis='y', pad=5)\n",
    "\n",
    "    plt.show()\n",
    "\n",
    "def plot_numerical(df, column, title, xlabel, ylabel, columns_to_encode, encoding_lists, palette):\n",
    "    \"\"\"\n",
    "    Функция для построения гистограммы и коробки с усами для числовых данных.\n",
    "    \n",
    "    Аргументы:\n",
    "    df (pd.DataFrame): Датафрейм с данными.\n",
    "    column (str): Название столбца для визуализации.\n",
    "    title (str): Заголовок графика.\n",
    "    xlabel (str): Название оси X.\n",
    "    ylabel (str): Название оси Y.\n",
    "    columns_to_encode (list, optional): Список столбцов, для которых требуется декодирование значений.\n",
    "    encoding_lists (list of lists, optional): Список списков с декодированными значениями для столбцов.\n",
    "    palette (str, optional): Название палитры для цветов графика.\n",
    "    \"\"\"\n",
    "    value_map = get_encoding_dict(column, columns_to_encode, encoding_lists)\n",
    "    if value_map:\n",
    "        df[column] = df[column].map(value_map)\n",
    "\n",
    "    #Фильтрация выбросов\n",
    "    q_low = df[column].quantile(0.005)\n",
    "    q_hi = df[column].quantile(0.995)\n",
    "    df_filtered = df[(df[column] > q_low) & (df[column] < q_hi)]\n",
    "    #df_filtered = df\n",
    "    fig = plt.figure(figsize=(14, 6))\n",
    "    gs = plt.GridSpec(1, 3, width_ratios=[3, 0.5, 1])\n",
    "\n",
    "    # Построение гистограммы\n",
    "    ax0 = plt.subplot(gs[0])\n",
    "    sns.histplot(df_filtered[column], ax=ax0, kde=True, color=sns.color_palette(palette, 1)[0])\n",
    "    ax0.set_title(f'{title} - Гистограмма')\n",
    "    ax0.set_xlabel(xlabel)\n",
    "    ax0.set_ylabel(ylabel)\n",
    "\n",
    "    # Построение диаграммы размаха (boxplot)\n",
    "    lighter_color = sns.light_palette(sns.color_palette(palette, 1)[0], n_colors=3)[1]\n",
    "\n",
    "    ax1 = plt.subplot(gs[2])\n",
    "    sns.boxplot(y=df_filtered[column], ax=ax1, color=lighter_color,\n",
    "                boxprops=dict(edgecolor='black', linewidth=0.7),\n",
    "                whiskerprops=dict(color='black', linewidth=0.7),\n",
    "                capprops=dict(color='black', linewidth=0.7),\n",
    "                medianprops=dict(color='black', linewidth=0.7))\n",
    "    ax1.set_title(f'{title} - Диаграмма размаха')\n",
    "    ax1.set_ylabel(ylabel)\n",
    "\n",
    "    plt.tight_layout()\n",
    "    plt.show()\n",
    "\n",
    "    # Вывод статистики\n",
    "    median_value = df[column].median()\n",
    "    print(f'median\\t\\t{median_value}')\n",
    "    print(df[column].describe())\n"
   ]
  },
  {
   "cell_type": "markdown",
   "metadata": {},
   "source": [
    "#### Изучим `price`"
   ]
  },
  {
   "cell_type": "code",
   "execution_count": 10,
   "metadata": {},
   "outputs": [
    {
     "data": {
      "image/png": "[encoded data removed]",
      "text/plain": [
       "<Figure size 1008x432 with 2 Axes>"
      ]
     },
     "metadata": {
      "needs_background": "light"
     },
     "output_type": "display_data"
    },
    {
     "name": "stdout",
     "output_type": "stream",
     "text": [
      "median\t\t2700.0\n",
      "count    354369.000000\n",
      "mean       4416.656776\n",
      "std        4514.158514\n",
      "min           0.000000\n",
      "25%        1050.000000\n",
      "50%        2700.000000\n",
      "75%        6400.000000\n",
      "max       20000.000000\n",
      "Name: price, dtype: float64\n"
     ]
    }
   ],
   "source": [
    "plot_data(df, 'price', 'Распределение цены автомобилей', 'Цена', 'Количество', palette='husl')"
   ]
  },
  {
   "cell_type": "markdown",
   "metadata": {},
   "source": [
    "- Медиана значения цены  3100, большинство автомобилей оцениваются в диапазоне от 1300 до 6950.\n",
    "- Минимум 1, что явно является аномалией и, вероятно, связано с ошибкой ввода данных. Отфильтруем далее автомобили с ценой ниже 100 для улучшения качества данных.\n",
    "- Исключать \"выбросы\"  от 15 000 до 20 000 не будем т.к. данные отражают реальное состояние рынка."
   ]
  },
  {
   "cell_type": "markdown",
   "metadata": {},
   "source": [
    "#### Изучим `registration_year`"
   ]
  },
  {
   "cell_type": "code",
   "execution_count": 11,
   "metadata": {
    "scrolled": false
   },
   "outputs": [
    {
     "data": {
      "image/png": "[encoded data removed]",
      "text/plain": [
       "<Figure size 1008x432 with 2 Axes>"
      ]
     },
     "metadata": {
      "needs_background": "light"
     },
     "output_type": "display_data"
    },
    {
     "name": "stdout",
     "output_type": "stream",
     "text": [
      "median\t\t2003.0\n",
      "count    354369.000000\n",
      "mean       2004.234448\n",
      "std          90.227958\n",
      "min        1000.000000\n",
      "25%        1999.000000\n",
      "50%        2003.000000\n",
      "75%        2008.000000\n",
      "max        9999.000000\n",
      "Name: registration_year, dtype: float64\n"
     ]
    }
   ],
   "source": [
    "plot_data(df, 'registration_year', 'Распределение года регистрации автомобилей', 'Год регистрации', 'Количество', palette='BuGn')"
   ]
  },
  {
   "cell_type": "markdown",
   "metadata": {},
   "source": [
    " - Большинство автомобилей было зарегистрировано с конца 1990-х до начала 2010-х. \n",
    " - Значения 1000 и 9999 явно аномальны, отфильтруем далее автомобили до 1980 и после 2016 (год получения данных).\n"
   ]
  },
  {
   "cell_type": "markdown",
   "metadata": {},
   "source": [
    "#### Изучим `power`"
   ]
  },
  {
   "cell_type": "code",
   "execution_count": 12,
   "metadata": {
    "scrolled": false
   },
   "outputs": [
    {
     "data": {
      "image/png": "[encoded data removed]",
      "text/plain": [
       "<Figure size 1008x432 with 2 Axes>"
      ]
     },
     "metadata": {
      "needs_background": "light"
     },
     "output_type": "display_data"
    },
    {
     "name": "stdout",
     "output_type": "stream",
     "text": [
      "median\t\t105.0\n",
      "count    354369.000000\n",
      "mean        110.094337\n",
      "std         189.850405\n",
      "min           0.000000\n",
      "25%          69.000000\n",
      "50%         105.000000\n",
      "75%         143.000000\n",
      "max       20000.000000\n",
      "Name: power, dtype: float64\n"
     ]
    }
   ],
   "source": [
    "plot_data(df, 'power', 'Распределение мощности автомобилей', 'Мощность (л.с.)', 'Количество', palette='coolwarm')"
   ]
  },
  {
   "cell_type": "markdown",
   "metadata": {},
   "source": [
    "- Большинство автомобилей  имеют мощность от 50 до 200 л.с., медиана составляет 110 л.с.\n",
    "- Есть минимальное значение в 1 л.с., что явно является ошибкой в данных.\n",
    "- Наблюдаются выбросы с мощностью выше 300 л.с., вплоть до 999 л.с., что скорее всего также аномалия. Далее удалим записи с нереалистичными значениями мощности (менее 50 л.с. и более 500 л.с.), чтобы улучшить качество моделей."
   ]
  },
  {
   "cell_type": "markdown",
   "metadata": {},
   "source": [
    "#### Изучим `kilometer`"
   ]
  },
  {
   "cell_type": "code",
   "execution_count": 13,
   "metadata": {},
   "outputs": [
    {
     "data": {
      "image/png": "[encoded data removed]",
      "text/plain": [
       "<Figure size 1008x432 with 2 Axes>"
      ]
     },
     "metadata": {
      "needs_background": "light"
     },
     "output_type": "display_data"
    },
    {
     "name": "stdout",
     "output_type": "stream",
     "text": [
      "median\t\t150000.0\n",
      "count    354369.000000\n",
      "mean     128211.172535\n",
      "std       37905.341530\n",
      "min        5000.000000\n",
      "25%      125000.000000\n",
      "50%      150000.000000\n",
      "75%      150000.000000\n",
      "max      150000.000000\n",
      "Name: kilometer, dtype: float64\n"
     ]
    }
   ],
   "source": [
    "plot_data(df, 'kilometer', 'Распределение пробега автомобилей', 'Пробег (км)', 'Количество', palette='magma')"
   ]
  },
  {
   "cell_type": "markdown",
   "metadata": {},
   "source": [
    "- Больше половины значений = 150 000 км. Возможно, в данных изначально были пропуски по пробегу, и для их заполнения использовали фиксированное значение в 150,000 км. Либо, возможно, на этапе сбора выбирается категория, и максимальная - 150 000 +. В любом случае, это больше половины данных. Избавляться от них или заполнять другими значениями было бы некорректно.\n",
    "- Диапазон пробега автомобилей варьируется от 5,000 до 150,000 км. \n",
    "- \"Вбросы\" 5000 - 80000 км также отражают реальные условия рынка, не будем откидывать их."
   ]
  },
  {
   "cell_type": "markdown",
   "metadata": {},
   "source": [
    "- Большое количество автомобилей зарегистрировано в неизвестные месяцы (значение 0 составляет 10.5%).\n",
    "- Март является наиболее популярным месяцем регистрации среди известных месяцев (9.7%).\n",
    "- Пик регистрации приходится на весенние месяцы (март, апрель, май) и летние месяцы (июнь и июль), что может быть связано с активным сезоном покупки автомобилей."
   ]
  },
  {
   "cell_type": "markdown",
   "metadata": {},
   "source": [
    "#### Изучим категориальные данные."
   ]
  },
  {
   "cell_type": "code",
   "execution_count": 14,
   "metadata": {
    "scrolled": false
   },
   "outputs": [
    {
     "name": "stdout",
     "output_type": "stream",
     "text": [
      "График для vehicle_type\n"
     ]
    },
    {
     "data": {
      "image/png": "[encoded data removed]",
      "text/plain": [
       "<Figure size 1080x576 with 1 Axes>"
      ]
     },
     "metadata": {
      "needs_background": "light"
     },
     "output_type": "display_data"
    },
    {
     "name": "stdout",
     "output_type": "stream",
     "text": [
      "График для gearbox\n"
     ]
    },
    {
     "data": {
      "image/png": "[encoded data removed]",
      "text/plain": [
       "<Figure size 1080x345.6 with 1 Axes>"
      ]
     },
     "metadata": {
      "needs_background": "light"
     },
     "output_type": "display_data"
    },
    {
     "name": "stdout",
     "output_type": "stream",
     "text": [
      "График для fuel_type\n"
     ]
    },
    {
     "data": {
      "image/png": "[encoded data removed]",
      "text/plain": [
       "<Figure size 1080x576 with 1 Axes>"
      ]
     },
     "metadata": {
      "needs_background": "light"
     },
     "output_type": "display_data"
    },
    {
     "name": "stdout",
     "output_type": "stream",
     "text": [
      "График для repaired\n"
     ]
    },
    {
     "data": {
      "image/png": "[encoded data removed]",
      "text/plain": [
       "<Figure size 1080x345.6 with 1 Axes>"
      ]
     },
     "metadata": {
      "needs_background": "light"
     },
     "output_type": "display_data"
    }
   ],
   "source": [
    "df_copy = df\n",
    "# Список палитр\n",
    "palettes = [ 'husl', 'plasma', 'magma_r', 'viridis']\n",
    "palette_index = 0\n",
    "# Цикл для визуализации категориальных данных\n",
    "for col in df.select_dtypes(include='object').columns:\n",
    "    if col not in ['brand', 'model']:  # Пропускаем колонки 'brand' и 'model'\n",
    "        # Выбираем палитру\n",
    "        current_palette = palettes[palette_index % len(palettes)]\n",
    "        print(f'График для {col}')\n",
    "        \n",
    "        # Построение графика\n",
    "        plot_data(df_copy, col, f'Распределение {col}', col, ' ', palette=current_palette)\n",
    "        \n",
    "        # Переходим к следующей палитре\n",
    "        palette_index += 1\n",
    "\n"
   ]
  },
  {
   "cell_type": "markdown",
   "metadata": {},
   "source": [
    "- Лидирующие типы кузова — это \"седан\" и \"малый\" автомобиль. Есть значительное количество неизвестных значений (10.6%).\n",
    "- Большинство автомобилей имеют ручную коробку передач, в то время как автоматическая встречается реже. В 5.6% случаев тип неизвестен.\n",
    "- Почти 89% автомобилей используют бензин (petrol), небольшое количество на других типах топлива, таких как газ и электричество. \n",
    "- Около 70% автомобилей не проходили ремонт, в 20% данных по ремонту отсутствуют."
   ]
  },
  {
   "cell_type": "markdown",
   "metadata": {},
   "source": [
    "#### Кореляционный анализ\n",
    "\n",
    "Исследуем корреляции между признаками в датафрейме df. Учитывая специфику наших данных (численные с ненормальным распределением + категориальные) будем использовать phik - корреляцию."
   ]
  },
  {
   "cell_type": "code",
   "execution_count": 15,
   "metadata": {
    "scrolled": false
   },
   "outputs": [
    {
     "data": {
      "image/png": "[encoded data removed]",
      "text/plain": [
       "<Figure size 864x720 with 2 Axes>"
      ]
     },
     "metadata": {
      "needs_background": "light"
     },
     "output_type": "display_data"
    }
   ],
   "source": [
    "# Создаем копию данных для корреляционного анализа\n",
    "df_copy = df.copy()\n",
    "# Преобразуем категориальные данные в числовые\n",
    "le = LabelEncoder()\n",
    "categorical_columns = ['vehicle_type', 'gearbox', 'model', 'fuel_type', 'brand', 'repaired']\n",
    "for col in categorical_columns:\n",
    "    df_copy[col] = le.fit_transform(df_copy[col].astype(str))\n",
    "\n",
    "# Указываем числовые признаки\n",
    "interval_cols = ['price', 'registration_year', 'power', 'kilometer'] + categorical_columns\n",
    "\n",
    "# Вычисляем корреляционную матрицу\n",
    "corr_matrix = df_copy[interval_cols].corr()\n",
    "\n",
    "# Построим тепловую карту корреляций\n",
    "plt.figure(figsize=(12, 10))\n",
    "sns.heatmap(corr_matrix, annot=True, cmap='coolwarm', vmin=-1, vmax=1)\n",
    "plt.title('Корреляционная матрица признаков автомобилей')\n",
    "plt.show()"
   ]
  },
  {
   "cell_type": "markdown",
   "metadata": {},
   "source": [
    "- Самая высокая корреляция с целевой переменной `price` наблюдается у признаков `power` (**0.16**) и `kilometer` (**-0.33**). \n",
    "- сильной линейной зависимости между признаками нет."
   ]
  },
  {
   "cell_type": "markdown",
   "metadata": {},
   "source": [
    "### Обработаем аномалии\n",
    "\n",
    "Обработаем аномальные значения в  столбцах `price`, `registration_year`, `power`.\n",
    "После фильтрации проверим, сколько записей было удалено и сколько осталось в наборе данных."
   ]
  },
  {
   "cell_type": "code",
   "execution_count": 16,
   "metadata": {},
   "outputs": [
    {
     "name": "stdout",
     "output_type": "stream",
     "text": [
      "Записей в df до фильтрации: 354369\n",
      "Записей в df после фильтрации: 288240\n",
      "Отброшено данных: 66129 записей (18.66% от общего количества)\n"
     ]
    }
   ],
   "source": [
    "# Сохраним размер датафрейма до фильтрации\n",
    "initial_size = df.shape[0]\n",
    "# Фильтрация по столбцу Price\n",
    "price_lower_bound = 100  # Минимальная разумная цена автомобиля\n",
    "# Фильтрация по столбцу RegistrationYear (оставим автомобили начиная с 1980 года)\n",
    "year_lower_bound = 1980\n",
    "year_upper_bound = 2016\n",
    "# Фильтрация по столбцу Power\n",
    "power_lower_bound = 50  # Минимум разумной мощности\n",
    "power_upper_bound = 500  # Максимум разумной мощности\n",
    "# Применение фильтров\n",
    "df_filtered = df[(df['price'] >= price_lower_bound)]\n",
    "df_filtered = df_filtered[(df_filtered['registration_year'] >= year_lower_bound) & (df_filtered['registration_year'] <= year_upper_bound)]\n",
    "df_filtered = df_filtered[(df_filtered['power'] >= power_lower_bound) & (df_filtered['power'] <= power_upper_bound)]\n",
    "# Размер набора данных после фильтрации\n",
    "filtered_size = df_filtered.shape[0]\n",
    "# Расчет количества отброшенных данных\n",
    "dropped_data_count = initial_size - filtered_size\n",
    "dropped_data_percentage = (dropped_data_count / initial_size) * 100\n",
    "# Выводим результаты\n",
    "print(f\"Записей в df до фильтрации: {initial_size}\")\n",
    "print(f\"Записей в df после фильтрации: {filtered_size}\")\n",
    "print(f\"Отброшено данных: {dropped_data_count} записей ({dropped_data_percentage:.2f}% от общего количества)\")\n"
   ]
  },
  {
   "cell_type": "code",
   "execution_count": 17,
   "metadata": {},
   "outputs": [
    {
     "name": "stdout",
     "output_type": "stream",
     "text": [
      "Записей в df до фильтрации: 354369\n",
      "Записей в df после фильтрации: 288240\n",
      "Отброшено данных: 66129 записей (18.66% от общего количества)\n"
     ]
    }
   ],
   "source": [
    "# Сохраним размер датафрейма до фильтрации\n",
    "initial_size = df.shape[0]\n",
    "# Фильтрация по столбцу price\n",
    "\n",
    "# Применение фильтров\n",
    "df_filtered = df[(df['price'] >= price_lower_bound)]\n",
    "df_filtered = df_filtered[(df_filtered['registration_year'] >= year_lower_bound) & (df_filtered['registration_year'] <= year_upper_bound)]\n",
    "df_filtered = df_filtered[(df_filtered['power'] >= power_lower_bound) & (df_filtered['power'] <= power_upper_bound)]\n",
    "# Размер набора данных после фильтрации\n",
    "filtered_size = df_filtered.shape[0]\n",
    "# Расчет количества отброшенных данных\n",
    "dropped_data_count = initial_size - filtered_size\n",
    "dropped_data_percentage = (dropped_data_count / initial_size) * 100\n",
    "# Выводим результаты\n",
    "print(f\"Записей в df до фильтрации: {initial_size}\")\n",
    "print(f\"Записей в df после фильтрации: {filtered_size}\")\n",
    "print(f\"Отброшено данных: {dropped_data_count} записей ({dropped_data_percentage:.2f}% от общего количества)\")\n"
   ]
  },
  {
   "cell_type": "markdown",
   "metadata": {},
   "source": [
    "### Выводы"
   ]
  },
  {
   "cell_type": "markdown",
   "metadata": {},
   "source": [
    "На этапе подготовки данных мы:\n",
    "- Выявили пропуски в категориальных признаках (`vehicle_type`, `gearbox`, `model`, `fuel_type`, `repaired`) и заполнили их значением \"unknown\".\n",
    "- Обнаружили неинформативные столбцы (`date_crawled`, `date_created`, `last_seen`, `postal_code`, `number_of_pictures`, `registration_month`), которые были удалены для упрощения анализа.\n",
    "- Обнаружили неявные дубликаты значений в столбце `fuel_type` и объединили значения \"petrol\" и \"gasoline\" в \"petrol\".\n",
    "- Исследовали распределения признаков (`price`, `registration_year`, `power`, `kilometer`, `registration_month`) и выявили аномалии ( слишком малую мощность, нереалистичные годы регистрации) для последующей фильтрации данных.\n",
    "- Отфильтровали данные, удалив выбросы и записи с аномальными значениями в столбцах `price`, `registration_year`, `power`."
   ]
  },
  {
   "cell_type": "markdown",
   "metadata": {},
   "source": [
    "## Подготовка и обучение моделей"
   ]
  },
  {
   "cell_type": "markdown",
   "metadata": {},
   "source": [
    "### Подготовим выборки"
   ]
  },
  {
   "cell_type": "markdown",
   "metadata": {},
   "source": [
    "Разделеним данные на обучающую, валидационную и тестовую выборки 60/20/20."
   ]
  },
  {
   "cell_type": "code",
   "execution_count": 18,
   "metadata": {},
   "outputs": [
    {
     "name": "stdout",
     "output_type": "stream",
     "text": [
      "Размеры обучающей выборки: (212621, 9), (212621,)\n",
      "Размеры валидационной выборки: (70874, 9), (70874,)\n",
      "Размеры тестовой выборки: (70874, 9), (70874,)\n"
     ]
    }
   ],
   "source": [
    "# Разделение данных на признаки (X) и целевой признак (y)\n",
    "X = df.drop('price', axis=1)\n",
    "y = df['price']\n",
    "\n",
    "# Поделим данные на обучающую (60%), валидационную (20%) и тестовую (20%) выборки\n",
    "X_train_full, X_test, y_train_full, y_test = train_test_split(X, y, test_size=0.2, random_state=RANDOM_STATE)\n",
    "X_train, X_valid, y_train, y_valid = train_test_split(X_train_full, y_train_full, test_size=0.25, random_state=RANDOM_STATE)  # 0.25 * 0.8 = 0.2\n",
    "\n",
    "# Выводим размеры выборок\n",
    "print(f\"Размеры обучающей выборки: {X_train.shape}, {y_train.shape}\")\n",
    "print(f\"Размеры валидационной выборки: {X_valid.shape}, {y_valid.shape}\")\n",
    "print(f\"Размеры тестовой выборки: {X_test.shape}, {y_test.shape}\")\n"
   ]
  },
  {
   "cell_type": "markdown",
   "metadata": {},
   "source": [
    "### Подготовим данные"
   ]
  },
  {
   "cell_type": "markdown",
   "metadata": {},
   "source": [
    "Подготовим данные для моделей с помощью пайплайна. Мы будем использовать **OneHotEncoder** для преобразования категориальных признаков в валидационной и обучающей выборке. **LightGBM** может работать напрямую с категориальными признаками, поэтому для этой модели преобразования не требуется."
   ]
  },
  {
   "cell_type": "code",
   "execution_count": 19,
   "metadata": {},
   "outputs": [],
   "source": [
    "# Категориальные и числовые признаки\n",
    "categorical_features = ['vehicle_type', 'gearbox', 'model', 'fuel_type', 'brand', 'repaired']\n",
    "numerical_features = ['registration_year', 'power', 'kilometer', ]  # Добавим числовые признаки\n",
    "\n",
    "# Подготовка данных (преобразование категориальных признаков для моделей, кроме LightGBM)\n",
    "def create_preprocessor():\n",
    "    return ColumnTransformer(\n",
    "        transformers=[\n",
    "            ('cat', OneHotEncoder(handle_unknown='ignore', drop='first'), categorical_features),  # Кодирование категориальных признаков\n",
    "            ('num', StandardScaler(), numerical_features)  # Масштабирование числовых признаков\n",
    "        ],\n",
    "        remainder='passthrough'\n",
    "    )\n",
    "\n"
   ]
  },
  {
   "cell_type": "code",
   "execution_count": 20,
   "metadata": {},
   "outputs": [],
   "source": [
    "# Создание пайплайна для моделей\n",
    "def create_pipeline(model):\n",
    "    return Pipeline(steps=[\n",
    "        ('preprocessor', create_preprocessor()),\n",
    "        ('regressor', model)\n",
    "    ])\n",
    "\n",
    "# Функция для обучения и оценки моделей\n",
    "def train_and_evaluate_model(model, model_name, X_train, y_train, X_valid, y_valid):\n",
    "    pipeline = create_pipeline(model)\n",
    "\n",
    "    print(f\"Начало обучения модели {model_name}...\")\n",
    "    with tqdm(total=1, desc=f\"Обучение {model_name}\") as pbar:\n",
    "        start_time = time.time()\n",
    "        pipeline.fit(X_train, y_train)\n",
    "        train_time = time.time() - start_time\n",
    "        pbar.update(1)\n",
    "    print(f\"Обучение модели {model_name} завершено. Время обучения: {train_time:.2f} сек\")\n",
    "\n",
    "    start_time = time.time()\n",
    "    print(f\"Начало предсказания для модели {model_name}...\")\n",
    "    y_pred = pipeline.predict(X_valid)\n",
    "    predict_time = time.time() - start_time\n",
    "    print(f\"Предсказание для модели {model_name} завершено. Время предсказания: {predict_time:.2f} сек\")\n",
    "    \n",
    "    rmse = np.sqrt(mean_squared_error(y_valid, y_pred))\n",
    "    print(f\"{model_name}: RMSE = {rmse:.2f}, Время обучения = {train_time:.2f} сек, Время предсказания = {predict_time:.2f} сек\\n\")\n",
    "\n",
    "    return rmse, model\n",
    "\n",
    "# Создание копий данных, чтобы избежать SettingWithCopyWarning\n",
    "X_train = X_train.copy()\n",
    "X_valid = X_valid.copy()\n",
    "X_test = X_test.copy()\n",
    "\n",
    "# Преобразование категориальных признаков для LightGBM\n",
    "for col in categorical_features:\n",
    "    X_train[col] = X_train[col].astype('category')\n",
    "    X_valid[col] = X_valid[col].astype('category')\n",
    "    X_test[col] = X_test[col].astype('category')"
   ]
  },
  {
   "cell_type": "markdown",
   "metadata": {},
   "source": [
    "### Обучим модели\n",
    "\n",
    "Нам необходимо обучить несколько моделей для предсказания цены автомобиля и выбрать наиболее эффективную по метрике **RMSE** (корень из среднеквадратической ошибки).\n",
    "Обучим три модели: **Ridge Regression**, **Decision Tree Regressor** и **LightGBM Regressor**. Для каждой модели рассчитаем **RMSE** на валидационной выборке. По результатам сравним **RMSE** моделей и выберем лучшую модель."
   ]
  },
  {
   "cell_type": "code",
   "execution_count": 21,
   "metadata": {},
   "outputs": [
    {
     "name": "stdout",
     "output_type": "stream",
     "text": [
      "Начало обучения модели Ridge Regression...\n"
     ]
    },
    {
     "name": "stderr",
     "output_type": "stream",
     "text": [
      "Обучение Ridge Regression: 100%|██████████| 1/1 [00:20<00:00, 20.68s/it]\n"
     ]
    },
    {
     "name": "stdout",
     "output_type": "stream",
     "text": [
      "Обучение модели Ridge Regression завершено. Время обучения: 20.67 сек\n",
      "Начало предсказания для модели Ridge Regression...\n",
      "Предсказание для модели Ridge Regression завершено. Время предсказания: 0.27 сек\n",
      "Ridge Regression: RMSE = 3259.26, Время обучения = 20.67 сек, Время предсказания = 0.27 сек\n",
      "\n",
      "Начало обучения модели Decision Tree Regressor...\n"
     ]
    },
    {
     "name": "stderr",
     "output_type": "stream",
     "text": [
      "Обучение Decision Tree Regressor: 100%|██████████| 1/1 [00:35<00:00, 35.47s/it]\n"
     ]
    },
    {
     "name": "stdout",
     "output_type": "stream",
     "text": [
      "Обучение модели Decision Tree Regressor завершено. Время обучения: 35.47 сек\n",
      "Начало предсказания для модели Decision Tree Regressor...\n",
      "Предсказание для модели Decision Tree Regressor завершено. Время предсказания: 0.18 сек\n",
      "Decision Tree Regressor: RMSE = 2123.31, Время обучения = 35.47 сек, Время предсказания = 0.18 сек\n",
      "\n",
      "Начало обучения LightGBM Regressor...\n",
      "[10]\tvalid_0's rmse: 2616.46\tvalid_0's l2: 6.84585e+06\n",
      "[20]\tvalid_0's rmse: 2088.96\tvalid_0's l2: 4.36374e+06\n",
      "[30]\tvalid_0's rmse: 1932.7\tvalid_0's l2: 3.73535e+06\n",
      "[40]\tvalid_0's rmse: 1877.39\tvalid_0's l2: 3.52458e+06\n",
      "[50]\tvalid_0's rmse: 1849.27\tvalid_0's l2: 3.41979e+06\n",
      "[60]\tvalid_0's rmse: 1830.28\tvalid_0's l2: 3.34993e+06\n",
      "[70]\tvalid_0's rmse: 1818.36\tvalid_0's l2: 3.30644e+06\n",
      "[80]\tvalid_0's rmse: 1810.65\tvalid_0's l2: 3.27847e+06\n",
      "[90]\tvalid_0's rmse: 1804.09\tvalid_0's l2: 3.25474e+06\n",
      "[100]\tvalid_0's rmse: 1798.55\tvalid_0's l2: 3.23479e+06\n",
      "LightGBM обучение завершено. Время обучения: 8.78 сек\n",
      "LightGBM Regressor: RMSE = 1798.55\n",
      "Лучшая модель: LightGBM Regressor с RMSE = 1798.5510768415381\n"
     ]
    }
   ],
   "source": [
    "# Определение моделей\n",
    "ridge_model = Ridge(alpha=1.0)\n",
    "tree_model = DecisionTreeRegressor(random_state=RANDOM_STATE)\n",
    "lgb_model = lgb.LGBMRegressor(random_state=RANDOM_STATE)\n",
    "warnings.filterwarnings(\"ignore\", category=UserWarning, module=\"lightgbm\")\n",
    "# Обучение моделей и получение их RMSE\n",
    "rmse_ridge, trained_ridge = train_and_evaluate_model(ridge_model, 'Ridge Regression', X_train, y_train, X_valid, y_valid)\n",
    "rmse_tree, trained_tree = train_and_evaluate_model(tree_model, 'Decision Tree Regressor', X_train, y_train, X_valid, y_valid)\n",
    "\n",
    "# Для LightGBM создадим объект Dataset и передадим категориальные признаки\n",
    "print(f\"Начало обучения LightGBM Regressor...\")\n",
    "start_time = time.time()\n",
    "\n",
    "# Создаем объект Dataset без указания категориальных признаков\n",
    "train_data = lgb.Dataset(X_train, label=y_train)\n",
    "\n",
    "# Используем колбэк log_evaluation и передаем категориальные признаки в fit\n",
    "lgb_model.fit(\n",
    "    X_train, \n",
    "    y_train, \n",
    "    eval_set=[(X_valid, y_valid)], \n",
    "    eval_metric='rmse',\n",
    "    categorical_feature=categorical_features,  # Категориальные признаки передаем здесь\n",
    "    callbacks=[lgb.log_evaluation(10)]  # Логирование каждые 10 итераций\n",
    ")\n",
    "\n",
    "train_time = time.time() - start_time\n",
    "print(f\"LightGBM обучение завершено. Время обучения: {train_time:.2f} сек\")\n",
    "\n",
    "y_pred_lgb = lgb_model.predict(X_valid)\n",
    "rmse_lgb = np.sqrt(mean_squared_error(y_valid, y_pred_lgb))\n",
    "print(f\"LightGBM Regressor: RMSE = {rmse_lgb:.2f}\")\n",
    "\n",
    "# Выбор лучшей модели\n",
    "best_model, best_model_name = None, None\n",
    "best_rmse = float('inf')\n",
    "\n",
    "if rmse_ridge < best_rmse:\n",
    "    best_model = trained_ridge\n",
    "    best_model_name = 'Ridge Regression'\n",
    "    best_rmse = rmse_ridge\n",
    "\n",
    "if rmse_tree < best_rmse:\n",
    "    best_model = trained_tree\n",
    "    best_model_name = 'Decision Tree Regressor'\n",
    "    best_rmse = rmse_tree\n",
    "\n",
    "if rmse_lgb < best_rmse:\n",
    "    best_model = lgb_model\n",
    "    best_model_name = 'LightGBM Regressor'\n",
    "    best_rmse = rmse_lgb\n",
    "\n",
    "print(f\"Лучшая модель: {best_model_name} с RMSE = {best_rmse}\")\n"
   ]
  },
  {
   "cell_type": "markdown",
   "metadata": {},
   "source": [
    "### Aнализ скорости работы и качества моделей"
   ]
  },
  {
   "cell_type": "markdown",
   "metadata": {},
   "source": [
    "- **Ridge Regression** показала время обучения 20.67 сек и предсказания 0.27 сек, однако качество предсказания (**RMSE** = 3259.26) значительно хуже по сравнению с другими моделями.\n",
    "- **Decision Tree Regressor** показала лучшее качество предсказания по сравнению с Ridge Regression (**RMSE** = 2123.31), но время обучения составило 35.47 сек, что дольше.\n",
    "- **LightGBM** продемонстрировала наилучшее качество предсказания (**RMSE** = 1798.55) и короткое время обучения (8.78 сек). Время предсказания также было очень быстрым.\n",
    "\n",
    "**LightGBM Regressor** является лучшей моделью с точки зрения качества предсказания (**RMSE** = 1798.55), показывая хорошие результаты по времени обучения (8.78 сек) и предсказания (0.27 сек).\n"
   ]
  },
  {
   "cell_type": "markdown",
   "metadata": {},
   "source": [
    "### Подбор гиперпараметров для лучшей модели\n",
    "\n",
    "Мы определили лучшую модель **LightGBM Regressor**.  Теперь попробуем улучшить её результаты с помощью подбора гиперпараметров. Для этого используем метод **RandomizedSearchCV**."
   ]
  },
  {
   "cell_type": "code",
   "execution_count": 22,
   "metadata": {},
   "outputs": [],
   "source": [
    "# Функция подбора гиперпараметров\n",
    "def randomized_search_cv(model, param_distributions, X_train, y_train, model_name, n_iter=10, cv=3):\n",
    "    print(f\"Начало оптимизации гиперпараметров для {model_name}...\")\n",
    "    search = RandomizedSearchCV(model, param_distributions, n_iter=n_iter, cv=cv, n_jobs=-1, random_state=42)\n",
    "    search.fit(X_train, y_train)\n",
    "    \n",
    "    print(f\"Лучшие параметры для {model_name}: {search.best_params_}\")\n",
    "    return search.best_estimator_"
   ]
  },
  {
   "cell_type": "code",
   "execution_count": 23,
   "metadata": {},
   "outputs": [
    {
     "name": "stdout",
     "output_type": "stream",
     "text": [
      "Начало оптимизации гиперпараметров для LightGBM Regressor...\n",
      "Лучшие параметры для LightGBM Regressor: {'n_estimators': 100, 'max_depth': 5, 'learning_rate': 0.15}\n"
     ]
    }
   ],
   "source": [
    "# Подбор гиперпараметров для лучшей модели\n",
    "\n",
    "if best_model_name == \"Ridge Regression\":\n",
    "    ridge_param_distributions = {\n",
    "        'alpha': [0.1, 1.0, 10, 100],\n",
    "    }\n",
    "    best_model = randomized_search_cv(Ridge(), ridge_param_distributions, X_train, y_train, best_model_name)\n",
    "\n",
    "elif best_model_name == \"Decision Tree Regressor\":\n",
    "    tree_param_distributions = {\n",
    "        'max_depth': [None, 10, 20, 30],\n",
    "        'min_samples_split': [2, 10, 20],\n",
    "    }\n",
    "    best_model = randomized_search_cv(DecisionTreeRegressor(random_state=RANDOM_STATE ), tree_param_distributions, X_train, y_train, best_model_name)\n",
    "\n",
    "elif best_model_name == \"LightGBM Regressor\":\n",
    "    lgb_param_distributions = {\n",
    "        'learning_rate': [0.01, 0.05, 0.1, 0.15],\n",
    "        'max_depth': [3, 5,  8],\n",
    "        'n_estimators': [10, 30, 50, 100]\n",
    "}\n",
    "\n",
    "\n",
    "    best_model = randomized_search_cv(lgb.LGBMRegressor(random_state=RANDOM_STATE ), lgb_param_distributions, X_train, y_train, best_model_name)"
   ]
  },
  {
   "cell_type": "markdown",
   "metadata": {},
   "source": [
    "### Проверка на тестовой выборке\n",
    "\n",
    "Осталось проверить выбраную модель с подобраными гиперпораметрами на тестовой выборке."
   ]
  },
  {
   "cell_type": "code",
   "execution_count": 24,
   "metadata": {},
   "outputs": [],
   "source": [
    "# Функция проверки модели на тестовой выборке\n",
    "def final_evaluation(model, X_train, y_train, X_test, y_test, model_name):\n",
    "    print(f\"Начало финального обучения модели {model_name}...\")\n",
    "    \n",
    "    start_time = time.time()\n",
    "    model.fit(X_train, y_train)\n",
    "    train_time = time.time() - start_time\n",
    "    print(f\"Финальное обучение модели {model_name} завершено. Время обучения: {train_time:.2f} сек\")\n",
    "    \n",
    "    start_time = time.time()\n",
    "    print(f\"Начало предсказания для модели {model_name}...\")\n",
    "    y_pred = model.predict(X_test)\n",
    "    predict_time = time.time() - start_time\n",
    "    print(f\"Предсказание для модели {model_name} завершено. Время предсказания: {predict_time:.2f} сек\")\n",
    "    \n",
    "    rmse = np.sqrt(mean_squared_error(y_test, y_pred))\n",
    "    print(f\"{model_name}: RMSE = {rmse:.2f}, Время обучения = {train_time:.2f} сек, Время предсказания = {predict_time:.2f} сек\\n\")\n",
    "\n",
    "    return rmse, train_time, predict_time\n"
   ]
  },
  {
   "cell_type": "code",
   "execution_count": 25,
   "metadata": {
    "scrolled": true
   },
   "outputs": [
    {
     "name": "stdout",
     "output_type": "stream",
     "text": [
      "Начало финального обучения модели LightGBM Regressor...\n",
      "Финальное обучение модели LightGBM Regressor завершено. Время обучения: 7.08 сек\n",
      "Начало предсказания для модели LightGBM Regressor...\n",
      "Предсказание для модели LightGBM Regressor завершено. Время предсказания: 0.70 сек\n",
      "LightGBM Regressor: RMSE = 1808.70, Время обучения = 7.08 сек, Время предсказания = 0.70 сек\n",
      "\n",
      "Финальные результаты для LightGBM Regressor:\n",
      "RMSE на тестовой выборке: 1808.70\n",
      "Время обучения модели: 7.08 сек\n",
      "Время предсказания модели: 0.70 сек\n"
     ]
    }
   ],
   "source": [
    "# Преобразуем категориальные признаки в формат 'category'\n",
    "def convert_categorical_to_category(X_train, X_valid, X_test, categorical_columns):\n",
    "    # Создаем копии DataFrame, чтобы избежать SettingWithCopyWarning\n",
    "    X_train = X_train.copy()\n",
    "    X_valid = X_valid.copy()\n",
    "    X_test = X_test.copy()\n",
    "    \n",
    "    # Преобразуем категориальные признаки\n",
    "    for col in categorical_columns:\n",
    "        X_train[col] = X_train[col].astype('category')\n",
    "        X_valid[col] = X_valid[col].astype('category')\n",
    "        X_test[col] = X_test[col].astype('category')\n",
    "    \n",
    "    return X_train, X_valid, X_test\n",
    "\n",
    "\n",
    "# Преобразуем их для LightGBM\n",
    "X_train_full, X_valid_full, X_test_full = convert_categorical_to_category(X_train_full, X_valid, X_test, categorical_features)\n",
    "\n",
    "# Финальная проверка на тестовой выборке для лучшей модели\n",
    "final_rmse, train_time, predict_time = final_evaluation(\n",
    "    best_model, \n",
    "    X_train_full, \n",
    "    y_train_full, \n",
    "    X_test_full, \n",
    "    y_test, \n",
    "    best_model_name\n",
    ")\n",
    "\n",
    "# Выводим финальные результаты\n",
    "print(f\"Финальные результаты для {best_model_name}:\")\n",
    "print(f\"RMSE на тестовой выборке: {final_rmse:.2f}\")\n",
    "print(f\"Время обучения модели: {train_time:.2f} сек\")\n",
    "print(f\"Время предсказания модели: {predict_time:.2f} сек\")\n",
    "\n"
   ]
  },
  {
   "cell_type": "markdown",
   "metadata": {},
   "source": [
    "- Модель **LightGBM Regressor** показала высокое качество предсказаний с **RMSE** *1808.70* на тестовой выборке, что ниже установленного ТЗ порога успеха в *2500*.\n",
    "- Время обучения модели составило *7.08* секунд, что достаточно быстро для такого объема данных.\n",
    "- Время предсказания модели составило всего *0.70* секунд, что делает модель эффективной и быстрой в реальных условиях."
   ]
  },
  {
   "cell_type": "markdown",
   "metadata": {},
   "source": [
    "На этапе подготовки данных и обучения моделей мы:\n",
    "\n",
    "- Подготовили данные для моделей с помощью пайплайна. Использован **OneHotEncoder** для преобразования категориальных признаков, для масштабирования числовых признаков используется **StandardScaler**. Для модели **LightGBM Regressor** преобразование категориальных признаков не требуется, так как LightGBM умеет работать напрямую с категориальными признаками.\n",
    "- Обучили три модели:\n",
    "  - **Ridge Regression** показала время обучения 20.67 сек и предсказания 0.27 сек, но качество предсказаний оказалось наименее эффективным (RMSE = 3259.26).\n",
    "  - **Decision Tree Regressor** показала лучшее качество предсказаний по сравнению с Ridge Regression (RMSE = 2123.31), но время обучения составило 35.47 сек.\n",
    "  - **LightGBM Regressor** продемонстрировала наилучшее качество предсказания (RMSE = 1798.55) при приемлемом времени обучения (8.78 сек) и быстрой скорости предсказания.\n",
    "\n",
    "- **LightGBM Regressor** была признана лучшей моделью на основании наименьшего значения RMSE.\n",
    "\n",
    "- Для лучшей модели **LightGBM Regressor** была выполнена дополнительная оптимизация гиперпараметров с помощью метода **RandomizedSearchCV**, что позволило улучшить качество модели. Оптимизация показала, что лучшими параметрами являются:\n",
    "  - `n_estimators`: 100\n",
    "  - `max_depth`: 5\n",
    "  - `learning_rate`: 0.15\n",
    "\n",
    "- После оптимизации мы проверили модель **LightGBM Regressor** на тестовой выборке:\n",
    "  - Финальное RMSE на тестовой выборке составило 1808.70, что подтверждает высокое качество предсказаний.\n",
    "  - Время обучения модели составило 7.08 секунд, что достаточно быстро для рассматриваемого объема данных.\n",
    "  - Время предсказания модели составило 0.70 секунд, что делает модель быстрой и эффективной для реальных условий использования.\n",
    "\n",
    "Таким образом, **LightGBM Regressor** была признана лучшей моделью по качеству предсказаний, скорости обучения и предсказания, показав RMSE 1808.70, что ниже порога успеха, установленного ТЗ (2500).\n"
   ]
  },
  {
   "cell_type": "markdown",
   "metadata": {},
   "source": [
    "## Общий вывод"
   ]
  },
  {
   "cell_type": "markdown",
   "metadata": {},
   "source": [
    "В рамках проекта была поставлена задача разработки модели для предсказания стоимости автомобилей на основе исторических данных с учётом следующих требований:\n",
    "\n",
    "- **Качество предсказания**: модель должна точно предсказывать стоимость автомобилей\n",
    "- **Скорость предсказания**: предсказания должны происходить быстро\n",
    "- **Время обучения**: модель должна обучаться за приемлемое время\n",
    "\n",
    "В ходе выполнения проекта было выполнено следующее:\n",
    "\n",
    "1. **Подготовка данных**:\n",
    "   - Проведена очистка данных, включая обработку пропусков в столбцах `vehicle_type`, `gearbox`, `model`, `fuel_type`, `repaired` и удаление неинформативных столбцов.\n",
    "   - Были выявлены и обработаны аномалии в данных, включая значения в столбцах `price`, `registration_year`, `power`.\n",
    "\n",
    "2. **Моделирование**:\n",
    "   - Был отделен целевой признак, данные были разделены на обучающую, валидационную и тестовую выборки.\n",
    "   - Были обучены и протестированы три модели: Ridge Regression, Decision Tree Regressor и LightGBM Regressor.\n",
    "   - По метрике RMSE наилучшие результаты показала модель **LightGBM Regressor**, которая была выбрана для дальнейшей оптимизации.\n",
    "   - Для **LightGBM Regressor** был проведен подбор гиперпараметров с использованием метода RandomizedSearchCV.\n",
    "\n",
    "4. **Результаты**:\n",
    "   - Финальная модель **LightGBM Regressor** показала высокое качество предсказаний с RMSE на тестовой выборке, равным 1808.70, что значительно ниже порога успеха, установленного ТЗ (2500).\n",
    "   - Время обучения и предсказания модели оказалось достаточно быстрым, что делает её пригодной для использования в реальных условиях.\n",
    "\n",
    "Таким образом, выбранная и оптимизированная модель **LightGBM Regressor** успешно справилась с задачей прогнозирования стоимости автомобилей, отвечая всем критериям, указанным в техническом задании.\n"
   ]
  }
 ],
 "metadata": {
  "ExecuteTimeLog": [
   {
    "duration": 3679,
    "start_time": "2024-08-24T20:16:38.624Z"
   },
   {
    "duration": 372,
    "start_time": "2024-08-24T20:16:42.305Z"
   },
   {
    "duration": 877,
    "start_time": "2024-08-24T20:16:58.455Z"
   },
   {
    "duration": 680,
    "start_time": "2024-08-24T20:17:02.695Z"
   },
   {
    "duration": 81,
    "start_time": "2024-08-24T20:17:40.095Z"
   },
   {
    "duration": 642,
    "start_time": "2024-08-24T20:17:40.567Z"
   },
   {
    "duration": 1747,
    "start_time": "2024-08-24T20:21:31.519Z"
   },
   {
    "duration": 504,
    "start_time": "2024-08-24T20:21:33.268Z"
   },
   {
    "duration": 897,
    "start_time": "2024-08-24T20:21:33.774Z"
   },
   {
    "duration": 256249,
    "start_time": "2024-08-24T20:21:34.673Z"
   },
   {
    "duration": 166,
    "start_time": "2024-08-24T20:25:50.924Z"
   },
   {
    "duration": 0,
    "start_time": "2024-08-24T20:25:51.092Z"
   },
   {
    "duration": 0,
    "start_time": "2024-08-24T20:25:51.093Z"
   },
   {
    "duration": 0,
    "start_time": "2024-08-24T20:25:51.094Z"
   },
   {
    "duration": 0,
    "start_time": "2024-08-24T20:25:51.096Z"
   },
   {
    "duration": 1768,
    "start_time": "2024-08-24T20:25:55.371Z"
   },
   {
    "duration": 171,
    "start_time": "2024-08-24T20:26:11.202Z"
   },
   {
    "duration": 245,
    "start_time": "2024-08-24T20:27:15.102Z"
   },
   {
    "duration": 94,
    "start_time": "2024-08-24T20:27:28.249Z"
   },
   {
    "duration": 48,
    "start_time": "2024-08-24T20:27:54.773Z"
   },
   {
    "duration": 183,
    "start_time": "2024-08-24T20:28:03.936Z"
   },
   {
    "duration": 102,
    "start_time": "2024-08-24T20:29:16.833Z"
   },
   {
    "duration": 161,
    "start_time": "2024-08-24T20:29:22.221Z"
   },
   {
    "duration": 823,
    "start_time": "2024-08-24T20:29:46.907Z"
   },
   {
    "duration": 665,
    "start_time": "2024-08-24T20:31:03.721Z"
   },
   {
    "duration": 320,
    "start_time": "2024-08-24T20:34:56.462Z"
   },
   {
    "duration": 1870,
    "start_time": "2024-08-24T20:35:28.054Z"
   },
   {
    "duration": 325,
    "start_time": "2024-08-24T20:35:29.927Z"
   },
   {
    "duration": 120,
    "start_time": "2024-08-24T20:35:30.254Z"
   },
   {
    "duration": 63,
    "start_time": "2024-08-24T20:35:30.377Z"
   },
   {
    "duration": 108,
    "start_time": "2024-08-24T20:35:30.442Z"
   },
   {
    "duration": 209,
    "start_time": "2024-08-24T20:35:30.552Z"
   },
   {
    "duration": 856,
    "start_time": "2024-08-24T20:35:30.763Z"
   },
   {
    "duration": 626,
    "start_time": "2024-08-24T20:35:31.621Z"
   },
   {
    "duration": 275,
    "start_time": "2024-08-24T20:35:32.249Z"
   },
   {
    "duration": 1859,
    "start_time": "2024-08-24T20:44:51.642Z"
   },
   {
    "duration": 274,
    "start_time": "2024-08-24T20:44:53.505Z"
   },
   {
    "duration": 100,
    "start_time": "2024-08-24T20:44:53.781Z"
   },
   {
    "duration": 61,
    "start_time": "2024-08-24T20:44:53.883Z"
   },
   {
    "duration": 104,
    "start_time": "2024-08-24T20:44:53.946Z"
   },
   {
    "duration": 172,
    "start_time": "2024-08-24T20:44:54.052Z"
   },
   {
    "duration": 821,
    "start_time": "2024-08-24T20:44:54.226Z"
   },
   {
    "duration": 1824,
    "start_time": "2024-08-24T20:49:47.850Z"
   },
   {
    "duration": 282,
    "start_time": "2024-08-24T20:49:49.676Z"
   },
   {
    "duration": 122,
    "start_time": "2024-08-24T20:49:49.960Z"
   },
   {
    "duration": 58,
    "start_time": "2024-08-24T20:49:50.084Z"
   },
   {
    "duration": 95,
    "start_time": "2024-08-24T20:49:50.145Z"
   },
   {
    "duration": 185,
    "start_time": "2024-08-24T20:49:50.242Z"
   },
   {
    "duration": 826,
    "start_time": "2024-08-24T20:49:50.429Z"
   },
   {
    "duration": 1905,
    "start_time": "2024-08-24T20:51:24.729Z"
   },
   {
    "duration": 298,
    "start_time": "2024-08-24T20:51:26.636Z"
   },
   {
    "duration": 123,
    "start_time": "2024-08-24T20:51:26.936Z"
   },
   {
    "duration": 59,
    "start_time": "2024-08-24T20:51:27.061Z"
   },
   {
    "duration": 104,
    "start_time": "2024-08-24T20:51:27.126Z"
   },
   {
    "duration": 188,
    "start_time": "2024-08-24T20:51:27.232Z"
   },
   {
    "duration": 790,
    "start_time": "2024-08-24T20:51:27.422Z"
   },
   {
    "duration": 165503,
    "start_time": "2024-08-24T20:51:28.215Z"
   },
   {
    "duration": 164900,
    "start_time": "2024-08-24T20:55:07.832Z"
   },
   {
    "duration": 3247914,
    "start_time": "2024-08-24T21:08:48.894Z"
   },
   {
    "duration": 57,
    "start_time": "2024-08-25T13:02:52.120Z"
   },
   {
    "duration": 2755,
    "start_time": "2024-08-25T13:03:09.032Z"
   },
   {
    "duration": 262,
    "start_time": "2024-08-25T13:03:11.789Z"
   },
   {
    "duration": 2134,
    "start_time": "2024-08-25T13:03:33.440Z"
   },
   {
    "duration": 191,
    "start_time": "2024-08-25T13:04:03.832Z"
   },
   {
    "duration": 131,
    "start_time": "2024-08-25T13:04:13.873Z"
   },
   {
    "duration": 18,
    "start_time": "2024-08-25T13:06:45.155Z"
   },
   {
    "duration": 2477,
    "start_time": "2024-08-25T13:07:07.657Z"
   },
   {
    "duration": 1127,
    "start_time": "2024-08-25T13:08:54.061Z"
   },
   {
    "duration": 2920,
    "start_time": "2024-08-25T13:45:27.792Z"
   },
   {
    "duration": 100,
    "start_time": "2024-08-25T13:45:30.714Z"
   },
   {
    "duration": 168,
    "start_time": "2024-08-25T13:45:30.816Z"
   },
   {
    "duration": 171,
    "start_time": "2024-08-25T13:45:30.985Z"
   },
   {
    "duration": 15,
    "start_time": "2024-08-25T13:45:31.158Z"
   },
   {
    "duration": 2465,
    "start_time": "2024-08-25T13:45:31.175Z"
   },
   {
    "duration": 2802,
    "start_time": "2024-08-25T13:46:40.135Z"
   },
   {
    "duration": 125,
    "start_time": "2024-08-25T13:46:42.939Z"
   },
   {
    "duration": 176,
    "start_time": "2024-08-25T13:46:43.066Z"
   },
   {
    "duration": 153,
    "start_time": "2024-08-25T13:46:43.243Z"
   },
   {
    "duration": 21,
    "start_time": "2024-08-25T13:46:43.406Z"
   },
   {
    "duration": 2476,
    "start_time": "2024-08-25T13:46:43.429Z"
   },
   {
    "duration": 2827,
    "start_time": "2024-08-25T13:48:49.453Z"
   },
   {
    "duration": 103,
    "start_time": "2024-08-25T13:48:52.282Z"
   },
   {
    "duration": 175,
    "start_time": "2024-08-25T13:48:52.386Z"
   },
   {
    "duration": 153,
    "start_time": "2024-08-25T13:48:52.563Z"
   },
   {
    "duration": 15,
    "start_time": "2024-08-25T13:48:52.720Z"
   },
   {
    "duration": 2519,
    "start_time": "2024-08-25T13:48:52.736Z"
   },
   {
    "duration": 2847,
    "start_time": "2024-08-25T13:49:20.546Z"
   },
   {
    "duration": 96,
    "start_time": "2024-08-25T13:49:23.395Z"
   },
   {
    "duration": 171,
    "start_time": "2024-08-25T13:49:23.493Z"
   },
   {
    "duration": 162,
    "start_time": "2024-08-25T13:49:23.665Z"
   },
   {
    "duration": 16,
    "start_time": "2024-08-25T13:49:23.829Z"
   },
   {
    "duration": 2542,
    "start_time": "2024-08-25T13:49:23.847Z"
   },
   {
    "duration": 2503,
    "start_time": "2024-08-25T13:49:26.391Z"
   },
   {
    "duration": 2924,
    "start_time": "2024-08-25T13:51:09.383Z"
   },
   {
    "duration": 122,
    "start_time": "2024-08-25T13:51:12.310Z"
   },
   {
    "duration": 171,
    "start_time": "2024-08-25T13:51:12.434Z"
   },
   {
    "duration": 162,
    "start_time": "2024-08-25T13:51:12.608Z"
   },
   {
    "duration": 17,
    "start_time": "2024-08-25T13:51:12.773Z"
   },
   {
    "duration": 2595,
    "start_time": "2024-08-25T13:51:12.792Z"
   },
   {
    "duration": 391,
    "start_time": "2024-08-25T13:51:15.389Z"
   },
   {
    "duration": 84530,
    "start_time": "2024-08-25T13:51:25.546Z"
   },
   {
    "duration": 2950,
    "start_time": "2024-08-25T13:54:11.116Z"
   },
   {
    "duration": 108,
    "start_time": "2024-08-25T13:54:14.068Z"
   },
   {
    "duration": 174,
    "start_time": "2024-08-25T13:54:14.178Z"
   },
   {
    "duration": 173,
    "start_time": "2024-08-25T13:54:14.355Z"
   },
   {
    "duration": 69,
    "start_time": "2024-08-25T13:54:14.529Z"
   },
   {
    "duration": 0,
    "start_time": "2024-08-25T13:54:14.600Z"
   },
   {
    "duration": 0,
    "start_time": "2024-08-25T13:54:14.601Z"
   },
   {
    "duration": 17,
    "start_time": "2024-08-25T13:54:44.272Z"
   },
   {
    "duration": 2661,
    "start_time": "2024-08-25T13:54:45.620Z"
   },
   {
    "duration": 2950,
    "start_time": "2024-08-25T13:55:18.876Z"
   },
   {
    "duration": 117,
    "start_time": "2024-08-25T13:55:21.829Z"
   },
   {
    "duration": 204,
    "start_time": "2024-08-25T13:55:21.948Z"
   },
   {
    "duration": 168,
    "start_time": "2024-08-25T13:55:22.154Z"
   },
   {
    "duration": 18,
    "start_time": "2024-08-25T13:55:22.325Z"
   },
   {
    "duration": 2748,
    "start_time": "2024-08-25T13:55:22.345Z"
   },
   {
    "duration": 2998,
    "start_time": "2024-08-25T13:56:13.198Z"
   },
   {
    "duration": 119,
    "start_time": "2024-08-25T13:56:16.198Z"
   },
   {
    "duration": 172,
    "start_time": "2024-08-25T13:56:16.320Z"
   },
   {
    "duration": 168,
    "start_time": "2024-08-25T13:56:16.494Z"
   },
   {
    "duration": 18,
    "start_time": "2024-08-25T13:56:16.665Z"
   },
   {
    "duration": 2456,
    "start_time": "2024-08-25T13:56:16.685Z"
   },
   {
    "duration": 2637,
    "start_time": "2024-08-25T13:56:19.143Z"
   },
   {
    "duration": 1297,
    "start_time": "2024-08-25T13:57:11.817Z"
   },
   {
    "duration": 136,
    "start_time": "2024-08-25T13:57:13.116Z"
   },
   {
    "duration": 167,
    "start_time": "2024-08-25T13:57:13.254Z"
   },
   {
    "duration": 153,
    "start_time": "2024-08-25T13:57:13.424Z"
   },
   {
    "duration": 16,
    "start_time": "2024-08-25T13:57:13.579Z"
   },
   {
    "duration": 2394,
    "start_time": "2024-08-25T13:57:13.606Z"
   },
   {
    "duration": 2514,
    "start_time": "2024-08-25T13:57:16.006Z"
   },
   {
    "duration": 2921,
    "start_time": "2024-08-25T13:57:23.547Z"
   },
   {
    "duration": 106,
    "start_time": "2024-08-25T13:57:26.470Z"
   },
   {
    "duration": 183,
    "start_time": "2024-08-25T13:57:26.578Z"
   },
   {
    "duration": 161,
    "start_time": "2024-08-25T13:57:26.764Z"
   },
   {
    "duration": 27,
    "start_time": "2024-08-25T13:57:26.927Z"
   },
   {
    "duration": 2623,
    "start_time": "2024-08-25T13:57:26.956Z"
   },
   {
    "duration": 2815,
    "start_time": "2024-08-25T13:57:29.581Z"
   },
   {
    "duration": 1177,
    "start_time": "2024-08-25T13:58:55.180Z"
   },
   {
    "duration": 1220,
    "start_time": "2024-08-25T14:02:07.353Z"
   },
   {
    "duration": 76,
    "start_time": "2024-08-25T14:05:31.097Z"
   },
   {
    "duration": 284,
    "start_time": "2024-08-25T14:07:24.165Z"
   },
   {
    "duration": 260,
    "start_time": "2024-08-25T14:08:21.375Z"
   },
   {
    "duration": 1080,
    "start_time": "2024-08-25T14:10:51.333Z"
   },
   {
    "duration": 137,
    "start_time": "2024-08-25T14:15:45.786Z"
   },
   {
    "duration": 149,
    "start_time": "2024-08-25T14:16:16.196Z"
   },
   {
    "duration": 42,
    "start_time": "2024-08-25T14:16:38.945Z"
   },
   {
    "duration": 486,
    "start_time": "2024-08-25T14:17:41.732Z"
   },
   {
    "duration": 200,
    "start_time": "2024-08-25T14:17:52.638Z"
   },
   {
    "duration": 308,
    "start_time": "2024-08-25T14:18:00.191Z"
   },
   {
    "duration": 2790,
    "start_time": "2024-08-25T14:18:08.695Z"
   },
   {
    "duration": 95,
    "start_time": "2024-08-25T14:18:11.488Z"
   },
   {
    "duration": 132,
    "start_time": "2024-08-25T14:18:11.586Z"
   },
   {
    "duration": 257,
    "start_time": "2024-08-25T14:18:11.719Z"
   },
   {
    "duration": 73,
    "start_time": "2024-08-25T14:18:11.979Z"
   },
   {
    "duration": 16,
    "start_time": "2024-08-25T14:18:12.054Z"
   },
   {
    "duration": 2510,
    "start_time": "2024-08-25T14:18:12.072Z"
   },
   {
    "duration": 2547,
    "start_time": "2024-08-25T14:18:14.584Z"
   },
   {
    "duration": 1060,
    "start_time": "2024-08-25T14:18:17.133Z"
   },
   {
    "duration": 432,
    "start_time": "2024-08-25T14:18:18.195Z"
   },
   {
    "duration": 125,
    "start_time": "2024-08-25T14:18:18.629Z"
   },
   {
    "duration": 328,
    "start_time": "2024-08-25T14:19:22.656Z"
   },
   {
    "duration": 316,
    "start_time": "2024-08-25T14:19:52.673Z"
   },
   {
    "duration": 2780,
    "start_time": "2024-08-25T14:20:10.720Z"
   },
   {
    "duration": 113,
    "start_time": "2024-08-25T14:20:13.503Z"
   },
   {
    "duration": 142,
    "start_time": "2024-08-25T14:20:13.621Z"
   },
   {
    "duration": 289,
    "start_time": "2024-08-25T14:20:13.765Z"
   },
   {
    "duration": 78,
    "start_time": "2024-08-25T14:20:14.056Z"
   },
   {
    "duration": 16,
    "start_time": "2024-08-25T14:20:14.136Z"
   },
   {
    "duration": 2517,
    "start_time": "2024-08-25T14:20:14.154Z"
   },
   {
    "duration": 2552,
    "start_time": "2024-08-25T14:20:16.672Z"
   },
   {
    "duration": 1052,
    "start_time": "2024-08-25T14:20:19.226Z"
   },
   {
    "duration": 162,
    "start_time": "2024-08-25T14:20:20.280Z"
   },
   {
    "duration": 0,
    "start_time": "2024-08-25T14:20:20.443Z"
   },
   {
    "duration": 462,
    "start_time": "2024-08-25T14:23:11.116Z"
   },
   {
    "duration": 445,
    "start_time": "2024-08-25T14:23:57.401Z"
   },
   {
    "duration": 19,
    "start_time": "2024-08-25T14:27:21.506Z"
   },
   {
    "duration": 9806,
    "start_time": "2024-08-25T14:31:25.241Z"
   },
   {
    "duration": 1160,
    "start_time": "2024-08-25T14:32:16.066Z"
   },
   {
    "duration": 1072,
    "start_time": "2024-08-25T14:33:54.357Z"
   },
   {
    "duration": 1092,
    "start_time": "2024-08-25T14:34:02.143Z"
   },
   {
    "duration": 1149,
    "start_time": "2024-08-25T14:34:13.791Z"
   },
   {
    "duration": 1080,
    "start_time": "2024-08-25T14:34:36.556Z"
   },
   {
    "duration": 1031,
    "start_time": "2024-08-25T14:35:20.131Z"
   },
   {
    "duration": 1191,
    "start_time": "2024-08-25T14:35:31.704Z"
   },
   {
    "duration": 1088,
    "start_time": "2024-08-25T14:35:59.873Z"
   },
   {
    "duration": 1022,
    "start_time": "2024-08-25T14:36:33.188Z"
   },
   {
    "duration": 93,
    "start_time": "2024-08-25T14:44:30.470Z"
   },
   {
    "duration": 19,
    "start_time": "2024-08-25T14:45:41.083Z"
   },
   {
    "duration": 24,
    "start_time": "2024-08-25T14:47:19.796Z"
   },
   {
    "duration": 2186,
    "start_time": "2024-08-25T14:50:12.390Z"
   },
   {
    "duration": 1082,
    "start_time": "2024-08-25T14:50:30.860Z"
   },
   {
    "duration": 18,
    "start_time": "2024-08-25T14:57:11.076Z"
   },
   {
    "duration": 69,
    "start_time": "2024-08-25T14:58:54.458Z"
   },
   {
    "duration": 69,
    "start_time": "2024-08-25T15:00:05.226Z"
   },
   {
    "duration": 2751,
    "start_time": "2024-08-25T15:00:48.136Z"
   },
   {
    "duration": 100,
    "start_time": "2024-08-25T15:00:50.889Z"
   },
   {
    "duration": 143,
    "start_time": "2024-08-25T15:00:50.991Z"
   },
   {
    "duration": 253,
    "start_time": "2024-08-25T15:00:51.136Z"
   },
   {
    "duration": 74,
    "start_time": "2024-08-25T15:00:51.392Z"
   },
   {
    "duration": 17,
    "start_time": "2024-08-25T15:00:51.468Z"
   },
   {
    "duration": 2448,
    "start_time": "2024-08-25T15:00:51.486Z"
   },
   {
    "duration": 2457,
    "start_time": "2024-08-25T15:00:53.936Z"
   },
   {
    "duration": 2211,
    "start_time": "2024-08-25T15:00:56.397Z"
   },
   {
    "duration": 1072,
    "start_time": "2024-08-25T15:00:58.610Z"
   },
   {
    "duration": 454,
    "start_time": "2024-08-25T15:00:59.683Z"
   },
   {
    "duration": 1243,
    "start_time": "2024-08-25T15:01:00.138Z"
   },
   {
    "duration": 75,
    "start_time": "2024-08-25T15:01:01.383Z"
   },
   {
    "duration": 84,
    "start_time": "2024-08-25T15:01:01.461Z"
   },
   {
    "duration": 141,
    "start_time": "2024-08-25T15:09:05.171Z"
   },
   {
    "duration": 4,
    "start_time": "2024-08-25T15:13:26.667Z"
   },
   {
    "duration": 6,
    "start_time": "2024-08-25T15:13:27.082Z"
   },
   {
    "duration": 115,
    "start_time": "2024-08-25T15:15:38.061Z"
   },
   {
    "duration": 12,
    "start_time": "2024-08-25T15:16:01.433Z"
   },
   {
    "duration": 4,
    "start_time": "2024-08-25T15:16:11.704Z"
   },
   {
    "duration": 18,
    "start_time": "2024-08-25T15:16:16.148Z"
   },
   {
    "duration": 6,
    "start_time": "2024-08-25T15:16:28.964Z"
   },
   {
    "duration": 41,
    "start_time": "2024-08-25T15:16:32.334Z"
   },
   {
    "duration": 7,
    "start_time": "2024-08-25T15:16:45.866Z"
   },
   {
    "duration": 22,
    "start_time": "2024-08-25T15:16:54.473Z"
   },
   {
    "duration": 10,
    "start_time": "2024-08-25T15:17:24.085Z"
   },
   {
    "duration": 21,
    "start_time": "2024-08-25T15:17:29.513Z"
   },
   {
    "duration": 5,
    "start_time": "2024-08-25T15:17:42.324Z"
   },
   {
    "duration": 56140,
    "start_time": "2024-08-25T15:17:45.534Z"
   },
   {
    "duration": 1560,
    "start_time": "2024-08-25T15:21:17.600Z"
   },
   {
    "duration": 1210,
    "start_time": "2024-08-25T15:21:19.162Z"
   },
   {
    "duration": 95,
    "start_time": "2024-08-25T15:21:20.373Z"
   },
   {
    "duration": 137,
    "start_time": "2024-08-25T15:21:20.470Z"
   },
   {
    "duration": 247,
    "start_time": "2024-08-25T15:21:20.609Z"
   },
   {
    "duration": 85,
    "start_time": "2024-08-25T15:21:20.857Z"
   },
   {
    "duration": 18,
    "start_time": "2024-08-25T15:21:20.944Z"
   },
   {
    "duration": 2473,
    "start_time": "2024-08-25T15:21:20.964Z"
   },
   {
    "duration": 2553,
    "start_time": "2024-08-25T15:21:23.439Z"
   },
   {
    "duration": 2188,
    "start_time": "2024-08-25T15:21:25.994Z"
   },
   {
    "duration": 1161,
    "start_time": "2024-08-25T15:21:28.183Z"
   },
   {
    "duration": 491,
    "start_time": "2024-08-25T15:21:29.346Z"
   },
   {
    "duration": 1202,
    "start_time": "2024-08-25T15:21:29.839Z"
   },
   {
    "duration": 76,
    "start_time": "2024-08-25T15:21:31.044Z"
   },
   {
    "duration": 68,
    "start_time": "2024-08-25T15:21:31.122Z"
   },
   {
    "duration": 134,
    "start_time": "2024-08-25T15:21:31.206Z"
   },
   {
    "duration": 223,
    "start_time": "2024-08-25T15:21:31.342Z"
   },
   {
    "duration": 6,
    "start_time": "2024-08-25T15:21:31.567Z"
   },
   {
    "duration": 37,
    "start_time": "2024-08-25T15:21:31.575Z"
   },
   {
    "duration": 1560,
    "start_time": "2024-08-25T15:21:37.229Z"
   },
   {
    "duration": 1269,
    "start_time": "2024-08-25T15:21:38.790Z"
   },
   {
    "duration": 144,
    "start_time": "2024-08-25T15:21:40.061Z"
   },
   {
    "duration": 137,
    "start_time": "2024-08-25T15:21:40.208Z"
   },
   {
    "duration": 243,
    "start_time": "2024-08-25T15:21:40.348Z"
   },
   {
    "duration": 79,
    "start_time": "2024-08-25T15:21:40.593Z"
   },
   {
    "duration": 31,
    "start_time": "2024-08-25T15:21:40.675Z"
   },
   {
    "duration": 2465,
    "start_time": "2024-08-25T15:21:40.708Z"
   },
   {
    "duration": 2616,
    "start_time": "2024-08-25T15:21:43.175Z"
   },
   {
    "duration": 2262,
    "start_time": "2024-08-25T15:21:45.793Z"
   },
   {
    "duration": 1200,
    "start_time": "2024-08-25T15:21:48.057Z"
   },
   {
    "duration": 465,
    "start_time": "2024-08-25T15:21:49.258Z"
   },
   {
    "duration": 1187,
    "start_time": "2024-08-25T15:21:49.725Z"
   },
   {
    "duration": 64,
    "start_time": "2024-08-25T15:21:50.915Z"
   },
   {
    "duration": 82,
    "start_time": "2024-08-25T15:21:50.981Z"
   },
   {
    "duration": 138,
    "start_time": "2024-08-25T15:21:51.065Z"
   },
   {
    "duration": 4,
    "start_time": "2024-08-25T15:21:51.205Z"
   },
   {
    "duration": 10,
    "start_time": "2024-08-25T15:21:51.210Z"
   },
   {
    "duration": 183,
    "start_time": "2024-08-25T15:21:51.222Z"
   },
   {
    "duration": 0,
    "start_time": "2024-08-25T15:27:20.248Z"
   },
   {
    "duration": 1558,
    "start_time": "2024-08-25T15:28:40.347Z"
   },
   {
    "duration": 1272,
    "start_time": "2024-08-25T15:28:41.906Z"
   },
   {
    "duration": 96,
    "start_time": "2024-08-25T15:28:43.180Z"
   },
   {
    "duration": 144,
    "start_time": "2024-08-25T15:28:43.278Z"
   },
   {
    "duration": 250,
    "start_time": "2024-08-25T15:28:43.425Z"
   },
   {
    "duration": 73,
    "start_time": "2024-08-25T15:28:43.677Z"
   },
   {
    "duration": 21,
    "start_time": "2024-08-25T15:28:43.752Z"
   },
   {
    "duration": 2561,
    "start_time": "2024-08-25T15:28:43.775Z"
   },
   {
    "duration": 2455,
    "start_time": "2024-08-25T15:28:46.338Z"
   },
   {
    "duration": 2238,
    "start_time": "2024-08-25T15:28:48.795Z"
   },
   {
    "duration": 1146,
    "start_time": "2024-08-25T15:28:51.035Z"
   },
   {
    "duration": 471,
    "start_time": "2024-08-25T15:28:52.183Z"
   },
   {
    "duration": 1222,
    "start_time": "2024-08-25T15:28:52.657Z"
   },
   {
    "duration": 75,
    "start_time": "2024-08-25T15:28:53.880Z"
   },
   {
    "duration": 80,
    "start_time": "2024-08-25T15:28:53.957Z"
   },
   {
    "duration": 142,
    "start_time": "2024-08-25T15:28:54.040Z"
   },
   {
    "duration": 3,
    "start_time": "2024-08-25T15:28:54.184Z"
   },
   {
    "duration": 19,
    "start_time": "2024-08-25T15:28:54.189Z"
   },
   {
    "duration": 194,
    "start_time": "2024-08-25T15:28:54.211Z"
   },
   {
    "duration": 270711,
    "start_time": "2024-08-25T15:28:54.407Z"
   },
   {
    "duration": 5,
    "start_time": "2024-08-25T15:37:43.464Z"
   },
   {
    "duration": 95,
    "start_time": "2024-08-25T15:41:47.652Z"
   },
   {
    "duration": 202,
    "start_time": "2024-08-25T15:43:54.846Z"
   },
   {
    "duration": 1555,
    "start_time": "2024-08-25T15:44:11.007Z"
   },
   {
    "duration": 1230,
    "start_time": "2024-08-25T15:44:12.564Z"
   },
   {
    "duration": 92,
    "start_time": "2024-08-25T15:44:13.796Z"
   },
   {
    "duration": 863,
    "start_time": "2024-08-25T15:44:13.890Z"
   },
   {
    "duration": 138,
    "start_time": "2024-08-25T15:44:14.755Z"
   },
   {
    "duration": 77,
    "start_time": "2024-08-25T15:44:14.894Z"
   },
   {
    "duration": 17,
    "start_time": "2024-08-25T15:44:14.973Z"
   },
   {
    "duration": 2558,
    "start_time": "2024-08-25T15:44:15.005Z"
   },
   {
    "duration": 2643,
    "start_time": "2024-08-25T15:44:17.564Z"
   },
   {
    "duration": 3115,
    "start_time": "2024-08-25T15:44:20.209Z"
   },
   {
    "duration": 1146,
    "start_time": "2024-08-25T15:44:23.326Z"
   },
   {
    "duration": 460,
    "start_time": "2024-08-25T15:44:24.474Z"
   },
   {
    "duration": 1273,
    "start_time": "2024-08-25T15:44:24.935Z"
   },
   {
    "duration": 67,
    "start_time": "2024-08-25T15:44:26.212Z"
   },
   {
    "duration": 83,
    "start_time": "2024-08-25T15:44:26.281Z"
   },
   {
    "duration": 145,
    "start_time": "2024-08-25T15:44:26.366Z"
   },
   {
    "duration": 4,
    "start_time": "2024-08-25T15:44:26.513Z"
   },
   {
    "duration": 7,
    "start_time": "2024-08-25T15:44:26.519Z"
   },
   {
    "duration": 194,
    "start_time": "2024-08-25T15:44:26.527Z"
   },
   {
    "duration": 63396,
    "start_time": "2024-08-25T15:44:26.723Z"
   },
   {
    "duration": 1270,
    "start_time": "2024-08-25T15:47:29.952Z"
   },
   {
    "duration": 1458,
    "start_time": "2024-08-25T15:47:39.918Z"
   },
   {
    "duration": 1137,
    "start_time": "2024-08-25T15:47:41.378Z"
   },
   {
    "duration": 274,
    "start_time": "2024-08-25T15:47:42.516Z"
   },
   {
    "duration": 117,
    "start_time": "2024-08-25T15:47:42.792Z"
   },
   {
    "duration": 139,
    "start_time": "2024-08-25T15:47:42.911Z"
   },
   {
    "duration": 253,
    "start_time": "2024-08-25T15:47:43.052Z"
   },
   {
    "duration": 65,
    "start_time": "2024-08-25T15:47:43.307Z"
   },
   {
    "duration": 32,
    "start_time": "2024-08-25T15:47:43.374Z"
   },
   {
    "duration": 2364,
    "start_time": "2024-08-25T15:47:43.407Z"
   },
   {
    "duration": 2405,
    "start_time": "2024-08-25T15:47:45.772Z"
   },
   {
    "duration": 2102,
    "start_time": "2024-08-25T15:47:48.178Z"
   },
   {
    "duration": 1075,
    "start_time": "2024-08-25T15:47:50.282Z"
   },
   {
    "duration": 419,
    "start_time": "2024-08-25T15:47:51.359Z"
   },
   {
    "duration": 1170,
    "start_time": "2024-08-25T15:47:51.782Z"
   },
   {
    "duration": 77,
    "start_time": "2024-08-25T15:47:52.954Z"
   },
   {
    "duration": 77,
    "start_time": "2024-08-25T15:47:53.033Z"
   },
   {
    "duration": 136,
    "start_time": "2024-08-25T15:47:53.112Z"
   },
   {
    "duration": 4,
    "start_time": "2024-08-25T15:47:53.250Z"
   },
   {
    "duration": 9,
    "start_time": "2024-08-25T15:47:53.256Z"
   },
   {
    "duration": 186,
    "start_time": "2024-08-25T15:47:53.267Z"
   },
   {
    "duration": 1525,
    "start_time": "2024-08-25T15:50:11.101Z"
   },
   {
    "duration": 1142,
    "start_time": "2024-08-25T15:50:13.038Z"
   },
   {
    "duration": 229,
    "start_time": "2024-08-25T15:50:14.884Z"
   },
   {
    "duration": 101,
    "start_time": "2024-08-25T15:50:16.489Z"
   },
   {
    "duration": 155,
    "start_time": "2024-08-25T15:50:17.572Z"
   },
   {
    "duration": 21,
    "start_time": "2024-08-25T15:50:20.751Z"
   },
   {
    "duration": 1536,
    "start_time": "2024-08-25T15:50:42.462Z"
   },
   {
    "duration": 1171,
    "start_time": "2024-08-25T15:50:44.000Z"
   },
   {
    "duration": 243,
    "start_time": "2024-08-25T15:50:45.173Z"
   },
   {
    "duration": 86,
    "start_time": "2024-08-25T15:50:46.429Z"
   },
   {
    "duration": 137,
    "start_time": "2024-08-25T15:50:47.415Z"
   },
   {
    "duration": 19,
    "start_time": "2024-08-25T15:50:50.177Z"
   },
   {
    "duration": 141,
    "start_time": "2024-08-25T15:51:58.604Z"
   },
   {
    "duration": 1573,
    "start_time": "2024-08-25T15:52:43.489Z"
   },
   {
    "duration": 1243,
    "start_time": "2024-08-25T15:52:45.063Z"
   },
   {
    "duration": 254,
    "start_time": "2024-08-25T15:52:46.307Z"
   },
   {
    "duration": 5,
    "start_time": "2024-08-25T15:53:26.446Z"
   },
   {
    "duration": 131,
    "start_time": "2024-08-25T15:55:19.859Z"
   },
   {
    "duration": 63,
    "start_time": "2024-08-25T16:01:13.957Z"
   },
   {
    "duration": 249,
    "start_time": "2024-08-25T16:01:44.640Z"
   },
   {
    "duration": 1122,
    "start_time": "2024-08-25T16:10:17.591Z"
   },
   {
    "duration": 1509,
    "start_time": "2024-08-25T16:10:30.840Z"
   },
   {
    "duration": 1189,
    "start_time": "2024-08-25T16:10:35.440Z"
   },
   {
    "duration": 93,
    "start_time": "2024-08-25T16:10:46.696Z"
   },
   {
    "duration": 124,
    "start_time": "2024-08-25T16:10:49.060Z"
   },
   {
    "duration": 237,
    "start_time": "2024-08-25T16:11:00.394Z"
   },
   {
    "duration": 72,
    "start_time": "2024-08-25T16:11:04.802Z"
   },
   {
    "duration": 18,
    "start_time": "2024-08-25T16:11:06.252Z"
   },
   {
    "duration": 15,
    "start_time": "2024-08-25T16:11:31.461Z"
   },
   {
    "duration": 17,
    "start_time": "2024-08-25T16:12:23.091Z"
   },
   {
    "duration": 2316,
    "start_time": "2024-08-25T16:12:26.220Z"
   },
   {
    "duration": 2491,
    "start_time": "2024-08-25T16:12:28.538Z"
   },
   {
    "duration": 2112,
    "start_time": "2024-08-25T16:12:31.031Z"
   },
   {
    "duration": 1096,
    "start_time": "2024-08-25T16:12:33.145Z"
   },
   {
    "duration": 440,
    "start_time": "2024-08-25T16:12:34.243Z"
   },
   {
    "duration": 1172,
    "start_time": "2024-08-25T16:12:35.570Z"
   },
   {
    "duration": 76,
    "start_time": "2024-08-25T16:14:48.148Z"
   },
   {
    "duration": 80,
    "start_time": "2024-08-25T16:15:33.765Z"
   },
   {
    "duration": 155,
    "start_time": "2024-08-25T16:15:35.331Z"
   },
   {
    "duration": 177,
    "start_time": "2024-08-25T16:16:00.775Z"
   },
   {
    "duration": 4,
    "start_time": "2024-08-25T16:16:12.720Z"
   },
   {
    "duration": 6,
    "start_time": "2024-08-25T16:16:14.058Z"
   },
   {
    "duration": 183,
    "start_time": "2024-08-25T16:16:14.931Z"
   },
   {
    "duration": 1620,
    "start_time": "2024-08-25T16:20:03.132Z"
   },
   {
    "duration": 1310,
    "start_time": "2024-08-25T16:20:04.754Z"
   },
   {
    "duration": 105,
    "start_time": "2024-08-25T16:20:06.066Z"
   },
   {
    "duration": 137,
    "start_time": "2024-08-25T16:20:06.173Z"
   },
   {
    "duration": 240,
    "start_time": "2024-08-25T16:20:06.313Z"
   },
   {
    "duration": 82,
    "start_time": "2024-08-25T16:20:06.555Z"
   },
   {
    "duration": 17,
    "start_time": "2024-08-25T16:20:06.639Z"
   },
   {
    "duration": 2421,
    "start_time": "2024-08-25T16:20:06.658Z"
   },
   {
    "duration": 2493,
    "start_time": "2024-08-25T16:20:09.081Z"
   },
   {
    "duration": 2158,
    "start_time": "2024-08-25T16:20:11.576Z"
   },
   {
    "duration": 1029,
    "start_time": "2024-08-25T16:20:13.735Z"
   },
   {
    "duration": 488,
    "start_time": "2024-08-25T16:20:14.768Z"
   },
   {
    "duration": 1220,
    "start_time": "2024-08-25T16:20:15.258Z"
   },
   {
    "duration": 94,
    "start_time": "2024-08-25T16:20:16.482Z"
   },
   {
    "duration": 165,
    "start_time": "2024-08-25T16:20:16.578Z"
   },
   {
    "duration": 4,
    "start_time": "2024-08-25T16:20:16.744Z"
   },
   {
    "duration": 7,
    "start_time": "2024-08-25T16:20:16.749Z"
   },
   {
    "duration": 226,
    "start_time": "2024-08-25T16:20:16.757Z"
   },
   {
    "duration": 92531,
    "start_time": "2024-08-25T16:20:16.984Z"
   },
   {
    "duration": 150,
    "start_time": "2024-08-25T16:21:49.517Z"
   },
   {
    "duration": 5,
    "start_time": "2024-08-25T16:22:52.241Z"
   },
   {
    "duration": 7,
    "start_time": "2024-08-25T16:22:59.374Z"
   },
   {
    "duration": 18,
    "start_time": "2024-08-25T16:23:16.555Z"
   },
   {
    "duration": 4,
    "start_time": "2024-08-25T16:24:26.708Z"
   },
   {
    "duration": 87093,
    "start_time": "2024-08-25T16:24:27.713Z"
   },
   {
    "duration": 11,
    "start_time": "2024-08-25T16:34:14.660Z"
   },
   {
    "duration": 5,
    "start_time": "2024-08-25T16:35:11.053Z"
   },
   {
    "duration": 30,
    "start_time": "2024-08-25T16:35:11.853Z"
   },
   {
    "duration": 6,
    "start_time": "2024-08-25T16:35:34.136Z"
   },
   {
    "duration": 42,
    "start_time": "2024-08-25T16:35:39.942Z"
   },
   {
    "duration": 5,
    "start_time": "2024-08-25T16:36:16.060Z"
   },
   {
    "duration": 49,
    "start_time": "2024-08-25T16:36:16.826Z"
   },
   {
    "duration": 11,
    "start_time": "2024-08-25T16:37:13.032Z"
   },
   {
    "duration": 1468,
    "start_time": "2024-08-25T16:37:52.868Z"
   },
   {
    "duration": 1262,
    "start_time": "2024-08-25T16:37:54.338Z"
   },
   {
    "duration": 89,
    "start_time": "2024-08-25T16:37:55.605Z"
   },
   {
    "duration": 130,
    "start_time": "2024-08-25T16:37:55.704Z"
   },
   {
    "duration": 279,
    "start_time": "2024-08-25T16:37:55.836Z"
   },
   {
    "duration": 69,
    "start_time": "2024-08-25T16:37:56.117Z"
   },
   {
    "duration": 30,
    "start_time": "2024-08-25T16:37:56.188Z"
   },
   {
    "duration": 2374,
    "start_time": "2024-08-25T16:37:56.220Z"
   },
   {
    "duration": 2462,
    "start_time": "2024-08-25T16:37:58.596Z"
   },
   {
    "duration": 2222,
    "start_time": "2024-08-25T16:38:01.061Z"
   },
   {
    "duration": 1065,
    "start_time": "2024-08-25T16:38:03.285Z"
   },
   {
    "duration": 481,
    "start_time": "2024-08-25T16:38:04.352Z"
   },
   {
    "duration": 1304,
    "start_time": "2024-08-25T16:38:04.835Z"
   },
   {
    "duration": 82,
    "start_time": "2024-08-25T16:38:06.141Z"
   },
   {
    "duration": 156,
    "start_time": "2024-08-25T16:38:06.225Z"
   },
   {
    "duration": 3,
    "start_time": "2024-08-25T16:38:06.383Z"
   },
   {
    "duration": 18,
    "start_time": "2024-08-25T16:38:06.388Z"
   },
   {
    "duration": 228,
    "start_time": "2024-08-25T16:38:06.408Z"
   },
   {
    "duration": 81684,
    "start_time": "2024-08-25T16:38:06.638Z"
   },
   {
    "duration": 81,
    "start_time": "2024-08-25T16:39:28.324Z"
   },
   {
    "duration": 1512,
    "start_time": "2024-08-25T16:41:05.330Z"
   },
   {
    "duration": 1201,
    "start_time": "2024-08-25T16:41:06.843Z"
   },
   {
    "duration": 98,
    "start_time": "2024-08-25T16:41:08.045Z"
   },
   {
    "duration": 138,
    "start_time": "2024-08-25T16:41:08.144Z"
   },
   {
    "duration": 245,
    "start_time": "2024-08-25T16:41:08.284Z"
   },
   {
    "duration": 79,
    "start_time": "2024-08-25T16:41:08.531Z"
   },
   {
    "duration": 18,
    "start_time": "2024-08-25T16:41:08.612Z"
   },
   {
    "duration": 2297,
    "start_time": "2024-08-25T16:41:08.631Z"
   },
   {
    "duration": 2519,
    "start_time": "2024-08-25T16:41:10.930Z"
   },
   {
    "duration": 2171,
    "start_time": "2024-08-25T16:41:13.450Z"
   },
   {
    "duration": 1125,
    "start_time": "2024-08-25T16:41:15.623Z"
   },
   {
    "duration": 452,
    "start_time": "2024-08-25T16:41:16.749Z"
   },
   {
    "duration": 1195,
    "start_time": "2024-08-25T16:41:17.203Z"
   },
   {
    "duration": 80,
    "start_time": "2024-08-25T16:41:18.406Z"
   },
   {
    "duration": 183,
    "start_time": "2024-08-25T16:41:18.488Z"
   },
   {
    "duration": 4,
    "start_time": "2024-08-25T16:41:18.673Z"
   },
   {
    "duration": 11,
    "start_time": "2024-08-25T16:41:18.678Z"
   },
   {
    "duration": 255,
    "start_time": "2024-08-25T16:41:18.690Z"
   },
   {
    "duration": 81366,
    "start_time": "2024-08-25T16:41:18.946Z"
   },
   {
    "duration": 5,
    "start_time": "2024-08-25T16:42:40.314Z"
   },
   {
    "duration": 88994,
    "start_time": "2024-08-25T16:42:40.321Z"
   },
   {
    "duration": 330,
    "start_time": "2024-08-25T16:44:09.317Z"
   },
   {
    "duration": 6,
    "start_time": "2024-08-25T16:55:08.343Z"
   },
   {
    "duration": 8788,
    "start_time": "2024-08-25T16:55:09.933Z"
   },
   {
    "duration": 1534,
    "start_time": "2024-08-25T17:05:34.652Z"
   },
   {
    "duration": 1225,
    "start_time": "2024-08-25T17:05:36.188Z"
   },
   {
    "duration": 131,
    "start_time": "2024-08-25T17:05:37.414Z"
   },
   {
    "duration": 138,
    "start_time": "2024-08-25T17:05:37.547Z"
   },
   {
    "duration": 251,
    "start_time": "2024-08-25T17:05:37.687Z"
   },
   {
    "duration": 82,
    "start_time": "2024-08-25T17:05:37.940Z"
   },
   {
    "duration": 16,
    "start_time": "2024-08-25T17:05:38.024Z"
   },
   {
    "duration": 2382,
    "start_time": "2024-08-25T17:05:38.042Z"
   },
   {
    "duration": 2431,
    "start_time": "2024-08-25T17:05:40.426Z"
   },
   {
    "duration": 2190,
    "start_time": "2024-08-25T17:05:42.859Z"
   },
   {
    "duration": 1079,
    "start_time": "2024-08-25T17:05:45.050Z"
   },
   {
    "duration": 446,
    "start_time": "2024-08-25T17:05:46.131Z"
   },
   {
    "duration": 1250,
    "start_time": "2024-08-25T17:05:46.578Z"
   },
   {
    "duration": 98,
    "start_time": "2024-08-25T17:05:47.831Z"
   },
   {
    "duration": 173,
    "start_time": "2024-08-25T17:05:47.932Z"
   },
   {
    "duration": 5,
    "start_time": "2024-08-25T17:05:48.107Z"
   },
   {
    "duration": 226,
    "start_time": "2024-08-25T17:05:48.114Z"
   },
   {
    "duration": 13,
    "start_time": "2024-08-25T17:05:48.342Z"
   },
   {
    "duration": 85650,
    "start_time": "2024-08-25T17:05:48.357Z"
   },
   {
    "duration": 4,
    "start_time": "2024-08-25T17:07:14.009Z"
   },
   {
    "duration": 127907,
    "start_time": "2024-08-25T17:07:14.014Z"
   },
   {
    "duration": 7,
    "start_time": "2024-08-25T17:09:22.006Z"
   },
   {
    "duration": 8102,
    "start_time": "2024-08-25T17:09:22.015Z"
   },
   {
    "duration": 1535,
    "start_time": "2024-08-25T17:12:09.286Z"
   },
   {
    "duration": 1193,
    "start_time": "2024-08-25T17:12:10.824Z"
   },
   {
    "duration": 105,
    "start_time": "2024-08-25T17:12:12.019Z"
   },
   {
    "duration": 135,
    "start_time": "2024-08-25T17:12:12.126Z"
   },
   {
    "duration": 244,
    "start_time": "2024-08-25T17:12:12.263Z"
   },
   {
    "duration": 69,
    "start_time": "2024-08-25T17:12:12.508Z"
   },
   {
    "duration": 32,
    "start_time": "2024-08-25T17:12:12.578Z"
   },
   {
    "duration": 2478,
    "start_time": "2024-08-25T17:12:12.611Z"
   },
   {
    "duration": 2491,
    "start_time": "2024-08-25T17:12:15.091Z"
   },
   {
    "duration": 2139,
    "start_time": "2024-08-25T17:12:17.584Z"
   },
   {
    "duration": 1034,
    "start_time": "2024-08-25T17:12:19.725Z"
   },
   {
    "duration": 479,
    "start_time": "2024-08-25T17:12:20.761Z"
   },
   {
    "duration": 1246,
    "start_time": "2024-08-25T17:12:21.242Z"
   },
   {
    "duration": 86,
    "start_time": "2024-08-25T17:12:22.490Z"
   },
   {
    "duration": 186,
    "start_time": "2024-08-25T17:12:22.577Z"
   },
   {
    "duration": 6,
    "start_time": "2024-08-25T17:12:22.765Z"
   },
   {
    "duration": 283,
    "start_time": "2024-08-25T17:12:22.774Z"
   },
   {
    "duration": 104454,
    "start_time": "2024-08-25T17:12:23.059Z"
   },
   {
    "duration": 4,
    "start_time": "2024-08-25T17:14:07.515Z"
   },
   {
    "duration": 92588,
    "start_time": "2024-08-25T17:14:07.520Z"
   },
   {
    "duration": 5,
    "start_time": "2024-08-25T17:15:40.110Z"
   },
   {
    "duration": 11903,
    "start_time": "2024-08-25T17:15:40.117Z"
   },
   {
    "duration": 11604,
    "start_time": "2024-08-25T18:45:23.208Z"
   },
   {
    "duration": 3237,
    "start_time": "2024-08-26T07:16:28.732Z"
   },
   {
    "duration": 3248,
    "start_time": "2024-08-26T07:16:31.971Z"
   },
   {
    "duration": 88,
    "start_time": "2024-08-26T07:16:35.221Z"
   },
   {
    "duration": 123,
    "start_time": "2024-08-26T07:16:35.311Z"
   },
   {
    "duration": 211,
    "start_time": "2024-08-26T07:16:35.436Z"
   },
   {
    "duration": 64,
    "start_time": "2024-08-26T07:16:35.648Z"
   },
   {
    "duration": 16,
    "start_time": "2024-08-26T07:16:35.713Z"
   },
   {
    "duration": 2252,
    "start_time": "2024-08-26T07:16:35.731Z"
   },
   {
    "duration": 2305,
    "start_time": "2024-08-26T07:16:37.984Z"
   },
   {
    "duration": 1914,
    "start_time": "2024-08-26T07:16:40.292Z"
   },
   {
    "duration": 1139,
    "start_time": "2024-08-26T07:16:42.208Z"
   },
   {
    "duration": 394,
    "start_time": "2024-08-26T07:16:43.352Z"
   },
   {
    "duration": 1071,
    "start_time": "2024-08-26T07:16:43.748Z"
   },
   {
    "duration": 78,
    "start_time": "2024-08-26T07:16:44.820Z"
   },
   {
    "duration": 157,
    "start_time": "2024-08-26T07:16:44.900Z"
   },
   {
    "duration": 4,
    "start_time": "2024-08-26T07:16:45.058Z"
   },
   {
    "duration": 209,
    "start_time": "2024-08-26T07:16:45.063Z"
   },
   {
    "duration": 74099,
    "start_time": "2024-08-26T07:16:45.273Z"
   },
   {
    "duration": 80,
    "start_time": "2024-08-26T07:17:59.374Z"
   },
   {
    "duration": 65501,
    "start_time": "2024-08-26T07:17:59.456Z"
   },
   {
    "duration": 5,
    "start_time": "2024-08-26T07:19:04.959Z"
   },
   {
    "duration": 7006,
    "start_time": "2024-08-26T07:19:04.966Z"
   },
   {
    "duration": 63,
    "start_time": "2024-08-26T15:55:21.668Z"
   },
   {
    "duration": 1780,
    "start_time": "2024-08-26T15:56:35.325Z"
   },
   {
    "duration": 120,
    "start_time": "2024-08-26T15:59:00.708Z"
   },
   {
    "duration": 6,
    "start_time": "2024-08-26T15:59:06.860Z"
   },
   {
    "duration": 3356,
    "start_time": "2024-08-26T15:59:08.209Z"
   },
   {
    "duration": 161,
    "start_time": "2024-08-26T15:59:13.258Z"
   },
   {
    "duration": 1564,
    "start_time": "2024-08-26T16:04:58.493Z"
   },
   {
    "duration": 1258,
    "start_time": "2024-08-26T16:05:00.059Z"
   },
   {
    "duration": 160,
    "start_time": "2024-08-26T16:05:01.318Z"
   },
   {
    "duration": 115,
    "start_time": "2024-08-26T16:05:01.481Z"
   },
   {
    "duration": 137,
    "start_time": "2024-08-26T16:05:01.597Z"
   },
   {
    "duration": 251,
    "start_time": "2024-08-26T16:05:01.736Z"
   },
   {
    "duration": 87,
    "start_time": "2024-08-26T16:05:01.989Z"
   },
   {
    "duration": 19,
    "start_time": "2024-08-26T16:05:02.078Z"
   },
   {
    "duration": 2524,
    "start_time": "2024-08-26T16:05:02.101Z"
   },
   {
    "duration": 2511,
    "start_time": "2024-08-26T16:05:04.629Z"
   },
   {
    "duration": 2274,
    "start_time": "2024-08-26T16:05:07.141Z"
   },
   {
    "duration": 1105,
    "start_time": "2024-08-26T16:05:09.417Z"
   },
   {
    "duration": 482,
    "start_time": "2024-08-26T16:05:10.523Z"
   },
   {
    "duration": 1215,
    "start_time": "2024-08-26T16:05:11.007Z"
   },
   {
    "duration": 86,
    "start_time": "2024-08-26T16:05:12.224Z"
   },
   {
    "duration": 184,
    "start_time": "2024-08-26T16:05:12.312Z"
   },
   {
    "duration": 6,
    "start_time": "2024-08-26T16:05:12.498Z"
   },
   {
    "duration": 231,
    "start_time": "2024-08-26T16:05:12.506Z"
   },
   {
    "duration": 85931,
    "start_time": "2024-08-26T16:05:12.739Z"
   },
   {
    "duration": 5,
    "start_time": "2024-08-26T16:06:38.672Z"
   },
   {
    "duration": 79283,
    "start_time": "2024-08-26T16:06:38.679Z"
   },
   {
    "duration": 5,
    "start_time": "2024-08-26T16:07:57.964Z"
   },
   {
    "duration": 10391,
    "start_time": "2024-08-26T16:07:57.971Z"
   },
   {
    "duration": 6,
    "start_time": "2024-08-26T16:20:22.040Z"
   },
   {
    "duration": 1290,
    "start_time": "2024-08-26T16:21:21.829Z"
   },
   {
    "duration": 1956,
    "start_time": "2024-08-26T16:21:48.549Z"
   },
   {
    "duration": 1807,
    "start_time": "2024-08-26T16:27:13.284Z"
   },
   {
    "duration": 4,
    "start_time": "2024-08-26T16:31:11.078Z"
   },
   {
    "duration": 1529,
    "start_time": "2024-08-26T16:31:22.186Z"
   },
   {
    "duration": 1278,
    "start_time": "2024-08-26T16:31:23.717Z"
   },
   {
    "duration": 176,
    "start_time": "2024-08-26T16:31:24.997Z"
   },
   {
    "duration": 118,
    "start_time": "2024-08-26T16:31:25.176Z"
   },
   {
    "duration": 140,
    "start_time": "2024-08-26T16:31:25.295Z"
   },
   {
    "duration": 254,
    "start_time": "2024-08-26T16:31:25.437Z"
   },
   {
    "duration": 77,
    "start_time": "2024-08-26T16:31:25.693Z"
   },
   {
    "duration": 18,
    "start_time": "2024-08-26T16:31:25.772Z"
   },
   {
    "duration": 2608,
    "start_time": "2024-08-26T16:31:25.792Z"
   },
   {
    "duration": 2700,
    "start_time": "2024-08-26T16:31:28.402Z"
   },
   {
    "duration": 2323,
    "start_time": "2024-08-26T16:31:31.104Z"
   },
   {
    "duration": 1190,
    "start_time": "2024-08-26T16:31:33.429Z"
   },
   {
    "duration": 462,
    "start_time": "2024-08-26T16:31:34.621Z"
   },
   {
    "duration": 1247,
    "start_time": "2024-08-26T16:31:35.085Z"
   },
   {
    "duration": 1900,
    "start_time": "2024-08-26T16:31:36.334Z"
   },
   {
    "duration": 160,
    "start_time": "2024-08-26T16:31:38.236Z"
   },
   {
    "duration": 4,
    "start_time": "2024-08-26T16:31:38.398Z"
   },
   {
    "duration": 253,
    "start_time": "2024-08-26T16:31:38.403Z"
   },
   {
    "duration": 157,
    "start_time": "2024-08-26T16:31:38.658Z"
   },
   {
    "duration": 0,
    "start_time": "2024-08-26T16:31:38.816Z"
   },
   {
    "duration": 0,
    "start_time": "2024-08-26T16:31:38.818Z"
   },
   {
    "duration": 0,
    "start_time": "2024-08-26T16:31:38.819Z"
   },
   {
    "duration": 0,
    "start_time": "2024-08-26T16:31:38.820Z"
   },
   {
    "duration": 7411,
    "start_time": "2024-08-26T16:32:08.766Z"
   },
   {
    "duration": 3233,
    "start_time": "2024-08-26T16:32:26.429Z"
   },
   {
    "duration": 93,
    "start_time": "2024-08-26T16:33:17.147Z"
   },
   {
    "duration": 3167,
    "start_time": "2024-08-26T16:33:24.087Z"
   },
   {
    "duration": 1392,
    "start_time": "2024-08-26T16:33:27.256Z"
   },
   {
    "duration": 1240,
    "start_time": "2024-08-26T16:33:28.650Z"
   },
   {
    "duration": 171,
    "start_time": "2024-08-26T16:33:29.892Z"
   },
   {
    "duration": 108,
    "start_time": "2024-08-26T16:33:30.064Z"
   },
   {
    "duration": 126,
    "start_time": "2024-08-26T16:33:30.174Z"
   },
   {
    "duration": 264,
    "start_time": "2024-08-26T16:33:30.301Z"
   },
   {
    "duration": 72,
    "start_time": "2024-08-26T16:33:30.567Z"
   },
   {
    "duration": 31,
    "start_time": "2024-08-26T16:33:30.641Z"
   },
   {
    "duration": 2414,
    "start_time": "2024-08-26T16:33:30.676Z"
   },
   {
    "duration": 2503,
    "start_time": "2024-08-26T16:33:33.091Z"
   },
   {
    "duration": 2225,
    "start_time": "2024-08-26T16:33:35.596Z"
   },
   {
    "duration": 1099,
    "start_time": "2024-08-26T16:33:37.822Z"
   },
   {
    "duration": 479,
    "start_time": "2024-08-26T16:33:38.923Z"
   },
   {
    "duration": 1260,
    "start_time": "2024-08-26T16:33:39.404Z"
   },
   {
    "duration": 1799,
    "start_time": "2024-08-26T16:33:40.666Z"
   },
   {
    "duration": 170,
    "start_time": "2024-08-26T16:33:42.467Z"
   },
   {
    "duration": 16,
    "start_time": "2024-08-26T16:33:42.639Z"
   },
   {
    "duration": 227,
    "start_time": "2024-08-26T16:33:42.657Z"
   },
   {
    "duration": 82774,
    "start_time": "2024-08-26T16:33:42.886Z"
   },
   {
    "duration": 4,
    "start_time": "2024-08-26T16:35:05.662Z"
   },
   {
    "duration": 142494,
    "start_time": "2024-08-26T16:35:05.668Z"
   },
   {
    "duration": 5,
    "start_time": "2024-08-26T16:37:28.163Z"
   },
   {
    "duration": 8009,
    "start_time": "2024-08-26T16:37:28.170Z"
   },
   {
    "duration": 3203,
    "start_time": "2024-08-26T16:40:44.539Z"
   },
   {
    "duration": 1379,
    "start_time": "2024-08-26T16:40:47.745Z"
   },
   {
    "duration": 1218,
    "start_time": "2024-08-26T16:40:49.127Z"
   },
   {
    "duration": 167,
    "start_time": "2024-08-26T16:40:50.347Z"
   },
   {
    "duration": 108,
    "start_time": "2024-08-26T16:40:50.516Z"
   },
   {
    "duration": 118,
    "start_time": "2024-08-26T16:40:50.627Z"
   },
   {
    "duration": 244,
    "start_time": "2024-08-26T16:40:50.754Z"
   },
   {
    "duration": 82,
    "start_time": "2024-08-26T16:40:51.000Z"
   },
   {
    "duration": 17,
    "start_time": "2024-08-26T16:40:51.084Z"
   },
   {
    "duration": 2523,
    "start_time": "2024-08-26T16:40:51.103Z"
   },
   {
    "duration": 2599,
    "start_time": "2024-08-26T16:40:53.628Z"
   },
   {
    "duration": 2345,
    "start_time": "2024-08-26T16:40:56.229Z"
   },
   {
    "duration": 1056,
    "start_time": "2024-08-26T16:40:58.576Z"
   },
   {
    "duration": 2200,
    "start_time": "2024-08-26T16:40:59.633Z"
   },
   {
    "duration": 0,
    "start_time": "2024-08-26T16:41:01.835Z"
   },
   {
    "duration": 0,
    "start_time": "2024-08-26T16:41:01.837Z"
   },
   {
    "duration": 0,
    "start_time": "2024-08-26T16:41:01.838Z"
   },
   {
    "duration": 0,
    "start_time": "2024-08-26T16:41:01.839Z"
   },
   {
    "duration": 0,
    "start_time": "2024-08-26T16:41:01.840Z"
   },
   {
    "duration": 0,
    "start_time": "2024-08-26T16:41:01.842Z"
   },
   {
    "duration": 0,
    "start_time": "2024-08-26T16:41:01.843Z"
   },
   {
    "duration": 0,
    "start_time": "2024-08-26T16:41:01.844Z"
   },
   {
    "duration": 0,
    "start_time": "2024-08-26T16:41:01.845Z"
   },
   {
    "duration": 0,
    "start_time": "2024-08-26T16:41:01.847Z"
   },
   {
    "duration": 3149,
    "start_time": "2024-08-26T16:45:55.980Z"
   },
   {
    "duration": 1388,
    "start_time": "2024-08-26T16:45:59.132Z"
   },
   {
    "duration": 1251,
    "start_time": "2024-08-26T16:46:00.522Z"
   },
   {
    "duration": 160,
    "start_time": "2024-08-26T16:46:01.775Z"
   },
   {
    "duration": 101,
    "start_time": "2024-08-26T16:46:01.937Z"
   },
   {
    "duration": 170,
    "start_time": "2024-08-26T16:46:02.039Z"
   },
   {
    "duration": 278,
    "start_time": "2024-08-26T16:46:02.211Z"
   },
   {
    "duration": 91,
    "start_time": "2024-08-26T16:46:02.491Z"
   },
   {
    "duration": 17,
    "start_time": "2024-08-26T16:46:02.584Z"
   },
   {
    "duration": 2369,
    "start_time": "2024-08-26T16:46:02.604Z"
   },
   {
    "duration": 2516,
    "start_time": "2024-08-26T16:46:04.974Z"
   },
   {
    "duration": 2194,
    "start_time": "2024-08-26T16:46:07.492Z"
   },
   {
    "duration": 1020,
    "start_time": "2024-08-26T16:46:09.688Z"
   },
   {
    "duration": 1304,
    "start_time": "2024-08-26T16:46:10.709Z"
   },
   {
    "duration": 0,
    "start_time": "2024-08-26T16:46:12.015Z"
   },
   {
    "duration": 0,
    "start_time": "2024-08-26T16:46:12.016Z"
   },
   {
    "duration": 0,
    "start_time": "2024-08-26T16:46:12.017Z"
   },
   {
    "duration": 0,
    "start_time": "2024-08-26T16:46:12.019Z"
   },
   {
    "duration": 0,
    "start_time": "2024-08-26T16:46:12.020Z"
   },
   {
    "duration": 0,
    "start_time": "2024-08-26T16:46:12.021Z"
   },
   {
    "duration": 0,
    "start_time": "2024-08-26T16:46:12.023Z"
   },
   {
    "duration": 0,
    "start_time": "2024-08-26T16:46:12.024Z"
   },
   {
    "duration": 0,
    "start_time": "2024-08-26T16:46:12.025Z"
   },
   {
    "duration": 0,
    "start_time": "2024-08-26T16:46:12.026Z"
   },
   {
    "duration": 0,
    "start_time": "2024-08-26T16:46:12.027Z"
   },
   {
    "duration": 0,
    "start_time": "2024-08-26T16:46:12.029Z"
   },
   {
    "duration": 1204,
    "start_time": "2024-08-26T16:47:06.681Z"
   },
   {
    "duration": 506,
    "start_time": "2024-08-26T16:47:08.588Z"
   },
   {
    "duration": 947,
    "start_time": "2024-08-26T16:47:09.337Z"
   },
   {
    "duration": 1090,
    "start_time": "2024-08-26T16:47:48.458Z"
   },
   {
    "duration": 76,
    "start_time": "2024-08-26T16:47:57.259Z"
   },
   {
    "duration": 1637,
    "start_time": "2024-08-26T16:48:16.526Z"
   },
   {
    "duration": 74,
    "start_time": "2024-08-26T17:02:29.200Z"
   },
   {
    "duration": 3249,
    "start_time": "2024-08-26T17:08:58.378Z"
   },
   {
    "duration": 1422,
    "start_time": "2024-08-26T17:09:01.629Z"
   },
   {
    "duration": 1232,
    "start_time": "2024-08-26T17:09:03.055Z"
   },
   {
    "duration": 160,
    "start_time": "2024-08-26T17:09:04.290Z"
   },
   {
    "duration": 101,
    "start_time": "2024-08-26T17:09:04.457Z"
   },
   {
    "duration": 124,
    "start_time": "2024-08-26T17:09:04.559Z"
   },
   {
    "duration": 250,
    "start_time": "2024-08-26T17:09:04.685Z"
   },
   {
    "duration": 97,
    "start_time": "2024-08-26T17:09:04.936Z"
   },
   {
    "duration": 24,
    "start_time": "2024-08-26T17:09:05.034Z"
   },
   {
    "duration": 2364,
    "start_time": "2024-08-26T17:09:05.060Z"
   },
   {
    "duration": 3140,
    "start_time": "2024-08-26T17:09:07.426Z"
   },
   {
    "duration": 2351,
    "start_time": "2024-08-26T17:09:10.567Z"
   },
   {
    "duration": 1099,
    "start_time": "2024-08-26T17:09:12.920Z"
   },
   {
    "duration": 145,
    "start_time": "2024-08-26T17:09:14.021Z"
   },
   {
    "duration": 0,
    "start_time": "2024-08-26T17:09:14.168Z"
   },
   {
    "duration": 0,
    "start_time": "2024-08-26T17:09:14.169Z"
   },
   {
    "duration": 0,
    "start_time": "2024-08-26T17:09:14.170Z"
   },
   {
    "duration": 0,
    "start_time": "2024-08-26T17:09:14.171Z"
   },
   {
    "duration": 0,
    "start_time": "2024-08-26T17:09:14.172Z"
   },
   {
    "duration": 0,
    "start_time": "2024-08-26T17:09:14.173Z"
   },
   {
    "duration": 0,
    "start_time": "2024-08-26T17:09:14.174Z"
   },
   {
    "duration": 0,
    "start_time": "2024-08-26T17:09:14.176Z"
   },
   {
    "duration": 0,
    "start_time": "2024-08-26T17:09:14.177Z"
   },
   {
    "duration": 0,
    "start_time": "2024-08-26T17:09:14.178Z"
   },
   {
    "duration": 1218,
    "start_time": "2024-08-26T17:10:45.276Z"
   },
   {
    "duration": 3225,
    "start_time": "2024-08-26T17:11:10.845Z"
   },
   {
    "duration": 1362,
    "start_time": "2024-08-26T17:11:14.072Z"
   },
   {
    "duration": 1226,
    "start_time": "2024-08-26T17:11:15.436Z"
   },
   {
    "duration": 160,
    "start_time": "2024-08-26T17:11:16.664Z"
   },
   {
    "duration": 102,
    "start_time": "2024-08-26T17:11:16.826Z"
   },
   {
    "duration": 145,
    "start_time": "2024-08-26T17:11:16.930Z"
   },
   {
    "duration": 266,
    "start_time": "2024-08-26T17:11:17.076Z"
   },
   {
    "duration": 85,
    "start_time": "2024-08-26T17:11:17.344Z"
   },
   {
    "duration": 25,
    "start_time": "2024-08-26T17:11:17.431Z"
   },
   {
    "duration": 2424,
    "start_time": "2024-08-26T17:11:17.459Z"
   },
   {
    "duration": 2421,
    "start_time": "2024-08-26T17:11:19.886Z"
   },
   {
    "duration": 2161,
    "start_time": "2024-08-26T17:11:22.309Z"
   },
   {
    "duration": 1032,
    "start_time": "2024-08-26T17:11:24.472Z"
   },
   {
    "duration": 1299,
    "start_time": "2024-08-26T17:11:25.506Z"
   },
   {
    "duration": 1728,
    "start_time": "2024-08-26T17:11:26.807Z"
   },
   {
    "duration": 71,
    "start_time": "2024-08-26T17:11:28.536Z"
   },
   {
    "duration": 88,
    "start_time": "2024-08-26T17:11:28.609Z"
   },
   {
    "duration": 167,
    "start_time": "2024-08-26T17:11:28.700Z"
   },
   {
    "duration": 4,
    "start_time": "2024-08-26T17:11:28.868Z"
   },
   {
    "duration": 220,
    "start_time": "2024-08-26T17:11:28.874Z"
   },
   {
    "duration": 1309,
    "start_time": "2024-08-26T17:11:29.095Z"
   },
   {
    "duration": 0,
    "start_time": "2024-08-26T17:11:30.406Z"
   },
   {
    "duration": 0,
    "start_time": "2024-08-26T17:11:30.407Z"
   },
   {
    "duration": 0,
    "start_time": "2024-08-26T17:11:30.408Z"
   },
   {
    "duration": 0,
    "start_time": "2024-08-26T17:11:30.409Z"
   },
   {
    "duration": 3193,
    "start_time": "2024-08-26T17:16:22.912Z"
   },
   {
    "duration": 1357,
    "start_time": "2024-08-26T17:16:26.108Z"
   },
   {
    "duration": 1235,
    "start_time": "2024-08-26T17:16:27.466Z"
   },
   {
    "duration": 166,
    "start_time": "2024-08-26T17:16:28.703Z"
   },
   {
    "duration": 112,
    "start_time": "2024-08-26T17:16:28.870Z"
   },
   {
    "duration": 131,
    "start_time": "2024-08-26T17:16:28.984Z"
   },
   {
    "duration": 273,
    "start_time": "2024-08-26T17:16:29.116Z"
   },
   {
    "duration": 100,
    "start_time": "2024-08-26T17:16:29.391Z"
   },
   {
    "duration": 18,
    "start_time": "2024-08-26T17:16:29.493Z"
   },
   {
    "duration": 2484,
    "start_time": "2024-08-26T17:16:29.513Z"
   },
   {
    "duration": 2534,
    "start_time": "2024-08-26T17:16:31.999Z"
   },
   {
    "duration": 2200,
    "start_time": "2024-08-26T17:16:34.535Z"
   },
   {
    "duration": 1127,
    "start_time": "2024-08-26T17:16:36.737Z"
   },
   {
    "duration": 1229,
    "start_time": "2024-08-26T17:16:37.865Z"
   },
   {
    "duration": 1672,
    "start_time": "2024-08-26T17:16:39.096Z"
   },
   {
    "duration": 89,
    "start_time": "2024-08-26T17:16:40.770Z"
   },
   {
    "duration": 70,
    "start_time": "2024-08-26T17:16:40.861Z"
   },
   {
    "duration": 181,
    "start_time": "2024-08-26T17:16:40.933Z"
   },
   {
    "duration": 6,
    "start_time": "2024-08-26T17:16:41.115Z"
   },
   {
    "duration": 249,
    "start_time": "2024-08-26T17:16:41.123Z"
   },
   {
    "duration": 66195,
    "start_time": "2024-08-26T17:16:41.374Z"
   },
   {
    "duration": 4,
    "start_time": "2024-08-26T17:17:47.572Z"
   },
   {
    "duration": 93381,
    "start_time": "2024-08-26T17:17:47.578Z"
   },
   {
    "duration": 5,
    "start_time": "2024-08-26T17:19:20.961Z"
   },
   {
    "duration": 7998,
    "start_time": "2024-08-26T17:19:20.967Z"
   }
  ],
  "kernelspec": {
   "display_name": "Python 3 (ipykernel)",
   "language": "python",
   "name": "python3"
  },
  "language_info": {
   "codemirror_mode": {
    "name": "ipython",
    "version": 3
   },
   "file_extension": ".py",
   "mimetype": "text/x-python",
   "name": "python",
   "nbconvert_exporter": "python",
   "pygments_lexer": "ipython3",
   "version": "3.9.5"
  },
  "toc": {
   "base_numbering": 1,
   "nav_menu": {},
   "number_sections": true,
   "sideBar": true,
   "skip_h1_title": true,
   "title_cell": "План исследования",
   "title_sidebar": "Содержание",
   "toc_cell": true,
   "toc_position": {
    "height": "calc(100% - 180px)",
    "left": "10px",
    "top": "150px",
    "width": "239px"
   },
   "toc_section_display": true,
   "toc_window_display": true
  }
 },
 "nbformat": 4,
 "nbformat_minor": 2
}
