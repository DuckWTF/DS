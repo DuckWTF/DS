{
 "cells": [
  {
   "cell_type": "markdown",
   "metadata": {},
   "source": [
    "#  Прогнозирование заказов такси"
   ]
  },
  {
   "cell_type": "markdown",
   "metadata": {},
   "source": [
    "Компания «Чётенькое такси» собрала исторические данные о заказах такси в аэропортах. Чтобы привлекать больше водителей в период пиковой нагрузки, нужно спрогнозировать количество заказов такси на следующий час. Постройте модель для такого предсказания.\n",
    "\n",
    "Значение метрики *RMSE* на тестовой выборке должно быть не больше 48.\n",
    "\n",
    "Вам нужно:\n",
    "\n",
    "1. Загрузить данные и выполнить их ресемплирование по одному часу.\n",
    "2. Проанализировать данные.\n",
    "3. Обучить разные модели с различными гиперпараметрами. Сделать тестовую выборку размером 10% от исходных данных.\n",
    "4. Проверить данные на тестовой выборке и сделать выводы.\n",
    "\n",
    "\n",
    "Данные лежат в файле `taxi.csv`. Количество заказов находится в столбце `num_orders` (от англ. *number of orders*, «число заказов»)."
   ]
  },
  {
   "cell_type": "markdown",
   "metadata": {
    "toc": true
   },
   "source": [
    "<h1>План исследования<span class=\"tocSkip\"></span></h1>\n",
    "<div class=\"toc\"><ul class=\"toc-item\"><li><span><a href=\"#Подготовка\" data-toc-modified-id=\"Подготовка-1\"><span class=\"toc-item-num\">1&nbsp;&nbsp;</span>Подготовка</a></span><ul class=\"toc-item\"><li><span><a href=\"#Импорт-библиотек\" data-toc-modified-id=\"Импорт-библиотек-1.1\"><span class=\"toc-item-num\">1.1&nbsp;&nbsp;</span>Импорт библиотек</a></span></li><li><span><a href=\"#Определение-функций\" data-toc-modified-id=\"Определение-функций-1.2\"><span class=\"toc-item-num\">1.2&nbsp;&nbsp;</span>Определение функций</a></span></li><li><span><a href=\"#Загрузка-данных\" data-toc-modified-id=\"Загрузка-данных-1.3\"><span class=\"toc-item-num\">1.3&nbsp;&nbsp;</span>Загрузка данных</a></span></li><li><span><a href=\"#Ресемплирование-данных\" data-toc-modified-id=\"Ресемплирование-данных-1.4\"><span class=\"toc-item-num\">1.4&nbsp;&nbsp;</span>Ресемплирование данных</a></span></li><li><span><a href=\"#Создание-новых-признаков\" data-toc-modified-id=\"Создание-новых-признаков-1.5\"><span class=\"toc-item-num\">1.5&nbsp;&nbsp;</span>Создание новых признаков</a></span></li><li><span><a href=\"#Вывод\" data-toc-modified-id=\"Вывод-1.6\"><span class=\"toc-item-num\">1.6&nbsp;&nbsp;</span>Вывод</a></span></li></ul></li><li><span><a href=\"#Анализ\" data-toc-modified-id=\"Анализ-2\"><span class=\"toc-item-num\">2&nbsp;&nbsp;</span>Анализ</a></span><ul class=\"toc-item\"><li><span><a href=\"#Изучение-данных\" data-toc-modified-id=\"Изучение-данных-2.1\"><span class=\"toc-item-num\">2.1&nbsp;&nbsp;</span>Изучение данных</a></span></li><li><span><a href=\"#Визуализация-общего-распределения-заказов\" data-toc-modified-id=\"Визуализация-общего-распределения-заказов-2.2\"><span class=\"toc-item-num\">2.2&nbsp;&nbsp;</span>Визуализация общего распределения заказов</a></span></li><li><span><a href=\"#Анализ-суточных-трендов\" data-toc-modified-id=\"Анализ-суточных-трендов-2.3\"><span class=\"toc-item-num\">2.3&nbsp;&nbsp;</span>Анализ суточных трендов</a></span></li><li><span><a href=\"#Анализ-недельных-трендов\" data-toc-modified-id=\"Анализ-недельных-трендов-2.4\"><span class=\"toc-item-num\">2.4&nbsp;&nbsp;</span>Анализ недельных трендов</a></span></li><li><span><a href=\"#Анализ-месячных-трендов\" data-toc-modified-id=\"Анализ-месячных-трендов-2.5\"><span class=\"toc-item-num\">2.5&nbsp;&nbsp;</span>Анализ месячных трендов</a></span></li><li><span><a href=\"#Вывод\" data-toc-modified-id=\"Вывод-2.6\"><span class=\"toc-item-num\">2.6&nbsp;&nbsp;</span>Вывод</a></span></li></ul></li><li><span><a href=\"#Обучение\" data-toc-modified-id=\"Обучение-3\"><span class=\"toc-item-num\">3&nbsp;&nbsp;</span>Обучение</a></span><ul class=\"toc-item\"><li><span><a href=\"#Подготовка-данных-для-обучения\" data-toc-modified-id=\"Подготовка-данных-для-обучения-3.1\"><span class=\"toc-item-num\">3.1&nbsp;&nbsp;</span>Подготовка данных для обучения</a></span></li><li><span><a href=\"#Настройка-и-обучение-моделей\" data-toc-modified-id=\"Настройка-и-обучение-моделей-3.2\"><span class=\"toc-item-num\">3.2&nbsp;&nbsp;</span>Настройка и обучение моделей</a></span></li><li><span><a href=\"#Выводы\" data-toc-modified-id=\"Выводы-3.3\"><span class=\"toc-item-num\">3.3&nbsp;&nbsp;</span>Выводы</a></span></li></ul></li><li><span><a href=\"#Тестирование\" data-toc-modified-id=\"Тестирование-4\"><span class=\"toc-item-num\">4&nbsp;&nbsp;</span>Тестирование</a></span><ul class=\"toc-item\"><li><span><a href=\"#Вывод\" data-toc-modified-id=\"Вывод-4.1\"><span class=\"toc-item-num\">4.1&nbsp;&nbsp;</span>Вывод</a></span></li></ul></li><li><span><a href=\"#Общий-вывод\" data-toc-modified-id=\"Общий-вывод-5\"><span class=\"toc-item-num\">5&nbsp;&nbsp;</span>Общий вывод</a></span></li><li><span><a href=\"#Чек-лист-проверки\" data-toc-modified-id=\"Чек-лист-проверки-6\"><span class=\"toc-item-num\">6&nbsp;&nbsp;</span>Чек-лист проверки</a></span></li></ul></div>"
   ]
  },
  {
   "cell_type": "markdown",
   "metadata": {},
   "source": [
    "## Подготовка"
   ]
  },
  {
   "cell_type": "markdown",
   "metadata": {},
   "source": [
    "### Импорт библиотек"
   ]
  },
  {
   "cell_type": "code",
   "execution_count": 1,
   "metadata": {},
   "outputs": [
    {
     "name": "stdout",
     "output_type": "stream",
     "text": [
      "Requirement already satisfied: scikit-learn in /opt/conda/lib/python3.9/site-packages (1.5.1)\n",
      "Requirement already satisfied: numpy>=1.19.5 in /opt/conda/lib/python3.9/site-packages (from scikit-learn) (1.21.1)\n",
      "Requirement already satisfied: joblib>=1.2.0 in /opt/conda/lib/python3.9/site-packages (from scikit-learn) (1.4.2)\n",
      "Requirement already satisfied: threadpoolctl>=3.1.0 in /opt/conda/lib/python3.9/site-packages (from scikit-learn) (3.1.0)\n",
      "Requirement already satisfied: scipy>=1.6.0 in /opt/conda/lib/python3.9/site-packages (from scikit-learn) (1.9.1)\n"
     ]
    }
   ],
   "source": [
    "!pip install --upgrade scikit-learn"
   ]
  },
  {
   "cell_type": "code",
   "execution_count": 2,
   "metadata": {},
   "outputs": [],
   "source": [
    "# Импортируем необходимые библиотеки\n",
    "from catboost import CatBoostRegressor\n",
    "from sklearn.ensemble import RandomForestRegressor, GradientBoostingRegressor\n",
    "from sklearn.compose import ColumnTransformer\n",
    "from sklearn.linear_model import LinearRegression\n",
    "from sklearn.metrics import mean_squared_error\n",
    "from sklearn.model_selection import RandomizedSearchCV, train_test_split, TimeSeriesSplit\n",
    "from sklearn.pipeline import Pipeline\n",
    "from sklearn.preprocessing import StandardScaler, OneHotEncoder\n",
    "from statsmodels.graphics.tsaplots import plot_acf\n",
    "from statsmodels.tsa.seasonal import seasonal_decompose\n",
    "from tqdm import tqdm \n",
    "import matplotlib.pyplot as plt\n",
    "import numpy as np\n",
    "import pandas as pd\n",
    "import scipy.stats as st\n",
    "import seaborn as sns\n",
    "import warnings\n",
    "\n",
    "# Объявим константу для рандома\n",
    "RANDOM_STATE = 42"
   ]
  },
  {
   "cell_type": "markdown",
   "metadata": {},
   "source": [
    "### Определение функций"
   ]
  },
  {
   "cell_type": "code",
   "execution_count": 3,
   "metadata": {},
   "outputs": [],
   "source": [
    "def plot_seasonal_decompose(data, period, title='Сезонная декомпозиция', model='additive'):\n",
    "    \"\"\"\n",
    "    Функция для выполнения декомпозиции временного ряда и визуализации результатов.\n",
    "    \n",
    "    Parameters:\n",
    "    - data: Временной ряд (pandas Series)\n",
    "    - period: Период сезонности\n",
    "    - title: Заголовок графика\n",
    "    - model: Тип модели ('additive' или 'multiplicative')\n",
    "    \"\"\"\n",
    "    # Выполняем декомпозицию\n",
    "    result = seasonal_decompose(data, model=model, period=period)\n",
    "    \n",
    "    # Визуализируем результат\n",
    "    plt.figure(figsize=(10, 8))\n",
    "    \n",
    "    plt.subplot(311)\n",
    "    plt.plot(result.trend)\n",
    "    plt.title(f'Тренд - {title}')\n",
    "    \n",
    "    plt.subplot(312)\n",
    "    plt.plot(result.seasonal)\n",
    "    plt.title(f'Сезонность - {title}')\n",
    "    \n",
    "    plt.subplot(313)\n",
    "    plt.plot(result.resid)\n",
    "    plt.title(f'Остатки - {title}')\n",
    "    \n",
    "    plt.tight_layout()\n",
    "    plt.show()"
   ]
  },
  {
   "cell_type": "markdown",
   "metadata": {},
   "source": [
    "###  Загрузка данных"
   ]
  },
  {
   "cell_type": "code",
   "execution_count": 4,
   "metadata": {
    "scrolled": false
   },
   "outputs": [
    {
     "data": {
      "text/html": [
       "<div>\n",
       "<style scoped>\n",
       "    .dataframe tbody tr th:only-of-type {\n",
       "        vertical-align: middle;\n",
       "    }\n",
       "\n",
       "    .dataframe tbody tr th {\n",
       "        vertical-align: top;\n",
       "    }\n",
       "\n",
       "    .dataframe thead th {\n",
       "        text-align: right;\n",
       "    }\n",
       "</style>\n",
       "<table border=\"1\" class=\"dataframe\">\n",
       "  <thead>\n",
       "    <tr style=\"text-align: right;\">\n",
       "      <th></th>\n",
       "      <th>num_orders</th>\n",
       "    </tr>\n",
       "    <tr>\n",
       "      <th>datetime</th>\n",
       "      <th></th>\n",
       "    </tr>\n",
       "  </thead>\n",
       "  <tbody>\n",
       "    <tr>\n",
       "      <th>2018-03-01 00:00:00</th>\n",
       "      <td>9</td>\n",
       "    </tr>\n",
       "    <tr>\n",
       "      <th>2018-03-01 00:10:00</th>\n",
       "      <td>14</td>\n",
       "    </tr>\n",
       "    <tr>\n",
       "      <th>2018-03-01 00:20:00</th>\n",
       "      <td>28</td>\n",
       "    </tr>\n",
       "    <tr>\n",
       "      <th>2018-03-01 00:30:00</th>\n",
       "      <td>20</td>\n",
       "    </tr>\n",
       "    <tr>\n",
       "      <th>2018-03-01 00:40:00</th>\n",
       "      <td>32</td>\n",
       "    </tr>\n",
       "  </tbody>\n",
       "</table>\n",
       "</div>"
      ],
      "text/plain": [
       "                     num_orders\n",
       "datetime                       \n",
       "2018-03-01 00:00:00           9\n",
       "2018-03-01 00:10:00          14\n",
       "2018-03-01 00:20:00          28\n",
       "2018-03-01 00:30:00          20\n",
       "2018-03-01 00:40:00          32"
      ]
     },
     "metadata": {},
     "output_type": "display_data"
    },
    {
     "name": "stdout",
     "output_type": "stream",
     "text": [
      "<class 'pandas.core.frame.DataFrame'>\n",
      "DatetimeIndex: 26496 entries, 2018-03-01 00:00:00 to 2018-08-31 23:50:00\n",
      "Data columns (total 1 columns):\n",
      " #   Column      Non-Null Count  Dtype\n",
      "---  ------      --------------  -----\n",
      " 0   num_orders  26496 non-null  int64\n",
      "dtypes: int64(1)\n",
      "memory usage: 414.0 KB\n"
     ]
    }
   ],
   "source": [
    "# Загрузка данных\n",
    "data = pd.read_csv('/datasets/taxi.csv', sep=',', index_col='datetime', parse_dates=['datetime'])  # Замените путь на правильный\n",
    "\n",
    "\n",
    "# Проверим данные\n",
    "display(data.head())\n",
    "data.info()"
   ]
  },
  {
   "cell_type": "markdown",
   "metadata": {},
   "source": [
    "###  Ресемплирование данных\n",
    "\n",
    "Теперь, когда данные загружены и преобразованы, выполним ресемплирование данных по одному часу для дальнейшего анализа и моделирования."
   ]
  },
  {
   "cell_type": "code",
   "execution_count": 5,
   "metadata": {
    "scrolled": false
   },
   "outputs": [
    {
     "data": {
      "text/html": [
       "<div>\n",
       "<style scoped>\n",
       "    .dataframe tbody tr th:only-of-type {\n",
       "        vertical-align: middle;\n",
       "    }\n",
       "\n",
       "    .dataframe tbody tr th {\n",
       "        vertical-align: top;\n",
       "    }\n",
       "\n",
       "    .dataframe thead th {\n",
       "        text-align: right;\n",
       "    }\n",
       "</style>\n",
       "<table border=\"1\" class=\"dataframe\">\n",
       "  <thead>\n",
       "    <tr style=\"text-align: right;\">\n",
       "      <th></th>\n",
       "      <th>num_orders</th>\n",
       "      <th>dayofweek</th>\n",
       "      <th>day</th>\n",
       "      <th>hour</th>\n",
       "    </tr>\n",
       "    <tr>\n",
       "      <th>datetime</th>\n",
       "      <th></th>\n",
       "      <th></th>\n",
       "      <th></th>\n",
       "      <th></th>\n",
       "    </tr>\n",
       "  </thead>\n",
       "  <tbody>\n",
       "    <tr>\n",
       "      <th>2018-03-01 00:00:00</th>\n",
       "      <td>124</td>\n",
       "      <td>3</td>\n",
       "      <td>1</td>\n",
       "      <td>0</td>\n",
       "    </tr>\n",
       "    <tr>\n",
       "      <th>2018-03-01 01:00:00</th>\n",
       "      <td>85</td>\n",
       "      <td>3</td>\n",
       "      <td>1</td>\n",
       "      <td>1</td>\n",
       "    </tr>\n",
       "    <tr>\n",
       "      <th>2018-03-01 02:00:00</th>\n",
       "      <td>71</td>\n",
       "      <td>3</td>\n",
       "      <td>1</td>\n",
       "      <td>2</td>\n",
       "    </tr>\n",
       "    <tr>\n",
       "      <th>2018-03-01 03:00:00</th>\n",
       "      <td>66</td>\n",
       "      <td>3</td>\n",
       "      <td>1</td>\n",
       "      <td>3</td>\n",
       "    </tr>\n",
       "    <tr>\n",
       "      <th>2018-03-01 04:00:00</th>\n",
       "      <td>43</td>\n",
       "      <td>3</td>\n",
       "      <td>1</td>\n",
       "      <td>4</td>\n",
       "    </tr>\n",
       "  </tbody>\n",
       "</table>\n",
       "</div>"
      ],
      "text/plain": [
       "                     num_orders  dayofweek  day  hour\n",
       "datetime                                             \n",
       "2018-03-01 00:00:00         124          3    1     0\n",
       "2018-03-01 01:00:00          85          3    1     1\n",
       "2018-03-01 02:00:00          71          3    1     2\n",
       "2018-03-01 03:00:00          66          3    1     3\n",
       "2018-03-01 04:00:00          43          3    1     4"
      ]
     },
     "execution_count": 5,
     "metadata": {},
     "output_type": "execute_result"
    }
   ],
   "source": [
    "# Ресемплирование данных по одному часу\n",
    "data_resampled = data.resample('1H').sum()\n",
    "\n",
    "# Добавляем столбцы для года, месяца, дня и часа\n",
    "data_resampled['dayofweek'] = data_resampled.index.dayofweek\n",
    "data_resampled['day'] = data_resampled.index.day\n",
    "data_resampled['hour'] = data_resampled.index.hour\n",
    "\n",
    "# Рассчитаем количество данных, которое составляет 10% от исходного набора данных\n",
    "TEST_SIZE = int(len(data_resampled) * 0.1)\n",
    "# Проверим первые несколько строк ресемплированных данных\n",
    "data_resampled.head()\n"
   ]
  },
  {
   "cell_type": "markdown",
   "metadata": {},
   "source": [
    "### Создание новых признаков\n",
    "\n",
    "Для того чтобы модель лучше учитывала временные зависимости, мы добавили лагированные признаки (значения количества заказов за предыдущие часы) и скользящие средние за 24 и 48 часов, 7 дней (168 часов) 30 дней (720 часов). Это позволит модели учитывать не только краткосрочные зависимости, но и более длительные циклы."
   ]
  },
  {
   "cell_type": "code",
   "execution_count": 6,
   "metadata": {},
   "outputs": [
    {
     "data": {
      "text/html": [
       "<div>\n",
       "<style scoped>\n",
       "    .dataframe tbody tr th:only-of-type {\n",
       "        vertical-align: middle;\n",
       "    }\n",
       "\n",
       "    .dataframe tbody tr th {\n",
       "        vertical-align: top;\n",
       "    }\n",
       "\n",
       "    .dataframe thead th {\n",
       "        text-align: right;\n",
       "    }\n",
       "</style>\n",
       "<table border=\"1\" class=\"dataframe\">\n",
       "  <thead>\n",
       "    <tr style=\"text-align: right;\">\n",
       "      <th></th>\n",
       "      <th>num_orders</th>\n",
       "      <th>dayofweek</th>\n",
       "      <th>day</th>\n",
       "      <th>hour</th>\n",
       "      <th>lag_1</th>\n",
       "      <th>lag_24</th>\n",
       "      <th>lag_168</th>\n",
       "    </tr>\n",
       "    <tr>\n",
       "      <th>datetime</th>\n",
       "      <th></th>\n",
       "      <th></th>\n",
       "      <th></th>\n",
       "      <th></th>\n",
       "      <th></th>\n",
       "      <th></th>\n",
       "      <th></th>\n",
       "    </tr>\n",
       "  </thead>\n",
       "  <tbody>\n",
       "    <tr>\n",
       "      <th>2018-03-08 00:00:00</th>\n",
       "      <td>143</td>\n",
       "      <td>3</td>\n",
       "      <td>8</td>\n",
       "      <td>0</td>\n",
       "      <td>94.0</td>\n",
       "      <td>100.0</td>\n",
       "      <td>124.0</td>\n",
       "    </tr>\n",
       "    <tr>\n",
       "      <th>2018-03-08 01:00:00</th>\n",
       "      <td>78</td>\n",
       "      <td>3</td>\n",
       "      <td>8</td>\n",
       "      <td>1</td>\n",
       "      <td>143.0</td>\n",
       "      <td>121.0</td>\n",
       "      <td>85.0</td>\n",
       "    </tr>\n",
       "    <tr>\n",
       "      <th>2018-03-08 02:00:00</th>\n",
       "      <td>65</td>\n",
       "      <td>3</td>\n",
       "      <td>8</td>\n",
       "      <td>2</td>\n",
       "      <td>78.0</td>\n",
       "      <td>24.0</td>\n",
       "      <td>71.0</td>\n",
       "    </tr>\n",
       "    <tr>\n",
       "      <th>2018-03-08 03:00:00</th>\n",
       "      <td>68</td>\n",
       "      <td>3</td>\n",
       "      <td>8</td>\n",
       "      <td>3</td>\n",
       "      <td>65.0</td>\n",
       "      <td>66.0</td>\n",
       "      <td>66.0</td>\n",
       "    </tr>\n",
       "    <tr>\n",
       "      <th>2018-03-08 04:00:00</th>\n",
       "      <td>60</td>\n",
       "      <td>3</td>\n",
       "      <td>8</td>\n",
       "      <td>4</td>\n",
       "      <td>68.0</td>\n",
       "      <td>73.0</td>\n",
       "      <td>43.0</td>\n",
       "    </tr>\n",
       "  </tbody>\n",
       "</table>\n",
       "</div>"
      ],
      "text/plain": [
       "                     num_orders  dayofweek  day  hour  lag_1  lag_24  lag_168\n",
       "datetime                                                                     \n",
       "2018-03-08 00:00:00         143          3    8     0   94.0   100.0    124.0\n",
       "2018-03-08 01:00:00          78          3    8     1  143.0   121.0     85.0\n",
       "2018-03-08 02:00:00          65          3    8     2   78.0    24.0     71.0\n",
       "2018-03-08 03:00:00          68          3    8     3   65.0    66.0     66.0\n",
       "2018-03-08 04:00:00          60          3    8     4   68.0    73.0     43.0"
      ]
     },
     "execution_count": 6,
     "metadata": {},
     "output_type": "execute_result"
    }
   ],
   "source": [
    "# Создание лагированных признаков \n",
    "data_resampled['lag_1'] = data_resampled['num_orders'].shift(1)\n",
    "data_resampled['lag_24'] = data_resampled['num_orders'].shift(24)\n",
    "data_resampled['lag_168'] = data_resampled['num_orders'].shift(168)  \n",
    "#data_resampled['lag_720'] = data_resampled['num_orders'].shift(720)  # Лаг за месяц\n",
    "\n",
    "# Удалим строки с пропущенными значениями, которые появились из-за лагов и скользящих средних\n",
    "data_resampled = data_resampled.dropna()\n",
    "\n",
    "# Проверим результат\n",
    "data_resampled.head()\n"
   ]
  },
  {
   "cell_type": "markdown",
   "metadata": {},
   "source": [
    "### Вывод"
   ]
  },
  {
   "cell_type": "markdown",
   "metadata": {},
   "source": [
    "На этапе подготовки данных мы:\n",
    "\n",
    "- Импортировали необходимые библиотеки, определили функции для визуализации, построения моделей, и оценки их качества.\n",
    "- Загрузили данные, преобразовали в формат даты и времени.\n",
    "- выполнели ресемплирование по одному часу.\n",
    "- Проверили данные на наличие пропусков и вычислили основные статистические показатели. Данные пропусков не содержат.\n",
    "- Добавили новые признаки-  лаги за предыдущие час, неделю и месяц, чтобы учесть временные зависимости."
   ]
  },
  {
   "cell_type": "markdown",
   "metadata": {},
   "source": [
    "## Анализ "
   ]
  },
  {
   "cell_type": "markdown",
   "metadata": {},
   "source": [
    "### Изучение данных\n",
    "\n",
    "\n",
    "Проверим данные на наличие пропусков и вычислим основные статистические показатели для того, чтобы получить о них общее представление."
   ]
  },
  {
   "cell_type": "code",
   "execution_count": 7,
   "metadata": {
    "scrolled": false
   },
   "outputs": [
    {
     "name": "stdout",
     "output_type": "stream",
     "text": [
      "Пропуски в данных:\n",
      " num_orders    0\n",
      "dayofweek     0\n",
      "day           0\n",
      "hour          0\n",
      "lag_1         0\n",
      "lag_24        0\n",
      "lag_168       0\n",
      "dtype: int64\n"
     ]
    },
    {
     "data": {
      "text/plain": [
       "'\\nОсновные статистические показатели:\\n'"
      ]
     },
     "metadata": {},
     "output_type": "display_data"
    },
    {
     "data": {
      "text/html": [
       "<div>\n",
       "<style scoped>\n",
       "    .dataframe tbody tr th:only-of-type {\n",
       "        vertical-align: middle;\n",
       "    }\n",
       "\n",
       "    .dataframe tbody tr th {\n",
       "        vertical-align: top;\n",
       "    }\n",
       "\n",
       "    .dataframe thead th {\n",
       "        text-align: right;\n",
       "    }\n",
       "</style>\n",
       "<table border=\"1\" class=\"dataframe\">\n",
       "  <thead>\n",
       "    <tr style=\"text-align: right;\">\n",
       "      <th></th>\n",
       "      <th>num_orders</th>\n",
       "      <th>dayofweek</th>\n",
       "      <th>day</th>\n",
       "      <th>hour</th>\n",
       "      <th>lag_1</th>\n",
       "      <th>lag_24</th>\n",
       "      <th>lag_168</th>\n",
       "    </tr>\n",
       "  </thead>\n",
       "  <tbody>\n",
       "    <tr>\n",
       "      <th>count</th>\n",
       "      <td>4248.000000</td>\n",
       "      <td>4248.000000</td>\n",
       "      <td>4248.000000</td>\n",
       "      <td>4248.000000</td>\n",
       "      <td>4248.000000</td>\n",
       "      <td>4248.000000</td>\n",
       "      <td>4248.000000</td>\n",
       "    </tr>\n",
       "    <tr>\n",
       "      <th>mean</th>\n",
       "      <td>85.616996</td>\n",
       "      <td>3.005650</td>\n",
       "      <td>16.305085</td>\n",
       "      <td>11.500000</td>\n",
       "      <td>85.590866</td>\n",
       "      <td>85.010358</td>\n",
       "      <td>81.658427</td>\n",
       "    </tr>\n",
       "    <tr>\n",
       "      <th>std</th>\n",
       "      <td>45.115366</td>\n",
       "      <td>1.990315</td>\n",
       "      <td>8.694656</td>\n",
       "      <td>6.923001</td>\n",
       "      <td>45.078335</td>\n",
       "      <td>44.563793</td>\n",
       "      <td>41.846399</td>\n",
       "    </tr>\n",
       "    <tr>\n",
       "      <th>min</th>\n",
       "      <td>0.000000</td>\n",
       "      <td>0.000000</td>\n",
       "      <td>1.000000</td>\n",
       "      <td>0.000000</td>\n",
       "      <td>0.000000</td>\n",
       "      <td>0.000000</td>\n",
       "      <td>0.000000</td>\n",
       "    </tr>\n",
       "    <tr>\n",
       "      <th>25%</th>\n",
       "      <td>55.750000</td>\n",
       "      <td>1.000000</td>\n",
       "      <td>9.000000</td>\n",
       "      <td>5.750000</td>\n",
       "      <td>55.750000</td>\n",
       "      <td>55.000000</td>\n",
       "      <td>53.000000</td>\n",
       "    </tr>\n",
       "    <tr>\n",
       "      <th>50%</th>\n",
       "      <td>80.000000</td>\n",
       "      <td>3.000000</td>\n",
       "      <td>16.000000</td>\n",
       "      <td>11.500000</td>\n",
       "      <td>80.000000</td>\n",
       "      <td>79.000000</td>\n",
       "      <td>77.000000</td>\n",
       "    </tr>\n",
       "    <tr>\n",
       "      <th>75%</th>\n",
       "      <td>109.000000</td>\n",
       "      <td>5.000000</td>\n",
       "      <td>24.000000</td>\n",
       "      <td>17.250000</td>\n",
       "      <td>109.000000</td>\n",
       "      <td>108.000000</td>\n",
       "      <td>104.000000</td>\n",
       "    </tr>\n",
       "    <tr>\n",
       "      <th>max</th>\n",
       "      <td>462.000000</td>\n",
       "      <td>6.000000</td>\n",
       "      <td>31.000000</td>\n",
       "      <td>23.000000</td>\n",
       "      <td>462.000000</td>\n",
       "      <td>462.000000</td>\n",
       "      <td>462.000000</td>\n",
       "    </tr>\n",
       "  </tbody>\n",
       "</table>\n",
       "</div>"
      ],
      "text/plain": [
       "        num_orders    dayofweek          day         hour        lag_1  \\\n",
       "count  4248.000000  4248.000000  4248.000000  4248.000000  4248.000000   \n",
       "mean     85.616996     3.005650    16.305085    11.500000    85.590866   \n",
       "std      45.115366     1.990315     8.694656     6.923001    45.078335   \n",
       "min       0.000000     0.000000     1.000000     0.000000     0.000000   \n",
       "25%      55.750000     1.000000     9.000000     5.750000    55.750000   \n",
       "50%      80.000000     3.000000    16.000000    11.500000    80.000000   \n",
       "75%     109.000000     5.000000    24.000000    17.250000   109.000000   \n",
       "max     462.000000     6.000000    31.000000    23.000000   462.000000   \n",
       "\n",
       "            lag_24      lag_168  \n",
       "count  4248.000000  4248.000000  \n",
       "mean     85.010358    81.658427  \n",
       "std      44.563793    41.846399  \n",
       "min       0.000000     0.000000  \n",
       "25%      55.000000    53.000000  \n",
       "50%      79.000000    77.000000  \n",
       "75%     108.000000   104.000000  \n",
       "max     462.000000   462.000000  "
      ]
     },
     "metadata": {},
     "output_type": "display_data"
    }
   ],
   "source": [
    "# Проверим данные на наличие пропусков\n",
    "print(\"Пропуски в данных:\\n\", data_resampled.isnull().sum())\n",
    "\n",
    "# Основные статистические показатели\n",
    "display(\"\\nОсновные статистические показатели:\\n\", data_resampled.describe())"
   ]
  },
  {
   "cell_type": "markdown",
   "metadata": {},
   "source": [
    "Cреднее количество заказов на такси составляет около 84 заказов в час с максимальным значением в 462 заказа. Пропусков нет."
   ]
  },
  {
   "cell_type": "markdown",
   "metadata": {},
   "source": [
    "### Визуализация общего распределения заказов\n",
    "\n",
    "\n",
    "Визуализируем общее распределение количества заказов такси за весь период наблюдений, чтобы выявить основные тренды и возможные аномалии."
   ]
  },
  {
   "cell_type": "code",
   "execution_count": 8,
   "metadata": {},
   "outputs": [
    {
     "data": {
      "image/png": "[encoded data removed]",
      "text/plain": [
       "<Figure size 1152x432 with 1 Axes>"
      ]
     },
     "metadata": {},
     "output_type": "display_data"
    }
   ],
   "source": [
    "# Визуализация данных\n",
    "warnings.filterwarnings('ignore')\n",
    "sns.set(style=\"whitegrid\", palette=\"twilight_shifted_r\")\n",
    "plt.figure(figsize=(16, 6))\n",
    "sns.lineplot(x=data_resampled.index, y=data_resampled['num_orders'], color=(0, 0.4, 0.9, 0.7), label='Количество заказов')\n",
    "# Добавление заголовка и меток с переводом на русский\n",
    "plt.title('Распределение заказов такси за год', fontsize=16)\n",
    "plt.xlabel('Дата и время', fontsize=14)\n",
    "plt.ylabel('Количество заказов', fontsize=14)\n",
    "plt.grid(True)\n",
    "\n",
    "# Отображение легенды\n",
    "plt.legend()\n",
    "\n",
    "# Показ графика\n",
    "plt.show()"
   ]
  },
  {
   "cell_type": "markdown",
   "metadata": {},
   "source": [
    "Видно, что количество заказов такси имеет значительные колебания в течение всего периода наблюдений, а также наблюдается явная тенденция к увеличению спроса ближе к концу периода. "
   ]
  },
  {
   "cell_type": "markdown",
   "metadata": {},
   "source": [
    "### Анализ суточных трендов"
   ]
  },
  {
   "cell_type": "code",
   "execution_count": 9,
   "metadata": {},
   "outputs": [
    {
     "data": {
      "image/png": "[encoded data removed]",
      "text/plain": [
       "<Figure size 720x576 with 3 Axes>"
      ]
     },
     "metadata": {},
     "output_type": "display_data"
    }
   ],
   "source": [
    "plot_seasonal_decompose(\n",
    "    data_resampled['num_orders'], \n",
    "    period=24, \n",
    "    title='Суточная сезонность'\n",
    ")"
   ]
  },
  {
   "cell_type": "markdown",
   "metadata": {},
   "source": [
    "- **Тренд:** График тренда показывает постепенное увеличение количества заказов на такси на протяжении всего исследуемого периода. Видно, что тренд постепенно возрастает, с небольшими колебаниями, начиная с мая и достигая пиковых значений к концу августа. Этот рост может свидетельствовать о сезонном увеличении активности в летний период.\n",
    "\n",
    "- **Сезонность:** График сезонности четко отображает суточные циклы спроса на такси. Каждое колебание на графике соответствует одному дню, где наиболее ярко выражены пики и спады в зависимости от времени суток. Сезонность показывает повторяющиеся ежедневные паттерны, такие как повышение спроса в утренние и вечерние часы и снижение активности в середине дня и ночью.\n",
    "\n",
    "- **Остатки:** График остатков показывает вариативность, которая не объясняется трендом или суточной сезонностью. Остатки остаются относительно стабильными на протяжении всего периода, но ближе к концу августа наблюдаются более значительные отклонения, которые могут быть вызваны аномальными событиями или всплесками спроса."
   ]
  },
  {
   "cell_type": "markdown",
   "metadata": {},
   "source": [
    "### Анализ недельных трендов"
   ]
  },
  {
   "cell_type": "code",
   "execution_count": 10,
   "metadata": {},
   "outputs": [
    {
     "data": {
      "image/png": "[encoded data removed]",
      "text/plain": [
       "<Figure size 720x576 with 3 Axes>"
      ]
     },
     "metadata": {},
     "output_type": "display_data"
    }
   ],
   "source": [
    "plot_seasonal_decompose(\n",
    "    data_resampled['num_orders'].resample('D').sum(), \n",
    "    period=7, \n",
    "    title='Недельная сезонность'\n",
    ")"
   ]
  },
  {
   "cell_type": "markdown",
   "metadata": {},
   "source": [
    "- **Тренд:** На графике тренда виден общий тренд на рост.\n",
    "- **Сезонность:** График сезонности показывает отчетливую недельную цикличность. Каждый пик на графике соответствует определенному дню недели, когда спрос на такси наиболее высок. Спады, как правило, соответствуют началу недели, когда активность снижается. "
   ]
  },
  {
   "cell_type": "markdown",
   "metadata": {},
   "source": [
    "###  Анализ месячных трендов"
   ]
  },
  {
   "cell_type": "markdown",
   "metadata": {},
   "source": [
    "Посмотрим, как количество заказов меняется в течение месяца. Для этого построим график распределения заказов по дням месяца."
   ]
  },
  {
   "cell_type": "code",
   "execution_count": 11,
   "metadata": {
    "scrolled": false
   },
   "outputs": [
    {
     "data": {
      "image/png": "[encoded data removed]",
      "text/plain": [
       "<Figure size 720x576 with 3 Axes>"
      ]
     },
     "metadata": {},
     "output_type": "display_data"
    }
   ],
   "source": [
    "plot_seasonal_decompose(\n",
    "    data_resampled['num_orders'].resample('D').sum(), \n",
    "    period=30, \n",
    "    title='Месячная сезонность'\n",
    ")"
   ]
  },
  {
   "cell_type": "markdown",
   "metadata": {},
   "source": [
    "- **Тренд:** График тренда демонстрирует общий тренд - уверенное и устойчивое увеличение количества заказов на такси на протяжении всего периода наблюдений.\n",
    "\n",
    "- **Сезонность:** Колебания не столь регулярны, но можно заметить, что некоторые дни месяца имеют более высокий спрос на такси, чем другие. Это может быть связано с зарплатными периодами, выходными или другими регулярными событиями.\n"
   ]
  },
  {
   "cell_type": "markdown",
   "metadata": {},
   "source": [
    "### Вывод\n",
    "\n",
    "- Данные показывают четкую закономерность суточных и недельных колебаний спроса на такси. **Суточная сезонность** характеризуется повторяющимися пиками спроса ночью (00:00–02:00) и вечером (18:00–23:00), с минимальной активностью рано утром. **Недельная сезонность** проявляется в повышенной активности на такси в конце недели, особенно в пятницу и субботу, с минимальной активностью во вторник и воскресенье.\n",
    "\n",
    "- В течение всего периода наблюдается устойчивый рост количества заказов на такси, что отражено на графиках тренда. Это увеличение может быть связано с сезонным ростом спроса, например, в летний период.\n",
    "\n",
    "- **Месячная сезонность** показывает колебания, которые не столь регулярны, как суточные или недельные, однако в определенные дни месяца можно наблюдать повышенный спрос на такси, что может быть связано с такими событиями, как время получения зарплаты или другие циклические факторы.\n",
    "\n",
    "- Пропуски в данных отсутствуют. Среднее количество заказов составляет около 84 заказов в час, с максимальным значением в 462 заказа.\n",
    "\n",
    "- В целом, количество заказов на такси имеет значительные колебания, при этом наблюдается четкий тренд на увеличение количества заказов ближе к концу периода наблюдений, что может быть связано с увеличением спроса на такси в летние месяцы.\n"
   ]
  },
  {
   "cell_type": "markdown",
   "metadata": {},
   "source": [
    "## Обучение\n",
    "\n",
    "Наша цель — предсказать количество заказов на следующий час. Для этого обучим несколько моделей, подберем для них оптимальные гиперпараметры и сравним по метрике **RMSE**."
   ]
  },
  {
   "cell_type": "markdown",
   "metadata": {},
   "source": [
    "### Подготовка данных для обучения\n",
    "\n",
    "Определим признаки и целевой столбец, разделим данные на обучающую и тестовую выборки."
   ]
  },
  {
   "cell_type": "code",
   "execution_count": 12,
   "metadata": {
    "scrolled": false
   },
   "outputs": [
    {
     "name": "stdout",
     "output_type": "stream",
     "text": [
      "Размеры обучающей выборки: (3807, 6), тестовой выборки: (441, 6)\n"
     ]
    }
   ],
   "source": [
    "# Определим признаки и целевой столбец\n",
    "features = data_resampled.drop(columns=['num_orders'])\n",
    "target = data_resampled['num_orders']\n",
    "\n",
    "# Разделим данные на обучающую (90%) и тестовую (10%) выборки\n",
    "X_train, X_test, y_train, y_test = train_test_split(features, target, test_size=TEST_SIZE, shuffle=False)\n",
    "\n",
    "# Выведем размеры обучающей и тестовой выборок\n",
    "print(f\"Размеры обучающей выборки: {X_train.shape}, тестовой выборки: {X_test.shape}\")\n"
   ]
  },
  {
   "cell_type": "markdown",
   "metadata": {},
   "source": [
    "### Настройка и обучение моделей\n",
    "\n",
    "Cоздадим пайплайны для моделей **Линейной регресси**, **Случайного леса** и **CatBoost**. С помощью **RandomizedSearchCV** подберем гиперпараметры для каждой модели."
   ]
  },
  {
   "cell_type": "code",
   "execution_count": 13,
   "metadata": {},
   "outputs": [],
   "source": [
    "# Преобразование категориальных признаков с OHE\n",
    "categorical_features = ['hour', 'dayofweek']\n",
    "categorical_transformer = Pipeline(steps=[\n",
    "    ('ohe', OneHotEncoder(sparse_output=False, handle_unknown='ignore', drop='first'))\n",
    "])\n",
    "\n",
    "# Преобразование числовых признаков с масштабированием\n",
    "# Обратите внимание, что мы используем актуальный набор признаков после добавления лагов\n",
    "numeric_features = ['lag_1', 'lag_24', 'lag_168']\n",
    "numeric_transformer = Pipeline(steps=[\n",
    "    ('scaler', StandardScaler())\n",
    "])\n",
    "\n",
    "# Объединение преобразований в ColumnTransformer\n",
    "preprocessor = ColumnTransformer(\n",
    "    transformers=[\n",
    "        ('num', numeric_transformer, numeric_features),\n",
    "        ('cat', categorical_transformer, categorical_features)\n",
    "    ]\n",
    ")\n",
    "\n",
    "# Создаем пайплайн для линейной регрессии с предобработкой данных\n",
    "pipeline_lr = Pipeline(steps=[\n",
    "    ('preprocessor', preprocessor),\n",
    "    ('model', LinearRegression())\n",
    "])\n",
    "\n",
    "# Создаем пайплайн для случайного леса\n",
    "pipeline_rf = Pipeline([\n",
    "    ('model', RandomForestRegressor(random_state=RANDOM_STATE))\n",
    "])\n",
    "\n",
    "# Создаем пайплайн для CatBoost\n",
    "pipeline_catboost = Pipeline([\n",
    "    ('model', CatBoostRegressor(random_state=RANDOM_STATE, verbose=0))\n",
    "])\n",
    "\n",
    "# Обновляем пайплайны\n",
    "pipelines = {\n",
    "    'Линейная регрессия': pipeline_lr,\n",
    "    'Случайный лес': pipeline_rf,\n",
    "    'CatBoost': pipeline_catboost\n",
    "}\n",
    "\n",
    "# Настраиваем гиперпараметры для каждой модели\n",
    "param_grid_lr = {'model__fit_intercept': [True, False]}\n",
    "param_grid_rf = {'model__n_estimators': [10, 30, 50],\n",
    "                 'model__max_depth': [2, 3, 5]}\n",
    "param_grid_catboost = {'model__iterations': [100, 200, 300],\n",
    "                       'model__learning_rate': [0.01, 0.1, 0.2],\n",
    "                       'model__depth': [4, 6, 8]}\n"
   ]
  },
  {
   "cell_type": "code",
   "execution_count": 14,
   "metadata": {
    "scrolled": false
   },
   "outputs": [
    {
     "name": "stdout",
     "output_type": "stream",
     "text": [
      "\n",
      "Подбор гиперпараметров для модели: Линейная регрессия\n",
      "Лучшие параметры для Линейная регрессия: {'model__fit_intercept': True}\n",
      "RMSE на кросс-валидации: 23.192951146628474\n",
      "\n",
      "Подбор гиперпараметров для модели: Случайный лес\n",
      "Лучшие параметры для Случайный лес: {'model__n_estimators': 50, 'model__max_depth': 5}\n",
      "RMSE на кросс-валидации: 23.875058499150704\n",
      "\n",
      "Подбор гиперпараметров для модели: CatBoost\n",
      "Лучшие параметры для CatBoost: {'model__learning_rate': 0.2, 'model__iterations': 100, 'model__depth': 6}\n",
      "RMSE на кросс-валидации: 24.000356396125632\n",
      "\n",
      "Лучшая модель: Линейная регрессия с RMSE на кросс-валидации: 23.192951146628474\n",
      "Параметры лучшей модели: Pipeline(steps=[('preprocessor',\n",
      "                 ColumnTransformer(transformers=[('num',\n",
      "                                                  Pipeline(steps=[('scaler',\n",
      "                                                                   StandardScaler())]),\n",
      "                                                  ['lag_1', 'lag_24',\n",
      "                                                   'lag_168']),\n",
      "                                                 ('cat',\n",
      "                                                  Pipeline(steps=[('ohe',\n",
      "                                                                   OneHotEncoder(drop='first',\n",
      "                                                                                 handle_unknown='ignore',\n",
      "                                                                                 sparse_output=False))]),\n",
      "                                                  ['hour', 'dayofweek'])])),\n",
      "                ('model', LinearRegression())])\n"
     ]
    }
   ],
   "source": [
    "# Словарь для параметров сетки\n",
    "param_grids = {\n",
    "    'Линейная регрессия': param_grid_lr,\n",
    "    'Случайный лес': param_grid_rf,\n",
    "    'CatBoost': param_grid_catboost\n",
    "}\n",
    "\n",
    "# Используем TimeSeriesSplit\n",
    "tscv = TimeSeriesSplit(n_splits=5)\n",
    "\n",
    "# Инициализация переменных для хранения лучших моделей и результатов\n",
    "best_models = {}\n",
    "best_rmse = float('inf')\n",
    "best_model_name = None\n",
    "best_model = None\n",
    "\n",
    "for name, pipeline in pipelines.items():\n",
    "    print(f\"\\nПодбор гиперпараметров для модели: {name}\")\n",
    "    \n",
    "    # Применяем RandomizedSearchCV для подбора гиперпараметров\n",
    "    random_search = RandomizedSearchCV(\n",
    "        pipeline, param_grids[name], cv=tscv, \n",
    "        scoring='neg_root_mean_squared_error', n_iter=10, \n",
    "        n_jobs=-1, random_state=RANDOM_STATE\n",
    "    )\n",
    "    random_search.fit(X_train, y_train)\n",
    "    \n",
    "    # Лучшая модель\n",
    "    best_model_temp = random_search.best_estimator_\n",
    "    best_models[name] = best_model_temp\n",
    "    \n",
    "    # Оценка модели на кросс-валидации\n",
    "    rmse_cv = -random_search.best_score_\n",
    "    \n",
    "    # Используем правильный атрибут best_params_\n",
    "    print(f\"Лучшие параметры для {name}: {random_search.best_params_}\")\n",
    "    print(f\"RMSE на кросс-валидации: {rmse_cv}\")\n",
    "    \n",
    "    # Сравниваем RMSE и находим лучшую модель\n",
    "    if rmse_cv < best_rmse:\n",
    "        best_rmse = rmse_cv\n",
    "        best_model_name = name\n",
    "        best_model = best_model_temp\n",
    "\n",
    "# Вывод лучшей модели\n",
    "print(f\"\\nЛучшая модель: {best_model_name} с RMSE на кросс-валидации: {best_rmse}\")\n",
    "print(f\"Параметры лучшей модели: {best_model}\")\n"
   ]
  },
  {
   "cell_type": "markdown",
   "metadata": {},
   "source": [
    "### Выводы\n",
    "\n",
    "- **Линейная регрессия**: Оптимальные настройки — включение свободного члена в уравнении. **RMSE** на кросс-валидации составил 23.19.\n",
    "- **Случайный лес**: Оптимальные настройки — 50 деревьев в лесу и максимальная глубина деревьев — 5. **RMSE** на кросс-валидации составил 23.88.\n",
    "- **CatBoost**: Оптимальные настройки — скорость обучения 0.2, 100 итераций и глубина деревьев 6. **RMSE** на кросс-валидации составил 24.\n",
    "\n",
    "**Линейная регрессия** показала наилучший результат по метрике **RMSE** на кросс-валидации.\n"
   ]
  },
  {
   "cell_type": "markdown",
   "metadata": {},
   "source": [
    "## Тестирование\n",
    "\n",
    "Протестируем модели с лучшими гиперпараметрами на тестовой выборке."
   ]
  },
  {
   "cell_type": "code",
   "execution_count": 15,
   "metadata": {},
   "outputs": [
    {
     "name": "stdout",
     "output_type": "stream",
     "text": [
      "RMSE на тестовых данных для модели Линейная регрессия: 37.33602051165473\n"
     ]
    }
   ],
   "source": [
    "# Предсказания на тестовых данных\n",
    "y_pred = best_model.predict(X_test)\n",
    "\n",
    "# Вычисление RMSE на тестовых данных\n",
    "rmse_test = np.sqrt(mean_squared_error(y_test, y_pred))\n",
    "\n",
    "print(f\"RMSE на тестовых данных для модели {best_model_name}: {rmse_test}\")"
   ]
  },
  {
   "cell_type": "markdown",
   "metadata": {},
   "source": [
    "### Вывод\n",
    "\n",
    "**Линейная регрессия** справились с задачей, ошибки на тестовой выборке соответствуют требованиям проекта (**RMSE** ≤ 48). "
   ]
  },
  {
   "cell_type": "markdown",
   "metadata": {},
   "source": [
    "## Общий вывод"
   ]
  },
  {
   "cell_type": "markdown",
   "metadata": {},
   "source": [
    "В рамках проекта стояла задача разработки модели для прогнозирования количества заказов такси на следующий час. Основной целью было снижение ошибки предсказания (**RMSE**) до значения не более 48. Было выполнено следующее:\n",
    "\n",
    "**Подготовка**\n",
    "- Данные о заказах были загружены и ресемплированы по одному часу.\n",
    "- Были созданы дополнительные признаки — лагированные значения и скользящие средние за несколько предыдущих часов и неделю, что позволило модели учитывать временные зависимости.\n",
    "- Данные были разделены на обучающую и тестовую выборки в пропорции 90:10.\n",
    "\n",
    "**Анализ**\n",
    "- Проведен анализ временных рядов, который выявил характерные пики спроса на такси ночью и вечером, а также увеличение активности в пятницу и субботу.\n",
    "- Суточные и недельные тренды позволили лучше понять динамику спроса и сезонные колебания.\n",
    "\n",
    "**Моделирование**\n",
    "- Обучены три модели: **линейная регрессия**, **случайный лес** и **CatBoost**.\n",
    "- Для каждой модели были подобраны оптимальные гиперпараметры с использованием **RandomizedSearchCV**.\n",
    "- Модель **Линейная регрессия** показала наилучший результат на кросс-валидации с **RMSE** = **23.19**.\n",
    "\n",
    "**Оценка на тестовой выборке**\n",
    "- Модель **Линейная регрессия** продемонстрировала на тестовой выборке **RMSE** = **37.34**, что удовлетворяет требованиям задачи (**RMSE** ≤ **48**).\n",
    "\n",
    "Модель **Линейной регрессии** успешно справилась с задачей, обеспечив требуемый уровень точности предсказаний на тестовой выборке.\n"
   ]
  }
 ],
 "metadata": {
  "ExecuteTimeLog": [
   {
    "duration": 1710,
    "start_time": "2024-08-27T15:21:18.760Z"
   },
   {
    "duration": 188,
    "start_time": "2024-08-27T15:23:12.889Z"
   },
   {
    "duration": 71,
    "start_time": "2024-08-27T15:23:50.436Z"
   },
   {
    "duration": 358,
    "start_time": "2024-08-27T15:24:51.162Z"
   },
   {
    "duration": 61,
    "start_time": "2024-08-27T15:27:33.499Z"
   },
   {
    "duration": 252,
    "start_time": "2024-08-27T15:27:42.158Z"
   },
   {
    "duration": 249,
    "start_time": "2024-08-27T15:27:56.884Z"
   },
   {
    "duration": 320,
    "start_time": "2024-08-27T15:28:17.638Z"
   },
   {
    "duration": 56,
    "start_time": "2024-08-27T19:09:53.900Z"
   },
   {
    "duration": 2226,
    "start_time": "2024-08-27T19:10:03.181Z"
   },
   {
    "duration": 486,
    "start_time": "2024-08-27T19:10:05.409Z"
   },
   {
    "duration": 280,
    "start_time": "2024-08-27T19:17:45.927Z"
   },
   {
    "duration": 301,
    "start_time": "2024-08-27T19:18:35.240Z"
   },
   {
    "duration": 364,
    "start_time": "2024-08-27T19:18:51.678Z"
   },
   {
    "duration": 89,
    "start_time": "2024-08-27T19:24:22.121Z"
   },
   {
    "duration": 243,
    "start_time": "2024-08-27T19:24:28.995Z"
   },
   {
    "duration": 490,
    "start_time": "2024-08-27T19:24:29.765Z"
   },
   {
    "duration": 18,
    "start_time": "2024-08-27T19:24:30.480Z"
   },
   {
    "duration": 394,
    "start_time": "2024-08-27T19:25:26.692Z"
   },
   {
    "duration": 26,
    "start_time": "2024-08-27T19:32:22.754Z"
   },
   {
    "duration": 6,
    "start_time": "2024-08-27T19:32:23.081Z"
   },
   {
    "duration": 609,
    "start_time": "2024-08-27T19:32:24.414Z"
   },
   {
    "duration": 5,
    "start_time": "2024-08-27T19:32:49.606Z"
   },
   {
    "duration": 487,
    "start_time": "2024-08-27T19:32:51.019Z"
   },
   {
    "duration": 505,
    "start_time": "2024-08-27T19:36:04.885Z"
   },
   {
    "duration": 778,
    "start_time": "2024-08-27T19:37:32.503Z"
   },
   {
    "duration": 1774,
    "start_time": "2024-08-27T19:40:12.836Z"
   },
   {
    "duration": 13,
    "start_time": "2024-08-27T19:40:14.612Z"
   },
   {
    "duration": 134,
    "start_time": "2024-08-27T19:40:14.627Z"
   },
   {
    "duration": 760,
    "start_time": "2024-08-27T19:40:25.618Z"
   },
   {
    "duration": 17,
    "start_time": "2024-08-27T19:45:56.613Z"
   },
   {
    "duration": 5,
    "start_time": "2024-08-27T19:47:59.962Z"
   },
   {
    "duration": 830,
    "start_time": "2024-08-27T19:48:27.921Z"
   },
   {
    "duration": 693,
    "start_time": "2024-08-27T19:48:40.771Z"
   },
   {
    "duration": 719,
    "start_time": "2024-08-27T19:49:20.402Z"
   },
   {
    "duration": 4,
    "start_time": "2024-08-27T19:50:20.616Z"
   },
   {
    "duration": 750,
    "start_time": "2024-08-27T19:50:23.834Z"
   },
   {
    "duration": 11,
    "start_time": "2024-08-27T19:51:07.167Z"
   },
   {
    "duration": 12,
    "start_time": "2024-08-27T19:51:12.861Z"
   },
   {
    "duration": 5,
    "start_time": "2024-08-27T19:53:33.653Z"
   },
   {
    "duration": 20,
    "start_time": "2024-08-27T19:53:37.074Z"
   },
   {
    "duration": 6,
    "start_time": "2024-08-27T19:53:48.882Z"
   },
   {
    "duration": 53,
    "start_time": "2024-08-27T19:54:32.168Z"
   },
   {
    "duration": 9,
    "start_time": "2024-08-27T19:54:37.933Z"
   },
   {
    "duration": 9,
    "start_time": "2024-08-27T19:54:46.284Z"
   },
   {
    "duration": 4,
    "start_time": "2024-08-27T19:55:10.091Z"
   },
   {
    "duration": 690,
    "start_time": "2024-08-27T19:55:20.123Z"
   },
   {
    "duration": 28,
    "start_time": "2024-08-27T19:55:30.939Z"
   },
   {
    "duration": 775,
    "start_time": "2024-08-27T19:55:34.809Z"
   },
   {
    "duration": 25,
    "start_time": "2024-08-27T19:55:39.112Z"
   },
   {
    "duration": 710,
    "start_time": "2024-08-27T19:55:46.203Z"
   },
   {
    "duration": 6,
    "start_time": "2024-08-27T19:57:27.798Z"
   },
   {
    "duration": 703,
    "start_time": "2024-08-27T19:57:39.478Z"
   },
   {
    "duration": 1457,
    "start_time": "2024-08-27T19:57:58.749Z"
   },
   {
    "duration": 6,
    "start_time": "2024-08-27T19:58:00.208Z"
   },
   {
    "duration": 95,
    "start_time": "2024-08-27T19:58:00.216Z"
   },
   {
    "duration": 22,
    "start_time": "2024-08-27T19:58:00.313Z"
   },
   {
    "duration": 290,
    "start_time": "2024-08-27T19:58:00.336Z"
   },
   {
    "duration": 23,
    "start_time": "2024-08-27T19:58:00.628Z"
   },
   {
    "duration": 6,
    "start_time": "2024-08-27T19:58:00.653Z"
   },
   {
    "duration": 839,
    "start_time": "2024-08-27T19:58:00.661Z"
   },
   {
    "duration": 5,
    "start_time": "2024-08-27T19:58:53.573Z"
   },
   {
    "duration": 1219,
    "start_time": "2024-08-27T19:58:57.072Z"
   },
   {
    "duration": 28,
    "start_time": "2024-08-27T19:59:06.300Z"
   },
   {
    "duration": 1241,
    "start_time": "2024-08-27T19:59:23.193Z"
   },
   {
    "duration": 27,
    "start_time": "2024-08-27T19:59:41.587Z"
   },
   {
    "duration": 1235,
    "start_time": "2024-08-27T19:59:45.302Z"
   },
   {
    "duration": 26,
    "start_time": "2024-08-27T19:59:50.007Z"
   },
   {
    "duration": 1159,
    "start_time": "2024-08-27T19:59:54.237Z"
   },
   {
    "duration": 1208,
    "start_time": "2024-08-27T20:00:44.389Z"
   },
   {
    "duration": 229,
    "start_time": "2024-08-27T20:01:27.449Z"
   },
   {
    "duration": 7,
    "start_time": "2024-08-27T20:01:34.089Z"
   },
   {
    "duration": 1248,
    "start_time": "2024-08-27T20:01:37.905Z"
   },
   {
    "duration": 29,
    "start_time": "2024-08-27T20:04:12.495Z"
   },
   {
    "duration": 1499,
    "start_time": "2024-08-27T20:04:34.244Z"
   },
   {
    "duration": 8,
    "start_time": "2024-08-27T20:05:54.333Z"
   },
   {
    "duration": 1148,
    "start_time": "2024-08-27T20:06:20.298Z"
   },
   {
    "duration": 1183,
    "start_time": "2024-08-27T20:07:09.976Z"
   },
   {
    "duration": 1155,
    "start_time": "2024-08-27T20:07:17.822Z"
   },
   {
    "duration": 8,
    "start_time": "2024-08-27T20:07:27.388Z"
   },
   {
    "duration": 1263,
    "start_time": "2024-08-27T20:07:37.304Z"
   },
   {
    "duration": 1195,
    "start_time": "2024-08-27T20:08:37.792Z"
   },
   {
    "duration": 35,
    "start_time": "2024-08-27T20:09:58.188Z"
   },
   {
    "duration": 1548,
    "start_time": "2024-08-27T20:10:03.941Z"
   },
   {
    "duration": 485,
    "start_time": "2024-08-27T20:11:05.875Z"
   },
   {
    "duration": 300,
    "start_time": "2024-08-27T20:11:24.831Z"
   },
   {
    "duration": 7,
    "start_time": "2024-08-27T20:16:27.568Z"
   },
   {
    "duration": 299,
    "start_time": "2024-08-27T20:16:32.023Z"
   },
   {
    "duration": 8,
    "start_time": "2024-08-27T20:17:30.791Z"
   },
   {
    "duration": 307,
    "start_time": "2024-08-27T20:17:35.250Z"
   },
   {
    "duration": 429,
    "start_time": "2024-08-27T20:19:18.383Z"
   },
   {
    "duration": 9,
    "start_time": "2024-08-27T20:20:36.812Z"
   },
   {
    "duration": 329,
    "start_time": "2024-08-27T20:20:42.688Z"
   },
   {
    "duration": 11,
    "start_time": "2024-08-27T20:22:18.786Z"
   },
   {
    "duration": 194,
    "start_time": "2024-08-27T20:22:24.524Z"
   },
   {
    "duration": 4,
    "start_time": "2024-08-27T20:24:15.294Z"
   },
   {
    "duration": 9,
    "start_time": "2024-08-27T20:24:24.482Z"
   },
   {
    "duration": 290,
    "start_time": "2024-08-27T20:24:28.193Z"
   },
   {
    "duration": 388,
    "start_time": "2024-08-27T20:24:45.031Z"
   },
   {
    "duration": 10,
    "start_time": "2024-08-27T20:26:00.387Z"
   },
   {
    "duration": 185,
    "start_time": "2024-08-27T20:26:03.880Z"
   },
   {
    "duration": 9,
    "start_time": "2024-08-27T20:28:01.321Z"
   },
   {
    "duration": 338,
    "start_time": "2024-08-27T20:28:05.140Z"
   },
   {
    "duration": 9,
    "start_time": "2024-08-27T20:29:53.988Z"
   },
   {
    "duration": 116,
    "start_time": "2024-08-27T20:29:57.762Z"
   },
   {
    "duration": 110,
    "start_time": "2024-08-27T20:31:39.089Z"
   },
   {
    "duration": 8,
    "start_time": "2024-08-27T20:31:56.912Z"
   },
   {
    "duration": 160,
    "start_time": "2024-08-27T20:32:02.203Z"
   },
   {
    "duration": 174,
    "start_time": "2024-08-27T20:33:35.267Z"
   },
   {
    "duration": 282,
    "start_time": "2024-08-27T20:33:39.775Z"
   },
   {
    "duration": 7,
    "start_time": "2024-08-27T20:34:07.893Z"
   },
   {
    "duration": 1276,
    "start_time": "2024-08-27T20:34:11.881Z"
   },
   {
    "duration": 1508,
    "start_time": "2024-08-27T20:34:38.961Z"
   },
   {
    "duration": 506,
    "start_time": "2024-08-27T20:34:44.560Z"
   },
   {
    "duration": 8,
    "start_time": "2024-08-27T20:38:51.614Z"
   },
   {
    "duration": 1170,
    "start_time": "2024-08-27T20:38:53.087Z"
   },
   {
    "duration": 1505,
    "start_time": "2024-08-27T20:39:00.904Z"
   },
   {
    "duration": 57,
    "start_time": "2024-08-27T20:39:25.558Z"
   },
   {
    "duration": 528,
    "start_time": "2024-08-27T20:39:35.660Z"
   },
   {
    "duration": 10,
    "start_time": "2024-08-27T20:39:47.808Z"
   },
   {
    "duration": 8,
    "start_time": "2024-08-27T20:40:57.910Z"
   },
   {
    "duration": 480,
    "start_time": "2024-08-27T20:41:07.039Z"
   },
   {
    "duration": 28,
    "start_time": "2024-08-27T20:41:18.882Z"
   },
   {
    "duration": 501,
    "start_time": "2024-08-27T20:41:33.000Z"
   },
   {
    "duration": 28,
    "start_time": "2024-08-27T20:41:38.679Z"
   },
   {
    "duration": 498,
    "start_time": "2024-08-27T20:41:44.710Z"
   },
   {
    "duration": 26,
    "start_time": "2024-08-27T20:41:55.745Z"
   },
   {
    "duration": 635,
    "start_time": "2024-08-27T20:42:05.348Z"
   },
   {
    "duration": 696,
    "start_time": "2024-08-27T20:45:15.478Z"
   },
   {
    "duration": 644,
    "start_time": "2024-08-27T20:45:24.783Z"
   },
   {
    "duration": 652,
    "start_time": "2024-08-27T20:45:29.893Z"
   },
   {
    "duration": 576,
    "start_time": "2024-08-27T20:46:11.686Z"
   },
   {
    "duration": 6,
    "start_time": "2024-08-27T20:48:34.827Z"
   },
   {
    "duration": 8,
    "start_time": "2024-08-27T20:48:48.730Z"
   },
   {
    "duration": 517,
    "start_time": "2024-08-27T20:49:11.239Z"
   },
   {
    "duration": 531,
    "start_time": "2024-08-27T20:49:33.191Z"
   },
   {
    "duration": 9296,
    "start_time": "2024-08-27T20:55:20.166Z"
   },
   {
    "duration": 11,
    "start_time": "2024-08-27T20:56:17.610Z"
   },
   {
    "duration": 9,
    "start_time": "2024-08-27T20:57:40.496Z"
   },
   {
    "duration": 1359,
    "start_time": "2024-08-27T20:58:10.614Z"
   },
   {
    "duration": 260,
    "start_time": "2024-08-27T20:58:33.529Z"
   },
   {
    "duration": 1241,
    "start_time": "2024-08-27T21:01:12.778Z"
   },
   {
    "duration": 1521,
    "start_time": "2024-08-27T21:01:55.050Z"
   },
   {
    "duration": 127,
    "start_time": "2024-08-27T21:07:56.878Z"
   },
   {
    "duration": 470,
    "start_time": "2024-08-27T21:08:08.288Z"
   },
   {
    "duration": 446,
    "start_time": "2024-08-27T21:08:18.041Z"
   },
   {
    "duration": 610,
    "start_time": "2024-08-27T21:09:10.262Z"
   },
   {
    "duration": 18,
    "start_time": "2024-08-27T21:09:16.783Z"
   },
   {
    "duration": 625,
    "start_time": "2024-08-27T21:09:22.281Z"
   },
   {
    "duration": 18,
    "start_time": "2024-08-27T21:09:25.402Z"
   },
   {
    "duration": 638,
    "start_time": "2024-08-27T21:09:33.321Z"
   },
   {
    "duration": 18,
    "start_time": "2024-08-27T21:09:46.866Z"
   },
   {
    "duration": 646,
    "start_time": "2024-08-27T21:09:53.610Z"
   },
   {
    "duration": 508,
    "start_time": "2024-08-27T21:10:21.454Z"
   },
   {
    "duration": 407,
    "start_time": "2024-08-27T21:10:30.553Z"
   },
   {
    "duration": 422,
    "start_time": "2024-08-27T21:11:31.143Z"
   },
   {
    "duration": 397,
    "start_time": "2024-08-27T21:11:43.965Z"
   },
   {
    "duration": 595,
    "start_time": "2024-08-27T21:12:02.481Z"
   },
   {
    "duration": 626,
    "start_time": "2024-08-27T21:12:07.800Z"
   },
   {
    "duration": 615,
    "start_time": "2024-08-27T21:12:26.477Z"
   },
   {
    "duration": 637,
    "start_time": "2024-08-27T21:12:36.726Z"
   },
   {
    "duration": 741,
    "start_time": "2024-08-27T21:12:43.855Z"
   },
   {
    "duration": 591,
    "start_time": "2024-08-27T21:12:47.619Z"
   },
   {
    "duration": 630,
    "start_time": "2024-08-27T21:12:53.591Z"
   },
   {
    "duration": 606,
    "start_time": "2024-08-27T21:13:16.164Z"
   },
   {
    "duration": 413,
    "start_time": "2024-08-27T21:13:26.420Z"
   },
   {
    "duration": 641,
    "start_time": "2024-08-27T21:13:31.902Z"
   },
   {
    "duration": 688,
    "start_time": "2024-08-27T21:13:38.812Z"
   },
   {
    "duration": 631,
    "start_time": "2024-08-27T21:13:45.210Z"
   },
   {
    "duration": 13,
    "start_time": "2024-08-27T21:14:50.110Z"
   },
   {
    "duration": 1481,
    "start_time": "2024-08-27T21:15:14.833Z"
   },
   {
    "duration": 25,
    "start_time": "2024-08-27T21:15:16.316Z"
   },
   {
    "duration": 58,
    "start_time": "2024-08-27T21:15:16.343Z"
   },
   {
    "duration": 30,
    "start_time": "2024-08-27T21:15:16.403Z"
   },
   {
    "duration": 16,
    "start_time": "2024-08-27T21:16:43.302Z"
   },
   {
    "duration": 797,
    "start_time": "2024-08-27T21:17:05.836Z"
   },
   {
    "duration": 740,
    "start_time": "2024-08-27T21:17:10.837Z"
   },
   {
    "duration": 656,
    "start_time": "2024-08-27T21:17:14.263Z"
   },
   {
    "duration": 644,
    "start_time": "2024-08-27T21:17:19.053Z"
   },
   {
    "duration": 645,
    "start_time": "2024-08-27T21:17:30.024Z"
   },
   {
    "duration": 649,
    "start_time": "2024-08-27T21:17:36.371Z"
   },
   {
    "duration": 662,
    "start_time": "2024-08-27T21:17:40.865Z"
   },
   {
    "duration": 724,
    "start_time": "2024-08-27T21:17:48.270Z"
   },
   {
    "duration": 23,
    "start_time": "2024-08-27T21:23:43.481Z"
   },
   {
    "duration": 4,
    "start_time": "2024-08-27T21:28:51.213Z"
   },
   {
    "duration": 7,
    "start_time": "2024-08-27T21:29:47.552Z"
   },
   {
    "duration": 8,
    "start_time": "2024-08-27T21:30:50.518Z"
   },
   {
    "duration": 8,
    "start_time": "2024-08-27T21:31:14.049Z"
   },
   {
    "duration": 141,
    "start_time": "2024-08-27T21:31:16.504Z"
   },
   {
    "duration": 6,
    "start_time": "2024-08-27T21:38:05.789Z"
   },
   {
    "duration": 8,
    "start_time": "2024-08-27T21:38:16.362Z"
   },
   {
    "duration": 5,
    "start_time": "2024-08-27T21:39:52.182Z"
   },
   {
    "duration": 1029,
    "start_time": "2024-08-27T21:40:26.277Z"
   },
   {
    "duration": 1547,
    "start_time": "2024-08-27T21:40:34.969Z"
   },
   {
    "duration": 9,
    "start_time": "2024-08-27T21:40:36.518Z"
   },
   {
    "duration": 57,
    "start_time": "2024-08-27T21:40:36.528Z"
   },
   {
    "duration": 19,
    "start_time": "2024-08-27T21:40:36.587Z"
   },
   {
    "duration": 23,
    "start_time": "2024-08-27T21:40:36.607Z"
   },
   {
    "duration": 825,
    "start_time": "2024-08-27T21:40:36.632Z"
   },
   {
    "duration": 6,
    "start_time": "2024-08-27T21:40:37.459Z"
   },
   {
    "duration": 1285,
    "start_time": "2024-08-27T21:40:37.466Z"
   },
   {
    "duration": 578,
    "start_time": "2024-08-27T21:40:38.753Z"
   },
   {
    "duration": 1576,
    "start_time": "2024-08-27T21:40:39.333Z"
   },
   {
    "duration": 21,
    "start_time": "2024-08-27T21:40:40.911Z"
   },
   {
    "duration": 8,
    "start_time": "2024-08-27T21:40:40.934Z"
   },
   {
    "duration": 10,
    "start_time": "2024-08-27T21:40:40.944Z"
   },
   {
    "duration": 895,
    "start_time": "2024-08-27T21:40:40.956Z"
   },
   {
    "duration": 0,
    "start_time": "2024-08-27T21:40:41.852Z"
   },
   {
    "duration": 4,
    "start_time": "2024-08-27T21:42:27.691Z"
   },
   {
    "duration": 806,
    "start_time": "2024-08-27T21:42:31.801Z"
   },
   {
    "duration": 8,
    "start_time": "2024-08-27T21:43:53.832Z"
   },
   {
    "duration": 6,
    "start_time": "2024-08-27T21:46:57.390Z"
   },
   {
    "duration": 61736,
    "start_time": "2024-08-27T21:47:13.951Z"
   },
   {
    "duration": 14,
    "start_time": "2024-08-27T21:48:56.694Z"
   },
   {
    "duration": 4,
    "start_time": "2024-08-27T21:49:09.714Z"
   },
   {
    "duration": 62066,
    "start_time": "2024-08-27T21:49:13.161Z"
   },
   {
    "duration": 10,
    "start_time": "2024-08-27T21:50:44.418Z"
   },
   {
    "duration": 2,
    "start_time": "2024-08-27T21:50:50.173Z"
   },
   {
    "duration": 63747,
    "start_time": "2024-08-27T21:52:39.523Z"
   },
   {
    "duration": 1443,
    "start_time": "2024-08-27T21:55:09.638Z"
   },
   {
    "duration": 3,
    "start_time": "2024-08-27T21:55:11.083Z"
   },
   {
    "duration": 17,
    "start_time": "2024-08-27T21:55:11.088Z"
   },
   {
    "duration": 53,
    "start_time": "2024-08-27T21:55:11.107Z"
   },
   {
    "duration": 20,
    "start_time": "2024-08-27T21:55:11.163Z"
   },
   {
    "duration": 24,
    "start_time": "2024-08-27T21:55:11.185Z"
   },
   {
    "duration": 822,
    "start_time": "2024-08-27T21:55:11.211Z"
   },
   {
    "duration": 7,
    "start_time": "2024-08-27T21:55:12.036Z"
   },
   {
    "duration": 1297,
    "start_time": "2024-08-27T21:55:12.045Z"
   },
   {
    "duration": 547,
    "start_time": "2024-08-27T21:55:13.344Z"
   },
   {
    "duration": 1590,
    "start_time": "2024-08-27T21:55:13.893Z"
   },
   {
    "duration": 32,
    "start_time": "2024-08-27T21:55:15.485Z"
   },
   {
    "duration": 7,
    "start_time": "2024-08-27T21:55:15.519Z"
   },
   {
    "duration": 22,
    "start_time": "2024-08-27T21:55:15.528Z"
   },
   {
    "duration": 63261,
    "start_time": "2024-08-27T21:55:15.552Z"
   },
   {
    "duration": 1491,
    "start_time": "2024-08-27T21:58:54.599Z"
   },
   {
    "duration": 3,
    "start_time": "2024-08-27T21:58:56.092Z"
   },
   {
    "duration": 11,
    "start_time": "2024-08-27T21:58:56.096Z"
   },
   {
    "duration": 56,
    "start_time": "2024-08-27T21:58:56.109Z"
   },
   {
    "duration": 22,
    "start_time": "2024-08-27T21:58:56.167Z"
   },
   {
    "duration": 28,
    "start_time": "2024-08-27T21:58:56.191Z"
   },
   {
    "duration": 796,
    "start_time": "2024-08-27T21:58:56.221Z"
   },
   {
    "duration": 6,
    "start_time": "2024-08-27T21:58:57.020Z"
   },
   {
    "duration": 1245,
    "start_time": "2024-08-27T21:58:57.028Z"
   },
   {
    "duration": 544,
    "start_time": "2024-08-27T21:58:58.276Z"
   },
   {
    "duration": 1553,
    "start_time": "2024-08-27T21:58:58.822Z"
   },
   {
    "duration": 19,
    "start_time": "2024-08-27T21:59:00.377Z"
   },
   {
    "duration": 10,
    "start_time": "2024-08-27T21:59:00.406Z"
   },
   {
    "duration": 31,
    "start_time": "2024-08-27T21:59:00.417Z"
   },
   {
    "duration": 61864,
    "start_time": "2024-08-27T21:59:00.450Z"
   },
   {
    "duration": 1425,
    "start_time": "2024-08-27T22:01:50.460Z"
   },
   {
    "duration": 3,
    "start_time": "2024-08-27T22:01:51.886Z"
   },
   {
    "duration": 15,
    "start_time": "2024-08-27T22:01:51.891Z"
   },
   {
    "duration": 79,
    "start_time": "2024-08-27T22:01:51.908Z"
   },
   {
    "duration": 22,
    "start_time": "2024-08-27T22:01:51.990Z"
   },
   {
    "duration": 23,
    "start_time": "2024-08-27T22:01:52.014Z"
   },
   {
    "duration": 886,
    "start_time": "2024-08-27T22:01:52.039Z"
   },
   {
    "duration": 5,
    "start_time": "2024-08-27T22:01:52.928Z"
   },
   {
    "duration": 1295,
    "start_time": "2024-08-27T22:01:52.934Z"
   },
   {
    "duration": 566,
    "start_time": "2024-08-27T22:01:54.231Z"
   },
   {
    "duration": 1631,
    "start_time": "2024-08-27T22:01:54.799Z"
   },
   {
    "duration": 21,
    "start_time": "2024-08-27T22:01:56.432Z"
   },
   {
    "duration": 24,
    "start_time": "2024-08-27T22:01:56.454Z"
   },
   {
    "duration": 6,
    "start_time": "2024-08-27T22:01:56.481Z"
   },
   {
    "duration": 53444,
    "start_time": "2024-08-27T22:01:56.489Z"
   },
   {
    "duration": 1539,
    "start_time": "2024-08-27T22:03:31.258Z"
   },
   {
    "duration": 2,
    "start_time": "2024-08-27T22:03:32.800Z"
   },
   {
    "duration": 8,
    "start_time": "2024-08-27T22:03:32.805Z"
   },
   {
    "duration": 70,
    "start_time": "2024-08-27T22:03:32.815Z"
   },
   {
    "duration": 19,
    "start_time": "2024-08-27T22:03:32.887Z"
   },
   {
    "duration": 37,
    "start_time": "2024-08-27T22:03:32.908Z"
   },
   {
    "duration": 866,
    "start_time": "2024-08-27T22:03:32.947Z"
   },
   {
    "duration": 6,
    "start_time": "2024-08-27T22:03:33.815Z"
   },
   {
    "duration": 1283,
    "start_time": "2024-08-27T22:03:33.822Z"
   },
   {
    "duration": 530,
    "start_time": "2024-08-27T22:03:35.108Z"
   },
   {
    "duration": 1562,
    "start_time": "2024-08-27T22:03:35.640Z"
   },
   {
    "duration": 21,
    "start_time": "2024-08-27T22:03:37.204Z"
   },
   {
    "duration": 40,
    "start_time": "2024-08-27T22:03:37.228Z"
   },
   {
    "duration": 25,
    "start_time": "2024-08-27T22:03:37.270Z"
   },
   {
    "duration": 52716,
    "start_time": "2024-08-27T22:03:37.298Z"
   },
   {
    "duration": 1487,
    "start_time": "2024-08-27T22:07:12.653Z"
   },
   {
    "duration": 3,
    "start_time": "2024-08-27T22:07:14.141Z"
   },
   {
    "duration": 13,
    "start_time": "2024-08-27T22:07:14.146Z"
   },
   {
    "duration": 71,
    "start_time": "2024-08-27T22:07:14.161Z"
   },
   {
    "duration": 22,
    "start_time": "2024-08-27T22:07:14.235Z"
   },
   {
    "duration": 82,
    "start_time": "2024-08-27T22:07:14.259Z"
   },
   {
    "duration": 822,
    "start_time": "2024-08-27T22:07:14.343Z"
   },
   {
    "duration": 6,
    "start_time": "2024-08-27T22:07:15.167Z"
   },
   {
    "duration": 1342,
    "start_time": "2024-08-27T22:07:15.175Z"
   },
   {
    "duration": 540,
    "start_time": "2024-08-27T22:07:16.519Z"
   },
   {
    "duration": 1545,
    "start_time": "2024-08-27T22:07:17.061Z"
   },
   {
    "duration": 21,
    "start_time": "2024-08-27T22:07:18.608Z"
   },
   {
    "duration": 7,
    "start_time": "2024-08-27T22:07:18.631Z"
   },
   {
    "duration": 5,
    "start_time": "2024-08-27T22:07:18.640Z"
   },
   {
    "duration": 63282,
    "start_time": "2024-08-27T22:07:18.647Z"
   },
   {
    "duration": 39,
    "start_time": "2024-08-27T22:34:25.845Z"
   },
   {
    "duration": 1448,
    "start_time": "2024-08-27T22:36:18.559Z"
   },
   {
    "duration": 2,
    "start_time": "2024-08-27T22:36:20.010Z"
   },
   {
    "duration": 12,
    "start_time": "2024-08-27T22:36:20.014Z"
   },
   {
    "duration": 61,
    "start_time": "2024-08-27T22:36:20.028Z"
   },
   {
    "duration": 21,
    "start_time": "2024-08-27T22:36:20.091Z"
   },
   {
    "duration": 23,
    "start_time": "2024-08-27T22:36:20.113Z"
   },
   {
    "duration": 815,
    "start_time": "2024-08-27T22:36:20.138Z"
   },
   {
    "duration": 6,
    "start_time": "2024-08-27T22:36:20.955Z"
   },
   {
    "duration": 1300,
    "start_time": "2024-08-27T22:36:20.962Z"
   },
   {
    "duration": 572,
    "start_time": "2024-08-27T22:36:22.264Z"
   },
   {
    "duration": 1617,
    "start_time": "2024-08-27T22:36:22.838Z"
   },
   {
    "duration": 22,
    "start_time": "2024-08-27T22:36:24.456Z"
   },
   {
    "duration": 7,
    "start_time": "2024-08-27T22:36:24.480Z"
   },
   {
    "duration": 6,
    "start_time": "2024-08-27T22:36:24.504Z"
   },
   {
    "duration": 47937,
    "start_time": "2024-08-27T22:36:24.512Z"
   },
   {
    "duration": 30,
    "start_time": "2024-08-27T22:37:12.451Z"
   },
   {
    "duration": 1443,
    "start_time": "2024-08-27T22:38:11.252Z"
   },
   {
    "duration": 2,
    "start_time": "2024-08-27T22:38:12.697Z"
   },
   {
    "duration": 8,
    "start_time": "2024-08-27T22:38:12.705Z"
   },
   {
    "duration": 60,
    "start_time": "2024-08-27T22:38:12.715Z"
   },
   {
    "duration": 19,
    "start_time": "2024-08-27T22:38:12.777Z"
   },
   {
    "duration": 25,
    "start_time": "2024-08-27T22:38:12.798Z"
   },
   {
    "duration": 792,
    "start_time": "2024-08-27T22:38:12.825Z"
   },
   {
    "duration": 6,
    "start_time": "2024-08-27T22:38:13.619Z"
   },
   {
    "duration": 1212,
    "start_time": "2024-08-27T22:38:13.626Z"
   },
   {
    "duration": 526,
    "start_time": "2024-08-27T22:38:14.840Z"
   },
   {
    "duration": 1533,
    "start_time": "2024-08-27T22:38:15.368Z"
   },
   {
    "duration": 20,
    "start_time": "2024-08-27T22:38:16.902Z"
   },
   {
    "duration": 7,
    "start_time": "2024-08-27T22:38:16.923Z"
   },
   {
    "duration": 16,
    "start_time": "2024-08-27T22:38:16.932Z"
   },
   {
    "duration": 26357,
    "start_time": "2024-08-27T22:38:16.950Z"
   },
   {
    "duration": 7,
    "start_time": "2024-08-27T22:38:43.309Z"
   },
   {
    "duration": 1495,
    "start_time": "2024-08-27T22:39:36.238Z"
   },
   {
    "duration": 2,
    "start_time": "2024-08-27T22:39:37.735Z"
   },
   {
    "duration": 15,
    "start_time": "2024-08-27T22:39:37.739Z"
   },
   {
    "duration": 63,
    "start_time": "2024-08-27T22:39:37.756Z"
   },
   {
    "duration": 20,
    "start_time": "2024-08-27T22:39:37.822Z"
   },
   {
    "duration": 24,
    "start_time": "2024-08-27T22:39:37.843Z"
   },
   {
    "duration": 868,
    "start_time": "2024-08-27T22:39:37.869Z"
   },
   {
    "duration": 6,
    "start_time": "2024-08-27T22:39:38.739Z"
   },
   {
    "duration": 1263,
    "start_time": "2024-08-27T22:39:38.746Z"
   },
   {
    "duration": 528,
    "start_time": "2024-08-27T22:39:40.011Z"
   },
   {
    "duration": 1558,
    "start_time": "2024-08-27T22:39:40.541Z"
   },
   {
    "duration": 20,
    "start_time": "2024-08-27T22:39:42.104Z"
   },
   {
    "duration": 6,
    "start_time": "2024-08-27T22:39:42.125Z"
   },
   {
    "duration": 9,
    "start_time": "2024-08-27T22:39:42.134Z"
   },
   {
    "duration": 39928,
    "start_time": "2024-08-27T22:39:42.145Z"
   },
   {
    "duration": 8,
    "start_time": "2024-08-27T22:40:22.075Z"
   },
   {
    "duration": 40726,
    "start_time": "2024-08-27T22:40:27.332Z"
   },
   {
    "duration": 8,
    "start_time": "2024-08-27T22:41:08.060Z"
   },
   {
    "duration": 1490,
    "start_time": "2024-08-27T22:41:47.186Z"
   },
   {
    "duration": 2,
    "start_time": "2024-08-27T22:41:48.678Z"
   },
   {
    "duration": 10,
    "start_time": "2024-08-27T22:41:48.681Z"
   },
   {
    "duration": 58,
    "start_time": "2024-08-27T22:41:48.693Z"
   },
   {
    "duration": 20,
    "start_time": "2024-08-27T22:41:48.753Z"
   },
   {
    "duration": 29,
    "start_time": "2024-08-27T22:41:48.775Z"
   },
   {
    "duration": 863,
    "start_time": "2024-08-27T22:41:48.806Z"
   },
   {
    "duration": 6,
    "start_time": "2024-08-27T22:41:49.671Z"
   },
   {
    "duration": 1336,
    "start_time": "2024-08-27T22:41:49.679Z"
   },
   {
    "duration": 551,
    "start_time": "2024-08-27T22:41:51.017Z"
   },
   {
    "duration": 1529,
    "start_time": "2024-08-27T22:41:51.569Z"
   },
   {
    "duration": 22,
    "start_time": "2024-08-27T22:41:53.100Z"
   },
   {
    "duration": 8,
    "start_time": "2024-08-27T22:41:53.123Z"
   },
   {
    "duration": 11,
    "start_time": "2024-08-27T22:41:53.134Z"
   },
   {
    "duration": 21214,
    "start_time": "2024-08-27T22:41:53.146Z"
   },
   {
    "duration": 8,
    "start_time": "2024-08-27T22:42:14.362Z"
   },
   {
    "duration": 3534,
    "start_time": "2024-08-27T22:43:19.942Z"
   },
   {
    "duration": 2,
    "start_time": "2024-08-27T22:43:23.478Z"
   },
   {
    "duration": 36,
    "start_time": "2024-08-27T22:43:23.483Z"
   },
   {
    "duration": 58,
    "start_time": "2024-08-27T22:43:23.520Z"
   },
   {
    "duration": 21,
    "start_time": "2024-08-27T22:43:23.580Z"
   },
   {
    "duration": 22,
    "start_time": "2024-08-27T22:43:23.602Z"
   },
   {
    "duration": 835,
    "start_time": "2024-08-27T22:43:23.626Z"
   },
   {
    "duration": 6,
    "start_time": "2024-08-27T22:43:24.463Z"
   },
   {
    "duration": 1286,
    "start_time": "2024-08-27T22:43:24.470Z"
   },
   {
    "duration": 564,
    "start_time": "2024-08-27T22:43:25.757Z"
   },
   {
    "duration": 1543,
    "start_time": "2024-08-27T22:43:26.323Z"
   },
   {
    "duration": 37,
    "start_time": "2024-08-27T22:43:27.869Z"
   },
   {
    "duration": 7,
    "start_time": "2024-08-27T22:43:27.908Z"
   },
   {
    "duration": 8,
    "start_time": "2024-08-27T22:43:27.917Z"
   },
   {
    "duration": 16179,
    "start_time": "2024-08-27T22:43:27.927Z"
   },
   {
    "duration": 7,
    "start_time": "2024-08-27T22:43:44.108Z"
   },
   {
    "duration": 1418,
    "start_time": "2024-08-27T22:44:21.242Z"
   },
   {
    "duration": 4,
    "start_time": "2024-08-27T22:44:22.663Z"
   },
   {
    "duration": 9,
    "start_time": "2024-08-27T22:44:22.668Z"
   },
   {
    "duration": 52,
    "start_time": "2024-08-27T22:44:22.678Z"
   },
   {
    "duration": 18,
    "start_time": "2024-08-27T22:44:22.733Z"
   },
   {
    "duration": 22,
    "start_time": "2024-08-27T22:44:22.753Z"
   },
   {
    "duration": 804,
    "start_time": "2024-08-27T22:44:22.777Z"
   },
   {
    "duration": 6,
    "start_time": "2024-08-27T22:44:23.583Z"
   },
   {
    "duration": 1226,
    "start_time": "2024-08-27T22:44:23.590Z"
   },
   {
    "duration": 544,
    "start_time": "2024-08-27T22:44:24.818Z"
   },
   {
    "duration": 1538,
    "start_time": "2024-08-27T22:44:25.364Z"
   },
   {
    "duration": 21,
    "start_time": "2024-08-27T22:44:26.904Z"
   },
   {
    "duration": 6,
    "start_time": "2024-08-27T22:44:26.927Z"
   },
   {
    "duration": 8,
    "start_time": "2024-08-27T22:44:26.936Z"
   },
   {
    "duration": 8724,
    "start_time": "2024-08-27T22:44:26.946Z"
   },
   {
    "duration": 9,
    "start_time": "2024-08-27T22:44:35.671Z"
   },
   {
    "duration": 1582,
    "start_time": "2024-08-28T17:34:24.492Z"
   },
   {
    "duration": 3,
    "start_time": "2024-08-28T17:34:26.076Z"
   },
   {
    "duration": 22,
    "start_time": "2024-08-28T17:34:26.080Z"
   },
   {
    "duration": 127,
    "start_time": "2024-08-28T17:34:26.103Z"
   },
   {
    "duration": 19,
    "start_time": "2024-08-28T17:34:26.233Z"
   },
   {
    "duration": 21,
    "start_time": "2024-08-28T17:34:26.254Z"
   },
   {
    "duration": 853,
    "start_time": "2024-08-28T17:34:26.277Z"
   },
   {
    "duration": 7,
    "start_time": "2024-08-28T17:34:27.132Z"
   },
   {
    "duration": 1144,
    "start_time": "2024-08-28T17:34:27.141Z"
   },
   {
    "duration": 494,
    "start_time": "2024-08-28T17:34:28.287Z"
   },
   {
    "duration": 1509,
    "start_time": "2024-08-28T17:34:28.783Z"
   },
   {
    "duration": 21,
    "start_time": "2024-08-28T17:34:30.294Z"
   },
   {
    "duration": 21,
    "start_time": "2024-08-28T17:34:30.316Z"
   },
   {
    "duration": 6,
    "start_time": "2024-08-28T17:34:30.340Z"
   },
   {
    "duration": 58839,
    "start_time": "2024-08-28T17:34:30.348Z"
   },
   {
    "duration": 33,
    "start_time": "2024-08-28T17:35:29.189Z"
   },
   {
    "duration": 1446,
    "start_time": "2024-08-28T17:35:47.329Z"
   },
   {
    "duration": 3,
    "start_time": "2024-08-28T17:35:48.777Z"
   },
   {
    "duration": 23,
    "start_time": "2024-08-28T17:35:48.782Z"
   },
   {
    "duration": 65,
    "start_time": "2024-08-28T17:35:48.807Z"
   },
   {
    "duration": 20,
    "start_time": "2024-08-28T17:35:48.874Z"
   },
   {
    "duration": 23,
    "start_time": "2024-08-28T17:35:48.896Z"
   },
   {
    "duration": 866,
    "start_time": "2024-08-28T17:35:48.920Z"
   },
   {
    "duration": 7,
    "start_time": "2024-08-28T17:35:49.788Z"
   },
   {
    "duration": 1134,
    "start_time": "2024-08-28T17:35:49.797Z"
   },
   {
    "duration": 506,
    "start_time": "2024-08-28T17:35:50.934Z"
   },
   {
    "duration": 1434,
    "start_time": "2024-08-28T17:35:51.442Z"
   },
   {
    "duration": 21,
    "start_time": "2024-08-28T17:35:52.878Z"
   },
   {
    "duration": 7,
    "start_time": "2024-08-28T17:35:52.901Z"
   },
   {
    "duration": 12,
    "start_time": "2024-08-28T17:35:52.910Z"
   },
   {
    "duration": 8299,
    "start_time": "2024-08-28T17:35:52.924Z"
   },
   {
    "duration": 8,
    "start_time": "2024-08-28T17:36:01.225Z"
   },
   {
    "duration": 1524,
    "start_time": "2024-08-28T17:36:35.037Z"
   },
   {
    "duration": 3,
    "start_time": "2024-08-28T17:36:36.563Z"
   },
   {
    "duration": 8,
    "start_time": "2024-08-28T17:36:36.567Z"
   },
   {
    "duration": 55,
    "start_time": "2024-08-28T17:36:36.577Z"
   },
   {
    "duration": 18,
    "start_time": "2024-08-28T17:36:36.634Z"
   },
   {
    "duration": 22,
    "start_time": "2024-08-28T17:36:36.653Z"
   },
   {
    "duration": 797,
    "start_time": "2024-08-28T17:36:36.677Z"
   },
   {
    "duration": 5,
    "start_time": "2024-08-28T17:36:37.476Z"
   },
   {
    "duration": 1162,
    "start_time": "2024-08-28T17:36:37.482Z"
   },
   {
    "duration": 507,
    "start_time": "2024-08-28T17:36:38.647Z"
   },
   {
    "duration": 1473,
    "start_time": "2024-08-28T17:36:39.156Z"
   },
   {
    "duration": 19,
    "start_time": "2024-08-28T17:36:40.631Z"
   },
   {
    "duration": 6,
    "start_time": "2024-08-28T17:36:40.661Z"
   },
   {
    "duration": 10,
    "start_time": "2024-08-28T17:36:40.669Z"
   },
   {
    "duration": 8181,
    "start_time": "2024-08-28T17:36:40.681Z"
   },
   {
    "duration": 8,
    "start_time": "2024-08-28T17:36:48.863Z"
   },
   {
    "duration": 1380,
    "start_time": "2024-08-28T17:44:46.008Z"
   },
   {
    "duration": 2,
    "start_time": "2024-08-28T17:44:47.390Z"
   },
   {
    "duration": 10,
    "start_time": "2024-08-28T17:44:47.394Z"
   },
   {
    "duration": 53,
    "start_time": "2024-08-28T17:44:47.406Z"
   },
   {
    "duration": 20,
    "start_time": "2024-08-28T17:44:47.460Z"
   },
   {
    "duration": 20,
    "start_time": "2024-08-28T17:44:47.482Z"
   },
   {
    "duration": 750,
    "start_time": "2024-08-28T17:44:47.504Z"
   },
   {
    "duration": 5,
    "start_time": "2024-08-28T17:44:48.256Z"
   },
   {
    "duration": 1152,
    "start_time": "2024-08-28T17:44:48.263Z"
   },
   {
    "duration": 527,
    "start_time": "2024-08-28T17:44:49.417Z"
   },
   {
    "duration": 1466,
    "start_time": "2024-08-28T17:44:49.946Z"
   },
   {
    "duration": 20,
    "start_time": "2024-08-28T17:44:51.413Z"
   },
   {
    "duration": 7,
    "start_time": "2024-08-28T17:44:51.434Z"
   },
   {
    "duration": 49,
    "start_time": "2024-08-28T17:44:51.443Z"
   },
   {
    "duration": 113,
    "start_time": "2024-08-28T17:44:51.494Z"
   },
   {
    "duration": 0,
    "start_time": "2024-08-28T17:44:51.609Z"
   },
   {
    "duration": 8,
    "start_time": "2024-08-28T17:45:20.931Z"
   },
   {
    "duration": 7965,
    "start_time": "2024-08-28T17:45:25.727Z"
   },
   {
    "duration": 8019,
    "start_time": "2024-08-28T17:46:05.171Z"
   },
   {
    "duration": 7966,
    "start_time": "2024-08-28T17:46:56.699Z"
   },
   {
    "duration": 8010,
    "start_time": "2024-08-28T17:48:22.492Z"
   },
   {
    "duration": 8002,
    "start_time": "2024-08-28T17:48:41.347Z"
   },
   {
    "duration": 8,
    "start_time": "2024-08-28T17:48:57.182Z"
   },
   {
    "duration": 8170,
    "start_time": "2024-08-28T17:49:40.225Z"
   },
   {
    "duration": 59301,
    "start_time": "2024-08-28T17:54:15.230Z"
   },
   {
    "duration": 58590,
    "start_time": "2024-08-28T18:03:54.328Z"
   },
   {
    "duration": 5,
    "start_time": "2024-08-28T18:04:52.920Z"
   },
   {
    "duration": 57270,
    "start_time": "2024-08-28T18:20:03.999Z"
   },
   {
    "duration": 1423,
    "start_time": "2024-08-28T18:27:40.053Z"
   },
   {
    "duration": 2,
    "start_time": "2024-08-28T18:27:41.478Z"
   },
   {
    "duration": 8,
    "start_time": "2024-08-28T18:27:41.482Z"
   },
   {
    "duration": 61,
    "start_time": "2024-08-28T18:27:41.492Z"
   },
   {
    "duration": 17,
    "start_time": "2024-08-28T18:27:41.555Z"
   },
   {
    "duration": 22,
    "start_time": "2024-08-28T18:27:41.574Z"
   },
   {
    "duration": 800,
    "start_time": "2024-08-28T18:27:41.598Z"
   },
   {
    "duration": 6,
    "start_time": "2024-08-28T18:27:42.400Z"
   },
   {
    "duration": 1172,
    "start_time": "2024-08-28T18:27:42.407Z"
   },
   {
    "duration": 513,
    "start_time": "2024-08-28T18:27:43.581Z"
   },
   {
    "duration": 1429,
    "start_time": "2024-08-28T18:27:44.096Z"
   },
   {
    "duration": 19,
    "start_time": "2024-08-28T18:27:45.527Z"
   },
   {
    "duration": 20,
    "start_time": "2024-08-28T18:27:45.547Z"
   },
   {
    "duration": 15,
    "start_time": "2024-08-28T18:27:45.569Z"
   },
   {
    "duration": 7992,
    "start_time": "2024-08-28T18:27:45.586Z"
   },
   {
    "duration": 6,
    "start_time": "2024-08-28T18:27:53.580Z"
   },
   {
    "duration": 127,
    "start_time": "2024-08-28T18:28:27.450Z"
   },
   {
    "duration": 8,
    "start_time": "2024-08-28T18:28:53.169Z"
   },
   {
    "duration": 16,
    "start_time": "2024-08-28T18:28:58.240Z"
   },
   {
    "duration": 1472,
    "start_time": "2024-08-28T18:34:37.733Z"
   },
   {
    "duration": 3,
    "start_time": "2024-08-28T18:34:39.207Z"
   },
   {
    "duration": 8,
    "start_time": "2024-08-28T18:34:39.212Z"
   },
   {
    "duration": 56,
    "start_time": "2024-08-28T18:34:39.222Z"
   },
   {
    "duration": 18,
    "start_time": "2024-08-28T18:34:39.279Z"
   },
   {
    "duration": 20,
    "start_time": "2024-08-28T18:34:39.299Z"
   },
   {
    "duration": 810,
    "start_time": "2024-08-28T18:34:39.320Z"
   },
   {
    "duration": 6,
    "start_time": "2024-08-28T18:34:40.132Z"
   },
   {
    "duration": 1179,
    "start_time": "2024-08-28T18:34:40.140Z"
   },
   {
    "duration": 529,
    "start_time": "2024-08-28T18:34:41.320Z"
   },
   {
    "duration": 1450,
    "start_time": "2024-08-28T18:34:41.852Z"
   },
   {
    "duration": 19,
    "start_time": "2024-08-28T18:34:43.304Z"
   },
   {
    "duration": 7,
    "start_time": "2024-08-28T18:34:43.325Z"
   },
   {
    "duration": 27,
    "start_time": "2024-08-28T18:34:43.334Z"
   },
   {
    "duration": 8247,
    "start_time": "2024-08-28T18:34:43.363Z"
   },
   {
    "duration": 16,
    "start_time": "2024-08-28T18:34:51.611Z"
   },
   {
    "duration": 6,
    "start_time": "2024-08-28T18:38:24.288Z"
   },
   {
    "duration": 1588,
    "start_time": "2024-08-28T18:40:41.836Z"
   },
   {
    "duration": 2,
    "start_time": "2024-08-28T18:40:43.426Z"
   },
   {
    "duration": 9,
    "start_time": "2024-08-28T18:40:43.429Z"
   },
   {
    "duration": 52,
    "start_time": "2024-08-28T18:40:43.440Z"
   },
   {
    "duration": 17,
    "start_time": "2024-08-28T18:40:43.493Z"
   },
   {
    "duration": 18,
    "start_time": "2024-08-28T18:40:43.512Z"
   },
   {
    "duration": 782,
    "start_time": "2024-08-28T18:40:43.532Z"
   },
   {
    "duration": 5,
    "start_time": "2024-08-28T18:40:44.316Z"
   },
   {
    "duration": 1117,
    "start_time": "2024-08-28T18:40:44.322Z"
   },
   {
    "duration": 521,
    "start_time": "2024-08-28T18:40:45.442Z"
   },
   {
    "duration": 1419,
    "start_time": "2024-08-28T18:40:45.965Z"
   },
   {
    "duration": 19,
    "start_time": "2024-08-28T18:40:47.386Z"
   },
   {
    "duration": 18,
    "start_time": "2024-08-28T18:40:47.407Z"
   },
   {
    "duration": 28,
    "start_time": "2024-08-28T18:40:47.427Z"
   },
   {
    "duration": 8060,
    "start_time": "2024-08-28T18:40:47.456Z"
   },
   {
    "duration": 16,
    "start_time": "2024-08-28T18:40:55.517Z"
   },
   {
    "duration": 1455,
    "start_time": "2024-08-28T22:05:19.974Z"
   },
   {
    "duration": 8,
    "start_time": "2024-08-28T22:05:21.431Z"
   },
   {
    "duration": 63,
    "start_time": "2024-08-28T22:05:21.440Z"
   },
   {
    "duration": 16,
    "start_time": "2024-08-28T22:05:21.505Z"
   },
   {
    "duration": 23,
    "start_time": "2024-08-28T22:05:21.523Z"
   },
   {
    "duration": 45,
    "start_time": "2024-08-28T22:05:21.548Z"
   },
   {
    "duration": 678,
    "start_time": "2024-08-28T22:05:21.595Z"
   },
   {
    "duration": 1167,
    "start_time": "2024-08-28T22:05:22.275Z"
   },
   {
    "duration": 480,
    "start_time": "2024-08-28T22:05:23.444Z"
   },
   {
    "duration": 1416,
    "start_time": "2024-08-28T22:05:23.926Z"
   },
   {
    "duration": 7,
    "start_time": "2024-08-28T22:05:25.343Z"
   },
   {
    "duration": 5,
    "start_time": "2024-08-28T22:05:25.361Z"
   },
   {
    "duration": 41210,
    "start_time": "2024-08-28T22:05:25.368Z"
   },
   {
    "duration": 16,
    "start_time": "2024-08-28T22:06:06.580Z"
   },
   {
    "duration": 4150,
    "start_time": "2024-08-29T13:15:20.578Z"
   },
   {
    "duration": 10,
    "start_time": "2024-08-29T13:15:24.730Z"
   },
   {
    "duration": 144,
    "start_time": "2024-08-29T13:15:24.742Z"
   },
   {
    "duration": 22,
    "start_time": "2024-08-29T13:15:24.889Z"
   },
   {
    "duration": 64,
    "start_time": "2024-08-29T13:15:24.913Z"
   },
   {
    "duration": 43,
    "start_time": "2024-08-29T13:15:24.978Z"
   },
   {
    "duration": 1934,
    "start_time": "2024-08-29T13:15:25.023Z"
   },
   {
    "duration": 1469,
    "start_time": "2024-08-29T13:15:26.958Z"
   },
   {
    "duration": 1148,
    "start_time": "2024-08-29T13:15:28.428Z"
   },
   {
    "duration": 3200,
    "start_time": "2024-08-29T13:15:29.579Z"
   },
   {
    "duration": 8,
    "start_time": "2024-08-29T13:15:32.780Z"
   },
   {
    "duration": 16,
    "start_time": "2024-08-29T13:15:32.789Z"
   },
   {
    "duration": 82332,
    "start_time": "2024-08-29T13:15:32.807Z"
   },
   {
    "duration": 26,
    "start_time": "2024-08-29T13:16:55.141Z"
   },
   {
    "duration": 49,
    "start_time": "2024-08-29T17:00:36.406Z"
   },
   {
    "duration": 1813,
    "start_time": "2024-08-29T17:00:42.928Z"
   },
   {
    "duration": 11,
    "start_time": "2024-08-29T17:00:44.903Z"
   },
   {
    "duration": 114,
    "start_time": "2024-08-29T17:00:47.850Z"
   },
   {
    "duration": 61,
    "start_time": "2024-08-29T17:01:03.430Z"
   },
   {
    "duration": 62,
    "start_time": "2024-08-29T17:01:26.019Z"
   },
   {
    "duration": 104,
    "start_time": "2024-08-29T17:05:57.504Z"
   },
   {
    "duration": 5,
    "start_time": "2024-08-29T17:06:07.152Z"
   },
   {
    "duration": 9,
    "start_time": "2024-08-29T17:06:08.068Z"
   },
   {
    "duration": 65,
    "start_time": "2024-08-29T17:06:08.869Z"
   },
   {
    "duration": 18,
    "start_time": "2024-08-29T17:06:11.766Z"
   },
   {
    "duration": 16,
    "start_time": "2024-08-29T17:06:21.344Z"
   },
   {
    "duration": 20,
    "start_time": "2024-08-29T17:09:09.660Z"
   },
   {
    "duration": 20,
    "start_time": "2024-08-29T17:09:14.710Z"
   },
   {
    "duration": 33,
    "start_time": "2024-08-29T17:09:25.661Z"
   },
   {
    "duration": 839,
    "start_time": "2024-08-29T17:09:26.806Z"
   },
   {
    "duration": 1264,
    "start_time": "2024-08-29T17:09:27.647Z"
   },
   {
    "duration": 550,
    "start_time": "2024-08-29T17:09:28.913Z"
   },
   {
    "duration": 1547,
    "start_time": "2024-08-29T17:09:29.465Z"
   },
   {
    "duration": 7,
    "start_time": "2024-08-29T17:09:31.014Z"
   },
   {
    "duration": 8,
    "start_time": "2024-08-29T17:09:31.023Z"
   },
   {
    "duration": 32009,
    "start_time": "2024-08-29T17:09:31.534Z"
   },
   {
    "duration": 19,
    "start_time": "2024-08-29T17:10:03.545Z"
   },
   {
    "duration": 1175,
    "start_time": "2024-08-29T17:16:06.386Z"
   },
   {
    "duration": 1228,
    "start_time": "2024-08-29T17:17:10.648Z"
   },
   {
    "duration": 1141,
    "start_time": "2024-08-29T17:19:16.986Z"
   },
   {
    "duration": 1047,
    "start_time": "2024-08-29T17:19:33.708Z"
   },
   {
    "duration": 1067,
    "start_time": "2024-08-29T17:19:38.463Z"
   },
   {
    "duration": 1097,
    "start_time": "2024-08-29T17:19:52.768Z"
   },
   {
    "duration": 6,
    "start_time": "2024-08-29T17:22:07.697Z"
   },
   {
    "duration": 1108,
    "start_time": "2024-08-29T17:23:31.533Z"
   },
   {
    "duration": 8,
    "start_time": "2024-08-29T17:26:17.817Z"
   },
   {
    "duration": 8,
    "start_time": "2024-08-29T17:27:38.187Z"
   },
   {
    "duration": 1090,
    "start_time": "2024-08-29T17:28:11.719Z"
   },
   {
    "duration": 1218,
    "start_time": "2024-08-29T17:29:24.170Z"
   },
   {
    "duration": 1114,
    "start_time": "2024-08-29T17:29:55.375Z"
   },
   {
    "duration": 1098,
    "start_time": "2024-08-29T17:30:04.903Z"
   },
   {
    "duration": 1113,
    "start_time": "2024-08-29T17:30:12.342Z"
   },
   {
    "duration": 9,
    "start_time": "2024-08-29T17:31:13.504Z"
   },
   {
    "duration": 1133,
    "start_time": "2024-08-29T17:31:31.864Z"
   },
   {
    "duration": 1083,
    "start_time": "2024-08-29T17:31:47.809Z"
   },
   {
    "duration": 1204,
    "start_time": "2024-08-29T17:32:36.116Z"
   },
   {
    "duration": 19,
    "start_time": "2024-08-29T17:33:03.313Z"
   },
   {
    "duration": 1006,
    "start_time": "2024-08-29T17:33:50.075Z"
   },
   {
    "duration": 984,
    "start_time": "2024-08-29T17:34:46.265Z"
   },
   {
    "duration": 1079,
    "start_time": "2024-08-29T17:34:55.634Z"
   },
   {
    "duration": 1119,
    "start_time": "2024-08-29T17:35:06.536Z"
   },
   {
    "duration": 9,
    "start_time": "2024-08-29T17:41:22.058Z"
   },
   {
    "duration": 9,
    "start_time": "2024-08-29T17:41:27.588Z"
   },
   {
    "duration": 10,
    "start_time": "2024-08-29T17:41:32.111Z"
   },
   {
    "duration": 1615,
    "start_time": "2024-08-29T17:41:42.245Z"
   },
   {
    "duration": 7,
    "start_time": "2024-08-29T17:41:43.862Z"
   },
   {
    "duration": 76,
    "start_time": "2024-08-29T17:41:43.871Z"
   },
   {
    "duration": 20,
    "start_time": "2024-08-29T17:41:43.949Z"
   },
   {
    "duration": 24,
    "start_time": "2024-08-29T17:41:43.970Z"
   },
   {
    "duration": 34,
    "start_time": "2024-08-29T17:41:43.995Z"
   },
   {
    "duration": 910,
    "start_time": "2024-08-29T17:41:44.031Z"
   },
   {
    "duration": 882,
    "start_time": "2024-08-29T17:41:44.942Z"
   },
   {
    "duration": 897,
    "start_time": "2024-08-29T17:41:45.827Z"
   },
   {
    "duration": 1072,
    "start_time": "2024-08-29T17:41:46.727Z"
   },
   {
    "duration": 7,
    "start_time": "2024-08-29T17:41:47.801Z"
   },
   {
    "duration": 14,
    "start_time": "2024-08-29T17:41:47.809Z"
   },
   {
    "duration": 34439,
    "start_time": "2024-08-29T17:41:47.825Z"
   },
   {
    "duration": 20,
    "start_time": "2024-08-29T17:42:22.266Z"
   },
   {
    "duration": 1535,
    "start_time": "2024-08-29T17:43:48.385Z"
   },
   {
    "duration": 7,
    "start_time": "2024-08-29T17:43:49.922Z"
   },
   {
    "duration": 81,
    "start_time": "2024-08-29T17:43:49.931Z"
   },
   {
    "duration": 20,
    "start_time": "2024-08-29T17:43:50.014Z"
   },
   {
    "duration": 27,
    "start_time": "2024-08-29T17:43:50.036Z"
   },
   {
    "duration": 42,
    "start_time": "2024-08-29T17:43:50.064Z"
   },
   {
    "duration": 817,
    "start_time": "2024-08-29T17:43:50.108Z"
   },
   {
    "duration": 853,
    "start_time": "2024-08-29T17:43:50.927Z"
   },
   {
    "duration": 855,
    "start_time": "2024-08-29T17:43:51.782Z"
   },
   {
    "duration": 1015,
    "start_time": "2024-08-29T17:43:52.640Z"
   },
   {
    "duration": 7,
    "start_time": "2024-08-29T17:43:53.657Z"
   },
   {
    "duration": 27,
    "start_time": "2024-08-29T17:43:53.665Z"
   },
   {
    "duration": 36855,
    "start_time": "2024-08-29T17:43:53.693Z"
   },
   {
    "duration": 19,
    "start_time": "2024-08-29T17:44:30.550Z"
   },
   {
    "duration": 53,
    "start_time": "2024-08-29T17:44:30.572Z"
   },
   {
    "duration": 7,
    "start_time": "2024-08-29T17:44:46.309Z"
   },
   {
    "duration": 1583,
    "start_time": "2024-08-29T17:51:40.247Z"
   },
   {
    "duration": 8,
    "start_time": "2024-08-29T17:51:41.832Z"
   },
   {
    "duration": 1143,
    "start_time": "2024-08-29T17:51:41.842Z"
   },
   {
    "duration": 0,
    "start_time": "2024-08-29T17:51:42.986Z"
   },
   {
    "duration": 0,
    "start_time": "2024-08-29T17:51:42.988Z"
   },
   {
    "duration": 0,
    "start_time": "2024-08-29T17:51:42.990Z"
   },
   {
    "duration": 0,
    "start_time": "2024-08-29T17:51:42.991Z"
   },
   {
    "duration": 0,
    "start_time": "2024-08-29T17:51:42.992Z"
   },
   {
    "duration": 0,
    "start_time": "2024-08-29T17:51:42.993Z"
   },
   {
    "duration": 0,
    "start_time": "2024-08-29T17:51:42.994Z"
   },
   {
    "duration": 0,
    "start_time": "2024-08-29T17:51:42.995Z"
   },
   {
    "duration": 0,
    "start_time": "2024-08-29T17:51:42.996Z"
   },
   {
    "duration": 0,
    "start_time": "2024-08-29T17:51:42.997Z"
   },
   {
    "duration": 0,
    "start_time": "2024-08-29T17:51:42.998Z"
   },
   {
    "duration": 69,
    "start_time": "2024-08-29T17:52:10.810Z"
   },
   {
    "duration": 1557,
    "start_time": "2024-08-29T17:52:14.258Z"
   },
   {
    "duration": 8,
    "start_time": "2024-08-29T17:52:15.817Z"
   },
   {
    "duration": 94,
    "start_time": "2024-08-29T17:52:15.827Z"
   },
   {
    "duration": 20,
    "start_time": "2024-08-29T17:52:15.923Z"
   },
   {
    "duration": 29,
    "start_time": "2024-08-29T17:52:15.945Z"
   },
   {
    "duration": 38,
    "start_time": "2024-08-29T17:52:15.976Z"
   },
   {
    "duration": 792,
    "start_time": "2024-08-29T17:52:16.016Z"
   },
   {
    "duration": 871,
    "start_time": "2024-08-29T17:52:16.811Z"
   },
   {
    "duration": 845,
    "start_time": "2024-08-29T17:52:17.684Z"
   },
   {
    "duration": 1028,
    "start_time": "2024-08-29T17:52:18.532Z"
   },
   {
    "duration": 7,
    "start_time": "2024-08-29T17:52:19.562Z"
   },
   {
    "duration": 36,
    "start_time": "2024-08-29T17:52:19.570Z"
   },
   {
    "duration": 32792,
    "start_time": "2024-08-29T17:52:19.608Z"
   },
   {
    "duration": 20,
    "start_time": "2024-08-29T17:52:52.403Z"
   },
   {
    "duration": 7,
    "start_time": "2024-08-29T17:53:21.656Z"
   },
   {
    "duration": 1538,
    "start_time": "2024-08-29T17:55:00.892Z"
   },
   {
    "duration": 7,
    "start_time": "2024-08-29T17:55:02.432Z"
   },
   {
    "duration": 78,
    "start_time": "2024-08-29T17:55:02.441Z"
   },
   {
    "duration": 23,
    "start_time": "2024-08-29T17:55:02.521Z"
   },
   {
    "duration": 38,
    "start_time": "2024-08-29T17:55:02.547Z"
   },
   {
    "duration": 32,
    "start_time": "2024-08-29T17:55:02.586Z"
   },
   {
    "duration": 801,
    "start_time": "2024-08-29T17:55:02.620Z"
   },
   {
    "duration": 865,
    "start_time": "2024-08-29T17:55:03.422Z"
   },
   {
    "duration": 876,
    "start_time": "2024-08-29T17:55:04.289Z"
   },
   {
    "duration": 1005,
    "start_time": "2024-08-29T17:55:05.168Z"
   },
   {
    "duration": 8,
    "start_time": "2024-08-29T17:55:06.174Z"
   },
   {
    "duration": 6,
    "start_time": "2024-08-29T17:55:06.184Z"
   },
   {
    "duration": 32974,
    "start_time": "2024-08-29T17:55:06.192Z"
   },
   {
    "duration": 19,
    "start_time": "2024-08-29T17:55:39.168Z"
   },
   {
    "duration": 1579,
    "start_time": "2024-08-29T18:03:12.961Z"
   },
   {
    "duration": 13,
    "start_time": "2024-08-29T18:03:14.542Z"
   },
   {
    "duration": 84,
    "start_time": "2024-08-29T18:03:14.557Z"
   },
   {
    "duration": 20,
    "start_time": "2024-08-29T18:03:14.643Z"
   },
   {
    "duration": 21,
    "start_time": "2024-08-29T18:03:14.664Z"
   },
   {
    "duration": 30,
    "start_time": "2024-08-29T18:03:14.686Z"
   },
   {
    "duration": 875,
    "start_time": "2024-08-29T18:03:14.717Z"
   },
   {
    "duration": 904,
    "start_time": "2024-08-29T18:03:15.595Z"
   },
   {
    "duration": 827,
    "start_time": "2024-08-29T18:03:16.502Z"
   },
   {
    "duration": 844,
    "start_time": "2024-08-29T18:03:17.331Z"
   },
   {
    "duration": 8,
    "start_time": "2024-08-29T18:03:18.177Z"
   },
   {
    "duration": 22,
    "start_time": "2024-08-29T18:03:18.186Z"
   },
   {
    "duration": 33257,
    "start_time": "2024-08-29T18:03:18.210Z"
   },
   {
    "duration": 16,
    "start_time": "2024-08-29T18:03:51.468Z"
   },
   {
    "duration": 148,
    "start_time": "2024-08-29T18:11:08.960Z"
   },
   {
    "duration": 23,
    "start_time": "2024-08-29T18:12:34.953Z"
   },
   {
    "duration": 61,
    "start_time": "2024-08-29T18:12:48.925Z"
   },
   {
    "duration": 4,
    "start_time": "2024-08-29T18:12:55.245Z"
   },
   {
    "duration": 50273,
    "start_time": "2024-08-29T18:13:05.602Z"
   },
   {
    "duration": 52740,
    "start_time": "2024-08-29T18:14:03.833Z"
   },
   {
    "duration": 1778,
    "start_time": "2024-08-29T18:18:57.366Z"
   },
   {
    "duration": 15,
    "start_time": "2024-08-29T18:18:59.147Z"
   },
   {
    "duration": 73,
    "start_time": "2024-08-29T18:18:59.165Z"
   },
   {
    "duration": 25,
    "start_time": "2024-08-29T18:18:59.239Z"
   },
   {
    "duration": 22,
    "start_time": "2024-08-29T18:18:59.268Z"
   },
   {
    "duration": 28,
    "start_time": "2024-08-29T18:18:59.291Z"
   },
   {
    "duration": 920,
    "start_time": "2024-08-29T18:18:59.321Z"
   },
   {
    "duration": 982,
    "start_time": "2024-08-29T18:19:00.243Z"
   },
   {
    "duration": 941,
    "start_time": "2024-08-29T18:19:01.227Z"
   },
   {
    "duration": 905,
    "start_time": "2024-08-29T18:19:02.170Z"
   },
   {
    "duration": 8,
    "start_time": "2024-08-29T18:19:03.077Z"
   },
   {
    "duration": 154,
    "start_time": "2024-08-29T18:19:03.086Z"
   },
   {
    "duration": 0,
    "start_time": "2024-08-29T18:19:03.242Z"
   },
   {
    "duration": 0,
    "start_time": "2024-08-29T18:19:03.244Z"
   },
   {
    "duration": 6,
    "start_time": "2024-08-29T18:23:21.273Z"
   },
   {
    "duration": 6,
    "start_time": "2024-08-29T18:23:28.481Z"
   },
   {
    "duration": 1621,
    "start_time": "2024-08-29T18:27:51.907Z"
   },
   {
    "duration": 6,
    "start_time": "2024-08-29T18:27:53.530Z"
   },
   {
    "duration": 89,
    "start_time": "2024-08-29T18:27:53.538Z"
   },
   {
    "duration": 19,
    "start_time": "2024-08-29T18:27:53.629Z"
   },
   {
    "duration": 31,
    "start_time": "2024-08-29T18:27:53.650Z"
   },
   {
    "duration": 38,
    "start_time": "2024-08-29T18:27:53.683Z"
   },
   {
    "duration": 909,
    "start_time": "2024-08-29T18:27:53.723Z"
   },
   {
    "duration": 1008,
    "start_time": "2024-08-29T18:27:54.634Z"
   },
   {
    "duration": 936,
    "start_time": "2024-08-29T18:27:55.643Z"
   },
   {
    "duration": 890,
    "start_time": "2024-08-29T18:27:56.582Z"
   },
   {
    "duration": 8,
    "start_time": "2024-08-29T18:27:57.474Z"
   },
   {
    "duration": 34,
    "start_time": "2024-08-29T18:27:57.484Z"
   },
   {
    "duration": 195,
    "start_time": "2024-08-29T18:27:57.520Z"
   },
   {
    "duration": 0,
    "start_time": "2024-08-29T18:27:57.716Z"
   },
   {
    "duration": 65,
    "start_time": "2024-08-29T18:28:55.039Z"
   },
   {
    "duration": 14,
    "start_time": "2024-08-29T18:29:12.193Z"
   },
   {
    "duration": 6,
    "start_time": "2024-08-29T18:30:49.447Z"
   },
   {
    "duration": 60,
    "start_time": "2024-08-29T18:30:52.241Z"
   },
   {
    "duration": 7876,
    "start_time": "2024-08-29T18:32:09.893Z"
   },
   {
    "duration": 3499,
    "start_time": "2024-08-29T18:32:20.641Z"
   },
   {
    "duration": 1575,
    "start_time": "2024-08-29T18:32:24.142Z"
   },
   {
    "duration": 6,
    "start_time": "2024-08-29T18:32:25.719Z"
   },
   {
    "duration": 119,
    "start_time": "2024-08-29T18:32:25.727Z"
   },
   {
    "duration": 29,
    "start_time": "2024-08-29T18:32:25.848Z"
   },
   {
    "duration": 31,
    "start_time": "2024-08-29T18:32:25.879Z"
   },
   {
    "duration": 56,
    "start_time": "2024-08-29T18:32:25.913Z"
   },
   {
    "duration": 846,
    "start_time": "2024-08-29T18:32:25.972Z"
   },
   {
    "duration": 1065,
    "start_time": "2024-08-29T18:32:26.819Z"
   },
   {
    "duration": 902,
    "start_time": "2024-08-29T18:32:27.886Z"
   },
   {
    "duration": 859,
    "start_time": "2024-08-29T18:32:28.790Z"
   },
   {
    "duration": 17,
    "start_time": "2024-08-29T18:32:29.651Z"
   },
   {
    "duration": 143,
    "start_time": "2024-08-29T18:32:29.670Z"
   },
   {
    "duration": 0,
    "start_time": "2024-08-29T18:32:29.815Z"
   },
   {
    "duration": 0,
    "start_time": "2024-08-29T18:32:29.816Z"
   },
   {
    "duration": 6,
    "start_time": "2024-08-29T18:34:28.012Z"
   },
   {
    "duration": 64559,
    "start_time": "2024-08-29T18:34:33.710Z"
   },
   {
    "duration": 58383,
    "start_time": "2024-08-29T18:36:54.985Z"
   },
   {
    "duration": 69004,
    "start_time": "2024-08-29T18:39:34.237Z"
   },
   {
    "duration": 5,
    "start_time": "2024-08-29T18:43:33.290Z"
   },
   {
    "duration": 6,
    "start_time": "2024-08-29T18:46:17.833Z"
   },
   {
    "duration": 3203,
    "start_time": "2024-08-29T18:47:33.613Z"
   },
   {
    "duration": 1474,
    "start_time": "2024-08-29T18:47:36.819Z"
   },
   {
    "duration": 7,
    "start_time": "2024-08-29T18:47:38.295Z"
   },
   {
    "duration": 83,
    "start_time": "2024-08-29T18:47:38.305Z"
   },
   {
    "duration": 21,
    "start_time": "2024-08-29T18:47:38.390Z"
   },
   {
    "duration": 21,
    "start_time": "2024-08-29T18:47:38.413Z"
   },
   {
    "duration": 31,
    "start_time": "2024-08-29T18:47:38.457Z"
   },
   {
    "duration": 749,
    "start_time": "2024-08-29T18:47:38.489Z"
   },
   {
    "duration": 947,
    "start_time": "2024-08-29T18:47:39.240Z"
   },
   {
    "duration": 839,
    "start_time": "2024-08-29T18:47:40.189Z"
   },
   {
    "duration": 833,
    "start_time": "2024-08-29T18:47:41.030Z"
   },
   {
    "duration": 9,
    "start_time": "2024-08-29T18:47:41.865Z"
   },
   {
    "duration": 30,
    "start_time": "2024-08-29T18:47:41.876Z"
   },
   {
    "duration": 29805,
    "start_time": "2024-08-29T18:47:41.908Z"
   },
   {
    "duration": 0,
    "start_time": "2024-08-29T18:48:11.715Z"
   },
   {
    "duration": 3291,
    "start_time": "2024-08-29T18:49:26.086Z"
   },
   {
    "duration": 1393,
    "start_time": "2024-08-29T18:49:29.379Z"
   },
   {
    "duration": 6,
    "start_time": "2024-08-29T18:49:30.774Z"
   },
   {
    "duration": 135,
    "start_time": "2024-08-29T18:49:30.782Z"
   },
   {
    "duration": 20,
    "start_time": "2024-08-29T18:49:30.920Z"
   },
   {
    "duration": 62,
    "start_time": "2024-08-29T18:49:30.942Z"
   },
   {
    "duration": 67,
    "start_time": "2024-08-29T18:49:31.006Z"
   },
   {
    "duration": 816,
    "start_time": "2024-08-29T18:49:31.075Z"
   },
   {
    "duration": 993,
    "start_time": "2024-08-29T18:49:31.894Z"
   },
   {
    "duration": 873,
    "start_time": "2024-08-29T18:49:32.889Z"
   },
   {
    "duration": 825,
    "start_time": "2024-08-29T18:49:33.763Z"
   },
   {
    "duration": 8,
    "start_time": "2024-08-29T18:49:34.590Z"
   },
   {
    "duration": 17,
    "start_time": "2024-08-29T18:49:34.599Z"
   },
   {
    "duration": 19106,
    "start_time": "2024-08-29T18:49:34.619Z"
   },
   {
    "duration": 0,
    "start_time": "2024-08-29T18:49:53.727Z"
   },
   {
    "duration": 59290,
    "start_time": "2024-08-29T18:50:35.921Z"
   },
   {
    "duration": 11,
    "start_time": "2024-08-29T19:02:23.882Z"
   },
   {
    "duration": 16,
    "start_time": "2024-08-29T19:05:24.656Z"
   },
   {
    "duration": 12,
    "start_time": "2024-08-29T19:05:44.916Z"
   },
   {
    "duration": 35,
    "start_time": "2024-08-29T19:09:45.743Z"
   },
   {
    "duration": 33,
    "start_time": "2024-08-29T19:09:53.590Z"
   },
   {
    "duration": 3443,
    "start_time": "2024-08-29T19:12:09.024Z"
   },
   {
    "duration": 1440,
    "start_time": "2024-08-29T19:12:12.470Z"
   },
   {
    "duration": 6,
    "start_time": "2024-08-29T19:12:13.912Z"
   },
   {
    "duration": 87,
    "start_time": "2024-08-29T19:12:13.920Z"
   },
   {
    "duration": 19,
    "start_time": "2024-08-29T19:12:14.009Z"
   },
   {
    "duration": 38,
    "start_time": "2024-08-29T19:12:14.029Z"
   },
   {
    "duration": 32,
    "start_time": "2024-08-29T19:12:14.069Z"
   },
   {
    "duration": 746,
    "start_time": "2024-08-29T19:12:14.103Z"
   },
   {
    "duration": 978,
    "start_time": "2024-08-29T19:12:14.855Z"
   },
   {
    "duration": 861,
    "start_time": "2024-08-29T19:12:15.835Z"
   },
   {
    "duration": 838,
    "start_time": "2024-08-29T19:12:16.698Z"
   },
   {
    "duration": 18,
    "start_time": "2024-08-29T19:12:17.538Z"
   },
   {
    "duration": 10,
    "start_time": "2024-08-29T19:12:17.558Z"
   },
   {
    "duration": 57678,
    "start_time": "2024-08-29T19:12:17.574Z"
   },
   {
    "duration": 14,
    "start_time": "2024-08-29T19:13:15.254Z"
   },
   {
    "duration": 59,
    "start_time": "2024-08-29T19:17:46.994Z"
   },
   {
    "duration": 3084,
    "start_time": "2024-08-29T19:28:04.221Z"
   },
   {
    "duration": 1432,
    "start_time": "2024-08-29T19:28:07.307Z"
   },
   {
    "duration": 7,
    "start_time": "2024-08-29T19:28:08.741Z"
   },
   {
    "duration": 73,
    "start_time": "2024-08-29T19:28:08.750Z"
   },
   {
    "duration": 20,
    "start_time": "2024-08-29T19:28:08.824Z"
   },
   {
    "duration": 32,
    "start_time": "2024-08-29T19:28:08.846Z"
   },
   {
    "duration": 32,
    "start_time": "2024-08-29T19:28:08.880Z"
   },
   {
    "duration": 761,
    "start_time": "2024-08-29T19:28:08.914Z"
   },
   {
    "duration": 993,
    "start_time": "2024-08-29T19:28:09.677Z"
   },
   {
    "duration": 840,
    "start_time": "2024-08-29T19:28:10.672Z"
   },
   {
    "duration": 773,
    "start_time": "2024-08-29T19:28:11.514Z"
   },
   {
    "duration": 8,
    "start_time": "2024-08-29T19:28:12.289Z"
   },
   {
    "duration": 6,
    "start_time": "2024-08-29T19:28:12.299Z"
   },
   {
    "duration": 60400,
    "start_time": "2024-08-29T19:28:12.306Z"
   },
   {
    "duration": 11,
    "start_time": "2024-08-29T19:29:12.709Z"
   },
   {
    "duration": 3359,
    "start_time": "2024-08-29T19:41:24.953Z"
   },
   {
    "duration": 1375,
    "start_time": "2024-08-29T19:41:28.315Z"
   },
   {
    "duration": 6,
    "start_time": "2024-08-29T19:41:29.691Z"
   },
   {
    "duration": 70,
    "start_time": "2024-08-29T19:41:29.699Z"
   },
   {
    "duration": 19,
    "start_time": "2024-08-29T19:41:29.770Z"
   },
   {
    "duration": 18,
    "start_time": "2024-08-29T19:41:29.791Z"
   },
   {
    "duration": 54,
    "start_time": "2024-08-29T19:41:29.811Z"
   },
   {
    "duration": 721,
    "start_time": "2024-08-29T19:41:29.867Z"
   },
   {
    "duration": 1012,
    "start_time": "2024-08-29T19:41:30.591Z"
   },
   {
    "duration": 852,
    "start_time": "2024-08-29T19:41:31.605Z"
   },
   {
    "duration": 830,
    "start_time": "2024-08-29T19:41:32.458Z"
   },
   {
    "duration": 7,
    "start_time": "2024-08-29T19:41:33.290Z"
   },
   {
    "duration": 147,
    "start_time": "2024-08-29T19:41:33.299Z"
   },
   {
    "duration": 0,
    "start_time": "2024-08-29T19:41:33.447Z"
   },
   {
    "duration": 0,
    "start_time": "2024-08-29T19:41:33.455Z"
   },
   {
    "duration": 5,
    "start_time": "2024-08-29T19:42:20.919Z"
   },
   {
    "duration": 8,
    "start_time": "2024-08-29T19:42:28.905Z"
   },
   {
    "duration": 1208,
    "start_time": "2024-08-29T19:42:33.789Z"
   },
   {
    "duration": 3592,
    "start_time": "2024-08-29T19:43:41.383Z"
   },
   {
    "duration": 1389,
    "start_time": "2024-08-29T19:43:44.977Z"
   },
   {
    "duration": 6,
    "start_time": "2024-08-29T19:43:46.368Z"
   },
   {
    "duration": 100,
    "start_time": "2024-08-29T19:43:46.376Z"
   },
   {
    "duration": 20,
    "start_time": "2024-08-29T19:43:46.477Z"
   },
   {
    "duration": 25,
    "start_time": "2024-08-29T19:43:46.499Z"
   },
   {
    "duration": 58,
    "start_time": "2024-08-29T19:43:46.526Z"
   },
   {
    "duration": 725,
    "start_time": "2024-08-29T19:43:46.586Z"
   },
   {
    "duration": 998,
    "start_time": "2024-08-29T19:43:47.312Z"
   },
   {
    "duration": 838,
    "start_time": "2024-08-29T19:43:48.312Z"
   },
   {
    "duration": 842,
    "start_time": "2024-08-29T19:43:49.155Z"
   },
   {
    "duration": 9,
    "start_time": "2024-08-29T19:43:49.999Z"
   },
   {
    "duration": 29,
    "start_time": "2024-08-29T19:43:50.010Z"
   },
   {
    "duration": 1334,
    "start_time": "2024-08-29T19:43:50.041Z"
   },
   {
    "duration": 0,
    "start_time": "2024-08-29T19:43:51.377Z"
   },
   {
    "duration": 4,
    "start_time": "2024-08-29T19:44:04.899Z"
   },
   {
    "duration": 1012,
    "start_time": "2024-08-29T19:44:21.228Z"
   },
   {
    "duration": 4,
    "start_time": "2024-08-29T19:45:35.597Z"
   },
   {
    "duration": 7,
    "start_time": "2024-08-29T19:47:03.548Z"
   },
   {
    "duration": 3,
    "start_time": "2024-08-29T19:47:08.768Z"
   },
   {
    "duration": 45574,
    "start_time": "2024-08-29T19:47:09.891Z"
   },
   {
    "duration": 3224,
    "start_time": "2024-08-29T19:48:28.797Z"
   },
   {
    "duration": 1469,
    "start_time": "2024-08-29T19:48:32.023Z"
   },
   {
    "duration": 6,
    "start_time": "2024-08-29T19:48:33.495Z"
   },
   {
    "duration": 86,
    "start_time": "2024-08-29T19:48:33.504Z"
   },
   {
    "duration": 20,
    "start_time": "2024-08-29T19:48:33.592Z"
   },
   {
    "duration": 20,
    "start_time": "2024-08-29T19:48:33.613Z"
   },
   {
    "duration": 52,
    "start_time": "2024-08-29T19:48:33.634Z"
   },
   {
    "duration": 752,
    "start_time": "2024-08-29T19:48:33.688Z"
   },
   {
    "duration": 993,
    "start_time": "2024-08-29T19:48:34.442Z"
   },
   {
    "duration": 855,
    "start_time": "2024-08-29T19:48:35.438Z"
   },
   {
    "duration": 784,
    "start_time": "2024-08-29T19:48:36.295Z"
   },
   {
    "duration": 7,
    "start_time": "2024-08-29T19:48:37.081Z"
   },
   {
    "duration": 11,
    "start_time": "2024-08-29T19:48:37.090Z"
   },
   {
    "duration": 47728,
    "start_time": "2024-08-29T19:48:37.103Z"
   },
   {
    "duration": 17,
    "start_time": "2024-08-29T19:49:24.833Z"
   },
   {
    "duration": 6,
    "start_time": "2024-08-29T19:54:21.095Z"
   },
   {
    "duration": 1148,
    "start_time": "2024-08-29T19:55:22.214Z"
   },
   {
    "duration": 5,
    "start_time": "2024-08-29T19:56:16.466Z"
   },
   {
    "duration": 3,
    "start_time": "2024-08-29T19:56:23.799Z"
   },
   {
    "duration": 102,
    "start_time": "2024-08-29T19:56:29.659Z"
   },
   {
    "duration": 17,
    "start_time": "2024-08-29T19:57:05.515Z"
   },
   {
    "duration": 228,
    "start_time": "2024-08-29T19:57:39.228Z"
   },
   {
    "duration": 13,
    "start_time": "2024-08-29T19:58:18.271Z"
   },
   {
    "duration": 7,
    "start_time": "2024-08-29T19:58:34.404Z"
   },
   {
    "duration": 22,
    "start_time": "2024-08-29T19:59:00.789Z"
   },
   {
    "duration": 23,
    "start_time": "2024-08-29T19:59:16.638Z"
   },
   {
    "duration": 57,
    "start_time": "2024-08-29T19:59:30.408Z"
   },
   {
    "duration": 27,
    "start_time": "2024-08-29T19:59:40.401Z"
   },
   {
    "duration": 29,
    "start_time": "2024-08-29T19:59:54.224Z"
   },
   {
    "duration": 28,
    "start_time": "2024-08-29T20:00:16.315Z"
   },
   {
    "duration": 10,
    "start_time": "2024-08-29T20:02:16.294Z"
   },
   {
    "duration": 21,
    "start_time": "2024-08-29T20:02:33.436Z"
   },
   {
    "duration": 3988,
    "start_time": "2024-08-29T20:02:40.974Z"
   },
   {
    "duration": 1497,
    "start_time": "2024-08-29T20:02:44.964Z"
   },
   {
    "duration": 6,
    "start_time": "2024-08-29T20:02:46.463Z"
   },
   {
    "duration": 80,
    "start_time": "2024-08-29T20:02:46.472Z"
   },
   {
    "duration": 20,
    "start_time": "2024-08-29T20:02:46.553Z"
   },
   {
    "duration": 30,
    "start_time": "2024-08-29T20:02:46.575Z"
   },
   {
    "duration": 36,
    "start_time": "2024-08-29T20:02:46.606Z"
   },
   {
    "duration": 733,
    "start_time": "2024-08-29T20:02:46.656Z"
   },
   {
    "duration": 1009,
    "start_time": "2024-08-29T20:02:47.390Z"
   },
   {
    "duration": 846,
    "start_time": "2024-08-29T20:02:48.401Z"
   },
   {
    "duration": 859,
    "start_time": "2024-08-29T20:02:49.255Z"
   },
   {
    "duration": 7,
    "start_time": "2024-08-29T20:02:50.116Z"
   },
   {
    "duration": 11,
    "start_time": "2024-08-29T20:02:50.125Z"
   },
   {
    "duration": 45646,
    "start_time": "2024-08-29T20:02:50.137Z"
   },
   {
    "duration": 12,
    "start_time": "2024-08-29T20:03:35.785Z"
   },
   {
    "duration": 263,
    "start_time": "2024-08-29T20:03:35.799Z"
   },
   {
    "duration": 19,
    "start_time": "2024-08-29T20:06:24.939Z"
   },
   {
    "duration": 3185,
    "start_time": "2024-08-29T20:16:35.267Z"
   },
   {
    "duration": 1457,
    "start_time": "2024-08-29T20:16:38.455Z"
   },
   {
    "duration": 6,
    "start_time": "2024-08-29T20:16:39.913Z"
   },
   {
    "duration": 79,
    "start_time": "2024-08-29T20:16:39.921Z"
   },
   {
    "duration": 19,
    "start_time": "2024-08-29T20:16:40.003Z"
   },
   {
    "duration": 24,
    "start_time": "2024-08-29T20:16:40.024Z"
   },
   {
    "duration": 37,
    "start_time": "2024-08-29T20:16:40.049Z"
   },
   {
    "duration": 747,
    "start_time": "2024-08-29T20:16:40.088Z"
   },
   {
    "duration": 936,
    "start_time": "2024-08-29T20:16:40.837Z"
   },
   {
    "duration": 860,
    "start_time": "2024-08-29T20:16:41.775Z"
   },
   {
    "duration": 831,
    "start_time": "2024-08-29T20:16:42.637Z"
   },
   {
    "duration": 8,
    "start_time": "2024-08-29T20:16:43.470Z"
   },
   {
    "duration": 7,
    "start_time": "2024-08-29T20:16:43.480Z"
   },
   {
    "duration": 45830,
    "start_time": "2024-08-29T20:16:43.489Z"
   },
   {
    "duration": 12,
    "start_time": "2024-08-29T20:17:29.321Z"
   }
  ],
  "kernelspec": {
   "display_name": "Python 3 (ipykernel)",
   "language": "python",
   "name": "python3"
  },
  "language_info": {
   "codemirror_mode": {
    "name": "ipython",
    "version": 3
   },
   "file_extension": ".py",
   "mimetype": "text/x-python",
   "name": "python",
   "nbconvert_exporter": "python",
   "pygments_lexer": "ipython3",
   "version": "3.9.5"
  },
  "toc": {
   "base_numbering": 1,
   "nav_menu": {},
   "number_sections": true,
   "sideBar": true,
   "skip_h1_title": true,
   "title_cell": "План исследования",
   "title_sidebar": "Содержание",
   "toc_cell": true,
   "toc_position": {
    "height": "calc(100% - 180px)",
    "left": "10px",
    "top": "150px",
    "width": "382.391px"
   },
   "toc_section_display": true,
   "toc_window_display": true
  }
 },
 "nbformat": 4,
 "nbformat_minor": 2
}
