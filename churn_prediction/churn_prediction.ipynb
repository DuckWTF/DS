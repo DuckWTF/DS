{
 "cells": [
  {
   "cell_type": "markdown",
   "id": "3afb1864",
   "metadata": {},
   "source": [
    "# Прогноз оттока клиентов телекоммуникационной компании"
   ]
  },
  {
   "cell_type": "markdown",
   "id": "9533a497",
   "metadata": {},
   "source": [
    "Телекоммуникационная компания хочет научиться прогнозировать отток клиентов на основе исторических данных о поведении клиентов и их договоров. Необходимо построить модель, способную предсказывать, уйдёт ли клиент в ближайшее время, чтобы вовремя предложить ему выгодные условия и сохранить его.\n",
    "\n",
    "Цель исследования: построить модель с метрикой ROC AUC не менее 0.85 на тестовой выборке."
   ]
  },
  {
   "cell_type": "markdown",
   "id": "ef9f6978",
   "metadata": {
    "toc": true
   },
   "source": [
    "<h1>План исследования<span class=\"tocSkip\"></span></h1>\n",
    "<div class=\"toc\"><ul class=\"toc-item\"><li><span><a href=\"#Подготовка\" data-toc-modified-id=\"Подготовка-1\"><span class=\"toc-item-num\">1&nbsp;&nbsp;</span>Подготовка</a></span><ul class=\"toc-item\"><li><span><a href=\"#Импорты\" data-toc-modified-id=\"Импорты-1.1\"><span class=\"toc-item-num\">1.1&nbsp;&nbsp;</span>Импорты</a></span></li><li><span><a href=\"#Вспомогательные-функции\" data-toc-modified-id=\"Вспомогательные-функции-1.2\"><span class=\"toc-item-num\">1.2&nbsp;&nbsp;</span>Вспомогательные функции</a></span></li><li><span><a href=\"#Загрузка-данных\" data-toc-modified-id=\"Загрузка-данных-1.3\"><span class=\"toc-item-num\">1.3&nbsp;&nbsp;</span>Загрузка данных</a></span></li><li><span><a href=\"#Первичная-проверка-данных\" data-toc-modified-id=\"Первичная-проверка-данных-1.4\"><span class=\"toc-item-num\">1.4&nbsp;&nbsp;</span>Первичная проверка данных</a></span></li><li><span><a href=\"#Выводы\" data-toc-modified-id=\"Выводы-1.5\"><span class=\"toc-item-num\">1.5&nbsp;&nbsp;</span>Выводы</a></span></li></ul></li><li><span><a href=\"#Обработка-данных\" data-toc-modified-id=\"Обработка-данных-2\"><span class=\"toc-item-num\">2&nbsp;&nbsp;</span>Обработка данных</a></span><ul class=\"toc-item\"><li><span><a href=\"#Предобработка\" data-toc-modified-id=\"Предобработка-2.1\"><span class=\"toc-item-num\">2.1&nbsp;&nbsp;</span>Предобработка</a></span></li><li><span><a href=\"#Обработка\" data-toc-modified-id=\"Обработка-2.2\"><span class=\"toc-item-num\">2.2&nbsp;&nbsp;</span>Обработка</a></span><ul class=\"toc-item\"><li><span><a href=\"#Обработка-contract_new\" data-toc-modified-id=\"Обработка-contract_new-2.2.1\"><span class=\"toc-item-num\">2.2.1&nbsp;&nbsp;</span>Обработка <strong>contract_new</strong></a></span><ul class=\"toc-item\"><li><span><a href=\"#Создание-целевого-признака-active_contract\" data-toc-modified-id=\"Создание-целевого-признака-active_contract-2.2.1.1\"><span class=\"toc-item-num\">2.2.1.1&nbsp;&nbsp;</span>Создание целевого признака <code>active_contract</code></a></span></li><li><span><a href=\"#Создание-признака-duration_contract\" data-toc-modified-id=\"Создание-признака-duration_contract-2.2.1.2\"><span class=\"toc-item-num\">2.2.1.2&nbsp;&nbsp;</span>Создание признака <code>duration_contract</code></a></span></li></ul></li><li><span><a href=\"#Обработка-personal_new\" data-toc-modified-id=\"Обработка-personal_new-2.2.2\"><span class=\"toc-item-num\">2.2.2&nbsp;&nbsp;</span>Обработка <strong>personal_new</strong></a></span></li><li><span><a href=\"#Обработка-internet_new\" data-toc-modified-id=\"Обработка-internet_new-2.2.3\"><span class=\"toc-item-num\">2.2.3&nbsp;&nbsp;</span>Обработка <strong>internet_new</strong></a></span></li></ul></li><li><span><a href=\"#Объединение-данных\" data-toc-modified-id=\"Объединение-данных-2.3\"><span class=\"toc-item-num\">2.3&nbsp;&nbsp;</span>Объединение данных</a></span></li><li><span><a href=\"#Выводы\" data-toc-modified-id=\"Выводы-2.4\"><span class=\"toc-item-num\">2.4&nbsp;&nbsp;</span>Выводы</a></span></li></ul></li><li><span><a href=\"#Исследовательский-анализ-данных\" data-toc-modified-id=\"Исследовательский-анализ-данных-3\"><span class=\"toc-item-num\">3&nbsp;&nbsp;</span>Исследовательский анализ данных</a></span><ul class=\"toc-item\"><li><span><a href=\"#Распределение-целевой-переменной-active_contract\" data-toc-modified-id=\"Распределение-целевой-переменной-active_contract-3.1\"><span class=\"toc-item-num\">3.1&nbsp;&nbsp;</span>Распределение целевой переменной <code>active_contract</code></a></span></li><li><span><a href=\"#Анализ-числовых-признаков\" data-toc-modified-id=\"Анализ-числовых-признаков-3.2\"><span class=\"toc-item-num\">3.2&nbsp;&nbsp;</span>Анализ числовых признаков</a></span></li><li><span><a href=\"#Корреляционный-анализ\" data-toc-modified-id=\"Корреляционный-анализ-3.3\"><span class=\"toc-item-num\">3.3&nbsp;&nbsp;</span>Корреляционный анализ</a></span></li><li><span><a href=\"#Сравнение-ушедших-и-оставшихся-клиентов\" data-toc-modified-id=\"Сравнение-ушедших-и-оставшихся-клиентов-3.4\"><span class=\"toc-item-num\">3.4&nbsp;&nbsp;</span>Сравнение ушедших и оставшихся клиентов</a></span></li><li><span><a href=\"#Выводы\" data-toc-modified-id=\"Выводы-3.5\"><span class=\"toc-item-num\">3.5&nbsp;&nbsp;</span>Выводы</a></span></li></ul></li><li><span><a href=\"#Подготовка-и-обучение-моделей\" data-toc-modified-id=\"Подготовка-и-обучение-моделей-4\"><span class=\"toc-item-num\">4&nbsp;&nbsp;</span>Подготовка и обучение моделей</a></span><ul class=\"toc-item\"><li><span><a href=\"#Разделение-данных-на-обучающую-и-тестовую-выборки\" data-toc-modified-id=\"Разделение-данных-на-обучающую-и-тестовую-выборки-4.1\"><span class=\"toc-item-num\">4.1&nbsp;&nbsp;</span>Разделение данных на обучающую и тестовую выборки</a></span></li><li><span><a href=\"#Обработка-дисбаланса-классов\" data-toc-modified-id=\"Обработка-дисбаланса-классов-4.2\"><span class=\"toc-item-num\">4.2&nbsp;&nbsp;</span>Обработка дисбаланса классов</a></span></li><li><span><a href=\"#Подготовка-данных\" data-toc-modified-id=\"Подготовка-данных-4.3\"><span class=\"toc-item-num\">4.3&nbsp;&nbsp;</span>Подготовка данных</a></span></li><li><span><a href=\"#Обучение-моделей\" data-toc-modified-id=\"Обучение-моделей-4.4\"><span class=\"toc-item-num\">4.4&nbsp;&nbsp;</span>Обучение моделей</a></span><ul class=\"toc-item\"><li><span><a href=\"#Logistic-Regression\" data-toc-modified-id=\"Logistic-Regression-4.4.1\"><span class=\"toc-item-num\">4.4.1&nbsp;&nbsp;</span>Logistic Regression</a></span></li><li><span><a href=\"#RandomForest\" data-toc-modified-id=\"RandomForest-4.4.2\"><span class=\"toc-item-num\">4.4.2&nbsp;&nbsp;</span>RandomForest</a></span></li><li><span><a href=\"#CatBoost\" data-toc-modified-id=\"CatBoost-4.4.3\"><span class=\"toc-item-num\">4.4.3&nbsp;&nbsp;</span>CatBoost</a></span></li></ul></li><li><span><a href=\"#Вывод\" data-toc-modified-id=\"Вывод-4.5\"><span class=\"toc-item-num\">4.5&nbsp;&nbsp;</span>Вывод</a></span></li></ul></li><li><span><a href=\"#Тестирование-лучшей-модели\" data-toc-modified-id=\"Тестирование-лучшей-модели-5\"><span class=\"toc-item-num\">5&nbsp;&nbsp;</span>Тестирование лучшей модели</a></span><ul class=\"toc-item\"><li><span><a href=\"#Проверим-целевые-метрики\" data-toc-modified-id=\"Проверим-целевые-метрики-5.1\"><span class=\"toc-item-num\">5.1&nbsp;&nbsp;</span>Проверим целевые метрики</a></span></li><li><span><a href=\"#Изучим-матрицу-ошибок\" data-toc-modified-id=\"Изучим-матрицу-ошибок-5.2\"><span class=\"toc-item-num\">5.2&nbsp;&nbsp;</span>Изучим матрицу ошибок</a></span></li><li><span><a href=\"#Определим-важность-признаков\" data-toc-modified-id=\"Определим-важность-признаков-5.3\"><span class=\"toc-item-num\">5.3&nbsp;&nbsp;</span>Определим важность признаков</a></span></li><li><span><a href=\"#Вывод\" data-toc-modified-id=\"Вывод-5.4\"><span class=\"toc-item-num\">5.4&nbsp;&nbsp;</span>Вывод</a></span></li></ul></li><li><span><a href=\"#Выводы\" data-toc-modified-id=\"Выводы-6\"><span class=\"toc-item-num\">6&nbsp;&nbsp;</span>Выводы</a></span></li></ul></div>"
   ]
  },
  {
   "cell_type": "markdown",
   "id": "cffd2076",
   "metadata": {},
   "source": [
    "## Подготовка"
   ]
  },
  {
   "cell_type": "markdown",
   "id": "7a584fc4",
   "metadata": {},
   "source": [
    "### Импорты"
   ]
  },
  {
   "cell_type": "code",
   "execution_count": 1,
   "id": "ceafab3c",
   "metadata": {},
   "outputs": [
    {
     "name": "stdout",
     "output_type": "stream",
     "text": [
      "Requirement already satisfied: phik in /opt/conda/lib/python3.9/site-packages (0.12.4)\n",
      "Requirement already satisfied: pandas>=0.25.1 in /opt/conda/lib/python3.9/site-packages (from phik) (1.2.4)\n",
      "Requirement already satisfied: scipy>=1.5.2 in /opt/conda/lib/python3.9/site-packages (from phik) (1.9.1)\n",
      "Requirement already satisfied: numpy>=1.18.0 in /opt/conda/lib/python3.9/site-packages (from phik) (1.21.1)\n",
      "Requirement already satisfied: joblib>=0.14.1 in /opt/conda/lib/python3.9/site-packages (from phik) (1.4.2)\n",
      "Requirement already satisfied: matplotlib>=2.2.3 in /opt/conda/lib/python3.9/site-packages (from phik) (3.3.4)\n",
      "Requirement already satisfied: kiwisolver>=1.0.1 in /opt/conda/lib/python3.9/site-packages (from matplotlib>=2.2.3->phik) (1.4.4)\n",
      "Requirement already satisfied: pillow>=6.2.0 in /opt/conda/lib/python3.9/site-packages (from matplotlib>=2.2.3->phik) (8.4.0)\n",
      "Requirement already satisfied: cycler>=0.10 in /opt/conda/lib/python3.9/site-packages (from matplotlib>=2.2.3->phik) (0.11.0)\n",
      "Requirement already satisfied: pyparsing!=2.0.4,!=2.1.2,!=2.1.6,>=2.0.3 in /opt/conda/lib/python3.9/site-packages (from matplotlib>=2.2.3->phik) (2.4.7)\n",
      "Requirement already satisfied: python-dateutil>=2.1 in /opt/conda/lib/python3.9/site-packages (from matplotlib>=2.2.3->phik) (2.8.1)\n",
      "Requirement already satisfied: pytz>=2017.3 in /opt/conda/lib/python3.9/site-packages (from pandas>=0.25.1->phik) (2021.1)\n",
      "Requirement already satisfied: six>=1.5 in /opt/conda/lib/python3.9/site-packages (from python-dateutil>=2.1->matplotlib>=2.2.3->phik) (1.16.0)\n",
      "Requirement already satisfied: scikit-learn in /opt/conda/lib/python3.9/site-packages (1.5.2)\n",
      "Requirement already satisfied: threadpoolctl>=3.1.0 in /opt/conda/lib/python3.9/site-packages (from scikit-learn) (3.1.0)\n",
      "Requirement already satisfied: scipy>=1.6.0 in /opt/conda/lib/python3.9/site-packages (from scikit-learn) (1.9.1)\n",
      "Requirement already satisfied: joblib>=1.2.0 in /opt/conda/lib/python3.9/site-packages (from scikit-learn) (1.4.2)\n",
      "Requirement already satisfied: numpy>=1.19.5 in /opt/conda/lib/python3.9/site-packages (from scikit-learn) (1.21.1)\n"
     ]
    }
   ],
   "source": [
    "!pip install --upgrade phik\n",
    "!pip install --upgrade scikit-learn "
   ]
  },
  {
   "cell_type": "markdown",
   "id": "e10e20f0",
   "metadata": {},
   "source": [
    "**!НУЖНО ПЕРЕЗАПУСТИТЬ ЯДРО ПОСЛЕ ОБНОВЛЕНИЯ!**"
   ]
  },
  {
   "cell_type": "code",
   "execution_count": 2,
   "id": "6952917c",
   "metadata": {},
   "outputs": [],
   "source": [
    "# Импорт библиотек\n",
    "import phik\n",
    "import pandas as pd\n",
    "import numpy as np\n",
    "import matplotlib.pyplot as plt\n",
    "import seaborn as sns\n",
    "import re\n",
    "import time\n",
    "import warnings\n",
    "\n",
    "from catboost import CatBoostClassifier\n",
    "from phik import phik_matrix\n",
    "from sklearn.model_selection import train_test_split, StratifiedKFold, GridSearchCV, ParameterGrid\n",
    "from sklearn.preprocessing import OneHotEncoder, OrdinalEncoder, StandardScaler, MaxAbsScaler, LabelEncoder\n",
    "from sklearn.compose import ColumnTransformer\n",
    "from sklearn.pipeline import Pipeline\n",
    "from sklearn.metrics import (roc_auc_score, roc_curve, auc, accuracy_score, \n",
    "                             confusion_matrix, ConfusionMatrixDisplay, classification_report)\n",
    "from sklearn.linear_model import LogisticRegression\n",
    "from sklearn.ensemble import RandomForestClassifier\n",
    "from tqdm.notebook import tqdm \n",
    "\n",
    "warnings.filterwarnings('ignore')\n",
    "\n",
    "# Установка глобальной переменной для фиксации рандома\n",
    "RANDOM_STATE = 121124  "
   ]
  },
  {
   "cell_type": "markdown",
   "id": "02e9761a",
   "metadata": {},
   "source": [
    "### Вспомогательные функции"
   ]
  },
  {
   "cell_type": "markdown",
   "id": "2fdee39b",
   "metadata": {},
   "source": [
    "<div class=\"alert alert-success\">\n",
    "<b>✔️ Комментарий ревьювера:</b> Здорово, что подготовил функции для подготовки данных и обучения моделей! \n",
    "    \n",
    "Это делает код лаконичнее 👍\n",
    "\n",
    "</div>"
   ]
  },
  {
   "cell_type": "code",
   "execution_count": 3,
   "id": "f0c0a850",
   "metadata": {},
   "outputs": [],
   "source": [
    "def preprocess_columns(df):\n",
    "    \"\"\"\n",
    "    Приводит названия столбцов к нижнему регистру с подчеркиваниями\n",
    "    и переименовывает 'customerID' или 'customer_Id' в 'customer_id'\n",
    "    \"\"\"\n",
    "    df.columns = [re.sub(r'(?<!^)(?=[A-Z])', '_', col).lower() for col in df.columns]\n",
    "    df.rename(columns={'customer_i_d': 'customer_id', 'customerid': 'customer_id'}, inplace=True)\n",
    "    return df\n",
    "\n",
    "def fill_missing_values(df):\n",
    "    \"\"\"\n",
    "    Заполняет пропущенные значения: для числовых признаков - нулями, для категориальных - строкой 'NoValue'\n",
    "    \"\"\"\n",
    "    for column in df.columns:\n",
    "        if df[column].dtype == 'object':\n",
    "            df[column] = df[column].fillna('NoValue')\n",
    "        else:\n",
    "            df[column] = df[column].fillna(0)\n",
    "    return df\n",
    "\n",
    "def convert_to_datetime(df, columns):\n",
    "    \"\"\"\n",
    "    Преобразует указанные столбцы в формат datetime\n",
    "    \"\"\"\n",
    "    for col in columns:\n",
    "        df[col] = pd.to_datetime(df[col], errors='coerce')\n",
    "    return df\n",
    "\n",
    "    \n",
    "def get_preprocessor(model_type):\n",
    "    \"\"\"\n",
    "    Возвращает ColumnTransformer с соответствующими преобразованиями для числовых и категориальных признаков\n",
    "    \"\"\"\n",
    "    if model_type == 'linear':\n",
    "        numeric_transformer = Pipeline(steps=[\n",
    "            ('scaler', StandardScaler())\n",
    "        ])\n",
    "        categorical_transformer = Pipeline(steps=[\n",
    "            ('ohe', OneHotEncoder(drop='first', handle_unknown='ignore'))\n",
    "        ])\n",
    "    elif model_type == 'other':\n",
    "        numeric_transformer = Pipeline(steps=[\n",
    "            ('scaler', MaxAbsScaler())\n",
    "        ])\n",
    "        categorical_transformer = Pipeline(steps=[\n",
    "            ('ord', OrdinalEncoder())\n",
    "        ])\n",
    "    else:\n",
    "        raise ValueError(\"model_type должен быть 'linear' или 'other'\")\n",
    "    \n",
    "    preprocessor = ColumnTransformer(\n",
    "        transformers=[\n",
    "            ('num', numeric_transformer, [col for col in numeric_features if col in selected_features]),\n",
    "            ('cat', categorical_transformer, [col for col in selected_features if col in categorical_features])\n",
    "        ],\n",
    "        remainder='drop',\n",
    "        verbose_feature_names_out=False\n",
    "    )\n",
    "    return preprocessor\n",
    "\n",
    "def compare_distributions(df, feature, target='active_contract'):\n",
    "    \"\"\"\n",
    "    Строит две гистограммы на одном графике: \n",
    "    для значений признака feature при target = 0 и target = 1.\n",
    "    \n",
    "    Parameters:\n",
    "    - df: pandas.DataFrame - входной датасет\n",
    "    - feature: str - название столбца признака\n",
    "    - target: str - название целевого столбца (по умолчанию 'active_contract')\n",
    "    \"\"\"\n",
    "    plt.figure(figsize=(10, 6))\n",
    "    \n",
    "    # Гистограмма для клиентов, которые ушли (target == 0)\n",
    "    sns.histplot(df[df[target] == 0][feature], \n",
    "                 label='Остались', \n",
    "                 color='green', \n",
    "                 kde=True, \n",
    "                 alpha=0.6)\n",
    "    \n",
    "    # Гистограмма для клиентов, которые остались (target == 1)\n",
    "    sns.histplot(df[df[target] == 1][feature], \n",
    "                 label='Ушли', \n",
    "                 color='blue', \n",
    "                 kde=True, \n",
    "                 alpha=0.6)\n",
    "    \n",
    "    plt.title(f'Сравнение распределений {feature}')\n",
    "    plt.xlabel(feature.replace('_', ' ').title())\n",
    "    plt.ylabel('Частота')\n",
    "    plt.legend()\n",
    "    plt.grid(True)\n",
    "    plt.show()\n",
    "\n",
    "\n",
    "def compare_categorical(df, feature, target='active_contract'):\n",
    "    \"\"\"\n",
    "    Строит групповую столбчатую диаграмму для категориального признака,\n",
    "    показывая распределение для каждой категории по целевому признаку.\n",
    "\n",
    "    Parameters:\n",
    "    - df: pandas.DataFrame - входной датасет\n",
    "    - feature: str - название категориального признака\n",
    "    - target: str - название целевого признака (по умолчанию 'active_contract')\n",
    "    \"\"\"\n",
    "    # Подготовка данных\n",
    "    grouped = df.groupby([feature, target]).size().reset_index(name='count')\n",
    "    pivot_table = grouped.pivot(index=feature, columns=target, values='count').fillna(0)\n",
    "    pivot_table = pivot_table.div(pivot_table.sum(axis=1), axis=0) * 100  # Преобразуем в проценты\n",
    "\n",
    "    # Построение диаграммы\n",
    "    pivot_table.plot(kind='bar', stacked=True, figsize=(10, 6), colormap='viridis', alpha=0.85)\n",
    "    plt.title(f'Распределение {feature.replace(\"_\", \" \").title()} по статусу контракта')\n",
    "    plt.ylabel('Процент')\n",
    "    plt.xlabel(feature.replace('_', ' ').title())\n",
    "    plt.xticks(rotation=45, ha='right')\n",
    "    plt.legend(title='Статус контракта', labels=[ 'Остались','Ушли'])\n",
    "    plt.grid(axis='y', linestyle='--', alpha=0.7)\n",
    "    plt.tight_layout()\n",
    "    plt.show()\n",
    "    \n",
    "# Функция для построения гистограмм\n",
    "def plot_histograms_by_target(df, feature, target='active_contract'):\n",
    "    plt.figure(figsize=(10, 5))\n",
    "    sns.histplot(data=df, x=feature, hue=target, multiple='stack', palette='viridis')\n",
    "    plt.title(f'Распределение {feature} по статусу контракта')\n",
    "    plt.show()"
   ]
  },
  {
   "cell_type": "markdown",
   "id": "7ed89469",
   "metadata": {},
   "source": [
    "### Загрузка данных"
   ]
  },
  {
   "cell_type": "code",
   "execution_count": 4,
   "id": "f00565a0",
   "metadata": {},
   "outputs": [],
   "source": [
    "# Загрузка данных\n",
    "contract_new = pd.read_csv('/datasets/contract_new.csv')\n",
    "personal_new = pd.read_csv('/datasets/personal_new.csv')\n",
    "internet_new = pd.read_csv('/datasets/internet_new.csv')\n",
    "phone_new = pd.read_csv('/datasets/phone_new.csv')"
   ]
  },
  {
   "cell_type": "markdown",
   "id": "979c4908",
   "metadata": {},
   "source": [
    "### Первичная проверка данных"
   ]
  },
  {
   "cell_type": "code",
   "execution_count": 5,
   "id": "2cdd3b76",
   "metadata": {
    "scrolled": false
   },
   "outputs": [
    {
     "data": {
      "text/html": [
       "<div>\n",
       "<style scoped>\n",
       "    .dataframe tbody tr th:only-of-type {\n",
       "        vertical-align: middle;\n",
       "    }\n",
       "\n",
       "    .dataframe tbody tr th {\n",
       "        vertical-align: top;\n",
       "    }\n",
       "\n",
       "    .dataframe thead th {\n",
       "        text-align: right;\n",
       "    }\n",
       "</style>\n",
       "<table border=\"1\" class=\"dataframe\">\n",
       "  <thead>\n",
       "    <tr style=\"text-align: right;\">\n",
       "      <th></th>\n",
       "      <th>customerID</th>\n",
       "      <th>BeginDate</th>\n",
       "      <th>EndDate</th>\n",
       "      <th>Type</th>\n",
       "      <th>PaperlessBilling</th>\n",
       "      <th>PaymentMethod</th>\n",
       "      <th>MonthlyCharges</th>\n",
       "      <th>TotalCharges</th>\n",
       "    </tr>\n",
       "  </thead>\n",
       "  <tbody>\n",
       "    <tr>\n",
       "      <th>0</th>\n",
       "      <td>7590-VHVEG</td>\n",
       "      <td>2020-01-01</td>\n",
       "      <td>No</td>\n",
       "      <td>Month-to-month</td>\n",
       "      <td>Yes</td>\n",
       "      <td>Electronic check</td>\n",
       "      <td>29.85</td>\n",
       "      <td>31.04</td>\n",
       "    </tr>\n",
       "    <tr>\n",
       "      <th>1</th>\n",
       "      <td>5575-GNVDE</td>\n",
       "      <td>2017-04-01</td>\n",
       "      <td>No</td>\n",
       "      <td>One year</td>\n",
       "      <td>No</td>\n",
       "      <td>Mailed check</td>\n",
       "      <td>56.95</td>\n",
       "      <td>2071.84</td>\n",
       "    </tr>\n",
       "    <tr>\n",
       "      <th>2</th>\n",
       "      <td>3668-QPYBK</td>\n",
       "      <td>2019-10-01</td>\n",
       "      <td>No</td>\n",
       "      <td>Month-to-month</td>\n",
       "      <td>Yes</td>\n",
       "      <td>Mailed check</td>\n",
       "      <td>53.85</td>\n",
       "      <td>226.17</td>\n",
       "    </tr>\n",
       "    <tr>\n",
       "      <th>3</th>\n",
       "      <td>7795-CFOCW</td>\n",
       "      <td>2016-05-01</td>\n",
       "      <td>No</td>\n",
       "      <td>One year</td>\n",
       "      <td>No</td>\n",
       "      <td>Bank transfer (automatic)</td>\n",
       "      <td>42.30</td>\n",
       "      <td>1960.6</td>\n",
       "    </tr>\n",
       "    <tr>\n",
       "      <th>4</th>\n",
       "      <td>9237-HQITU</td>\n",
       "      <td>2019-09-01</td>\n",
       "      <td>No</td>\n",
       "      <td>Month-to-month</td>\n",
       "      <td>Yes</td>\n",
       "      <td>Electronic check</td>\n",
       "      <td>70.70</td>\n",
       "      <td>353.5</td>\n",
       "    </tr>\n",
       "  </tbody>\n",
       "</table>\n",
       "</div>"
      ],
      "text/plain": [
       "   customerID   BeginDate EndDate            Type PaperlessBilling  \\\n",
       "0  7590-VHVEG  2020-01-01      No  Month-to-month              Yes   \n",
       "1  5575-GNVDE  2017-04-01      No        One year               No   \n",
       "2  3668-QPYBK  2019-10-01      No  Month-to-month              Yes   \n",
       "3  7795-CFOCW  2016-05-01      No        One year               No   \n",
       "4  9237-HQITU  2019-09-01      No  Month-to-month              Yes   \n",
       "\n",
       "               PaymentMethod  MonthlyCharges TotalCharges  \n",
       "0           Electronic check           29.85        31.04  \n",
       "1               Mailed check           56.95      2071.84  \n",
       "2               Mailed check           53.85       226.17  \n",
       "3  Bank transfer (automatic)           42.30       1960.6  \n",
       "4           Electronic check           70.70        353.5  "
      ]
     },
     "metadata": {},
     "output_type": "display_data"
    },
    {
     "name": "stdout",
     "output_type": "stream",
     "text": [
      "<class 'pandas.core.frame.DataFrame'>\n",
      "RangeIndex: 7043 entries, 0 to 7042\n",
      "Data columns (total 8 columns):\n",
      " #   Column            Non-Null Count  Dtype  \n",
      "---  ------            --------------  -----  \n",
      " 0   customerID        7043 non-null   object \n",
      " 1   BeginDate         7043 non-null   object \n",
      " 2   EndDate           7043 non-null   object \n",
      " 3   Type              7043 non-null   object \n",
      " 4   PaperlessBilling  7043 non-null   object \n",
      " 5   PaymentMethod     7043 non-null   object \n",
      " 6   MonthlyCharges    7043 non-null   float64\n",
      " 7   TotalCharges      7043 non-null   object \n",
      "dtypes: float64(1), object(7)\n",
      "memory usage: 440.3+ KB\n"
     ]
    }
   ],
   "source": [
    "display(contract_new.head())\n",
    "contract_new.info()"
   ]
  },
  {
   "cell_type": "markdown",
   "id": "870c75b7",
   "metadata": {},
   "source": [
    "- У `BeginDate` и `EndDate` тип данных *object*. Позже приветем их к типу datetime, заменив **No** в `EndDate` на дату выгрузки.\n",
    "- У `TotalCharges` тип данных так же *object*, нужно привести его к численному."
   ]
  },
  {
   "cell_type": "code",
   "execution_count": 6,
   "id": "152d2203",
   "metadata": {},
   "outputs": [
    {
     "data": {
      "text/html": [
       "<div>\n",
       "<style scoped>\n",
       "    .dataframe tbody tr th:only-of-type {\n",
       "        vertical-align: middle;\n",
       "    }\n",
       "\n",
       "    .dataframe tbody tr th {\n",
       "        vertical-align: top;\n",
       "    }\n",
       "\n",
       "    .dataframe thead th {\n",
       "        text-align: right;\n",
       "    }\n",
       "</style>\n",
       "<table border=\"1\" class=\"dataframe\">\n",
       "  <thead>\n",
       "    <tr style=\"text-align: right;\">\n",
       "      <th></th>\n",
       "      <th>customerID</th>\n",
       "      <th>gender</th>\n",
       "      <th>SeniorCitizen</th>\n",
       "      <th>Partner</th>\n",
       "      <th>Dependents</th>\n",
       "    </tr>\n",
       "  </thead>\n",
       "  <tbody>\n",
       "    <tr>\n",
       "      <th>0</th>\n",
       "      <td>7590-VHVEG</td>\n",
       "      <td>Female</td>\n",
       "      <td>0</td>\n",
       "      <td>Yes</td>\n",
       "      <td>No</td>\n",
       "    </tr>\n",
       "    <tr>\n",
       "      <th>1</th>\n",
       "      <td>5575-GNVDE</td>\n",
       "      <td>Male</td>\n",
       "      <td>0</td>\n",
       "      <td>No</td>\n",
       "      <td>No</td>\n",
       "    </tr>\n",
       "    <tr>\n",
       "      <th>2</th>\n",
       "      <td>3668-QPYBK</td>\n",
       "      <td>Male</td>\n",
       "      <td>0</td>\n",
       "      <td>No</td>\n",
       "      <td>No</td>\n",
       "    </tr>\n",
       "    <tr>\n",
       "      <th>3</th>\n",
       "      <td>7795-CFOCW</td>\n",
       "      <td>Male</td>\n",
       "      <td>0</td>\n",
       "      <td>No</td>\n",
       "      <td>No</td>\n",
       "    </tr>\n",
       "    <tr>\n",
       "      <th>4</th>\n",
       "      <td>9237-HQITU</td>\n",
       "      <td>Female</td>\n",
       "      <td>0</td>\n",
       "      <td>No</td>\n",
       "      <td>No</td>\n",
       "    </tr>\n",
       "  </tbody>\n",
       "</table>\n",
       "</div>"
      ],
      "text/plain": [
       "   customerID  gender  SeniorCitizen Partner Dependents\n",
       "0  7590-VHVEG  Female              0     Yes         No\n",
       "1  5575-GNVDE    Male              0      No         No\n",
       "2  3668-QPYBK    Male              0      No         No\n",
       "3  7795-CFOCW    Male              0      No         No\n",
       "4  9237-HQITU  Female              0      No         No"
      ]
     },
     "metadata": {},
     "output_type": "display_data"
    },
    {
     "name": "stdout",
     "output_type": "stream",
     "text": [
      "<class 'pandas.core.frame.DataFrame'>\n",
      "RangeIndex: 7043 entries, 0 to 7042\n",
      "Data columns (total 5 columns):\n",
      " #   Column         Non-Null Count  Dtype \n",
      "---  ------         --------------  ----- \n",
      " 0   customerID     7043 non-null   object\n",
      " 1   gender         7043 non-null   object\n",
      " 2   SeniorCitizen  7043 non-null   int64 \n",
      " 3   Partner        7043 non-null   object\n",
      " 4   Dependents     7043 non-null   object\n",
      "dtypes: int64(1), object(4)\n",
      "memory usage: 275.2+ KB\n"
     ]
    }
   ],
   "source": [
    "display(personal_new.head())\n",
    "personal_new.info()"
   ]
  },
  {
   "cell_type": "markdown",
   "id": "99b11b7c",
   "metadata": {},
   "source": [
    "Признак `SeniorCitizen` имеет числовой тип, хотя является категориальным, для корректной обработки пропусков приведем его к типу object."
   ]
  },
  {
   "cell_type": "code",
   "execution_count": 7,
   "id": "90563e03",
   "metadata": {
    "scrolled": false
   },
   "outputs": [
    {
     "data": {
      "text/html": [
       "<div>\n",
       "<style scoped>\n",
       "    .dataframe tbody tr th:only-of-type {\n",
       "        vertical-align: middle;\n",
       "    }\n",
       "\n",
       "    .dataframe tbody tr th {\n",
       "        vertical-align: top;\n",
       "    }\n",
       "\n",
       "    .dataframe thead th {\n",
       "        text-align: right;\n",
       "    }\n",
       "</style>\n",
       "<table border=\"1\" class=\"dataframe\">\n",
       "  <thead>\n",
       "    <tr style=\"text-align: right;\">\n",
       "      <th></th>\n",
       "      <th>customerID</th>\n",
       "      <th>InternetService</th>\n",
       "      <th>OnlineSecurity</th>\n",
       "      <th>OnlineBackup</th>\n",
       "      <th>DeviceProtection</th>\n",
       "      <th>TechSupport</th>\n",
       "      <th>StreamingTV</th>\n",
       "      <th>StreamingMovies</th>\n",
       "    </tr>\n",
       "  </thead>\n",
       "  <tbody>\n",
       "    <tr>\n",
       "      <th>0</th>\n",
       "      <td>7590-VHVEG</td>\n",
       "      <td>DSL</td>\n",
       "      <td>No</td>\n",
       "      <td>Yes</td>\n",
       "      <td>No</td>\n",
       "      <td>No</td>\n",
       "      <td>No</td>\n",
       "      <td>No</td>\n",
       "    </tr>\n",
       "    <tr>\n",
       "      <th>1</th>\n",
       "      <td>5575-GNVDE</td>\n",
       "      <td>DSL</td>\n",
       "      <td>Yes</td>\n",
       "      <td>No</td>\n",
       "      <td>Yes</td>\n",
       "      <td>No</td>\n",
       "      <td>No</td>\n",
       "      <td>No</td>\n",
       "    </tr>\n",
       "    <tr>\n",
       "      <th>2</th>\n",
       "      <td>3668-QPYBK</td>\n",
       "      <td>DSL</td>\n",
       "      <td>Yes</td>\n",
       "      <td>Yes</td>\n",
       "      <td>No</td>\n",
       "      <td>No</td>\n",
       "      <td>No</td>\n",
       "      <td>No</td>\n",
       "    </tr>\n",
       "    <tr>\n",
       "      <th>3</th>\n",
       "      <td>7795-CFOCW</td>\n",
       "      <td>DSL</td>\n",
       "      <td>Yes</td>\n",
       "      <td>No</td>\n",
       "      <td>Yes</td>\n",
       "      <td>Yes</td>\n",
       "      <td>No</td>\n",
       "      <td>No</td>\n",
       "    </tr>\n",
       "    <tr>\n",
       "      <th>4</th>\n",
       "      <td>9237-HQITU</td>\n",
       "      <td>Fiber optic</td>\n",
       "      <td>No</td>\n",
       "      <td>No</td>\n",
       "      <td>No</td>\n",
       "      <td>No</td>\n",
       "      <td>No</td>\n",
       "      <td>No</td>\n",
       "    </tr>\n",
       "  </tbody>\n",
       "</table>\n",
       "</div>"
      ],
      "text/plain": [
       "   customerID InternetService OnlineSecurity OnlineBackup DeviceProtection  \\\n",
       "0  7590-VHVEG             DSL             No          Yes               No   \n",
       "1  5575-GNVDE             DSL            Yes           No              Yes   \n",
       "2  3668-QPYBK             DSL            Yes          Yes               No   \n",
       "3  7795-CFOCW             DSL            Yes           No              Yes   \n",
       "4  9237-HQITU     Fiber optic             No           No               No   \n",
       "\n",
       "  TechSupport StreamingTV StreamingMovies  \n",
       "0          No          No              No  \n",
       "1          No          No              No  \n",
       "2          No          No              No  \n",
       "3         Yes          No              No  \n",
       "4          No          No              No  "
      ]
     },
     "metadata": {},
     "output_type": "display_data"
    },
    {
     "name": "stdout",
     "output_type": "stream",
     "text": [
      "<class 'pandas.core.frame.DataFrame'>\n",
      "RangeIndex: 5517 entries, 0 to 5516\n",
      "Data columns (total 8 columns):\n",
      " #   Column            Non-Null Count  Dtype \n",
      "---  ------            --------------  ----- \n",
      " 0   customerID        5517 non-null   object\n",
      " 1   InternetService   5517 non-null   object\n",
      " 2   OnlineSecurity    5517 non-null   object\n",
      " 3   OnlineBackup      5517 non-null   object\n",
      " 4   DeviceProtection  5517 non-null   object\n",
      " 5   TechSupport       5517 non-null   object\n",
      " 6   StreamingTV       5517 non-null   object\n",
      " 7   StreamingMovies   5517 non-null   object\n",
      "dtypes: object(8)\n",
      "memory usage: 344.9+ KB\n"
     ]
    }
   ],
   "source": [
    "display(internet_new.head())\n",
    "internet_new.info()"
   ]
  },
  {
   "cell_type": "markdown",
   "id": "2a7af060",
   "metadata": {},
   "source": [
    "Строк в этом датасете меньше, очевидно, указаны только пользователи, пользующиеся услугами интернета. Нужно будет учесть это при объединении таблиц."
   ]
  },
  {
   "cell_type": "code",
   "execution_count": 8,
   "id": "4a7b326c",
   "metadata": {},
   "outputs": [
    {
     "data": {
      "text/html": [
       "<div>\n",
       "<style scoped>\n",
       "    .dataframe tbody tr th:only-of-type {\n",
       "        vertical-align: middle;\n",
       "    }\n",
       "\n",
       "    .dataframe tbody tr th {\n",
       "        vertical-align: top;\n",
       "    }\n",
       "\n",
       "    .dataframe thead th {\n",
       "        text-align: right;\n",
       "    }\n",
       "</style>\n",
       "<table border=\"1\" class=\"dataframe\">\n",
       "  <thead>\n",
       "    <tr style=\"text-align: right;\">\n",
       "      <th></th>\n",
       "      <th>customerID</th>\n",
       "      <th>MultipleLines</th>\n",
       "    </tr>\n",
       "  </thead>\n",
       "  <tbody>\n",
       "    <tr>\n",
       "      <th>0</th>\n",
       "      <td>5575-GNVDE</td>\n",
       "      <td>No</td>\n",
       "    </tr>\n",
       "    <tr>\n",
       "      <th>1</th>\n",
       "      <td>3668-QPYBK</td>\n",
       "      <td>No</td>\n",
       "    </tr>\n",
       "    <tr>\n",
       "      <th>2</th>\n",
       "      <td>9237-HQITU</td>\n",
       "      <td>No</td>\n",
       "    </tr>\n",
       "    <tr>\n",
       "      <th>3</th>\n",
       "      <td>9305-CDSKC</td>\n",
       "      <td>Yes</td>\n",
       "    </tr>\n",
       "    <tr>\n",
       "      <th>4</th>\n",
       "      <td>1452-KIOVK</td>\n",
       "      <td>Yes</td>\n",
       "    </tr>\n",
       "  </tbody>\n",
       "</table>\n",
       "</div>"
      ],
      "text/plain": [
       "   customerID MultipleLines\n",
       "0  5575-GNVDE            No\n",
       "1  3668-QPYBK            No\n",
       "2  9237-HQITU            No\n",
       "3  9305-CDSKC           Yes\n",
       "4  1452-KIOVK           Yes"
      ]
     },
     "metadata": {},
     "output_type": "display_data"
    },
    {
     "name": "stdout",
     "output_type": "stream",
     "text": [
      "<class 'pandas.core.frame.DataFrame'>\n",
      "RangeIndex: 6361 entries, 0 to 6360\n",
      "Data columns (total 2 columns):\n",
      " #   Column         Non-Null Count  Dtype \n",
      "---  ------         --------------  ----- \n",
      " 0   customerID     6361 non-null   object\n",
      " 1   MultipleLines  6361 non-null   object\n",
      "dtypes: object(2)\n",
      "memory usage: 99.5+ KB\n"
     ]
    }
   ],
   "source": [
    "display(phone_new.head())\n",
    "phone_new.info()"
   ]
  },
  {
   "cell_type": "markdown",
   "id": "d834f936",
   "metadata": {},
   "source": [
    "- Аналогично  указаны только пользователи, пользующиеся услугами телефонии. \n",
    "- Важно учесть, что признак не бинарный - у пользователя может быть одна линия, несколько, или не быть вовсе."
   ]
  },
  {
   "cell_type": "markdown",
   "id": "1d098701",
   "metadata": {},
   "source": [
    "### Выводы\n",
    "- Данные были загружены без ошибок\n",
    "- Названия столбцов следует привести к нижнему регистру\n",
    "- Столбцы с датами нужно привести к формату *datetime*, `TotalCharges` к *object*.\n",
    "- Целевой признак получим из столбца `EndDate`"
   ]
  },
  {
   "cell_type": "markdown",
   "id": "afede85f",
   "metadata": {},
   "source": [
    "<div class=\"alert alert-success\">\n",
    "<b>✔️ Комментарий ревьювера:</b> Предварительный анализ данных выполнен успешно! \n",
    "    \n",
    "Видно, что потребуется дальнейшая предобработка.\n",
    "    \n",
    "</div>"
   ]
  },
  {
   "cell_type": "markdown",
   "id": "dd8a816f",
   "metadata": {},
   "source": [
    "## Обработка данных "
   ]
  },
  {
   "cell_type": "markdown",
   "id": "020a2a4a",
   "metadata": {},
   "source": [
    "### Предобработка\n",
    "\n",
    "Приведем названия столбцов к нижнему регистру"
   ]
  },
  {
   "cell_type": "code",
   "execution_count": 9,
   "id": "0f1a058f",
   "metadata": {},
   "outputs": [
    {
     "data": {
      "text/html": [
       "<div>\n",
       "<style scoped>\n",
       "    .dataframe tbody tr th:only-of-type {\n",
       "        vertical-align: middle;\n",
       "    }\n",
       "\n",
       "    .dataframe tbody tr th {\n",
       "        vertical-align: top;\n",
       "    }\n",
       "\n",
       "    .dataframe thead th {\n",
       "        text-align: right;\n",
       "    }\n",
       "</style>\n",
       "<table border=\"1\" class=\"dataframe\">\n",
       "  <thead>\n",
       "    <tr style=\"text-align: right;\">\n",
       "      <th></th>\n",
       "      <th>customer_id</th>\n",
       "      <th>begin_date</th>\n",
       "      <th>end_date</th>\n",
       "      <th>type</th>\n",
       "      <th>paperless_billing</th>\n",
       "      <th>payment_method</th>\n",
       "      <th>monthly_charges</th>\n",
       "      <th>total_charges</th>\n",
       "    </tr>\n",
       "  </thead>\n",
       "  <tbody>\n",
       "    <tr>\n",
       "      <th>0</th>\n",
       "      <td>7590-VHVEG</td>\n",
       "      <td>2020-01-01</td>\n",
       "      <td>No</td>\n",
       "      <td>Month-to-month</td>\n",
       "      <td>Yes</td>\n",
       "      <td>Electronic check</td>\n",
       "      <td>29.85</td>\n",
       "      <td>31.04</td>\n",
       "    </tr>\n",
       "    <tr>\n",
       "      <th>1</th>\n",
       "      <td>5575-GNVDE</td>\n",
       "      <td>2017-04-01</td>\n",
       "      <td>No</td>\n",
       "      <td>One year</td>\n",
       "      <td>No</td>\n",
       "      <td>Mailed check</td>\n",
       "      <td>56.95</td>\n",
       "      <td>2071.84</td>\n",
       "    </tr>\n",
       "    <tr>\n",
       "      <th>2</th>\n",
       "      <td>3668-QPYBK</td>\n",
       "      <td>2019-10-01</td>\n",
       "      <td>No</td>\n",
       "      <td>Month-to-month</td>\n",
       "      <td>Yes</td>\n",
       "      <td>Mailed check</td>\n",
       "      <td>53.85</td>\n",
       "      <td>226.17</td>\n",
       "    </tr>\n",
       "    <tr>\n",
       "      <th>3</th>\n",
       "      <td>7795-CFOCW</td>\n",
       "      <td>2016-05-01</td>\n",
       "      <td>No</td>\n",
       "      <td>One year</td>\n",
       "      <td>No</td>\n",
       "      <td>Bank transfer (automatic)</td>\n",
       "      <td>42.30</td>\n",
       "      <td>1960.6</td>\n",
       "    </tr>\n",
       "    <tr>\n",
       "      <th>4</th>\n",
       "      <td>9237-HQITU</td>\n",
       "      <td>2019-09-01</td>\n",
       "      <td>No</td>\n",
       "      <td>Month-to-month</td>\n",
       "      <td>Yes</td>\n",
       "      <td>Electronic check</td>\n",
       "      <td>70.70</td>\n",
       "      <td>353.5</td>\n",
       "    </tr>\n",
       "    <tr>\n",
       "      <th>...</th>\n",
       "      <td>...</td>\n",
       "      <td>...</td>\n",
       "      <td>...</td>\n",
       "      <td>...</td>\n",
       "      <td>...</td>\n",
       "      <td>...</td>\n",
       "      <td>...</td>\n",
       "      <td>...</td>\n",
       "    </tr>\n",
       "    <tr>\n",
       "      <th>7038</th>\n",
       "      <td>6840-RESVB</td>\n",
       "      <td>2018-02-01</td>\n",
       "      <td>No</td>\n",
       "      <td>One year</td>\n",
       "      <td>Yes</td>\n",
       "      <td>Mailed check</td>\n",
       "      <td>84.80</td>\n",
       "      <td>2035.2</td>\n",
       "    </tr>\n",
       "    <tr>\n",
       "      <th>7039</th>\n",
       "      <td>2234-XADUH</td>\n",
       "      <td>2014-02-01</td>\n",
       "      <td>No</td>\n",
       "      <td>One year</td>\n",
       "      <td>Yes</td>\n",
       "      <td>Credit card (automatic)</td>\n",
       "      <td>103.20</td>\n",
       "      <td>7430.4</td>\n",
       "    </tr>\n",
       "    <tr>\n",
       "      <th>7040</th>\n",
       "      <td>4801-JZAZL</td>\n",
       "      <td>2019-03-01</td>\n",
       "      <td>No</td>\n",
       "      <td>Month-to-month</td>\n",
       "      <td>Yes</td>\n",
       "      <td>Electronic check</td>\n",
       "      <td>29.60</td>\n",
       "      <td>325.6</td>\n",
       "    </tr>\n",
       "    <tr>\n",
       "      <th>7041</th>\n",
       "      <td>8361-LTMKD</td>\n",
       "      <td>2019-07-01</td>\n",
       "      <td>No</td>\n",
       "      <td>Month-to-month</td>\n",
       "      <td>Yes</td>\n",
       "      <td>Mailed check</td>\n",
       "      <td>74.40</td>\n",
       "      <td>520.8</td>\n",
       "    </tr>\n",
       "    <tr>\n",
       "      <th>7042</th>\n",
       "      <td>3186-AJIEK</td>\n",
       "      <td>2014-08-01</td>\n",
       "      <td>No</td>\n",
       "      <td>Two year</td>\n",
       "      <td>Yes</td>\n",
       "      <td>Bank transfer (automatic)</td>\n",
       "      <td>105.65</td>\n",
       "      <td>7251.82</td>\n",
       "    </tr>\n",
       "  </tbody>\n",
       "</table>\n",
       "<p>7043 rows × 8 columns</p>\n",
       "</div>"
      ],
      "text/plain": [
       "     customer_id  begin_date end_date            type paperless_billing  \\\n",
       "0     7590-VHVEG  2020-01-01       No  Month-to-month               Yes   \n",
       "1     5575-GNVDE  2017-04-01       No        One year                No   \n",
       "2     3668-QPYBK  2019-10-01       No  Month-to-month               Yes   \n",
       "3     7795-CFOCW  2016-05-01       No        One year                No   \n",
       "4     9237-HQITU  2019-09-01       No  Month-to-month               Yes   \n",
       "...          ...         ...      ...             ...               ...   \n",
       "7038  6840-RESVB  2018-02-01       No        One year               Yes   \n",
       "7039  2234-XADUH  2014-02-01       No        One year               Yes   \n",
       "7040  4801-JZAZL  2019-03-01       No  Month-to-month               Yes   \n",
       "7041  8361-LTMKD  2019-07-01       No  Month-to-month               Yes   \n",
       "7042  3186-AJIEK  2014-08-01       No        Two year               Yes   \n",
       "\n",
       "                 payment_method  monthly_charges total_charges  \n",
       "0              Electronic check            29.85         31.04  \n",
       "1                  Mailed check            56.95       2071.84  \n",
       "2                  Mailed check            53.85        226.17  \n",
       "3     Bank transfer (automatic)            42.30        1960.6  \n",
       "4              Electronic check            70.70         353.5  \n",
       "...                         ...              ...           ...  \n",
       "7038               Mailed check            84.80        2035.2  \n",
       "7039    Credit card (automatic)           103.20        7430.4  \n",
       "7040           Electronic check            29.60         325.6  \n",
       "7041               Mailed check            74.40         520.8  \n",
       "7042  Bank transfer (automatic)           105.65       7251.82  \n",
       "\n",
       "[7043 rows x 8 columns]"
      ]
     },
     "execution_count": 9,
     "metadata": {},
     "output_type": "execute_result"
    }
   ],
   "source": [
    "contract_new = preprocess_columns(contract_new)\n",
    "contract_new"
   ]
  },
  {
   "cell_type": "code",
   "execution_count": 10,
   "id": "b3d2141f",
   "metadata": {},
   "outputs": [
    {
     "data": {
      "text/html": [
       "<div>\n",
       "<style scoped>\n",
       "    .dataframe tbody tr th:only-of-type {\n",
       "        vertical-align: middle;\n",
       "    }\n",
       "\n",
       "    .dataframe tbody tr th {\n",
       "        vertical-align: top;\n",
       "    }\n",
       "\n",
       "    .dataframe thead th {\n",
       "        text-align: right;\n",
       "    }\n",
       "</style>\n",
       "<table border=\"1\" class=\"dataframe\">\n",
       "  <thead>\n",
       "    <tr style=\"text-align: right;\">\n",
       "      <th></th>\n",
       "      <th>customer_id</th>\n",
       "      <th>gender</th>\n",
       "      <th>senior_citizen</th>\n",
       "      <th>partner</th>\n",
       "      <th>dependents</th>\n",
       "    </tr>\n",
       "  </thead>\n",
       "  <tbody>\n",
       "    <tr>\n",
       "      <th>0</th>\n",
       "      <td>7590-VHVEG</td>\n",
       "      <td>Female</td>\n",
       "      <td>0</td>\n",
       "      <td>Yes</td>\n",
       "      <td>No</td>\n",
       "    </tr>\n",
       "    <tr>\n",
       "      <th>1</th>\n",
       "      <td>5575-GNVDE</td>\n",
       "      <td>Male</td>\n",
       "      <td>0</td>\n",
       "      <td>No</td>\n",
       "      <td>No</td>\n",
       "    </tr>\n",
       "    <tr>\n",
       "      <th>2</th>\n",
       "      <td>3668-QPYBK</td>\n",
       "      <td>Male</td>\n",
       "      <td>0</td>\n",
       "      <td>No</td>\n",
       "      <td>No</td>\n",
       "    </tr>\n",
       "    <tr>\n",
       "      <th>3</th>\n",
       "      <td>7795-CFOCW</td>\n",
       "      <td>Male</td>\n",
       "      <td>0</td>\n",
       "      <td>No</td>\n",
       "      <td>No</td>\n",
       "    </tr>\n",
       "    <tr>\n",
       "      <th>4</th>\n",
       "      <td>9237-HQITU</td>\n",
       "      <td>Female</td>\n",
       "      <td>0</td>\n",
       "      <td>No</td>\n",
       "      <td>No</td>\n",
       "    </tr>\n",
       "    <tr>\n",
       "      <th>...</th>\n",
       "      <td>...</td>\n",
       "      <td>...</td>\n",
       "      <td>...</td>\n",
       "      <td>...</td>\n",
       "      <td>...</td>\n",
       "    </tr>\n",
       "    <tr>\n",
       "      <th>7038</th>\n",
       "      <td>6840-RESVB</td>\n",
       "      <td>Male</td>\n",
       "      <td>0</td>\n",
       "      <td>Yes</td>\n",
       "      <td>Yes</td>\n",
       "    </tr>\n",
       "    <tr>\n",
       "      <th>7039</th>\n",
       "      <td>2234-XADUH</td>\n",
       "      <td>Female</td>\n",
       "      <td>0</td>\n",
       "      <td>Yes</td>\n",
       "      <td>Yes</td>\n",
       "    </tr>\n",
       "    <tr>\n",
       "      <th>7040</th>\n",
       "      <td>4801-JZAZL</td>\n",
       "      <td>Female</td>\n",
       "      <td>0</td>\n",
       "      <td>Yes</td>\n",
       "      <td>Yes</td>\n",
       "    </tr>\n",
       "    <tr>\n",
       "      <th>7041</th>\n",
       "      <td>8361-LTMKD</td>\n",
       "      <td>Male</td>\n",
       "      <td>1</td>\n",
       "      <td>Yes</td>\n",
       "      <td>No</td>\n",
       "    </tr>\n",
       "    <tr>\n",
       "      <th>7042</th>\n",
       "      <td>3186-AJIEK</td>\n",
       "      <td>Male</td>\n",
       "      <td>0</td>\n",
       "      <td>No</td>\n",
       "      <td>No</td>\n",
       "    </tr>\n",
       "  </tbody>\n",
       "</table>\n",
       "<p>7043 rows × 5 columns</p>\n",
       "</div>"
      ],
      "text/plain": [
       "     customer_id  gender  senior_citizen partner dependents\n",
       "0     7590-VHVEG  Female               0     Yes         No\n",
       "1     5575-GNVDE    Male               0      No         No\n",
       "2     3668-QPYBK    Male               0      No         No\n",
       "3     7795-CFOCW    Male               0      No         No\n",
       "4     9237-HQITU  Female               0      No         No\n",
       "...          ...     ...             ...     ...        ...\n",
       "7038  6840-RESVB    Male               0     Yes        Yes\n",
       "7039  2234-XADUH  Female               0     Yes        Yes\n",
       "7040  4801-JZAZL  Female               0     Yes        Yes\n",
       "7041  8361-LTMKD    Male               1     Yes         No\n",
       "7042  3186-AJIEK    Male               0      No         No\n",
       "\n",
       "[7043 rows x 5 columns]"
      ]
     },
     "execution_count": 10,
     "metadata": {},
     "output_type": "execute_result"
    }
   ],
   "source": [
    "personal_new = preprocess_columns(personal_new)\n",
    "personal_new"
   ]
  },
  {
   "cell_type": "code",
   "execution_count": 11,
   "id": "635c831f",
   "metadata": {},
   "outputs": [
    {
     "data": {
      "text/html": [
       "<div>\n",
       "<style scoped>\n",
       "    .dataframe tbody tr th:only-of-type {\n",
       "        vertical-align: middle;\n",
       "    }\n",
       "\n",
       "    .dataframe tbody tr th {\n",
       "        vertical-align: top;\n",
       "    }\n",
       "\n",
       "    .dataframe thead th {\n",
       "        text-align: right;\n",
       "    }\n",
       "</style>\n",
       "<table border=\"1\" class=\"dataframe\">\n",
       "  <thead>\n",
       "    <tr style=\"text-align: right;\">\n",
       "      <th></th>\n",
       "      <th>customer_id</th>\n",
       "      <th>internet_service</th>\n",
       "      <th>online_security</th>\n",
       "      <th>online_backup</th>\n",
       "      <th>device_protection</th>\n",
       "      <th>tech_support</th>\n",
       "      <th>streaming_t_v</th>\n",
       "      <th>streaming_movies</th>\n",
       "    </tr>\n",
       "  </thead>\n",
       "  <tbody>\n",
       "    <tr>\n",
       "      <th>0</th>\n",
       "      <td>7590-VHVEG</td>\n",
       "      <td>DSL</td>\n",
       "      <td>No</td>\n",
       "      <td>Yes</td>\n",
       "      <td>No</td>\n",
       "      <td>No</td>\n",
       "      <td>No</td>\n",
       "      <td>No</td>\n",
       "    </tr>\n",
       "    <tr>\n",
       "      <th>1</th>\n",
       "      <td>5575-GNVDE</td>\n",
       "      <td>DSL</td>\n",
       "      <td>Yes</td>\n",
       "      <td>No</td>\n",
       "      <td>Yes</td>\n",
       "      <td>No</td>\n",
       "      <td>No</td>\n",
       "      <td>No</td>\n",
       "    </tr>\n",
       "    <tr>\n",
       "      <th>2</th>\n",
       "      <td>3668-QPYBK</td>\n",
       "      <td>DSL</td>\n",
       "      <td>Yes</td>\n",
       "      <td>Yes</td>\n",
       "      <td>No</td>\n",
       "      <td>No</td>\n",
       "      <td>No</td>\n",
       "      <td>No</td>\n",
       "    </tr>\n",
       "    <tr>\n",
       "      <th>3</th>\n",
       "      <td>7795-CFOCW</td>\n",
       "      <td>DSL</td>\n",
       "      <td>Yes</td>\n",
       "      <td>No</td>\n",
       "      <td>Yes</td>\n",
       "      <td>Yes</td>\n",
       "      <td>No</td>\n",
       "      <td>No</td>\n",
       "    </tr>\n",
       "    <tr>\n",
       "      <th>4</th>\n",
       "      <td>9237-HQITU</td>\n",
       "      <td>Fiber optic</td>\n",
       "      <td>No</td>\n",
       "      <td>No</td>\n",
       "      <td>No</td>\n",
       "      <td>No</td>\n",
       "      <td>No</td>\n",
       "      <td>No</td>\n",
       "    </tr>\n",
       "    <tr>\n",
       "      <th>...</th>\n",
       "      <td>...</td>\n",
       "      <td>...</td>\n",
       "      <td>...</td>\n",
       "      <td>...</td>\n",
       "      <td>...</td>\n",
       "      <td>...</td>\n",
       "      <td>...</td>\n",
       "      <td>...</td>\n",
       "    </tr>\n",
       "    <tr>\n",
       "      <th>5512</th>\n",
       "      <td>6840-RESVB</td>\n",
       "      <td>DSL</td>\n",
       "      <td>Yes</td>\n",
       "      <td>No</td>\n",
       "      <td>Yes</td>\n",
       "      <td>Yes</td>\n",
       "      <td>Yes</td>\n",
       "      <td>Yes</td>\n",
       "    </tr>\n",
       "    <tr>\n",
       "      <th>5513</th>\n",
       "      <td>2234-XADUH</td>\n",
       "      <td>Fiber optic</td>\n",
       "      <td>No</td>\n",
       "      <td>Yes</td>\n",
       "      <td>Yes</td>\n",
       "      <td>No</td>\n",
       "      <td>Yes</td>\n",
       "      <td>Yes</td>\n",
       "    </tr>\n",
       "    <tr>\n",
       "      <th>5514</th>\n",
       "      <td>4801-JZAZL</td>\n",
       "      <td>DSL</td>\n",
       "      <td>Yes</td>\n",
       "      <td>No</td>\n",
       "      <td>No</td>\n",
       "      <td>No</td>\n",
       "      <td>No</td>\n",
       "      <td>No</td>\n",
       "    </tr>\n",
       "    <tr>\n",
       "      <th>5515</th>\n",
       "      <td>8361-LTMKD</td>\n",
       "      <td>Fiber optic</td>\n",
       "      <td>No</td>\n",
       "      <td>No</td>\n",
       "      <td>No</td>\n",
       "      <td>No</td>\n",
       "      <td>No</td>\n",
       "      <td>No</td>\n",
       "    </tr>\n",
       "    <tr>\n",
       "      <th>5516</th>\n",
       "      <td>3186-AJIEK</td>\n",
       "      <td>Fiber optic</td>\n",
       "      <td>Yes</td>\n",
       "      <td>No</td>\n",
       "      <td>Yes</td>\n",
       "      <td>Yes</td>\n",
       "      <td>Yes</td>\n",
       "      <td>Yes</td>\n",
       "    </tr>\n",
       "  </tbody>\n",
       "</table>\n",
       "<p>5517 rows × 8 columns</p>\n",
       "</div>"
      ],
      "text/plain": [
       "     customer_id internet_service online_security online_backup  \\\n",
       "0     7590-VHVEG              DSL              No           Yes   \n",
       "1     5575-GNVDE              DSL             Yes            No   \n",
       "2     3668-QPYBK              DSL             Yes           Yes   \n",
       "3     7795-CFOCW              DSL             Yes            No   \n",
       "4     9237-HQITU      Fiber optic              No            No   \n",
       "...          ...              ...             ...           ...   \n",
       "5512  6840-RESVB              DSL             Yes            No   \n",
       "5513  2234-XADUH      Fiber optic              No           Yes   \n",
       "5514  4801-JZAZL              DSL             Yes            No   \n",
       "5515  8361-LTMKD      Fiber optic              No            No   \n",
       "5516  3186-AJIEK      Fiber optic             Yes            No   \n",
       "\n",
       "     device_protection tech_support streaming_t_v streaming_movies  \n",
       "0                   No           No            No               No  \n",
       "1                  Yes           No            No               No  \n",
       "2                   No           No            No               No  \n",
       "3                  Yes          Yes            No               No  \n",
       "4                   No           No            No               No  \n",
       "...                ...          ...           ...              ...  \n",
       "5512               Yes          Yes           Yes              Yes  \n",
       "5513               Yes           No           Yes              Yes  \n",
       "5514                No           No            No               No  \n",
       "5515                No           No            No               No  \n",
       "5516               Yes          Yes           Yes              Yes  \n",
       "\n",
       "[5517 rows x 8 columns]"
      ]
     },
     "execution_count": 11,
     "metadata": {},
     "output_type": "execute_result"
    }
   ],
   "source": [
    "internet_new = preprocess_columns(internet_new)\n",
    "internet_new"
   ]
  },
  {
   "cell_type": "code",
   "execution_count": 12,
   "id": "c89454a7",
   "metadata": {},
   "outputs": [
    {
     "data": {
      "text/html": [
       "<div>\n",
       "<style scoped>\n",
       "    .dataframe tbody tr th:only-of-type {\n",
       "        vertical-align: middle;\n",
       "    }\n",
       "\n",
       "    .dataframe tbody tr th {\n",
       "        vertical-align: top;\n",
       "    }\n",
       "\n",
       "    .dataframe thead th {\n",
       "        text-align: right;\n",
       "    }\n",
       "</style>\n",
       "<table border=\"1\" class=\"dataframe\">\n",
       "  <thead>\n",
       "    <tr style=\"text-align: right;\">\n",
       "      <th></th>\n",
       "      <th>customer_id</th>\n",
       "      <th>multiple_lines</th>\n",
       "    </tr>\n",
       "  </thead>\n",
       "  <tbody>\n",
       "    <tr>\n",
       "      <th>0</th>\n",
       "      <td>5575-GNVDE</td>\n",
       "      <td>No</td>\n",
       "    </tr>\n",
       "    <tr>\n",
       "      <th>1</th>\n",
       "      <td>3668-QPYBK</td>\n",
       "      <td>No</td>\n",
       "    </tr>\n",
       "    <tr>\n",
       "      <th>2</th>\n",
       "      <td>9237-HQITU</td>\n",
       "      <td>No</td>\n",
       "    </tr>\n",
       "    <tr>\n",
       "      <th>3</th>\n",
       "      <td>9305-CDSKC</td>\n",
       "      <td>Yes</td>\n",
       "    </tr>\n",
       "    <tr>\n",
       "      <th>4</th>\n",
       "      <td>1452-KIOVK</td>\n",
       "      <td>Yes</td>\n",
       "    </tr>\n",
       "    <tr>\n",
       "      <th>...</th>\n",
       "      <td>...</td>\n",
       "      <td>...</td>\n",
       "    </tr>\n",
       "    <tr>\n",
       "      <th>6356</th>\n",
       "      <td>2569-WGERO</td>\n",
       "      <td>No</td>\n",
       "    </tr>\n",
       "    <tr>\n",
       "      <th>6357</th>\n",
       "      <td>6840-RESVB</td>\n",
       "      <td>Yes</td>\n",
       "    </tr>\n",
       "    <tr>\n",
       "      <th>6358</th>\n",
       "      <td>2234-XADUH</td>\n",
       "      <td>Yes</td>\n",
       "    </tr>\n",
       "    <tr>\n",
       "      <th>6359</th>\n",
       "      <td>8361-LTMKD</td>\n",
       "      <td>Yes</td>\n",
       "    </tr>\n",
       "    <tr>\n",
       "      <th>6360</th>\n",
       "      <td>3186-AJIEK</td>\n",
       "      <td>No</td>\n",
       "    </tr>\n",
       "  </tbody>\n",
       "</table>\n",
       "<p>6361 rows × 2 columns</p>\n",
       "</div>"
      ],
      "text/plain": [
       "     customer_id multiple_lines\n",
       "0     5575-GNVDE             No\n",
       "1     3668-QPYBK             No\n",
       "2     9237-HQITU             No\n",
       "3     9305-CDSKC            Yes\n",
       "4     1452-KIOVK            Yes\n",
       "...          ...            ...\n",
       "6356  2569-WGERO             No\n",
       "6357  6840-RESVB            Yes\n",
       "6358  2234-XADUH            Yes\n",
       "6359  8361-LTMKD            Yes\n",
       "6360  3186-AJIEK             No\n",
       "\n",
       "[6361 rows x 2 columns]"
      ]
     },
     "execution_count": 12,
     "metadata": {},
     "output_type": "execute_result"
    }
   ],
   "source": [
    "phone_new = preprocess_columns(phone_new)\n",
    "phone_new"
   ]
  },
  {
   "cell_type": "markdown",
   "id": "4632d623",
   "metadata": {},
   "source": [
    "### Обработка"
   ]
  },
  {
   "cell_type": "markdown",
   "id": "30a8fb18",
   "metadata": {},
   "source": [
    "#### Обработка **contract_new**"
   ]
  },
  {
   "cell_type": "code",
   "execution_count": 13,
   "id": "1d030d26",
   "metadata": {},
   "outputs": [
    {
     "name": "stdout",
     "output_type": "stream",
     "text": [
      "<class 'pandas.core.frame.DataFrame'>\n",
      "RangeIndex: 7043 entries, 0 to 7042\n",
      "Data columns (total 8 columns):\n",
      " #   Column             Non-Null Count  Dtype  \n",
      "---  ------             --------------  -----  \n",
      " 0   customer_id        7043 non-null   object \n",
      " 1   begin_date         7043 non-null   object \n",
      " 2   end_date           7043 non-null   object \n",
      " 3   type               7043 non-null   object \n",
      " 4   paperless_billing  7043 non-null   object \n",
      " 5   payment_method     7043 non-null   object \n",
      " 6   monthly_charges    7043 non-null   float64\n",
      " 7   total_charges      7032 non-null   float64\n",
      "dtypes: float64(2), object(6)\n",
      "memory usage: 440.3+ KB\n"
     ]
    }
   ],
   "source": [
    "#Приведем total_charges к численному типу\n",
    "contract_new['total_charges'] = pd.to_numeric(contract_new['total_charges'], errors='coerce')\n",
    "contract_new.info()"
   ]
  },
  {
   "cell_type": "code",
   "execution_count": 14,
   "id": "0d02b23f",
   "metadata": {
    "scrolled": true
   },
   "outputs": [
    {
     "data": {
      "text/html": [
       "<div>\n",
       "<style scoped>\n",
       "    .dataframe tbody tr th:only-of-type {\n",
       "        vertical-align: middle;\n",
       "    }\n",
       "\n",
       "    .dataframe tbody tr th {\n",
       "        vertical-align: top;\n",
       "    }\n",
       "\n",
       "    .dataframe thead th {\n",
       "        text-align: right;\n",
       "    }\n",
       "</style>\n",
       "<table border=\"1\" class=\"dataframe\">\n",
       "  <thead>\n",
       "    <tr style=\"text-align: right;\">\n",
       "      <th></th>\n",
       "      <th>customer_id</th>\n",
       "      <th>begin_date</th>\n",
       "      <th>end_date</th>\n",
       "      <th>type</th>\n",
       "      <th>paperless_billing</th>\n",
       "      <th>payment_method</th>\n",
       "      <th>monthly_charges</th>\n",
       "      <th>total_charges</th>\n",
       "    </tr>\n",
       "  </thead>\n",
       "  <tbody>\n",
       "    <tr>\n",
       "      <th>488</th>\n",
       "      <td>4472-LVYGI</td>\n",
       "      <td>2020-02-01</td>\n",
       "      <td>No</td>\n",
       "      <td>Two year</td>\n",
       "      <td>Yes</td>\n",
       "      <td>Bank transfer (automatic)</td>\n",
       "      <td>52.55</td>\n",
       "      <td>NaN</td>\n",
       "    </tr>\n",
       "    <tr>\n",
       "      <th>753</th>\n",
       "      <td>3115-CZMZD</td>\n",
       "      <td>2020-02-01</td>\n",
       "      <td>No</td>\n",
       "      <td>Two year</td>\n",
       "      <td>No</td>\n",
       "      <td>Mailed check</td>\n",
       "      <td>20.25</td>\n",
       "      <td>NaN</td>\n",
       "    </tr>\n",
       "    <tr>\n",
       "      <th>936</th>\n",
       "      <td>5709-LVOEQ</td>\n",
       "      <td>2020-02-01</td>\n",
       "      <td>No</td>\n",
       "      <td>Two year</td>\n",
       "      <td>No</td>\n",
       "      <td>Mailed check</td>\n",
       "      <td>80.85</td>\n",
       "      <td>NaN</td>\n",
       "    </tr>\n",
       "    <tr>\n",
       "      <th>1082</th>\n",
       "      <td>4367-NUYAO</td>\n",
       "      <td>2020-02-01</td>\n",
       "      <td>No</td>\n",
       "      <td>Two year</td>\n",
       "      <td>No</td>\n",
       "      <td>Mailed check</td>\n",
       "      <td>25.75</td>\n",
       "      <td>NaN</td>\n",
       "    </tr>\n",
       "    <tr>\n",
       "      <th>1340</th>\n",
       "      <td>1371-DWPAZ</td>\n",
       "      <td>2020-02-01</td>\n",
       "      <td>No</td>\n",
       "      <td>Two year</td>\n",
       "      <td>No</td>\n",
       "      <td>Credit card (automatic)</td>\n",
       "      <td>56.05</td>\n",
       "      <td>NaN</td>\n",
       "    </tr>\n",
       "    <tr>\n",
       "      <th>3331</th>\n",
       "      <td>7644-OMVMY</td>\n",
       "      <td>2020-02-01</td>\n",
       "      <td>No</td>\n",
       "      <td>Two year</td>\n",
       "      <td>No</td>\n",
       "      <td>Mailed check</td>\n",
       "      <td>19.85</td>\n",
       "      <td>NaN</td>\n",
       "    </tr>\n",
       "    <tr>\n",
       "      <th>3826</th>\n",
       "      <td>3213-VVOLG</td>\n",
       "      <td>2020-02-01</td>\n",
       "      <td>No</td>\n",
       "      <td>Two year</td>\n",
       "      <td>No</td>\n",
       "      <td>Mailed check</td>\n",
       "      <td>25.35</td>\n",
       "      <td>NaN</td>\n",
       "    </tr>\n",
       "    <tr>\n",
       "      <th>4380</th>\n",
       "      <td>2520-SGTTA</td>\n",
       "      <td>2020-02-01</td>\n",
       "      <td>No</td>\n",
       "      <td>Two year</td>\n",
       "      <td>No</td>\n",
       "      <td>Mailed check</td>\n",
       "      <td>20.00</td>\n",
       "      <td>NaN</td>\n",
       "    </tr>\n",
       "    <tr>\n",
       "      <th>5218</th>\n",
       "      <td>2923-ARZLG</td>\n",
       "      <td>2020-02-01</td>\n",
       "      <td>No</td>\n",
       "      <td>One year</td>\n",
       "      <td>Yes</td>\n",
       "      <td>Mailed check</td>\n",
       "      <td>19.70</td>\n",
       "      <td>NaN</td>\n",
       "    </tr>\n",
       "    <tr>\n",
       "      <th>6670</th>\n",
       "      <td>4075-WKNIU</td>\n",
       "      <td>2020-02-01</td>\n",
       "      <td>No</td>\n",
       "      <td>Two year</td>\n",
       "      <td>No</td>\n",
       "      <td>Mailed check</td>\n",
       "      <td>73.35</td>\n",
       "      <td>NaN</td>\n",
       "    </tr>\n",
       "    <tr>\n",
       "      <th>6754</th>\n",
       "      <td>2775-SEFEE</td>\n",
       "      <td>2020-02-01</td>\n",
       "      <td>No</td>\n",
       "      <td>Two year</td>\n",
       "      <td>Yes</td>\n",
       "      <td>Bank transfer (automatic)</td>\n",
       "      <td>61.90</td>\n",
       "      <td>NaN</td>\n",
       "    </tr>\n",
       "  </tbody>\n",
       "</table>\n",
       "</div>"
      ],
      "text/plain": [
       "     customer_id  begin_date end_date      type paperless_billing  \\\n",
       "488   4472-LVYGI  2020-02-01       No  Two year               Yes   \n",
       "753   3115-CZMZD  2020-02-01       No  Two year                No   \n",
       "936   5709-LVOEQ  2020-02-01       No  Two year                No   \n",
       "1082  4367-NUYAO  2020-02-01       No  Two year                No   \n",
       "1340  1371-DWPAZ  2020-02-01       No  Two year                No   \n",
       "3331  7644-OMVMY  2020-02-01       No  Two year                No   \n",
       "3826  3213-VVOLG  2020-02-01       No  Two year                No   \n",
       "4380  2520-SGTTA  2020-02-01       No  Two year                No   \n",
       "5218  2923-ARZLG  2020-02-01       No  One year               Yes   \n",
       "6670  4075-WKNIU  2020-02-01       No  Two year                No   \n",
       "6754  2775-SEFEE  2020-02-01       No  Two year               Yes   \n",
       "\n",
       "                 payment_method  monthly_charges  total_charges  \n",
       "488   Bank transfer (automatic)            52.55            NaN  \n",
       "753                Mailed check            20.25            NaN  \n",
       "936                Mailed check            80.85            NaN  \n",
       "1082               Mailed check            25.75            NaN  \n",
       "1340    Credit card (automatic)            56.05            NaN  \n",
       "3331               Mailed check            19.85            NaN  \n",
       "3826               Mailed check            25.35            NaN  \n",
       "4380               Mailed check            20.00            NaN  \n",
       "5218               Mailed check            19.70            NaN  \n",
       "6670               Mailed check            73.35            NaN  \n",
       "6754  Bank transfer (automatic)            61.90            NaN  "
      ]
     },
     "execution_count": 14,
     "metadata": {},
     "output_type": "execute_result"
    }
   ],
   "source": [
    "contract_new[contract_new['total_charges'].isnull()] #Изучим пропуски"
   ]
  },
  {
   "cell_type": "markdown",
   "id": "f7626e4b",
   "metadata": {},
   "source": [
    "<div class=\"alert alert-success\">\n",
    "<b>✔️ Комментарий ревьювера:</b> Хорошо, что обратил внимание на пустые строки в признаке TotalCharges!\n",
    "    \n",
    "Как рекомендация, такие пропуски можно заменить месячными значениями платежей.\n",
    "    \n",
    "</div>"
   ]
  },
  {
   "cell_type": "markdown",
   "id": "d7de69e3",
   "metadata": {},
   "source": [
    "Пропуски в данных о сумме оплаты только у абонентов, начавших пользоваться услугами в месяц выгрузки, смело заполним их нулями.\n"
   ]
  },
  {
   "cell_type": "code",
   "execution_count": 15,
   "id": "7dfa880a",
   "metadata": {
    "scrolled": true
   },
   "outputs": [
    {
     "name": "stdout",
     "output_type": "stream",
     "text": [
      "Пропусков в total_charges 0\n"
     ]
    }
   ],
   "source": [
    "contract_new['total_charges'] = contract_new['total_charges'].fillna(0)\n",
    "#Убедимся, что пропусков не осталось\n",
    "print(\"Пропусков в total_charges\", contract_new['total_charges'].isnull().sum() )"
   ]
  },
  {
   "cell_type": "code",
   "execution_count": 16,
   "id": "89aff079",
   "metadata": {},
   "outputs": [],
   "source": [
    "#Приведем данные к нужным типам\n",
    "contract_new['total_charges'] = pd.to_numeric(contract_new['total_charges'], errors='coerce')\n",
    "contract_new['total_charges'] = contract_new['total_charges'].fillna(0)"
   ]
  },
  {
   "cell_type": "markdown",
   "id": "006c4287",
   "metadata": {},
   "source": [
    "##### Создание целевого признака `active_contract`"
   ]
  },
  {
   "cell_type": "code",
   "execution_count": 17,
   "id": "ad4270ea",
   "metadata": {},
   "outputs": [],
   "source": [
    "#Преобразуем end_date в признак active_contract\n",
    "contract_new['active_contract'] = contract_new['end_date'].apply(lambda x: 0 if x == 'No' else 1)"
   ]
  },
  {
   "cell_type": "markdown",
   "id": "3b6d00c6",
   "metadata": {},
   "source": [
    "##### Создание признака `duration_contract`"
   ]
  },
  {
   "cell_type": "code",
   "execution_count": 18,
   "id": "638aef6e",
   "metadata": {
    "scrolled": false
   },
   "outputs": [
    {
     "data": {
      "text/html": [
       "<div>\n",
       "<style scoped>\n",
       "    .dataframe tbody tr th:only-of-type {\n",
       "        vertical-align: middle;\n",
       "    }\n",
       "\n",
       "    .dataframe tbody tr th {\n",
       "        vertical-align: top;\n",
       "    }\n",
       "\n",
       "    .dataframe thead th {\n",
       "        text-align: right;\n",
       "    }\n",
       "</style>\n",
       "<table border=\"1\" class=\"dataframe\">\n",
       "  <thead>\n",
       "    <tr style=\"text-align: right;\">\n",
       "      <th></th>\n",
       "      <th>customer_id</th>\n",
       "      <th>type</th>\n",
       "      <th>paperless_billing</th>\n",
       "      <th>payment_method</th>\n",
       "      <th>monthly_charges</th>\n",
       "      <th>total_charges</th>\n",
       "      <th>active_contract</th>\n",
       "      <th>duration_contract</th>\n",
       "    </tr>\n",
       "  </thead>\n",
       "  <tbody>\n",
       "    <tr>\n",
       "      <th>0</th>\n",
       "      <td>7590-VHVEG</td>\n",
       "      <td>Month-to-month</td>\n",
       "      <td>Yes</td>\n",
       "      <td>Electronic check</td>\n",
       "      <td>29.85</td>\n",
       "      <td>31.04</td>\n",
       "      <td>0</td>\n",
       "      <td>31</td>\n",
       "    </tr>\n",
       "    <tr>\n",
       "      <th>1</th>\n",
       "      <td>5575-GNVDE</td>\n",
       "      <td>One year</td>\n",
       "      <td>No</td>\n",
       "      <td>Mailed check</td>\n",
       "      <td>56.95</td>\n",
       "      <td>2071.84</td>\n",
       "      <td>0</td>\n",
       "      <td>1036</td>\n",
       "    </tr>\n",
       "    <tr>\n",
       "      <th>2</th>\n",
       "      <td>3668-QPYBK</td>\n",
       "      <td>Month-to-month</td>\n",
       "      <td>Yes</td>\n",
       "      <td>Mailed check</td>\n",
       "      <td>53.85</td>\n",
       "      <td>226.17</td>\n",
       "      <td>0</td>\n",
       "      <td>123</td>\n",
       "    </tr>\n",
       "    <tr>\n",
       "      <th>3</th>\n",
       "      <td>7795-CFOCW</td>\n",
       "      <td>One year</td>\n",
       "      <td>No</td>\n",
       "      <td>Bank transfer (automatic)</td>\n",
       "      <td>42.30</td>\n",
       "      <td>1960.60</td>\n",
       "      <td>0</td>\n",
       "      <td>1371</td>\n",
       "    </tr>\n",
       "    <tr>\n",
       "      <th>4</th>\n",
       "      <td>9237-HQITU</td>\n",
       "      <td>Month-to-month</td>\n",
       "      <td>Yes</td>\n",
       "      <td>Electronic check</td>\n",
       "      <td>70.70</td>\n",
       "      <td>353.50</td>\n",
       "      <td>0</td>\n",
       "      <td>153</td>\n",
       "    </tr>\n",
       "  </tbody>\n",
       "</table>\n",
       "</div>"
      ],
      "text/plain": [
       "  customer_id            type paperless_billing             payment_method  \\\n",
       "0  7590-VHVEG  Month-to-month               Yes           Electronic check   \n",
       "1  5575-GNVDE        One year                No               Mailed check   \n",
       "2  3668-QPYBK  Month-to-month               Yes               Mailed check   \n",
       "3  7795-CFOCW        One year                No  Bank transfer (automatic)   \n",
       "4  9237-HQITU  Month-to-month               Yes           Electronic check   \n",
       "\n",
       "   monthly_charges  total_charges  active_contract  duration_contract  \n",
       "0            29.85          31.04                0                 31  \n",
       "1            56.95        2071.84                0               1036  \n",
       "2            53.85         226.17                0                123  \n",
       "3            42.30        1960.60                0               1371  \n",
       "4            70.70         353.50                0                153  "
      ]
     },
     "execution_count": 18,
     "metadata": {},
     "output_type": "execute_result"
    }
   ],
   "source": [
    "#Замена 'No' в end_date на дату '2020-02-01'\n",
    "contract_new['end_date'] = contract_new['end_date'].replace({'No': '2020-02-01'})\n",
    "\n",
    "#Преобразование дат в datetime\n",
    "contract_new = convert_to_datetime(contract_new, ['begin_date', 'end_date'])\n",
    "\n",
    "#Вычисление duration_contract\n",
    "contract_new['duration_contract'] = (contract_new['end_date'] - contract_new['begin_date']).dt.days\n",
    "\n",
    "#Удаление ненужных столбцов\n",
    "contract_new.drop(['begin_date', 'end_date'], axis=1, inplace=True)\n",
    "contract_new.head()"
   ]
  },
  {
   "cell_type": "markdown",
   "id": "7d8faecd",
   "metadata": {},
   "source": [
    "#### Обработка **personal_new**"
   ]
  },
  {
   "cell_type": "code",
   "execution_count": 19,
   "id": "f6af157b",
   "metadata": {},
   "outputs": [
    {
     "data": {
      "text/html": [
       "<div>\n",
       "<style scoped>\n",
       "    .dataframe tbody tr th:only-of-type {\n",
       "        vertical-align: middle;\n",
       "    }\n",
       "\n",
       "    .dataframe tbody tr th {\n",
       "        vertical-align: top;\n",
       "    }\n",
       "\n",
       "    .dataframe thead th {\n",
       "        text-align: right;\n",
       "    }\n",
       "</style>\n",
       "<table border=\"1\" class=\"dataframe\">\n",
       "  <thead>\n",
       "    <tr style=\"text-align: right;\">\n",
       "      <th></th>\n",
       "      <th>customer_id</th>\n",
       "      <th>gender</th>\n",
       "      <th>senior_citizen</th>\n",
       "      <th>partner</th>\n",
       "      <th>dependents</th>\n",
       "    </tr>\n",
       "  </thead>\n",
       "  <tbody>\n",
       "    <tr>\n",
       "      <th>0</th>\n",
       "      <td>7590-VHVEG</td>\n",
       "      <td>Female</td>\n",
       "      <td>No</td>\n",
       "      <td>Yes</td>\n",
       "      <td>No</td>\n",
       "    </tr>\n",
       "    <tr>\n",
       "      <th>1</th>\n",
       "      <td>5575-GNVDE</td>\n",
       "      <td>Male</td>\n",
       "      <td>No</td>\n",
       "      <td>No</td>\n",
       "      <td>No</td>\n",
       "    </tr>\n",
       "    <tr>\n",
       "      <th>2</th>\n",
       "      <td>3668-QPYBK</td>\n",
       "      <td>Male</td>\n",
       "      <td>No</td>\n",
       "      <td>No</td>\n",
       "      <td>No</td>\n",
       "    </tr>\n",
       "    <tr>\n",
       "      <th>3</th>\n",
       "      <td>7795-CFOCW</td>\n",
       "      <td>Male</td>\n",
       "      <td>No</td>\n",
       "      <td>No</td>\n",
       "      <td>No</td>\n",
       "    </tr>\n",
       "    <tr>\n",
       "      <th>4</th>\n",
       "      <td>9237-HQITU</td>\n",
       "      <td>Female</td>\n",
       "      <td>No</td>\n",
       "      <td>No</td>\n",
       "      <td>No</td>\n",
       "    </tr>\n",
       "  </tbody>\n",
       "</table>\n",
       "</div>"
      ],
      "text/plain": [
       "  customer_id  gender senior_citizen partner dependents\n",
       "0  7590-VHVEG  Female             No     Yes         No\n",
       "1  5575-GNVDE    Male             No      No         No\n",
       "2  3668-QPYBK    Male             No      No         No\n",
       "3  7795-CFOCW    Male             No      No         No\n",
       "4  9237-HQITU  Female             No      No         No"
      ]
     },
     "execution_count": 19,
     "metadata": {},
     "output_type": "execute_result"
    }
   ],
   "source": [
    "#Преобразуем тип senior_citizen для корректной обработки пропусков\n",
    "personal_new['senior_citizen'] = personal_new['senior_citizen'].map({0: 'No', 1: 'Yes'})\n",
    "personal_new.head()"
   ]
  },
  {
   "cell_type": "markdown",
   "id": "f19e2b78",
   "metadata": {},
   "source": [
    "#### Обработка **internet_new**"
   ]
  },
  {
   "cell_type": "code",
   "execution_count": 20,
   "id": "1ccefd8b",
   "metadata": {},
   "outputs": [
    {
     "data": {
      "text/html": [
       "<div>\n",
       "<style scoped>\n",
       "    .dataframe tbody tr th:only-of-type {\n",
       "        vertical-align: middle;\n",
       "    }\n",
       "\n",
       "    .dataframe tbody tr th {\n",
       "        vertical-align: top;\n",
       "    }\n",
       "\n",
       "    .dataframe thead th {\n",
       "        text-align: right;\n",
       "    }\n",
       "</style>\n",
       "<table border=\"1\" class=\"dataframe\">\n",
       "  <thead>\n",
       "    <tr style=\"text-align: right;\">\n",
       "      <th></th>\n",
       "      <th>customer_id</th>\n",
       "      <th>internet_service</th>\n",
       "      <th>online_security</th>\n",
       "      <th>online_backup</th>\n",
       "      <th>device_protection</th>\n",
       "      <th>tech_support</th>\n",
       "      <th>streaming_tv</th>\n",
       "      <th>streaming_movies</th>\n",
       "    </tr>\n",
       "  </thead>\n",
       "  <tbody>\n",
       "    <tr>\n",
       "      <th>0</th>\n",
       "      <td>7590-VHVEG</td>\n",
       "      <td>DSL</td>\n",
       "      <td>No</td>\n",
       "      <td>Yes</td>\n",
       "      <td>No</td>\n",
       "      <td>No</td>\n",
       "      <td>No</td>\n",
       "      <td>No</td>\n",
       "    </tr>\n",
       "    <tr>\n",
       "      <th>1</th>\n",
       "      <td>5575-GNVDE</td>\n",
       "      <td>DSL</td>\n",
       "      <td>Yes</td>\n",
       "      <td>No</td>\n",
       "      <td>Yes</td>\n",
       "      <td>No</td>\n",
       "      <td>No</td>\n",
       "      <td>No</td>\n",
       "    </tr>\n",
       "    <tr>\n",
       "      <th>2</th>\n",
       "      <td>3668-QPYBK</td>\n",
       "      <td>DSL</td>\n",
       "      <td>Yes</td>\n",
       "      <td>Yes</td>\n",
       "      <td>No</td>\n",
       "      <td>No</td>\n",
       "      <td>No</td>\n",
       "      <td>No</td>\n",
       "    </tr>\n",
       "    <tr>\n",
       "      <th>3</th>\n",
       "      <td>7795-CFOCW</td>\n",
       "      <td>DSL</td>\n",
       "      <td>Yes</td>\n",
       "      <td>No</td>\n",
       "      <td>Yes</td>\n",
       "      <td>Yes</td>\n",
       "      <td>No</td>\n",
       "      <td>No</td>\n",
       "    </tr>\n",
       "    <tr>\n",
       "      <th>4</th>\n",
       "      <td>9237-HQITU</td>\n",
       "      <td>Fiber optic</td>\n",
       "      <td>No</td>\n",
       "      <td>No</td>\n",
       "      <td>No</td>\n",
       "      <td>No</td>\n",
       "      <td>No</td>\n",
       "      <td>No</td>\n",
       "    </tr>\n",
       "  </tbody>\n",
       "</table>\n",
       "</div>"
      ],
      "text/plain": [
       "  customer_id internet_service online_security online_backup  \\\n",
       "0  7590-VHVEG              DSL              No           Yes   \n",
       "1  5575-GNVDE              DSL             Yes            No   \n",
       "2  3668-QPYBK              DSL             Yes           Yes   \n",
       "3  7795-CFOCW              DSL             Yes            No   \n",
       "4  9237-HQITU      Fiber optic              No            No   \n",
       "\n",
       "  device_protection tech_support streaming_tv streaming_movies  \n",
       "0                No           No           No               No  \n",
       "1               Yes           No           No               No  \n",
       "2                No           No           No               No  \n",
       "3               Yes          Yes           No               No  \n",
       "4                No           No           No               No  "
      ]
     },
     "execution_count": 20,
     "metadata": {},
     "output_type": "execute_result"
    }
   ],
   "source": [
    "#Переименование столбца 'streaming_t_v' в 'streaming_tv'\n",
    "internet_new.rename(columns={'streaming_t_v': 'streaming_tv'}, inplace=True)\n",
    "internet_new.head()"
   ]
  },
  {
   "cell_type": "markdown",
   "id": "5fb82c3c",
   "metadata": {},
   "source": [
    "### Объединение данных\n",
    "Объединим все данные в одну таблицу."
   ]
  },
  {
   "cell_type": "code",
   "execution_count": 21,
   "id": "7b9348fd",
   "metadata": {},
   "outputs": [
    {
     "data": {
      "text/html": [
       "<div>\n",
       "<style scoped>\n",
       "    .dataframe tbody tr th:only-of-type {\n",
       "        vertical-align: middle;\n",
       "    }\n",
       "\n",
       "    .dataframe tbody tr th {\n",
       "        vertical-align: top;\n",
       "    }\n",
       "\n",
       "    .dataframe thead th {\n",
       "        text-align: right;\n",
       "    }\n",
       "</style>\n",
       "<table border=\"1\" class=\"dataframe\">\n",
       "  <thead>\n",
       "    <tr style=\"text-align: right;\">\n",
       "      <th></th>\n",
       "      <th>customer_id</th>\n",
       "      <th>gender</th>\n",
       "      <th>senior_citizen</th>\n",
       "      <th>partner</th>\n",
       "      <th>dependents</th>\n",
       "      <th>type</th>\n",
       "      <th>paperless_billing</th>\n",
       "      <th>payment_method</th>\n",
       "      <th>monthly_charges</th>\n",
       "      <th>total_charges</th>\n",
       "      <th>active_contract</th>\n",
       "      <th>duration_contract</th>\n",
       "      <th>internet_service</th>\n",
       "      <th>online_security</th>\n",
       "      <th>online_backup</th>\n",
       "      <th>device_protection</th>\n",
       "      <th>tech_support</th>\n",
       "      <th>streaming_tv</th>\n",
       "      <th>streaming_movies</th>\n",
       "      <th>multiple_lines</th>\n",
       "    </tr>\n",
       "  </thead>\n",
       "  <tbody>\n",
       "    <tr>\n",
       "      <th>0</th>\n",
       "      <td>7590-VHVEG</td>\n",
       "      <td>Female</td>\n",
       "      <td>No</td>\n",
       "      <td>Yes</td>\n",
       "      <td>No</td>\n",
       "      <td>Month-to-month</td>\n",
       "      <td>Yes</td>\n",
       "      <td>Electronic check</td>\n",
       "      <td>29.85</td>\n",
       "      <td>31.04</td>\n",
       "      <td>0</td>\n",
       "      <td>31</td>\n",
       "      <td>DSL</td>\n",
       "      <td>No</td>\n",
       "      <td>Yes</td>\n",
       "      <td>No</td>\n",
       "      <td>No</td>\n",
       "      <td>No</td>\n",
       "      <td>No</td>\n",
       "      <td>NoValue</td>\n",
       "    </tr>\n",
       "    <tr>\n",
       "      <th>1</th>\n",
       "      <td>5575-GNVDE</td>\n",
       "      <td>Male</td>\n",
       "      <td>No</td>\n",
       "      <td>No</td>\n",
       "      <td>No</td>\n",
       "      <td>One year</td>\n",
       "      <td>No</td>\n",
       "      <td>Mailed check</td>\n",
       "      <td>56.95</td>\n",
       "      <td>2071.84</td>\n",
       "      <td>0</td>\n",
       "      <td>1036</td>\n",
       "      <td>DSL</td>\n",
       "      <td>Yes</td>\n",
       "      <td>No</td>\n",
       "      <td>Yes</td>\n",
       "      <td>No</td>\n",
       "      <td>No</td>\n",
       "      <td>No</td>\n",
       "      <td>No</td>\n",
       "    </tr>\n",
       "    <tr>\n",
       "      <th>2</th>\n",
       "      <td>3668-QPYBK</td>\n",
       "      <td>Male</td>\n",
       "      <td>No</td>\n",
       "      <td>No</td>\n",
       "      <td>No</td>\n",
       "      <td>Month-to-month</td>\n",
       "      <td>Yes</td>\n",
       "      <td>Mailed check</td>\n",
       "      <td>53.85</td>\n",
       "      <td>226.17</td>\n",
       "      <td>0</td>\n",
       "      <td>123</td>\n",
       "      <td>DSL</td>\n",
       "      <td>Yes</td>\n",
       "      <td>Yes</td>\n",
       "      <td>No</td>\n",
       "      <td>No</td>\n",
       "      <td>No</td>\n",
       "      <td>No</td>\n",
       "      <td>No</td>\n",
       "    </tr>\n",
       "    <tr>\n",
       "      <th>3</th>\n",
       "      <td>7795-CFOCW</td>\n",
       "      <td>Male</td>\n",
       "      <td>No</td>\n",
       "      <td>No</td>\n",
       "      <td>No</td>\n",
       "      <td>One year</td>\n",
       "      <td>No</td>\n",
       "      <td>Bank transfer (automatic)</td>\n",
       "      <td>42.30</td>\n",
       "      <td>1960.60</td>\n",
       "      <td>0</td>\n",
       "      <td>1371</td>\n",
       "      <td>DSL</td>\n",
       "      <td>Yes</td>\n",
       "      <td>No</td>\n",
       "      <td>Yes</td>\n",
       "      <td>Yes</td>\n",
       "      <td>No</td>\n",
       "      <td>No</td>\n",
       "      <td>NoValue</td>\n",
       "    </tr>\n",
       "    <tr>\n",
       "      <th>4</th>\n",
       "      <td>9237-HQITU</td>\n",
       "      <td>Female</td>\n",
       "      <td>No</td>\n",
       "      <td>No</td>\n",
       "      <td>No</td>\n",
       "      <td>Month-to-month</td>\n",
       "      <td>Yes</td>\n",
       "      <td>Electronic check</td>\n",
       "      <td>70.70</td>\n",
       "      <td>353.50</td>\n",
       "      <td>0</td>\n",
       "      <td>153</td>\n",
       "      <td>Fiber optic</td>\n",
       "      <td>No</td>\n",
       "      <td>No</td>\n",
       "      <td>No</td>\n",
       "      <td>No</td>\n",
       "      <td>No</td>\n",
       "      <td>No</td>\n",
       "      <td>No</td>\n",
       "    </tr>\n",
       "    <tr>\n",
       "      <th>...</th>\n",
       "      <td>...</td>\n",
       "      <td>...</td>\n",
       "      <td>...</td>\n",
       "      <td>...</td>\n",
       "      <td>...</td>\n",
       "      <td>...</td>\n",
       "      <td>...</td>\n",
       "      <td>...</td>\n",
       "      <td>...</td>\n",
       "      <td>...</td>\n",
       "      <td>...</td>\n",
       "      <td>...</td>\n",
       "      <td>...</td>\n",
       "      <td>...</td>\n",
       "      <td>...</td>\n",
       "      <td>...</td>\n",
       "      <td>...</td>\n",
       "      <td>...</td>\n",
       "      <td>...</td>\n",
       "      <td>...</td>\n",
       "    </tr>\n",
       "    <tr>\n",
       "      <th>7038</th>\n",
       "      <td>6840-RESVB</td>\n",
       "      <td>Male</td>\n",
       "      <td>No</td>\n",
       "      <td>Yes</td>\n",
       "      <td>Yes</td>\n",
       "      <td>One year</td>\n",
       "      <td>Yes</td>\n",
       "      <td>Mailed check</td>\n",
       "      <td>84.80</td>\n",
       "      <td>2035.20</td>\n",
       "      <td>0</td>\n",
       "      <td>730</td>\n",
       "      <td>DSL</td>\n",
       "      <td>Yes</td>\n",
       "      <td>No</td>\n",
       "      <td>Yes</td>\n",
       "      <td>Yes</td>\n",
       "      <td>Yes</td>\n",
       "      <td>Yes</td>\n",
       "      <td>Yes</td>\n",
       "    </tr>\n",
       "    <tr>\n",
       "      <th>7039</th>\n",
       "      <td>2234-XADUH</td>\n",
       "      <td>Female</td>\n",
       "      <td>No</td>\n",
       "      <td>Yes</td>\n",
       "      <td>Yes</td>\n",
       "      <td>One year</td>\n",
       "      <td>Yes</td>\n",
       "      <td>Credit card (automatic)</td>\n",
       "      <td>103.20</td>\n",
       "      <td>7430.40</td>\n",
       "      <td>0</td>\n",
       "      <td>2191</td>\n",
       "      <td>Fiber optic</td>\n",
       "      <td>No</td>\n",
       "      <td>Yes</td>\n",
       "      <td>Yes</td>\n",
       "      <td>No</td>\n",
       "      <td>Yes</td>\n",
       "      <td>Yes</td>\n",
       "      <td>Yes</td>\n",
       "    </tr>\n",
       "    <tr>\n",
       "      <th>7040</th>\n",
       "      <td>4801-JZAZL</td>\n",
       "      <td>Female</td>\n",
       "      <td>No</td>\n",
       "      <td>Yes</td>\n",
       "      <td>Yes</td>\n",
       "      <td>Month-to-month</td>\n",
       "      <td>Yes</td>\n",
       "      <td>Electronic check</td>\n",
       "      <td>29.60</td>\n",
       "      <td>325.60</td>\n",
       "      <td>0</td>\n",
       "      <td>337</td>\n",
       "      <td>DSL</td>\n",
       "      <td>Yes</td>\n",
       "      <td>No</td>\n",
       "      <td>No</td>\n",
       "      <td>No</td>\n",
       "      <td>No</td>\n",
       "      <td>No</td>\n",
       "      <td>NoValue</td>\n",
       "    </tr>\n",
       "    <tr>\n",
       "      <th>7041</th>\n",
       "      <td>8361-LTMKD</td>\n",
       "      <td>Male</td>\n",
       "      <td>Yes</td>\n",
       "      <td>Yes</td>\n",
       "      <td>No</td>\n",
       "      <td>Month-to-month</td>\n",
       "      <td>Yes</td>\n",
       "      <td>Mailed check</td>\n",
       "      <td>74.40</td>\n",
       "      <td>520.80</td>\n",
       "      <td>0</td>\n",
       "      <td>215</td>\n",
       "      <td>Fiber optic</td>\n",
       "      <td>No</td>\n",
       "      <td>No</td>\n",
       "      <td>No</td>\n",
       "      <td>No</td>\n",
       "      <td>No</td>\n",
       "      <td>No</td>\n",
       "      <td>Yes</td>\n",
       "    </tr>\n",
       "    <tr>\n",
       "      <th>7042</th>\n",
       "      <td>3186-AJIEK</td>\n",
       "      <td>Male</td>\n",
       "      <td>No</td>\n",
       "      <td>No</td>\n",
       "      <td>No</td>\n",
       "      <td>Two year</td>\n",
       "      <td>Yes</td>\n",
       "      <td>Bank transfer (automatic)</td>\n",
       "      <td>105.65</td>\n",
       "      <td>7251.82</td>\n",
       "      <td>0</td>\n",
       "      <td>2010</td>\n",
       "      <td>Fiber optic</td>\n",
       "      <td>Yes</td>\n",
       "      <td>No</td>\n",
       "      <td>Yes</td>\n",
       "      <td>Yes</td>\n",
       "      <td>Yes</td>\n",
       "      <td>Yes</td>\n",
       "      <td>No</td>\n",
       "    </tr>\n",
       "  </tbody>\n",
       "</table>\n",
       "<p>7043 rows × 20 columns</p>\n",
       "</div>"
      ],
      "text/plain": [
       "     customer_id  gender senior_citizen partner dependents            type  \\\n",
       "0     7590-VHVEG  Female             No     Yes         No  Month-to-month   \n",
       "1     5575-GNVDE    Male             No      No         No        One year   \n",
       "2     3668-QPYBK    Male             No      No         No  Month-to-month   \n",
       "3     7795-CFOCW    Male             No      No         No        One year   \n",
       "4     9237-HQITU  Female             No      No         No  Month-to-month   \n",
       "...          ...     ...            ...     ...        ...             ...   \n",
       "7038  6840-RESVB    Male             No     Yes        Yes        One year   \n",
       "7039  2234-XADUH  Female             No     Yes        Yes        One year   \n",
       "7040  4801-JZAZL  Female             No     Yes        Yes  Month-to-month   \n",
       "7041  8361-LTMKD    Male            Yes     Yes         No  Month-to-month   \n",
       "7042  3186-AJIEK    Male             No      No         No        Two year   \n",
       "\n",
       "     paperless_billing             payment_method  monthly_charges  \\\n",
       "0                  Yes           Electronic check            29.85   \n",
       "1                   No               Mailed check            56.95   \n",
       "2                  Yes               Mailed check            53.85   \n",
       "3                   No  Bank transfer (automatic)            42.30   \n",
       "4                  Yes           Electronic check            70.70   \n",
       "...                ...                        ...              ...   \n",
       "7038               Yes               Mailed check            84.80   \n",
       "7039               Yes    Credit card (automatic)           103.20   \n",
       "7040               Yes           Electronic check            29.60   \n",
       "7041               Yes               Mailed check            74.40   \n",
       "7042               Yes  Bank transfer (automatic)           105.65   \n",
       "\n",
       "      total_charges  active_contract  duration_contract internet_service  \\\n",
       "0             31.04                0                 31              DSL   \n",
       "1           2071.84                0               1036              DSL   \n",
       "2            226.17                0                123              DSL   \n",
       "3           1960.60                0               1371              DSL   \n",
       "4            353.50                0                153      Fiber optic   \n",
       "...             ...              ...                ...              ...   \n",
       "7038        2035.20                0                730              DSL   \n",
       "7039        7430.40                0               2191      Fiber optic   \n",
       "7040         325.60                0                337              DSL   \n",
       "7041         520.80                0                215      Fiber optic   \n",
       "7042        7251.82                0               2010      Fiber optic   \n",
       "\n",
       "     online_security online_backup device_protection tech_support  \\\n",
       "0                 No           Yes                No           No   \n",
       "1                Yes            No               Yes           No   \n",
       "2                Yes           Yes                No           No   \n",
       "3                Yes            No               Yes          Yes   \n",
       "4                 No            No                No           No   \n",
       "...              ...           ...               ...          ...   \n",
       "7038             Yes            No               Yes          Yes   \n",
       "7039              No           Yes               Yes           No   \n",
       "7040             Yes            No                No           No   \n",
       "7041              No            No                No           No   \n",
       "7042             Yes            No               Yes          Yes   \n",
       "\n",
       "     streaming_tv streaming_movies multiple_lines  \n",
       "0              No               No        NoValue  \n",
       "1              No               No             No  \n",
       "2              No               No             No  \n",
       "3              No               No        NoValue  \n",
       "4              No               No             No  \n",
       "...           ...              ...            ...  \n",
       "7038          Yes              Yes            Yes  \n",
       "7039          Yes              Yes            Yes  \n",
       "7040           No               No        NoValue  \n",
       "7041           No               No            Yes  \n",
       "7042          Yes              Yes             No  \n",
       "\n",
       "[7043 rows x 20 columns]"
      ]
     },
     "execution_count": 21,
     "metadata": {},
     "output_type": "execute_result"
    }
   ],
   "source": [
    "#Объединение данных\n",
    "total_new = personal_new.merge(contract_new, on='customer_id', how='left')\n",
    "total_new = total_new.merge(internet_new, on='customer_id', how='left')\n",
    "total_new = total_new.merge(phone_new, on='customer_id', how='left')\n",
    "\n",
    "#Заполнение пропущенных значений\n",
    "total_new = fill_missing_values(total_new)\n",
    "\n",
    "#Приведение типов данных\n",
    "total_new['total_charges'] = total_new['total_charges'].astype(float)\n",
    "total_new['monthly_charges'] = total_new['monthly_charges'].astype(float)\n",
    "total_new['duration_contract'] = total_new['duration_contract'].astype(int)\n",
    "total_new['active_contract'] = total_new['active_contract'].astype(int)\n",
    "total_new"
   ]
  },
  {
   "cell_type": "markdown",
   "id": "6e32336d",
   "metadata": {},
   "source": [
    "### Выводы"
   ]
  },
  {
   "cell_type": "markdown",
   "id": "0da72457",
   "metadata": {},
   "source": [
    "- Привели названия столбцов к нижнему регистру\n",
    "- Привели данные к нужному типу\n",
    "- Обработали пропуски корректными и маркерными значениями\n",
    "- Создали целевой признак `active_contract`\n",
    "- Создали признак `duration_contract`\n",
    "- Объединили данные в общую таблицу\n"
   ]
  },
  {
   "cell_type": "markdown",
   "id": "ae9a00dd",
   "metadata": {},
   "source": [
    "## Исследовательский анализ данных "
   ]
  },
  {
   "cell_type": "markdown",
   "id": "701d52dc",
   "metadata": {},
   "source": [
    "### Распределение целевой переменной `active_contract`\n",
    "Изучим распределение целевого признака."
   ]
  },
  {
   "cell_type": "code",
   "execution_count": 22,
   "id": "f6697c7f",
   "metadata": {
    "scrolled": false
   },
   "outputs": [
    {
     "data": {
      "image/png": "[encoded data removed]",
      "text/plain": [
       "<Figure size 432x288 with 1 Axes>"
      ]
     },
     "metadata": {
      "needs_background": "light"
     },
     "output_type": "display_data"
    },
    {
     "name": "stdout",
     "output_type": "stream",
     "text": [
      "Процент ушедших клиентов: 84.37%\n",
      "Процент активных клиентов: 15.63%\n"
     ]
    }
   ],
   "source": [
    "#Распределение целевой переменной\n",
    "sns.countplot(data=total_new, x='active_contract', palette='viridis')\n",
    "plt.title('Распределение активных и ушедших клиентов')\n",
    "plt.xlabel('Статус контракта (0 - ушел, 1 - активен)')\n",
    "plt.ylabel('Количество клиентов')\n",
    "plt.show()\n",
    "\n",
    "#Вывод процентного соотношения\n",
    "active_counts = total_new['active_contract'].value_counts(normalize=True) * 100\n",
    "print(f\"Процент ушедших клиентов: {active_counts[0]:.2f}%\")\n",
    "print(f\"Процент активных клиентов: {active_counts[1]:.2f}%\")\n",
    "\n"
   ]
  },
  {
   "cell_type": "markdown",
   "id": "5197b4a1",
   "metadata": {},
   "source": [
    "- Доля ушедших клиентов составляет 84.37%, активных - 15.63%.\n",
    "- Наблюдается дисбаланс классов, что необходимо учесть при обучении моделей."
   ]
  },
  {
   "cell_type": "markdown",
   "id": "9b401d7e",
   "metadata": {},
   "source": [
    "### Анализ числовых признаков"
   ]
  },
  {
   "cell_type": "markdown",
   "id": "c45dfe9c",
   "metadata": {},
   "source": [
    "Изучим распределение числовых признаков."
   ]
  },
  {
   "cell_type": "code",
   "execution_count": 23,
   "id": "793581f0",
   "metadata": {},
   "outputs": [
    {
     "data": {
      "image/png": "[encoded data removed]",
      "text/plain": [
       "<Figure size 1080x360 with 3 Axes>"
      ]
     },
     "metadata": {
      "needs_background": "light"
     },
     "output_type": "display_data"
    }
   ],
   "source": [
    "#Список числовых признаков\n",
    "numeric_features = ['monthly_charges', 'total_charges', 'duration_contract']\n",
    "\n",
    "#Гистограммы числовых признаков\n",
    "total_new[numeric_features].hist(bins=20, figsize=(15, 5), layout=(1, 3))\n",
    "plt.show()"
   ]
  },
  {
   "cell_type": "markdown",
   "id": "1e4b4cb6",
   "metadata": {},
   "source": [
    "- Распределение `monthly_charges` имеет правосторонний характер.\n",
    "- `total_charges` также смещен вправо.\n",
    "- `duration_contract` показывает, что многие клиенты имеют контракты длительностью до 500 дней."
   ]
  },
  {
   "cell_type": "markdown",
   "id": "fc14f1d4",
   "metadata": {},
   "source": [
    "### Корреляционный анализ"
   ]
  },
  {
   "cell_type": "markdown",
   "id": "198ab60d",
   "metadata": {},
   "source": [
    "Проверим кореляцию "
   ]
  },
  {
   "cell_type": "code",
   "execution_count": 24,
   "id": "b28c2c2c",
   "metadata": {
    "scrolled": false
   },
   "outputs": [
    {
     "data": {
      "image/png": "[encoded data removed]",
      "text/plain": [
       "<Figure size 576x432 with 2 Axes>"
      ]
     },
     "metadata": {
      "needs_background": "light"
     },
     "output_type": "display_data"
    }
   ],
   "source": [
    "#Матрица корреляции\n",
    "#Выбор только числовых признаков вместе с целевой переменной\n",
    "numeric_features = ['monthly_charges', 'total_charges', 'duration_contract', 'active_contract']\n",
    "\n",
    "#Вычисление матрицы корреляций Phik\n",
    "phik_corr_numeric = total_new[numeric_features].phik_matrix(interval_cols=['monthly_charges', 'total_charges', 'duration_contract'])\n",
    "\n",
    "#Отображение матрицы корреляций\n",
    "plt.figure(figsize=(8, 6))\n",
    "sns.heatmap(phik_corr_numeric, annot=True, cmap='coolwarm', fmt=\".2f\")\n",
    "plt.title('Phik Корреляционная матрица для числовых признаков')\n",
    "plt.show()"
   ]
  },
  {
   "cell_type": "code",
   "execution_count": 25,
   "id": "31e08f8e",
   "metadata": {
    "scrolled": false
   },
   "outputs": [
    {
     "name": "stdout",
     "output_type": "stream",
     "text": [
      "interval columns not set, guessing: ['monthly_charges', 'total_charges', 'active_contract', 'duration_contract']\n"
     ]
    },
    {
     "data": {
      "image/png": "[encoded data removed]",
      "text/plain": [
       "<Figure size 1440x1296 with 2 Axes>"
      ]
     },
     "metadata": {
      "needs_background": "light"
     },
     "output_type": "display_data"
    }
   ],
   "source": [
    "#Выбор всех признаков, исключая 'customer_id'\n",
    "all_features = total_new.drop(['customer_id'], axis=1)\n",
    "\n",
    "#Вычисление матрицы корреляций Phik\n",
    "phik_corr_all = all_features.phik_matrix()\n",
    "\n",
    "#Отображение матрицы корреляций\n",
    "plt.figure(figsize=(20, 18))\n",
    "sns.heatmap(phik_corr_all, annot=False, cmap='viridis')\n",
    "plt.title('Phik Корреляционная матрица для всех признаков')\n",
    "plt.show()\n",
    "\n",
    "\n"
   ]
  },
  {
   "cell_type": "markdown",
   "id": "b491ebd6",
   "metadata": {},
   "source": [
    "Видно, что признаки `internet_service`, `online_security`, `online_backup`, `device_protection`, `tech_support`, `streaming_tv` и `streaming_movies` все имеют высокую корреляцию друг с другом. Оставим только тот, который больше всего коррелирует с целевым признаком"
   ]
  },
  {
   "cell_type": "markdown",
   "id": "7d7c0260",
   "metadata": {},
   "source": [
    "- Есть сильная положительная корреляция между `monthly_charges` и `total_charges`.\n",
    "- Целевая переменная `active_contract` отрицательно коррелирует с `duration_contract` и `total_charges`, что указывает на то, что длительные контракты и большие суммы платежей связаны с меньшей вероятностью оттока.\n"
   ]
  },
  {
   "cell_type": "code",
   "execution_count": 26,
   "id": "f863634d",
   "metadata": {
    "scrolled": false
   },
   "outputs": [
    {
     "data": {
      "image/png": "[encoded data removed]",
      "text/plain": [
       "<Figure size 864x720 with 2 Axes>"
      ]
     },
     "metadata": {
      "needs_background": "light"
     },
     "output_type": "display_data"
    }
   ],
   "source": [
    "#Вычисление матрицы phik\n",
    "phik_corr = total_new.phik_matrix(interval_cols=numeric_features)\n",
    "\n",
    "#Визуализация матрицы phik\n",
    "plt.figure(figsize=(12, 10))\n",
    "sns.heatmap(phik_corr['active_contract'].sort_values(ascending=False).to_frame(), annot=True, cmap='viridis')\n",
    "plt.title('Корреляция phik с целевой переменной')\n",
    "plt.show()\n"
   ]
  },
  {
   "cell_type": "code",
   "execution_count": 45,
   "id": "21f29345",
   "metadata": {},
   "outputs": [],
   "source": [
    "#Отбор признаков для обучения\n",
    "selected_features = [\n",
    "    'senior_citizen',\n",
    "    'partner',\n",
    "    'dependents',\n",
    "    'type',\n",
    "    'paperless_billing',\n",
    "    'payment_method',\n",
    "    'monthly_charges',\n",
    "    'total_charges',\n",
    "    'duration_contract',\n",
    "    'online_backup',\n",
    "    'multiple_lines'\n",
    "]\n"
   ]
  },
  {
   "cell_type": "markdown",
   "id": "cb88598d",
   "metadata": {},
   "source": [
    "- Признаки `duration_contract`, `total_charges`, `monthly_charges` имеют слабую корреляцию с целевой переменной по phik.\n",
    "- Категориальные признаки, такие как `partner`, `payment_method` и `multiple_lines` также показывают слабую корреляцию с оттоком клиентов."
   ]
  },
  {
   "cell_type": "markdown",
   "id": "89cab23c",
   "metadata": {},
   "source": [
    "### Сравнение ушедших и оставшихся клиентов"
   ]
  },
  {
   "cell_type": "code",
   "execution_count": 28,
   "id": "628423a4",
   "metadata": {
    "scrolled": false
   },
   "outputs": [
    {
     "data": {
      "image/png": "[encoded data removed]",
      "text/plain": [
       "<Figure size 720x432 with 1 Axes>"
      ]
     },
     "metadata": {
      "needs_background": "light"
     },
     "output_type": "display_data"
    }
   ],
   "source": [
    "compare_distributions(total_new, 'monthly_charges')"
   ]
  },
  {
   "cell_type": "markdown",
   "id": "0eebc990",
   "metadata": {},
   "source": [
    "- Клиенты с высокими ежемесячными платежами более склонны к оттоку. \n",
    "- Клиенты с низкими и средними платежами остаются с большей вероятностью"
   ]
  },
  {
   "cell_type": "code",
   "execution_count": 29,
   "id": "fa9dfb99",
   "metadata": {
    "scrolled": false
   },
   "outputs": [
    {
     "data": {
      "image/png": "[encoded data removed]",
      "text/plain": [
       "<Figure size 720x432 with 1 Axes>"
      ]
     },
     "metadata": {
      "needs_background": "light"
     },
     "output_type": "display_data"
    }
   ],
   "source": [
    "compare_distributions(total_new, 'total_charges')"
   ]
  },
  {
   "cell_type": "markdown",
   "id": "cbe4745f",
   "metadata": {},
   "source": [
    "- Доля ушедших клиентов резко уменьшается с увеличением total_charges."
   ]
  },
  {
   "cell_type": "code",
   "execution_count": 30,
   "id": "e2511717",
   "metadata": {},
   "outputs": [
    {
     "data": {
      "image/png": "[encoded data removed]",
      "text/plain": [
       "<Figure size 720x432 with 1 Axes>"
      ]
     },
     "metadata": {
      "needs_background": "light"
     },
     "output_type": "display_data"
    }
   ],
   "source": [
    "compare_distributions(total_new, 'duration_contract')"
   ]
  },
  {
   "cell_type": "markdown",
   "id": "94c5d8fe",
   "metadata": {},
   "source": [
    "- Отток распределен по длительности контрактов достаточно равномерно с пиком на 1000 дней"
   ]
  },
  {
   "cell_type": "code",
   "execution_count": 31,
   "id": "52a5a98a",
   "metadata": {
    "scrolled": false
   },
   "outputs": [
    {
     "data": {
      "image/png": "[encoded data removed]",
      "text/plain": [
       "<Figure size 720x432 with 1 Axes>"
      ]
     },
     "metadata": {
      "needs_background": "light"
     },
     "output_type": "display_data"
    }
   ],
   "source": [
    "compare_categorical(total_new, 'gender')"
   ]
  },
  {
   "cell_type": "markdown",
   "id": "dea05856",
   "metadata": {},
   "source": [
    "- Пол не является значительным фактором оттока"
   ]
  },
  {
   "cell_type": "code",
   "execution_count": 32,
   "id": "a02429d6",
   "metadata": {
    "scrolled": false
   },
   "outputs": [
    {
     "data": {
      "image/png": "[encoded data removed]",
      "text/plain": [
       "<Figure size 720x432 with 1 Axes>"
      ]
     },
     "metadata": {
      "needs_background": "light"
     },
     "output_type": "display_data"
    }
   ],
   "source": [
    "compare_categorical(total_new, 'partner') "
   ]
  },
  {
   "cell_type": "markdown",
   "id": "3e994632",
   "metadata": {},
   "source": [
    "- Пользователи с партнерами уходят в 2 раза чаще, чем одинокие."
   ]
  },
  {
   "cell_type": "code",
   "execution_count": 33,
   "id": "cf3431f5",
   "metadata": {},
   "outputs": [
    {
     "data": {
      "image/png": "[encoded data removed]",
      "text/plain": [
       "<Figure size 720x432 with 1 Axes>"
      ]
     },
     "metadata": {
      "needs_background": "light"
     },
     "output_type": "display_data"
    }
   ],
   "source": [
    "compare_categorical(total_new, 'internet_service')"
   ]
  },
  {
   "cell_type": "markdown",
   "id": "9f91dbad",
   "metadata": {},
   "source": [
    "- Процент оттока пользовательей оптического интернета выше, чем у остальных. Стоит обратить внимание на проблемы с услугой."
   ]
  },
  {
   "cell_type": "code",
   "execution_count": 34,
   "id": "8547db9a",
   "metadata": {},
   "outputs": [
    {
     "data": {
      "image/png": "[encoded data removed]",
      "text/plain": [
       "<Figure size 720x432 with 1 Axes>"
      ]
     },
     "metadata": {
      "needs_background": "light"
     },
     "output_type": "display_data"
    }
   ],
   "source": [
    "compare_categorical(total_new, 'dependents')"
   ]
  },
  {
   "cell_type": "markdown",
   "id": "d12e2e7c",
   "metadata": {},
   "source": [
    "- Процент оттока пользователей с иждевенцами незначительно выше."
   ]
  },
  {
   "cell_type": "code",
   "execution_count": 35,
   "id": "a81b8746",
   "metadata": {
    "scrolled": false
   },
   "outputs": [
    {
     "name": "stdout",
     "output_type": "stream",
     "text": [
      "Сравнение для столбца: type\n"
     ]
    },
    {
     "data": {
      "image/png": "[encoded data removed]",
      "text/plain": [
       "<Figure size 720x432 with 1 Axes>"
      ]
     },
     "metadata": {
      "needs_background": "light"
     },
     "output_type": "display_data"
    },
    {
     "name": "stdout",
     "output_type": "stream",
     "text": [
      "Сравнение для столбца: paperless_billing\n"
     ]
    },
    {
     "data": {
      "image/png": "[encoded data removed]",
      "text/plain": [
       "<Figure size 720x432 with 1 Axes>"
      ]
     },
     "metadata": {
      "needs_background": "light"
     },
     "output_type": "display_data"
    },
    {
     "name": "stdout",
     "output_type": "stream",
     "text": [
      "Сравнение для столбца: payment_method\n"
     ]
    },
    {
     "data": {
      "image/png": "[encoded data removed]",
      "text/plain": [
       "<Figure size 720x432 with 1 Axes>"
      ]
     },
     "metadata": {
      "needs_background": "light"
     },
     "output_type": "display_data"
    },
    {
     "name": "stdout",
     "output_type": "stream",
     "text": [
      "Сравнение для столбца: online_security\n"
     ]
    },
    {
     "data": {
      "image/png": "[encoded data removed]",
      "text/plain": [
       "<Figure size 720x432 with 1 Axes>"
      ]
     },
     "metadata": {
      "needs_background": "light"
     },
     "output_type": "display_data"
    },
    {
     "name": "stdout",
     "output_type": "stream",
     "text": [
      "Сравнение для столбца: online_backup\n"
     ]
    },
    {
     "data": {
      "image/png": "[encoded data removed]",
      "text/plain": [
       "<Figure size 720x432 with 1 Axes>"
      ]
     },
     "metadata": {
      "needs_background": "light"
     },
     "output_type": "display_data"
    },
    {
     "name": "stdout",
     "output_type": "stream",
     "text": [
      "Сравнение для столбца: device_protection\n"
     ]
    },
    {
     "data": {
      "image/png": "[encoded data removed]",
      "text/plain": [
       "<Figure size 720x432 with 1 Axes>"
      ]
     },
     "metadata": {
      "needs_background": "light"
     },
     "output_type": "display_data"
    },
    {
     "name": "stdout",
     "output_type": "stream",
     "text": [
      "Сравнение для столбца: tech_support\n"
     ]
    },
    {
     "data": {
      "image/png": "[encoded data removed]",
      "text/plain": [
       "<Figure size 720x432 with 1 Axes>"
      ]
     },
     "metadata": {
      "needs_background": "light"
     },
     "output_type": "display_data"
    },
    {
     "name": "stdout",
     "output_type": "stream",
     "text": [
      "Сравнение для столбца: streaming_tv\n"
     ]
    },
    {
     "data": {
      "image/png": "[encoded data removed]",
      "text/plain": [
       "<Figure size 720x432 with 1 Axes>"
      ]
     },
     "metadata": {
      "needs_background": "light"
     },
     "output_type": "display_data"
    },
    {
     "name": "stdout",
     "output_type": "stream",
     "text": [
      "Сравнение для столбца: streaming_movies\n"
     ]
    },
    {
     "data": {
      "image/png": "[encoded data removed]",
      "text/plain": [
       "<Figure size 720x432 with 1 Axes>"
      ]
     },
     "metadata": {
      "needs_background": "light"
     },
     "output_type": "display_data"
    },
    {
     "name": "stdout",
     "output_type": "stream",
     "text": [
      "Сравнение для столбца: multiple_lines\n"
     ]
    },
    {
     "data": {
      "image/png": "[encoded data removed]",
      "text/plain": [
       "<Figure size 720x432 with 1 Axes>"
      ]
     },
     "metadata": {
      "needs_background": "light"
     },
     "output_type": "display_data"
    }
   ],
   "source": [
    "#Список столбцов\n",
    "columns_to_compare = [\n",
    "    'type', 'paperless_billing', 'payment_method', \n",
    "'online_security', 'online_backup', 'device_protection', 'tech_support', \n",
    "    'streaming_tv', 'streaming_movies', 'multiple_lines'\n",
    "]\n",
    "\n",
    "#Цикл для построения графиков\n",
    "for column in columns_to_compare:\n",
    "    print(f\"Сравнение для столбца: {column}\")\n",
    "    compare_categorical(total_new, column)  # Вызов функции сравнения"
   ]
  },
  {
   "cell_type": "markdown",
   "id": "9c923087",
   "metadata": {},
   "source": [
    "- Пользователи без бумажных чеков уходят чуть чаще.\n",
    "- Пользователи, получающие квитанцию об оплате по почте уходят реже всего.\n",
    "- Пользователи, пользующиесь услугой Online Backup уходят значительно чаще. Могут быть проблемы с качеством услуги или, возможно, ее подключали пользователям, которые ей не пользовались (Ставили \"бесплатно\" при подключении как доп. услугу с оплатой с n'ного месяца и необходимостью отключать вручную. Популярная порочная практика провайдеров.\n",
    "- То же касается Стриминга ТВ, фильмов.\n",
    "- Выше всего отток у пользователей, пользующихся несколькими телефонными линиями. Далее пользователи совсем без телефонии. Среди пользователей с одной телефонной линией отток ниже всего.\n"
   ]
  },
  {
   "cell_type": "markdown",
   "id": "272f7fbb",
   "metadata": {},
   "source": [
    "### Выводы"
   ]
  },
  {
   "cell_type": "markdown",
   "id": "430573f8",
   "metadata": {},
   "source": [
    "- Доля ушедших клиентов составляет 84.37%, активных - 15.63%. Дисбаланс классов нужно будет учесть при обучении моделей.\n",
    "- Есть сильная положительная корреляция между `monthly_charges` и `total_charges`.\n",
    "- Целевая переменная `active_contract` отрицательно коррелирует с `duration_contract` и `total_charges`, что указывает на то, что длительные контракты и большие суммы платежей связаны с меньшей вероятностью оттока.\n",
    "- Признаки `duration_contract`, `total_charges`, `monthly_charges` имеют слабую корреляцию с целевой переменной по phik.\n",
    "- Категориальные признаки, такие как `partner`, `payment_method` и `multiple_lines` также показывают слабую корреляцию с оттоком клиентов.\n",
    "\n",
    "\n",
    "\n",
    "- Клиенты с высокими ежемесячными платежами более склонны к оттоку. \n",
    "- Клиенты с низкими и средними платежами остаются с большей вероятностью.\n",
    "- Доля ушедших клиентов резко уменьшается с увеличением total_charges.\n",
    "- Отток распределен по длительности контрактов достаточно равномерно с пиком на 1000 дней.\n",
    "- Пол не является значительным фактором оттока.\n",
    "- Пользователи с партнерами уходят в 2 раза чаще, чем одинокие.\n",
    "- Процент оттока пользовательей оптического интернета выше, чем у остальных. Стоит обратить внимание на проблемы с услугой.\n",
    "- Процент оттока пользователей с иждевенцами незначительно выше.\n",
    "- Пользователи без бумажных чеков уходят чуть чаще.\n",
    "- Пользователи, получающие квитанцию об оплате по почте уходят реже всего.\n",
    "- Пользователи, пользующиесь услугой Online Backup уходят значительно чаще. Могут быть проблемы с качеством услуги или, возможно, ее подключали пользователям, которые ей не пользовались (Ставили \"бесплатно\" при подключении как доп. услугу с оплатой с n'ного месяца и необходимостью отключать вручную. Популярная порочная практика провайдеров.\n",
    "- То же касается Стриминга ТВ, фильмов.\n",
    "- Выше всего отток у пользователей, пользующихся несколькими телефонными линиями. Далее пользователи совсем без телефонии. Среди пользователей с одной телефонной линией отток ниже всего.\n"
   ]
  },
  {
   "cell_type": "markdown",
   "id": "781b3392",
   "metadata": {},
   "source": [
    "## Подготовка и обучение моделей"
   ]
  },
  {
   "cell_type": "markdown",
   "id": "715e9729",
   "metadata": {},
   "source": [
    "### Разделение данных на обучающую и тестовую выборки"
   ]
  },
  {
   "cell_type": "code",
   "execution_count": 36,
   "id": "bb6f3426",
   "metadata": {},
   "outputs": [
    {
     "name": "stdout",
     "output_type": "stream",
     "text": [
      "Размер обучающей выборки: (5282, 18)\n",
      "Размер тестовой выборки: (1761, 18)\n"
     ]
    }
   ],
   "source": [
    "# Разделение данных на признаки и целевую переменную\n",
    "features = total_new.drop(['customer_id', 'active_contract'], axis=1)\n",
    "target = total_new['active_contract']\n",
    "\n",
    "# Разделение на обучающую и тестовую выборки (75%/25%)\n",
    "features_train, features_test, target_train, target_test = train_test_split(\n",
    "    features, target, test_size=0.25, random_state=RANDOM_STATE, stratify=target\n",
    ")\n",
    "\n",
    "print('Размер обучающей выборки:', features_train.shape)\n",
    "print('Размер тестовой выборки:', features_test.shape)\n"
   ]
  },
  {
   "cell_type": "markdown",
   "id": "b64d366a",
   "metadata": {},
   "source": [
    "### Обработка дисбаланса классов"
   ]
  },
  {
   "cell_type": "code",
   "execution_count": 37,
   "id": "54eb6fbc",
   "metadata": {},
   "outputs": [
    {
     "name": "stdout",
     "output_type": "stream",
     "text": [
      "Вес класса 0: 0.8436198409693298\n",
      "Вес класса 1: 0.1563801590306702\n"
     ]
    }
   ],
   "source": [
    "# Расчет весов классов\n",
    "class_counts = target_train.value_counts()\n",
    "class_weights = {\n",
    "    0: class_counts[0] / len(target_train),\n",
    "    1: class_counts[1] / len(target_train)\n",
    "}\n",
    "print('Вес класса 0:', class_weights[0])\n",
    "print('Вес класса 1:', class_weights[1])"
   ]
  },
  {
   "cell_type": "markdown",
   "id": "128c4201",
   "metadata": {},
   "source": [
    "### Подготовка данных\n",
    "\n",
    "Используем трансформер, чтобы подготовить данные для обучения"
   ]
  },
  {
   "cell_type": "code",
   "execution_count": 38,
   "id": "9e4eba40",
   "metadata": {},
   "outputs": [],
   "source": [
    "# Список числовых и категориальных признаков\n",
    "numeric_features = ['monthly_charges', 'total_charges', 'duration_contract']\n",
    "categorical_features = [col for col in features.columns if col not in numeric_features]\n",
    "\n",
    "\n",
    "features_train = features_train[selected_features]\n",
    "features_test = features_test[selected_features]\n",
    "\n",
    "# Настройка кросс-валидации\n",
    "cv = StratifiedKFold(n_splits=4, shuffle=True, random_state=RANDOM_STATE)"
   ]
  },
  {
   "cell_type": "markdown",
   "id": "8590d142",
   "metadata": {},
   "source": [
    "### Обучение моделей"
   ]
  },
  {
   "cell_type": "markdown",
   "id": "a9a3e3c7",
   "metadata": {},
   "source": [
    "#### Logistic Regression"
   ]
  },
  {
   "cell_type": "code",
   "execution_count": 39,
   "id": "4039e41d",
   "metadata": {},
   "outputs": [
    {
     "name": "stdout",
     "output_type": "stream",
     "text": [
      "Лучшие параметры для LogisticRegression: {'classifier__C': 10, 'classifier__solver': 'newton-cg'}\n",
      "Лучший ROC AUC на обучающей выборке: 0.77028459647803\n"
     ]
    }
   ],
   "source": [
    "# Модель LogisticRegression\n",
    "preprocessor_lr = get_preprocessor('linear')\n",
    "model_lr = Pipeline(steps=[\n",
    "    ('preprocessor', preprocessor_lr),\n",
    "    ('classifier', LogisticRegression(random_state=RANDOM_STATE, class_weight='balanced', max_iter=1000))\n",
    "])\n",
    "\n",
    "# Параметры для GridSearchCV\n",
    "param_grid_lr = {\n",
    "    'classifier__C': [0.01, 0.1, 1, 10],\n",
    "    'classifier__solver': ['liblinear', 'lbfgs', 'newton-cg']\n",
    "}\n",
    "\n",
    "grid_search_lr = GridSearchCV(model_lr, param_grid_lr, cv=cv, scoring='roc_auc', n_jobs=-1)\n",
    "grid_search_lr.fit(features_train, target_train)\n",
    "\n",
    "print('Лучшие параметры для LogisticRegression:', grid_search_lr.best_params_)\n",
    "print('Лучший ROC AUC на обучающей выборке:', grid_search_lr.best_score_)\n"
   ]
  },
  {
   "cell_type": "markdown",
   "id": "cfe7f90f",
   "metadata": {},
   "source": [
    "#### RandomForest"
   ]
  },
  {
   "cell_type": "code",
   "execution_count": 40,
   "id": "20a8a805",
   "metadata": {},
   "outputs": [
    {
     "name": "stdout",
     "output_type": "stream",
     "text": [
      "Fitting 4 folds for each of 162 candidates, totalling 648 fits\n",
      "Лучшие параметры для RandomForestClassifier: {'classifier__max_depth': 10, 'classifier__max_features': 'sqrt', 'classifier__min_samples_leaf': 4, 'classifier__min_samples_split': 10, 'classifier__n_estimators': 200}\n",
      "Лучший ROC AUC на обучающей выборке: 0.8282878719634565\n"
     ]
    }
   ],
   "source": [
    "# Модель RandomForestClassifier\n",
    "preprocessor_rf = get_preprocessor('other')\n",
    "model_rf = Pipeline(steps=[\n",
    "    ('preprocessor', preprocessor_rf),\n",
    "    ('classifier', RandomForestClassifier(random_state=RANDOM_STATE, class_weight='balanced'))\n",
    "])\n",
    "\n",
    "# Параметры для GridSearchCV\n",
    "param_grid_rf = {\n",
    "    'classifier__n_estimators': [100, 200, 300],\n",
    "    'classifier__max_depth': [10, 20, 30],\n",
    "    'classifier__min_samples_leaf': [1, 2, 4],\n",
    "    'classifier__min_samples_split': [2, 5, 10],\n",
    "    'classifier__max_features': ['sqrt', 'log2']\n",
    "}\n",
    "\n",
    "# Инициализация GridSearchCV\n",
    "grid_search_rf = GridSearchCV(\n",
    "    estimator=model_rf,\n",
    "    param_grid=param_grid_rf,\n",
    "    cv=cv,\n",
    "    scoring='roc_auc',\n",
    "    n_jobs=-1,\n",
    "    verbose=1\n",
    ")\n",
    "\n",
    "# Обучение модели с подбором гиперпараметров\n",
    "grid_search_rf.fit(features_train, target_train)\n",
    "\n",
    "# Вывод результатов\n",
    "print('Лучшие параметры для RandomForestClassifier:', grid_search_rf.best_params_)\n",
    "print('Лучший ROC AUC на обучающей выборке:', grid_search_rf.best_score_)\n"
   ]
  },
  {
   "cell_type": "markdown",
   "id": "33acd471",
   "metadata": {},
   "source": [
    "#### CatBoost"
   ]
  },
  {
   "cell_type": "code",
   "execution_count": 41,
   "id": "89467f46",
   "metadata": {
    "scrolled": true
   },
   "outputs": [
    {
     "name": "stdout",
     "output_type": "stream",
     "text": [
      "Fitting 4 folds for each of 54 candidates, totalling 216 fits\n",
      "Лучшие параметры для CatBoostClassifier: {'classifier__depth': 4, 'classifier__iterations': 1500, 'classifier__l2_leaf_reg': 1, 'classifier__learning_rate': 0.1, 'classifier__scale_pos_weight': 0.18536804308797125}\n",
      "Лучший ROC AUC на обучающей выборке: 0.9252428173873299\n"
     ]
    }
   ],
   "source": [
    "from sklearn.utils import class_weight\n",
    "\n",
    "# Вычисление весов классов\n",
    "class_weights = class_weight.compute_class_weight(\n",
    "    class_weight='balanced',\n",
    "    classes=np.unique(target_train),\n",
    "    y=target_train\n",
    ")\n",
    "class_weights_dict = dict(zip(np.unique(target_train), class_weights))\n",
    "scale_pos_weight = class_weights_dict[0] / class_weights_dict[1]\n",
    "\n",
    "# Модель CatBoostClassifier\n",
    "preprocessor_cb = get_preprocessor('other')\n",
    "model_cb = Pipeline(steps=[\n",
    "    ('preprocessor', preprocessor_cb),\n",
    "    ('classifier', CatBoostClassifier(random_state=RANDOM_STATE, silent=True))\n",
    "])\n",
    "\n",
    "# Параметры для GridSearchCV\n",
    "param_grid_cb = {\n",
    "    'classifier__iterations': [1000, 1500],\n",
    "    'classifier__depth': [4, 6, 8],\n",
    "    'classifier__learning_rate': [0.01, 0.05, 0.1],\n",
    "    'classifier__l2_leaf_reg': [1, 3, 5],\n",
    "    'classifier__scale_pos_weight': [scale_pos_weight]\n",
    "}\n",
    "\n",
    "# Инициализация GridSearchCV\n",
    "grid_search_cb = GridSearchCV(\n",
    "    estimator=model_cb,\n",
    "    param_grid=param_grid_cb,\n",
    "    cv=cv,\n",
    "    scoring='roc_auc',\n",
    "    n_jobs=-1,\n",
    "    verbose=1\n",
    ")\n",
    "\n",
    "# Обучение модели с подбором гиперпараметров\n",
    "grid_search_cb.fit(features_train, target_train)\n",
    "\n",
    "# Вывод результатов\n",
    "print('Лучшие параметры для CatBoostClassifier:', grid_search_cb.best_params_)\n",
    "print('Лучший ROC AUC на обучающей выборке:', grid_search_cb.best_score_)\n"
   ]
  },
  {
   "cell_type": "markdown",
   "id": "93948ce3",
   "metadata": {},
   "source": [
    "### Вывод\n",
    "\n",
    "- **Логистическая регрессия** показала *ROC AUC* **0.77** на обучающей выборке. Это базовая модель с относительно низким качеством предсказания.\n",
    "- **Случайный лес** улучшил качество до *ROC AUC* **0.828**, что свидетельствует о более высокой способности модели различать классы.\n",
    "- **CatBoostClassifier** продемонстрировала наилучшее качество с *ROC AUC* **0.925** на обучающей выборке. Это говорит о высоком потенциале модели для прогнозирования оттока клиентов.\n",
    "\n",
    "На основании результатов кросс-валидации, модель CatBoostClassifier с гиперпараметрами:\n",
    "-    `classifier__depth`: 4,\n",
    "-    `classifier__iterations`: 1500,\n",
    "-    `classifier__l2_leaf_reg`: 1,\n",
    "-    `classifier__learning_rate`: 0.1,\n",
    "-    `classifier__scale_pos_weight`: 0.185\n",
    "была выбрана для дальнейшего тестирования на тестовой выборке."
   ]
  },
  {
   "cell_type": "markdown",
   "id": "e63c3e2f",
   "metadata": {},
   "source": [
    "## Тестирование лучшей модели\n",
    "Проверим модель CatBoost на тестовой выборке и изучим ее."
   ]
  },
  {
   "cell_type": "markdown",
   "id": "628f2a44",
   "metadata": {},
   "source": [
    "### Проверим целевые метрики"
   ]
  },
  {
   "cell_type": "code",
   "execution_count": 42,
   "id": "0b91ef86",
   "metadata": {},
   "outputs": [
    {
     "name": "stdout",
     "output_type": "stream",
     "text": [
      "ROC AUC на тестовой выборке: 0.9341686039398017\n",
      "Accuracy на тестовой выборке: 0.9244747302668939\n"
     ]
    }
   ],
   "source": [
    "# Используем лучшую модель, найденную GridSearchCV\n",
    "final_model_cb = grid_search_cb.best_estimator_\n",
    "\n",
    "# Предсказываем вероятности и метки классов для тестового набора\n",
    "y_test_proba_cb = final_model_cb.predict_proba(features_test)[:, 1]\n",
    "y_test_pred_cb = final_model_cb.predict(features_test)\n",
    "\n",
    "# Вычисляем ROC AUC и accuracy на тестовой выборке\n",
    "test_roc_auc_cb = roc_auc_score(target_test, y_test_proba_cb)\n",
    "test_accuracy_cb = accuracy_score(target_test, y_test_pred_cb)\n",
    "\n",
    "print('ROC AUC на тестовой выборке:', test_roc_auc_cb)\n",
    "print('Accuracy на тестовой выборке:', test_accuracy_cb)\n"
   ]
  },
  {
   "cell_type": "markdown",
   "id": "6d1d150c",
   "metadata": {},
   "source": [
    "### Изучим матрицу ошибок"
   ]
  },
  {
   "cell_type": "code",
   "execution_count": 43,
   "id": "ddf3cfde",
   "metadata": {},
   "outputs": [
    {
     "data": {
      "image/png": "[encoded data removed]",
      "text/plain": [
       "<Figure size 432x288 with 2 Axes>"
      ]
     },
     "metadata": {
      "needs_background": "light"
     },
     "output_type": "display_data"
    }
   ],
   "source": [
    "# Матрица ошибок\n",
    "cm = confusion_matrix(target_test, y_test_pred_cb)\n",
    "disp = ConfusionMatrixDisplay(confusion_matrix=cm, display_labels=['Не расторгли', 'Расторгли'])\n",
    "disp.plot(cmap=plt.cm.Blues)\n",
    "plt.title('Матрица ошибок')\n",
    "plt.show()"
   ]
  },
  {
   "cell_type": "markdown",
   "id": "31c5c421",
   "metadata": {},
   "source": [
    "### Определим важность признаков"
   ]
  },
  {
   "cell_type": "code",
   "execution_count": 44,
   "id": "7fdcb77b",
   "metadata": {
    "scrolled": false
   },
   "outputs": [
    {
     "data": {
      "image/png": "[encoded data removed]",
      "text/plain": [
       "<Figure size 864x576 with 1 Axes>"
      ]
     },
     "metadata": {
      "needs_background": "light"
     },
     "output_type": "display_data"
    }
   ],
   "source": [
    "# Анализ важности признаков\n",
    "importances = final_model_cb.named_steps['classifier'].feature_importances_\n",
    "preprocessor = final_model_cb.named_steps['preprocessor']\n",
    "cat_features = preprocessor.transformers_[1][2]\n",
    "num_features = preprocessor.transformers_[0][2]\n",
    "feature_names = num_features + cat_features\n",
    "\n",
    "feature_importance = pd.Series(importances, index=feature_names)\n",
    "feature_importance = feature_importance.sort_values(ascending=False)\n",
    "\n",
    "plt.figure(figsize=(12, 8))\n",
    "sns.barplot(x=feature_importance.values, y=feature_importance.index, palette='viridis')\n",
    "plt.title('Важность признаков для CatBoostClassifier')\n",
    "plt.xlabel('Важность признака')\n",
    "plt.ylabel('Признак')\n",
    "plt.tight_layout()\n",
    "plt.show()\n"
   ]
  },
  {
   "cell_type": "markdown",
   "id": "29c81dd7",
   "metadata": {},
   "source": [
    "-  Самый значимый признак - `duration_contract` (41.26%). Отрицательная корреляция говорит о том, что в первую очередь нужно обращать внимание на новых пользователей.\n",
    "- `monthly_charges` (19.82%) и `total_charges` (11.64%) так достаточно значимы. Клиенты с высокими ежемесячными платежами  чаще уходят, что указывает на возможную чувствительность к стоимости услуг.\n",
    "- Тип контракта `type` (8.60%) и способ оплаты `payment_method` (4.31%) так же оказывают влияние на отток, что может быть связано с удобством и гибкостью предлагаемых условий.\n"
   ]
  },
  {
   "cell_type": "markdown",
   "id": "d34cbfe7",
   "metadata": {},
   "source": [
    "### Вывод\n",
    "**CatBoost** с гиперпараметрами:\n",
    "-    `classifier__depth`: 4,\n",
    "-    `classifier__iterations`: 1500,\n",
    "-    `classifier__l2_leaf_reg`: 1,\n",
    "-    `classifier__learning_rate`: 0.1,\n",
    "-    `classifier__scale_pos_weight`: 0.185\n",
    "\n",
    "успешно справилась с поставленной задачей, продемонстрировав высокие *ROC-AUC* (**0.93**) и *Accuracy* (**0.92**) на тестовой выборке.\n",
    "\n",
    "Был проведен анализ важности признаков. Вот топ-5 наиболее важных признаков:\n",
    "- `duration_contract` (**41.26**%)\n",
    "- `monthly_charges` (**19.82**%)\n",
    "- `total_charges` (**11.64**%)\n",
    "- `type` (**8.60**%)\n",
    "- `payment_method` (**4.31**%)\n"
   ]
  },
  {
   "cell_type": "markdown",
   "id": "1d23a1a6",
   "metadata": {},
   "source": [
    "## Выводы\n",
    "\n",
    "**Подготовка** \n",
    "- Были загружены и изучены данные о пользователях из четырех таблиц\n",
    "- Объявлены вспомогательные функции\n",
    "\n",
    "**Обработка данных** \n",
    "- Привели названия столбцов к нижнему регистру\n",
    "- Привели данные к нужному типу\n",
    "- Обработали пропуски корректными и маркерными значениями\n",
    "- Создали целевой признак `active_contract`\n",
    "- Создали признак `duration_contract`\n",
    "- Объединили данные в общую таблицу\n",
    "\n",
    "**Исследовательский анализ данных**\n",
    "- Проведен анализ распределения целевой переменной. Обнаружен сильный дисбаланс классов\n",
    "- Выполнен корреляционный анализ, в результате для избежания мультиколлинеарности были отобраны признаки для обучения\n",
    "- Проведено сравнение характеристик ушедших и оставшихся клиентов. \n",
    "\n",
    "**Подготовка и обучение моделей**\n",
    "- Обучены три модели — **Logistic Regression**, **RandomForestClassifier** и **CatBoostClassifier**. \n",
    "- **Регрессия** показала *ROC-AUC* = **0.77** на обучающей выборке\n",
    "- **Случайный** лес показал  *ROC-AUC* = **0.82** на обучающей выборке\n",
    "- **CatBoost**  *ROC-AUC* = **0.91** на обучающей выборке \n",
    "\n",
    "**Тестирование лучшей модели**\n",
    "- Модель **CatBoost** с гиперпраметрами\n",
    "-    `classifier__depth`: 4,\n",
    "-    `classifier__iterations`: 1500,\n",
    "-    `classifier__l2_leaf_reg`: 1,\n",
    "-    `classifier__learning_rate`: 0.1,\n",
    "-    `classifier__scale_pos_weight`: 0.185\n",
    "показала  *ROC AUC* = **0.93** на тестовой выборке, удовлетворяя требованиям проекта.\n",
    "\n",
    "\n",
    "**Рекомендации для бизнеса**:\n",
    "- Удержание клиентов с короткими контрактами\n",
    "\n",
    "Длительность контракта (`duration_contract`) является наиболее значимым фактором оттока. Клиенты с более короткими контрактами склонны чаще уходить. Рекомендуется предлагать клиентам с месячными и краткосрочными контрактами выгодные условия для продления, внедрить бонусные программы или скидки для тех, кто переходит на долгосрочные контракты, проводить персонализированные акции для клиентов на стадии принятия решения о продлении.\n",
    "\n",
    "\n",
    "- Пересмотр тарифов для клиентов с высокими ежемесячными платежами\n",
    "\n",
    "Клиенты с высокими ежемесячными платежами (`monthly_charges`) чаще уходят, что указывает на возможную чувствительность к стоимости услуг. Рекомендуется провести анализ конкурентоспособности тарифов, определить, не завышены ли цены по сравнению с рынком, убедиться в том, что пользователи сознательно подключают услуги `online_security`, `online_backup`, `device_protection`, `tech_support`, `streaming_t_v` и `streaming_movies`, провести исследование качества этих услуг.\n",
    "\n",
    "\n",
    "- Проверка качества оптоволоконного интернета\n",
    "\n",
    "Пользователи оптоволоконного интернета имеют более высокий процент оттока. Рекомендуется провести технический аудит качества услуг оптоволоконного интернета, улучшить обратную связь с клиентами для выявления конкретных проблем и оперативного их решения.\n",
    "\n",
    "\n",
    "- Оптимизация способов оплаты и предоставления счетов\n",
    "\n",
    "Те, кто получают квитанции по почте, реже расторгают договор. Рекомендуется изучить и улучшить удобство и информативность электронных счетов.\n",
    "\n",
    "- Работа с клиентами, имеющими партнеров и иждивенцев\n",
    "\n",
    "Пользователи с партнерами и иждивенцами уходят чаще. Рекомендуется изучить возможность разработки семейных тарифов или специальных предложений для семей (скидки на дополнительные услуги при подключении нескольких пользователей из одной семьи, семейные программы лояльности). \n",
    "\n",
    "- Анализ использования телефонных услуг\n",
    "\n",
    "Отток выше среди пользователей с несколькими телефонными линиями. Рекомендуется провести анализ конкурентоспособности тарифов, провести техничечский аудит услуги нескольких телефонных линий.\n",
    "\n",
    "Внедрение модели позволит с высокой точностью предсказывать и обрабатывать отток клиентов."
   ]
  }
 ],
 "metadata": {
  "ExecuteTimeLog": [
   {
    "duration": 1563,
    "start_time": "2024-11-12T16:19:30.285Z"
   },
   {
    "duration": 383,
    "start_time": "2024-11-12T16:20:11.211Z"
   },
   {
    "duration": 29,
    "start_time": "2024-11-12T16:20:26.053Z"
   },
   {
    "duration": 9,
    "start_time": "2024-11-12T16:20:35.843Z"
   },
   {
    "duration": 9,
    "start_time": "2024-11-12T16:20:58.499Z"
   },
   {
    "duration": 114,
    "start_time": "2024-11-12T16:21:46.073Z"
   },
   {
    "duration": 92,
    "start_time": "2024-11-12T16:21:54.486Z"
   },
   {
    "duration": 9,
    "start_time": "2024-11-12T16:22:07.741Z"
   },
   {
    "duration": 72,
    "start_time": "2024-11-12T16:22:34.903Z"
   },
   {
    "duration": 1169,
    "start_time": "2024-11-12T16:22:44.483Z"
   },
   {
    "duration": 425,
    "start_time": "2024-11-12T16:23:36.115Z"
   },
   {
    "duration": 223,
    "start_time": "2024-11-12T16:23:45.167Z"
   },
   {
    "duration": 39,
    "start_time": "2024-11-12T16:23:49.747Z"
   },
   {
    "duration": 1153,
    "start_time": "2024-11-12T16:23:56.138Z"
   },
   {
    "duration": 15,
    "start_time": "2024-11-12T16:26:15.319Z"
   },
   {
    "duration": 25,
    "start_time": "2024-11-12T16:26:28.014Z"
   },
   {
    "duration": 852,
    "start_time": "2024-11-12T16:26:32.038Z"
   },
   {
    "duration": 25,
    "start_time": "2024-11-12T16:27:22.568Z"
   },
   {
    "duration": 11,
    "start_time": "2024-11-12T16:27:32.664Z"
   },
   {
    "duration": 877,
    "start_time": "2024-11-12T16:27:33.137Z"
   },
   {
    "duration": 1568,
    "start_time": "2024-11-18T14:31:22.124Z"
   },
   {
    "duration": 10,
    "start_time": "2024-11-20T20:56:55.152Z"
   },
   {
    "duration": 39,
    "start_time": "2024-11-20T20:58:23.095Z"
   },
   {
    "duration": 1192,
    "start_time": "2024-11-20T20:58:39.078Z"
   },
   {
    "duration": 12,
    "start_time": "2024-11-20T20:58:40.273Z"
   },
   {
    "duration": 100,
    "start_time": "2024-11-20T20:58:41.195Z"
   },
   {
    "duration": 132,
    "start_time": "2024-11-20T21:00:50.552Z"
   },
   {
    "duration": 15,
    "start_time": "2024-11-20T21:03:45.045Z"
   },
   {
    "duration": 20,
    "start_time": "2024-11-20T21:05:23.078Z"
   },
   {
    "duration": 16,
    "start_time": "2024-11-20T21:06:42.117Z"
   },
   {
    "duration": 12,
    "start_time": "2024-11-20T21:07:03.347Z"
   },
   {
    "duration": 5,
    "start_time": "2024-11-20T21:12:35.914Z"
   },
   {
    "duration": 16,
    "start_time": "2024-11-20T21:12:51.753Z"
   },
   {
    "duration": 11,
    "start_time": "2024-11-20T21:13:11.324Z"
   },
   {
    "duration": 12,
    "start_time": "2024-11-20T21:13:19.990Z"
   },
   {
    "duration": 4,
    "start_time": "2024-11-20T21:13:28.166Z"
   },
   {
    "duration": 3,
    "start_time": "2024-11-20T21:13:36.783Z"
   },
   {
    "duration": 8,
    "start_time": "2024-11-20T21:13:41.887Z"
   },
   {
    "duration": 7,
    "start_time": "2024-11-20T21:14:54.371Z"
   },
   {
    "duration": 4,
    "start_time": "2024-11-20T21:15:00.059Z"
   },
   {
    "duration": 4,
    "start_time": "2024-11-20T21:16:40.783Z"
   },
   {
    "duration": 6,
    "start_time": "2024-11-20T21:17:01.952Z"
   },
   {
    "duration": 12,
    "start_time": "2024-11-20T21:17:26.222Z"
   },
   {
    "duration": 11,
    "start_time": "2024-11-20T21:18:04.340Z"
   },
   {
    "duration": 5,
    "start_time": "2024-11-20T21:20:11.241Z"
   },
   {
    "duration": 7,
    "start_time": "2024-11-20T21:21:41.965Z"
   },
   {
    "duration": 8,
    "start_time": "2024-11-20T21:21:51.856Z"
   },
   {
    "duration": 21,
    "start_time": "2024-11-20T21:21:58.273Z"
   },
   {
    "duration": 18,
    "start_time": "2024-11-20T21:22:12.278Z"
   },
   {
    "duration": 5,
    "start_time": "2024-11-20T21:22:47.994Z"
   },
   {
    "duration": 12,
    "start_time": "2024-11-20T21:23:51.875Z"
   },
   {
    "duration": 25,
    "start_time": "2024-11-20T21:26:22.673Z"
   },
   {
    "duration": 9,
    "start_time": "2024-11-20T21:28:19.520Z"
   },
   {
    "duration": 9,
    "start_time": "2024-11-20T21:28:54.900Z"
   },
   {
    "duration": 33,
    "start_time": "2024-11-20T21:30:47.438Z"
   },
   {
    "duration": 55,
    "start_time": "2024-11-20T21:31:01.946Z"
   },
   {
    "duration": 1042,
    "start_time": "2024-11-20T21:32:39.368Z"
   },
   {
    "duration": 904,
    "start_time": "2024-11-20T21:33:49.373Z"
   },
   {
    "duration": 695,
    "start_time": "2024-11-20T21:33:57.162Z"
   },
   {
    "duration": 3,
    "start_time": "2024-11-20T21:34:12.893Z"
   },
   {
    "duration": 5,
    "start_time": "2024-11-20T21:36:11.966Z"
   },
   {
    "duration": 7,
    "start_time": "2024-11-20T21:38:03.399Z"
   },
   {
    "duration": 51,
    "start_time": "2024-11-20T21:38:42.294Z"
   },
   {
    "duration": 9,
    "start_time": "2024-11-20T21:40:42.011Z"
   },
   {
    "duration": 1293,
    "start_time": "2024-11-20T21:41:30.752Z"
   },
   {
    "duration": 15,
    "start_time": "2024-11-20T21:41:32.047Z"
   },
   {
    "duration": 115,
    "start_time": "2024-11-20T21:41:32.063Z"
   },
   {
    "duration": 25,
    "start_time": "2024-11-20T21:41:32.182Z"
   },
   {
    "duration": 26,
    "start_time": "2024-11-20T21:41:32.209Z"
   },
   {
    "duration": 34,
    "start_time": "2024-11-20T21:41:32.236Z"
   },
   {
    "duration": 15,
    "start_time": "2024-11-20T21:41:32.273Z"
   },
   {
    "duration": 22,
    "start_time": "2024-11-20T21:41:32.290Z"
   },
   {
    "duration": 24,
    "start_time": "2024-11-20T21:41:32.314Z"
   },
   {
    "duration": 34,
    "start_time": "2024-11-20T21:41:32.340Z"
   },
   {
    "duration": 11,
    "start_time": "2024-11-20T21:41:32.376Z"
   },
   {
    "duration": 34,
    "start_time": "2024-11-20T21:41:32.388Z"
   },
   {
    "duration": 16,
    "start_time": "2024-11-20T21:41:32.423Z"
   },
   {
    "duration": 57,
    "start_time": "2024-11-20T21:41:32.441Z"
   },
   {
    "duration": 10,
    "start_time": "2024-11-20T21:41:32.500Z"
   },
   {
    "duration": 26,
    "start_time": "2024-11-20T21:41:32.512Z"
   },
   {
    "duration": 83,
    "start_time": "2024-11-20T21:41:32.539Z"
   },
   {
    "duration": 9,
    "start_time": "2024-11-20T21:41:32.624Z"
   },
   {
    "duration": 124,
    "start_time": "2024-11-20T21:42:14.580Z"
   },
   {
    "duration": 222,
    "start_time": "2024-11-20T21:44:26.110Z"
   },
   {
    "duration": 1368,
    "start_time": "2024-11-20T21:45:38.515Z"
   },
   {
    "duration": 1348,
    "start_time": "2024-11-20T21:48:36.621Z"
   },
   {
    "duration": 114,
    "start_time": "2024-11-20T21:49:43.223Z"
   },
   {
    "duration": 419,
    "start_time": "2024-11-20T21:53:01.177Z"
   },
   {
    "duration": 7130,
    "start_time": "2024-11-20T21:54:16.536Z"
   },
   {
    "duration": 338,
    "start_time": "2024-11-20T21:55:21.362Z"
   },
   {
    "duration": 1007,
    "start_time": "2024-11-20T22:02:31.231Z"
   },
   {
    "duration": 1184,
    "start_time": "2024-11-20T22:03:43.459Z"
   },
   {
    "duration": 33,
    "start_time": "2024-11-20T22:04:19.961Z"
   },
   {
    "duration": 1258,
    "start_time": "2024-11-20T22:04:39.430Z"
   },
   {
    "duration": 935,
    "start_time": "2024-11-20T22:05:18.763Z"
   },
   {
    "duration": 308,
    "start_time": "2024-11-20T22:05:31.983Z"
   },
   {
    "duration": 343,
    "start_time": "2024-11-20T22:07:31.168Z"
   },
   {
    "duration": 468,
    "start_time": "2024-11-20T22:08:35.246Z"
   },
   {
    "duration": 389,
    "start_time": "2024-11-20T22:10:50.451Z"
   },
   {
    "duration": 31,
    "start_time": "2024-11-20T22:16:02.764Z"
   },
   {
    "duration": 372,
    "start_time": "2024-11-20T22:16:33.509Z"
   },
   {
    "duration": 16,
    "start_time": "2024-11-20T22:25:35.775Z"
   },
   {
    "duration": 13,
    "start_time": "2024-11-20T22:26:19.224Z"
   },
   {
    "duration": 305,
    "start_time": "2024-11-20T22:26:22.244Z"
   },
   {
    "duration": 253,
    "start_time": "2024-11-20T22:26:26.466Z"
   },
   {
    "duration": 284,
    "start_time": "2024-11-20T22:29:29.954Z"
   },
   {
    "duration": 255,
    "start_time": "2024-11-20T22:31:38.835Z"
   },
   {
    "duration": 273,
    "start_time": "2024-11-20T22:35:49.430Z"
   },
   {
    "duration": 247,
    "start_time": "2024-11-20T22:35:52.540Z"
   },
   {
    "duration": 9,
    "start_time": "2024-11-20T22:36:06.859Z"
   },
   {
    "duration": 111,
    "start_time": "2024-11-20T22:36:10.859Z"
   },
   {
    "duration": 249,
    "start_time": "2024-11-20T22:36:14.079Z"
   },
   {
    "duration": 9,
    "start_time": "2024-11-20T22:36:34.154Z"
   },
   {
    "duration": 290,
    "start_time": "2024-11-20T22:36:41.086Z"
   },
   {
    "duration": 300,
    "start_time": "2024-11-20T22:37:24.893Z"
   },
   {
    "duration": 16,
    "start_time": "2024-11-20T22:39:25.059Z"
   },
   {
    "duration": 251,
    "start_time": "2024-11-20T22:39:31.152Z"
   },
   {
    "duration": 265,
    "start_time": "2024-11-20T22:39:34.147Z"
   },
   {
    "duration": 244,
    "start_time": "2024-11-20T22:39:35.762Z"
   },
   {
    "duration": 235,
    "start_time": "2024-11-20T22:39:45.486Z"
   },
   {
    "duration": 283,
    "start_time": "2024-11-20T22:39:48.701Z"
   },
   {
    "duration": 294,
    "start_time": "2024-11-20T22:39:49.298Z"
   },
   {
    "duration": 107,
    "start_time": "2024-11-20T22:40:05.812Z"
   },
   {
    "duration": 255,
    "start_time": "2024-11-20T22:40:10.869Z"
   },
   {
    "duration": 278,
    "start_time": "2024-11-20T22:40:18.991Z"
   },
   {
    "duration": 244,
    "start_time": "2024-11-20T22:40:19.820Z"
   },
   {
    "duration": 245,
    "start_time": "2024-11-20T22:40:20.779Z"
   },
   {
    "duration": 297,
    "start_time": "2024-11-20T22:40:21.211Z"
   },
   {
    "duration": 291,
    "start_time": "2024-11-20T22:40:21.628Z"
   },
   {
    "duration": 20,
    "start_time": "2024-11-20T22:41:57.545Z"
   },
   {
    "duration": 251,
    "start_time": "2024-11-20T22:42:01.559Z"
   },
   {
    "duration": 263,
    "start_time": "2024-11-20T22:42:02.926Z"
   },
   {
    "duration": 238,
    "start_time": "2024-11-20T22:42:04.717Z"
   },
   {
    "duration": 342,
    "start_time": "2024-11-20T22:42:32.726Z"
   },
   {
    "duration": 15,
    "start_time": "2024-11-20T22:43:03.443Z"
   },
   {
    "duration": 244,
    "start_time": "2024-11-20T22:43:07.324Z"
   },
   {
    "duration": 269,
    "start_time": "2024-11-20T22:43:11.914Z"
   },
   {
    "duration": 247,
    "start_time": "2024-11-20T22:43:12.845Z"
   },
   {
    "duration": 286,
    "start_time": "2024-11-20T22:43:13.727Z"
   },
   {
    "duration": 297,
    "start_time": "2024-11-20T22:43:14.015Z"
   },
   {
    "duration": 306,
    "start_time": "2024-11-20T22:43:14.314Z"
   },
   {
    "duration": 260,
    "start_time": "2024-11-20T22:54:21.960Z"
   },
   {
    "duration": 60,
    "start_time": "2024-11-20T22:54:58.957Z"
   },
   {
    "duration": 1187,
    "start_time": "2024-11-20T22:57:51.819Z"
   },
   {
    "duration": 17,
    "start_time": "2024-11-20T22:57:53.008Z"
   },
   {
    "duration": 140,
    "start_time": "2024-11-20T22:57:53.026Z"
   },
   {
    "duration": 24,
    "start_time": "2024-11-20T22:57:53.168Z"
   },
   {
    "duration": 15,
    "start_time": "2024-11-20T22:57:53.194Z"
   },
   {
    "duration": 19,
    "start_time": "2024-11-20T22:57:53.210Z"
   },
   {
    "duration": 42,
    "start_time": "2024-11-20T22:57:53.230Z"
   },
   {
    "duration": 15,
    "start_time": "2024-11-20T22:57:53.274Z"
   },
   {
    "duration": 17,
    "start_time": "2024-11-20T22:57:53.291Z"
   },
   {
    "duration": 18,
    "start_time": "2024-11-20T22:57:53.310Z"
   },
   {
    "duration": 34,
    "start_time": "2024-11-20T22:57:53.329Z"
   },
   {
    "duration": 20,
    "start_time": "2024-11-20T22:57:53.364Z"
   },
   {
    "duration": 5,
    "start_time": "2024-11-20T22:57:53.385Z"
   },
   {
    "duration": 30,
    "start_time": "2024-11-20T22:57:53.392Z"
   },
   {
    "duration": 10,
    "start_time": "2024-11-20T22:57:53.423Z"
   },
   {
    "duration": 11,
    "start_time": "2024-11-20T22:57:53.462Z"
   },
   {
    "duration": 54,
    "start_time": "2024-11-20T22:57:53.475Z"
   },
   {
    "duration": 138,
    "start_time": "2024-11-20T22:57:53.530Z"
   },
   {
    "duration": 380,
    "start_time": "2024-11-20T22:57:53.669Z"
   },
   {
    "duration": 429,
    "start_time": "2024-11-20T22:57:54.051Z"
   },
   {
    "duration": 6777,
    "start_time": "2024-11-20T22:57:54.482Z"
   },
   {
    "duration": 23,
    "start_time": "2024-11-20T22:58:01.262Z"
   },
   {
    "duration": 266,
    "start_time": "2024-11-20T22:58:01.286Z"
   },
   {
    "duration": 336,
    "start_time": "2024-11-20T22:58:01.561Z"
   },
   {
    "duration": 244,
    "start_time": "2024-11-20T22:58:01.899Z"
   },
   {
    "duration": 275,
    "start_time": "2024-11-20T22:58:02.145Z"
   },
   {
    "duration": 284,
    "start_time": "2024-11-20T22:58:02.422Z"
   },
   {
    "duration": 300,
    "start_time": "2024-11-20T22:58:02.709Z"
   },
   {
    "duration": 299,
    "start_time": "2024-11-20T22:58:03.010Z"
   },
   {
    "duration": 1042,
    "start_time": "2024-11-20T22:58:03.310Z"
   },
   {
    "duration": 3077,
    "start_time": "2024-11-20T22:58:26.131Z"
   },
   {
    "duration": 8,
    "start_time": "2024-11-20T23:07:36.387Z"
   },
   {
    "duration": 1335,
    "start_time": "2024-11-20T23:08:30.505Z"
   },
   {
    "duration": 22,
    "start_time": "2024-11-20T23:08:31.841Z"
   },
   {
    "duration": 151,
    "start_time": "2024-11-20T23:08:31.865Z"
   },
   {
    "duration": 25,
    "start_time": "2024-11-20T23:08:32.018Z"
   },
   {
    "duration": 17,
    "start_time": "2024-11-20T23:08:32.045Z"
   },
   {
    "duration": 19,
    "start_time": "2024-11-20T23:08:32.064Z"
   },
   {
    "duration": 14,
    "start_time": "2024-11-20T23:08:32.085Z"
   },
   {
    "duration": 24,
    "start_time": "2024-11-20T23:08:32.101Z"
   },
   {
    "duration": 36,
    "start_time": "2024-11-20T23:08:32.127Z"
   },
   {
    "duration": 30,
    "start_time": "2024-11-20T23:08:32.166Z"
   },
   {
    "duration": 28,
    "start_time": "2024-11-20T23:08:32.198Z"
   },
   {
    "duration": 26,
    "start_time": "2024-11-20T23:08:32.228Z"
   },
   {
    "duration": 9,
    "start_time": "2024-11-20T23:08:32.255Z"
   },
   {
    "duration": 33,
    "start_time": "2024-11-20T23:08:32.265Z"
   },
   {
    "duration": 22,
    "start_time": "2024-11-20T23:08:32.300Z"
   },
   {
    "duration": 42,
    "start_time": "2024-11-20T23:08:32.324Z"
   },
   {
    "duration": 85,
    "start_time": "2024-11-20T23:08:32.367Z"
   },
   {
    "duration": 125,
    "start_time": "2024-11-20T23:08:32.454Z"
   },
   {
    "duration": 422,
    "start_time": "2024-11-20T23:08:32.580Z"
   },
   {
    "duration": 112,
    "start_time": "2024-11-20T23:08:33.003Z"
   },
   {
    "duration": 49,
    "start_time": "2024-11-20T23:11:08.439Z"
   },
   {
    "duration": 7,
    "start_time": "2024-11-20T23:12:15.807Z"
   },
   {
    "duration": 1876,
    "start_time": "2024-11-20T23:12:39.729Z"
   },
   {
    "duration": 18,
    "start_time": "2024-11-20T23:12:41.607Z"
   },
   {
    "duration": 439,
    "start_time": "2024-11-20T23:12:41.626Z"
   },
   {
    "duration": 27,
    "start_time": "2024-11-20T23:12:42.067Z"
   },
   {
    "duration": 18,
    "start_time": "2024-11-20T23:12:42.096Z"
   },
   {
    "duration": 47,
    "start_time": "2024-11-20T23:12:42.116Z"
   },
   {
    "duration": 16,
    "start_time": "2024-11-20T23:12:42.165Z"
   },
   {
    "duration": 16,
    "start_time": "2024-11-20T23:12:42.183Z"
   },
   {
    "duration": 13,
    "start_time": "2024-11-20T23:12:42.201Z"
   },
   {
    "duration": 46,
    "start_time": "2024-11-20T23:12:42.217Z"
   },
   {
    "duration": 9,
    "start_time": "2024-11-20T23:12:42.264Z"
   },
   {
    "duration": 19,
    "start_time": "2024-11-20T23:12:42.275Z"
   },
   {
    "duration": 5,
    "start_time": "2024-11-20T23:12:42.295Z"
   },
   {
    "duration": 41,
    "start_time": "2024-11-20T23:12:42.301Z"
   },
   {
    "duration": 23,
    "start_time": "2024-11-20T23:12:42.343Z"
   },
   {
    "duration": 12,
    "start_time": "2024-11-20T23:12:42.368Z"
   },
   {
    "duration": 58,
    "start_time": "2024-11-20T23:12:42.381Z"
   },
   {
    "duration": 142,
    "start_time": "2024-11-20T23:12:42.441Z"
   },
   {
    "duration": 418,
    "start_time": "2024-11-20T23:12:42.584Z"
   },
   {
    "duration": 140,
    "start_time": "2024-11-20T23:12:43.004Z"
   },
   {
    "duration": 343,
    "start_time": "2024-11-20T23:12:43.146Z"
   },
   {
    "duration": 7884,
    "start_time": "2024-11-20T23:12:43.491Z"
   },
   {
    "duration": 343,
    "start_time": "2024-11-20T23:12:51.376Z"
   },
   {
    "duration": 298,
    "start_time": "2024-11-20T23:12:51.721Z"
   },
   {
    "duration": 270,
    "start_time": "2024-11-20T23:12:52.021Z"
   },
   {
    "duration": 318,
    "start_time": "2024-11-20T23:12:52.292Z"
   },
   {
    "duration": 302,
    "start_time": "2024-11-20T23:12:52.612Z"
   },
   {
    "duration": 308,
    "start_time": "2024-11-20T23:12:52.918Z"
   },
   {
    "duration": 288,
    "start_time": "2024-11-20T23:12:53.228Z"
   },
   {
    "duration": 3101,
    "start_time": "2024-11-20T23:12:53.518Z"
   },
   {
    "duration": 12,
    "start_time": "2024-11-20T23:12:56.620Z"
   },
   {
    "duration": 111,
    "start_time": "2024-11-20T23:14:56.835Z"
   },
   {
    "duration": 4,
    "start_time": "2024-11-20T23:15:09.440Z"
   },
   {
    "duration": 6,
    "start_time": "2024-11-20T23:17:43.814Z"
   },
   {
    "duration": 3,
    "start_time": "2024-11-20T23:19:51.112Z"
   },
   {
    "duration": 18740,
    "start_time": "2024-11-20T23:19:56.022Z"
   },
   {
    "duration": 501103,
    "start_time": "2024-11-20T23:21:46.654Z"
   },
   {
    "duration": 717059,
    "start_time": "2024-11-20T23:30:07.763Z"
   },
   {
    "duration": 0,
    "start_time": "2024-11-20T23:42:04.836Z"
   },
   {
    "duration": 0,
    "start_time": "2024-11-20T23:42:04.837Z"
   },
   {
    "duration": 0,
    "start_time": "2024-11-20T23:42:04.838Z"
   },
   {
    "duration": 0,
    "start_time": "2024-11-20T23:42:04.839Z"
   },
   {
    "duration": 9,
    "start_time": "2024-11-20T23:43:56.521Z"
   },
   {
    "duration": 2221,
    "start_time": "2024-11-20T23:48:12.946Z"
   },
   {
    "duration": 54,
    "start_time": "2024-11-20T23:49:23.399Z"
   },
   {
    "duration": 2131,
    "start_time": "2024-11-20T23:49:33.154Z"
   },
   {
    "duration": 2241,
    "start_time": "2024-11-20T23:50:14.878Z"
   },
   {
    "duration": 2213,
    "start_time": "2024-11-20T23:50:36.558Z"
   },
   {
    "duration": 2189,
    "start_time": "2024-11-20T23:53:29.660Z"
   },
   {
    "duration": 2155,
    "start_time": "2024-11-20T23:55:16.579Z"
   },
   {
    "duration": 8,
    "start_time": "2024-11-20T23:55:25.593Z"
   },
   {
    "duration": 139,
    "start_time": "2024-11-20T23:57:35.252Z"
   },
   {
    "duration": 10,
    "start_time": "2024-11-20T23:57:50.158Z"
   },
   {
    "duration": 360,
    "start_time": "2024-11-20T23:58:08.785Z"
   },
   {
    "duration": 5,
    "start_time": "2024-11-21T00:08:09.501Z"
   },
   {
    "duration": 17,
    "start_time": "2024-11-21T00:08:27.779Z"
   },
   {
    "duration": 102,
    "start_time": "2024-11-21T00:08:29.255Z"
   },
   {
    "duration": 22,
    "start_time": "2024-11-21T00:08:30.579Z"
   },
   {
    "duration": 17,
    "start_time": "2024-11-21T00:08:32.785Z"
   },
   {
    "duration": 19,
    "start_time": "2024-11-21T00:08:34.763Z"
   },
   {
    "duration": 955,
    "start_time": "2024-11-21T00:22:11.829Z"
   },
   {
    "duration": 2914,
    "start_time": "2024-11-21T00:22:25.260Z"
   },
   {
    "duration": 1294,
    "start_time": "2024-11-21T00:22:28.177Z"
   },
   {
    "duration": 14,
    "start_time": "2024-11-21T00:22:29.472Z"
   },
   {
    "duration": 108,
    "start_time": "2024-11-21T00:22:29.488Z"
   },
   {
    "duration": 25,
    "start_time": "2024-11-21T00:22:29.598Z"
   },
   {
    "duration": 16,
    "start_time": "2024-11-21T00:22:29.625Z"
   },
   {
    "duration": 27,
    "start_time": "2024-11-21T00:22:29.642Z"
   },
   {
    "duration": 13,
    "start_time": "2024-11-21T00:22:29.671Z"
   },
   {
    "duration": 15,
    "start_time": "2024-11-21T00:22:29.686Z"
   },
   {
    "duration": 12,
    "start_time": "2024-11-21T00:22:29.705Z"
   },
   {
    "duration": 51,
    "start_time": "2024-11-21T00:22:29.719Z"
   },
   {
    "duration": 16,
    "start_time": "2024-11-21T00:22:29.772Z"
   },
   {
    "duration": 138,
    "start_time": "2024-11-21T00:22:29.790Z"
   },
   {
    "duration": 0,
    "start_time": "2024-11-21T00:22:29.931Z"
   },
   {
    "duration": 0,
    "start_time": "2024-11-21T00:22:29.933Z"
   },
   {
    "duration": 0,
    "start_time": "2024-11-21T00:22:29.934Z"
   },
   {
    "duration": 0,
    "start_time": "2024-11-21T00:22:29.936Z"
   },
   {
    "duration": 0,
    "start_time": "2024-11-21T00:22:29.938Z"
   },
   {
    "duration": 0,
    "start_time": "2024-11-21T00:22:29.939Z"
   },
   {
    "duration": 0,
    "start_time": "2024-11-21T00:22:29.940Z"
   },
   {
    "duration": 0,
    "start_time": "2024-11-21T00:22:29.941Z"
   },
   {
    "duration": 0,
    "start_time": "2024-11-21T00:22:29.963Z"
   },
   {
    "duration": 0,
    "start_time": "2024-11-21T00:22:29.964Z"
   },
   {
    "duration": 0,
    "start_time": "2024-11-21T00:22:29.965Z"
   },
   {
    "duration": 0,
    "start_time": "2024-11-21T00:22:29.967Z"
   },
   {
    "duration": 0,
    "start_time": "2024-11-21T00:22:29.968Z"
   },
   {
    "duration": 0,
    "start_time": "2024-11-21T00:22:29.969Z"
   },
   {
    "duration": 0,
    "start_time": "2024-11-21T00:22:29.970Z"
   },
   {
    "duration": 0,
    "start_time": "2024-11-21T00:22:29.972Z"
   },
   {
    "duration": 0,
    "start_time": "2024-11-21T00:22:29.973Z"
   },
   {
    "duration": 0,
    "start_time": "2024-11-21T00:22:29.974Z"
   },
   {
    "duration": 0,
    "start_time": "2024-11-21T00:22:29.976Z"
   },
   {
    "duration": 0,
    "start_time": "2024-11-21T00:22:29.977Z"
   },
   {
    "duration": 0,
    "start_time": "2024-11-21T00:22:29.978Z"
   },
   {
    "duration": 0,
    "start_time": "2024-11-21T00:22:29.980Z"
   },
   {
    "duration": 0,
    "start_time": "2024-11-21T00:22:29.981Z"
   },
   {
    "duration": 0,
    "start_time": "2024-11-21T00:22:29.982Z"
   },
   {
    "duration": 0,
    "start_time": "2024-11-21T00:22:29.984Z"
   },
   {
    "duration": 0,
    "start_time": "2024-11-21T00:22:29.985Z"
   },
   {
    "duration": 0,
    "start_time": "2024-11-21T00:22:29.986Z"
   },
   {
    "duration": 0,
    "start_time": "2024-11-21T00:22:29.988Z"
   },
   {
    "duration": 2972,
    "start_time": "2024-11-21T00:22:49.922Z"
   },
   {
    "duration": 1251,
    "start_time": "2024-11-21T00:22:52.896Z"
   },
   {
    "duration": 18,
    "start_time": "2024-11-21T00:22:54.149Z"
   },
   {
    "duration": 130,
    "start_time": "2024-11-21T00:22:54.169Z"
   },
   {
    "duration": 23,
    "start_time": "2024-11-21T00:22:54.300Z"
   },
   {
    "duration": 16,
    "start_time": "2024-11-21T00:22:54.325Z"
   },
   {
    "duration": 23,
    "start_time": "2024-11-21T00:22:54.343Z"
   },
   {
    "duration": 13,
    "start_time": "2024-11-21T00:22:54.367Z"
   },
   {
    "duration": 18,
    "start_time": "2024-11-21T00:22:54.382Z"
   },
   {
    "duration": 11,
    "start_time": "2024-11-21T00:22:54.402Z"
   },
   {
    "duration": 21,
    "start_time": "2024-11-21T00:22:54.415Z"
   },
   {
    "duration": 32,
    "start_time": "2024-11-21T00:22:54.437Z"
   },
   {
    "duration": 15,
    "start_time": "2024-11-21T00:22:54.470Z"
   },
   {
    "duration": 12,
    "start_time": "2024-11-21T00:22:54.487Z"
   },
   {
    "duration": 5,
    "start_time": "2024-11-21T00:22:54.500Z"
   },
   {
    "duration": 61,
    "start_time": "2024-11-21T00:22:54.506Z"
   },
   {
    "duration": 9,
    "start_time": "2024-11-21T00:22:54.569Z"
   },
   {
    "duration": 10,
    "start_time": "2024-11-21T00:22:54.580Z"
   },
   {
    "duration": 76,
    "start_time": "2024-11-21T00:22:54.591Z"
   },
   {
    "duration": 123,
    "start_time": "2024-11-21T00:22:54.669Z"
   },
   {
    "duration": 392,
    "start_time": "2024-11-21T00:22:54.794Z"
   },
   {
    "duration": 397,
    "start_time": "2024-11-21T00:22:55.187Z"
   },
   {
    "duration": 6771,
    "start_time": "2024-11-21T00:22:55.586Z"
   },
   {
    "duration": 259,
    "start_time": "2024-11-21T00:23:02.359Z"
   },
   {
    "duration": 354,
    "start_time": "2024-11-21T00:23:02.620Z"
   },
   {
    "duration": 266,
    "start_time": "2024-11-21T00:23:02.976Z"
   },
   {
    "duration": 283,
    "start_time": "2024-11-21T00:23:03.244Z"
   },
   {
    "duration": 285,
    "start_time": "2024-11-21T00:23:03.530Z"
   },
   {
    "duration": 307,
    "start_time": "2024-11-21T00:23:03.817Z"
   },
   {
    "duration": 298,
    "start_time": "2024-11-21T00:23:04.125Z"
   },
   {
    "duration": 3092,
    "start_time": "2024-11-21T00:23:04.424Z"
   },
   {
    "duration": 10,
    "start_time": "2024-11-21T00:23:07.518Z"
   },
   {
    "duration": 34,
    "start_time": "2024-11-21T00:23:07.530Z"
   },
   {
    "duration": 37,
    "start_time": "2024-11-21T00:23:07.566Z"
   },
   {
    "duration": 19,
    "start_time": "2024-11-21T00:23:07.604Z"
   },
   {
    "duration": 18444,
    "start_time": "2024-11-21T00:23:07.624Z"
   },
   {
    "duration": 506491,
    "start_time": "2024-11-21T00:23:26.071Z"
   },
   {
    "duration": 2871,
    "start_time": "2024-11-21T00:42:06.087Z"
   },
   {
    "duration": 1256,
    "start_time": "2024-11-21T00:42:08.960Z"
   },
   {
    "duration": 15,
    "start_time": "2024-11-21T00:42:10.218Z"
   },
   {
    "duration": 115,
    "start_time": "2024-11-21T00:42:10.235Z"
   },
   {
    "duration": 23,
    "start_time": "2024-11-21T00:42:10.351Z"
   },
   {
    "duration": 13,
    "start_time": "2024-11-21T00:42:10.375Z"
   },
   {
    "duration": 16,
    "start_time": "2024-11-21T00:42:10.389Z"
   },
   {
    "duration": 11,
    "start_time": "2024-11-21T00:42:10.406Z"
   },
   {
    "duration": 46,
    "start_time": "2024-11-21T00:42:10.418Z"
   },
   {
    "duration": 11,
    "start_time": "2024-11-21T00:42:10.466Z"
   },
   {
    "duration": 32,
    "start_time": "2024-11-21T00:42:10.478Z"
   },
   {
    "duration": 10,
    "start_time": "2024-11-21T00:42:10.512Z"
   },
   {
    "duration": 18,
    "start_time": "2024-11-21T00:42:10.524Z"
   },
   {
    "duration": 23,
    "start_time": "2024-11-21T00:42:10.543Z"
   },
   {
    "duration": 51,
    "start_time": "2024-11-21T00:42:10.568Z"
   },
   {
    "duration": 0,
    "start_time": "2024-11-21T00:42:10.621Z"
   },
   {
    "duration": 0,
    "start_time": "2024-11-21T00:42:10.622Z"
   },
   {
    "duration": 0,
    "start_time": "2024-11-21T00:42:10.623Z"
   },
   {
    "duration": 0,
    "start_time": "2024-11-21T00:42:10.624Z"
   },
   {
    "duration": 0,
    "start_time": "2024-11-21T00:42:10.625Z"
   },
   {
    "duration": 0,
    "start_time": "2024-11-21T00:42:10.626Z"
   },
   {
    "duration": 0,
    "start_time": "2024-11-21T00:42:10.627Z"
   },
   {
    "duration": 0,
    "start_time": "2024-11-21T00:42:10.628Z"
   },
   {
    "duration": 0,
    "start_time": "2024-11-21T00:42:10.629Z"
   },
   {
    "duration": 0,
    "start_time": "2024-11-21T00:42:10.630Z"
   },
   {
    "duration": 0,
    "start_time": "2024-11-21T00:42:10.630Z"
   },
   {
    "duration": 0,
    "start_time": "2024-11-21T00:42:10.631Z"
   },
   {
    "duration": 0,
    "start_time": "2024-11-21T00:42:10.632Z"
   },
   {
    "duration": 0,
    "start_time": "2024-11-21T00:42:10.633Z"
   },
   {
    "duration": 0,
    "start_time": "2024-11-21T00:42:10.634Z"
   },
   {
    "duration": 0,
    "start_time": "2024-11-21T00:42:10.635Z"
   },
   {
    "duration": 0,
    "start_time": "2024-11-21T00:42:10.636Z"
   },
   {
    "duration": 0,
    "start_time": "2024-11-21T00:42:10.637Z"
   },
   {
    "duration": 0,
    "start_time": "2024-11-21T00:42:10.638Z"
   },
   {
    "duration": 0,
    "start_time": "2024-11-21T00:42:10.639Z"
   },
   {
    "duration": 0,
    "start_time": "2024-11-21T00:42:10.640Z"
   },
   {
    "duration": 0,
    "start_time": "2024-11-21T00:42:10.642Z"
   },
   {
    "duration": 0,
    "start_time": "2024-11-21T00:42:10.643Z"
   },
   {
    "duration": 0,
    "start_time": "2024-11-21T00:42:10.644Z"
   },
   {
    "duration": 0,
    "start_time": "2024-11-21T00:42:10.645Z"
   },
   {
    "duration": 0,
    "start_time": "2024-11-21T00:42:10.646Z"
   },
   {
    "duration": 0,
    "start_time": "2024-11-21T00:42:10.647Z"
   },
   {
    "duration": 0,
    "start_time": "2024-11-21T00:42:10.648Z"
   },
   {
    "duration": 102,
    "start_time": "2024-11-21T00:42:48.130Z"
   },
   {
    "duration": 5,
    "start_time": "2024-11-21T00:43:12.396Z"
   },
   {
    "duration": 2733,
    "start_time": "2024-11-21T00:43:18.652Z"
   },
   {
    "duration": 1292,
    "start_time": "2024-11-21T00:43:21.388Z"
   },
   {
    "duration": 14,
    "start_time": "2024-11-21T00:43:22.681Z"
   },
   {
    "duration": 127,
    "start_time": "2024-11-21T00:43:22.697Z"
   },
   {
    "duration": 23,
    "start_time": "2024-11-21T00:43:22.826Z"
   },
   {
    "duration": 15,
    "start_time": "2024-11-21T00:43:22.850Z"
   },
   {
    "duration": 16,
    "start_time": "2024-11-21T00:43:22.867Z"
   },
   {
    "duration": 19,
    "start_time": "2024-11-21T00:43:22.884Z"
   },
   {
    "duration": 15,
    "start_time": "2024-11-21T00:43:22.904Z"
   },
   {
    "duration": 14,
    "start_time": "2024-11-21T00:43:22.921Z"
   },
   {
    "duration": 32,
    "start_time": "2024-11-21T00:43:22.937Z"
   },
   {
    "duration": 10,
    "start_time": "2024-11-21T00:43:22.971Z"
   },
   {
    "duration": 36,
    "start_time": "2024-11-21T00:43:22.983Z"
   },
   {
    "duration": 13,
    "start_time": "2024-11-21T00:43:23.020Z"
   },
   {
    "duration": 35,
    "start_time": "2024-11-21T00:43:23.035Z"
   },
   {
    "duration": 12,
    "start_time": "2024-11-21T00:43:23.072Z"
   },
   {
    "duration": 12,
    "start_time": "2024-11-21T00:43:23.086Z"
   },
   {
    "duration": 23,
    "start_time": "2024-11-21T00:43:23.100Z"
   },
   {
    "duration": 10,
    "start_time": "2024-11-21T00:43:23.124Z"
   },
   {
    "duration": 11,
    "start_time": "2024-11-21T00:43:23.135Z"
   },
   {
    "duration": 61,
    "start_time": "2024-11-21T00:43:23.147Z"
   },
   {
    "duration": 123,
    "start_time": "2024-11-21T00:43:23.209Z"
   },
   {
    "duration": 369,
    "start_time": "2024-11-21T00:43:23.333Z"
   },
   {
    "duration": 392,
    "start_time": "2024-11-21T00:43:23.703Z"
   },
   {
    "duration": 6933,
    "start_time": "2024-11-21T00:43:24.096Z"
   },
   {
    "duration": 240,
    "start_time": "2024-11-21T00:43:31.031Z"
   },
   {
    "duration": 328,
    "start_time": "2024-11-21T00:43:31.273Z"
   },
   {
    "duration": 237,
    "start_time": "2024-11-21T00:43:31.603Z"
   },
   {
    "duration": 263,
    "start_time": "2024-11-21T00:43:31.841Z"
   },
   {
    "duration": 297,
    "start_time": "2024-11-21T00:43:32.106Z"
   },
   {
    "duration": 308,
    "start_time": "2024-11-21T00:43:32.405Z"
   },
   {
    "duration": 280,
    "start_time": "2024-11-21T00:43:32.715Z"
   },
   {
    "duration": 2904,
    "start_time": "2024-11-21T00:43:32.997Z"
   },
   {
    "duration": 10,
    "start_time": "2024-11-21T00:43:35.903Z"
   },
   {
    "duration": 67,
    "start_time": "2024-11-21T00:43:35.915Z"
   },
   {
    "duration": 50,
    "start_time": "2024-11-21T00:43:35.983Z"
   },
   {
    "duration": 31,
    "start_time": "2024-11-21T00:43:36.034Z"
   },
   {
    "duration": 17200,
    "start_time": "2024-11-21T00:43:36.067Z"
   },
   {
    "duration": 471503,
    "start_time": "2024-11-21T00:43:53.270Z"
   },
   {
    "duration": 5060,
    "start_time": "2024-11-21T00:55:51.293Z"
   },
   {
    "duration": 1231,
    "start_time": "2024-11-21T00:55:56.355Z"
   },
   {
    "duration": 12,
    "start_time": "2024-11-21T00:55:57.588Z"
   },
   {
    "duration": 108,
    "start_time": "2024-11-21T00:55:57.602Z"
   },
   {
    "duration": 22,
    "start_time": "2024-11-21T00:55:57.711Z"
   },
   {
    "duration": 15,
    "start_time": "2024-11-21T00:55:57.734Z"
   },
   {
    "duration": 16,
    "start_time": "2024-11-21T00:55:57.750Z"
   },
   {
    "duration": 11,
    "start_time": "2024-11-21T00:55:57.767Z"
   },
   {
    "duration": 23,
    "start_time": "2024-11-21T00:55:57.779Z"
   },
   {
    "duration": 9,
    "start_time": "2024-11-21T00:55:57.805Z"
   },
   {
    "duration": 16,
    "start_time": "2024-11-21T00:55:57.816Z"
   },
   {
    "duration": 9,
    "start_time": "2024-11-21T00:55:57.861Z"
   },
   {
    "duration": 14,
    "start_time": "2024-11-21T00:55:57.872Z"
   },
   {
    "duration": 13,
    "start_time": "2024-11-21T00:55:57.888Z"
   },
   {
    "duration": 4,
    "start_time": "2024-11-21T00:55:57.902Z"
   },
   {
    "duration": 4,
    "start_time": "2024-11-21T00:55:57.908Z"
   },
   {
    "duration": 49,
    "start_time": "2024-11-21T00:55:57.913Z"
   },
   {
    "duration": 19,
    "start_time": "2024-11-21T00:55:57.964Z"
   },
   {
    "duration": 36,
    "start_time": "2024-11-21T00:55:57.985Z"
   },
   {
    "duration": 10,
    "start_time": "2024-11-21T00:55:58.023Z"
   },
   {
    "duration": 55,
    "start_time": "2024-11-21T00:55:58.035Z"
   },
   {
    "duration": 110,
    "start_time": "2024-11-21T00:55:58.091Z"
   },
   {
    "duration": 419,
    "start_time": "2024-11-21T00:55:58.202Z"
   },
   {
    "duration": 93,
    "start_time": "2024-11-21T00:55:58.622Z"
   },
   {
    "duration": 0,
    "start_time": "2024-11-21T00:55:58.717Z"
   },
   {
    "duration": 0,
    "start_time": "2024-11-21T00:55:58.718Z"
   },
   {
    "duration": 0,
    "start_time": "2024-11-21T00:55:58.718Z"
   },
   {
    "duration": 0,
    "start_time": "2024-11-21T00:55:58.720Z"
   },
   {
    "duration": 0,
    "start_time": "2024-11-21T00:55:58.721Z"
   },
   {
    "duration": 0,
    "start_time": "2024-11-21T00:55:58.722Z"
   },
   {
    "duration": 0,
    "start_time": "2024-11-21T00:55:58.723Z"
   },
   {
    "duration": 0,
    "start_time": "2024-11-21T00:55:58.724Z"
   },
   {
    "duration": 0,
    "start_time": "2024-11-21T00:55:58.725Z"
   },
   {
    "duration": 0,
    "start_time": "2024-11-21T00:55:58.726Z"
   },
   {
    "duration": 0,
    "start_time": "2024-11-21T00:55:58.727Z"
   },
   {
    "duration": 0,
    "start_time": "2024-11-21T00:55:58.728Z"
   },
   {
    "duration": 0,
    "start_time": "2024-11-21T00:55:58.729Z"
   },
   {
    "duration": 0,
    "start_time": "2024-11-21T00:55:58.730Z"
   },
   {
    "duration": 0,
    "start_time": "2024-11-21T00:55:58.731Z"
   },
   {
    "duration": 0,
    "start_time": "2024-11-21T00:55:58.732Z"
   },
   {
    "duration": 0,
    "start_time": "2024-11-21T00:55:58.733Z"
   },
   {
    "duration": 0,
    "start_time": "2024-11-21T00:55:58.734Z"
   },
   {
    "duration": 0,
    "start_time": "2024-11-21T00:55:58.735Z"
   },
   {
    "duration": 381,
    "start_time": "2024-11-21T00:56:28.086Z"
   },
   {
    "duration": 1397,
    "start_time": "2024-11-21T00:56:38.259Z"
   },
   {
    "duration": 1401,
    "start_time": "2024-11-21T00:57:50.987Z"
   },
   {
    "duration": 1370,
    "start_time": "2024-11-21T00:59:26.162Z"
   },
   {
    "duration": 1418,
    "start_time": "2024-11-21T00:59:48.707Z"
   },
   {
    "duration": 1479,
    "start_time": "2024-11-21T01:01:13.135Z"
   },
   {
    "duration": 1447,
    "start_time": "2024-11-21T01:02:27.773Z"
   },
   {
    "duration": 3801,
    "start_time": "2024-11-21T01:02:49.520Z"
   },
   {
    "duration": 3,
    "start_time": "2024-11-21T01:07:49.531Z"
   },
   {
    "duration": 5126,
    "start_time": "2024-11-21T01:09:55.051Z"
   },
   {
    "duration": 1221,
    "start_time": "2024-11-21T01:10:00.179Z"
   },
   {
    "duration": 13,
    "start_time": "2024-11-21T01:10:01.402Z"
   },
   {
    "duration": 118,
    "start_time": "2024-11-21T01:10:01.416Z"
   },
   {
    "duration": 22,
    "start_time": "2024-11-21T01:10:01.535Z"
   },
   {
    "duration": 27,
    "start_time": "2024-11-21T01:10:01.559Z"
   },
   {
    "duration": 41,
    "start_time": "2024-11-21T01:10:01.587Z"
   },
   {
    "duration": 15,
    "start_time": "2024-11-21T01:10:01.630Z"
   },
   {
    "duration": 54,
    "start_time": "2024-11-21T01:10:01.646Z"
   },
   {
    "duration": 23,
    "start_time": "2024-11-21T01:10:01.702Z"
   },
   {
    "duration": 36,
    "start_time": "2024-11-21T01:10:01.726Z"
   },
   {
    "duration": 23,
    "start_time": "2024-11-21T01:10:01.763Z"
   },
   {
    "duration": 52,
    "start_time": "2024-11-21T01:10:01.787Z"
   },
   {
    "duration": 24,
    "start_time": "2024-11-21T01:10:01.840Z"
   },
   {
    "duration": 11,
    "start_time": "2024-11-21T01:10:01.865Z"
   },
   {
    "duration": 50,
    "start_time": "2024-11-21T01:10:01.877Z"
   },
   {
    "duration": 17,
    "start_time": "2024-11-21T01:10:01.928Z"
   },
   {
    "duration": 35,
    "start_time": "2024-11-21T01:10:01.946Z"
   },
   {
    "duration": 8,
    "start_time": "2024-11-21T01:10:01.983Z"
   },
   {
    "duration": 66,
    "start_time": "2024-11-21T01:10:01.992Z"
   },
   {
    "duration": 97,
    "start_time": "2024-11-21T01:10:02.060Z"
   },
   {
    "duration": 106,
    "start_time": "2024-11-21T01:10:02.158Z"
   },
   {
    "duration": 348,
    "start_time": "2024-11-21T01:10:02.265Z"
   },
   {
    "duration": 458,
    "start_time": "2024-11-21T01:10:02.614Z"
   },
   {
    "duration": 1400,
    "start_time": "2024-11-21T01:10:03.074Z"
   },
   {
    "duration": 4132,
    "start_time": "2024-11-21T01:10:04.476Z"
   },
   {
    "duration": 82,
    "start_time": "2024-11-21T01:10:08.609Z"
   },
   {
    "duration": 0,
    "start_time": "2024-11-21T01:10:08.693Z"
   },
   {
    "duration": 0,
    "start_time": "2024-11-21T01:10:08.694Z"
   },
   {
    "duration": 0,
    "start_time": "2024-11-21T01:10:08.695Z"
   },
   {
    "duration": 0,
    "start_time": "2024-11-21T01:10:08.695Z"
   },
   {
    "duration": 0,
    "start_time": "2024-11-21T01:10:08.696Z"
   },
   {
    "duration": 0,
    "start_time": "2024-11-21T01:10:08.697Z"
   },
   {
    "duration": 0,
    "start_time": "2024-11-21T01:10:08.698Z"
   },
   {
    "duration": 0,
    "start_time": "2024-11-21T01:10:08.699Z"
   },
   {
    "duration": 0,
    "start_time": "2024-11-21T01:10:08.700Z"
   },
   {
    "duration": 0,
    "start_time": "2024-11-21T01:10:08.701Z"
   },
   {
    "duration": 0,
    "start_time": "2024-11-21T01:10:08.701Z"
   },
   {
    "duration": 0,
    "start_time": "2024-11-21T01:10:08.702Z"
   },
   {
    "duration": 0,
    "start_time": "2024-11-21T01:10:08.703Z"
   },
   {
    "duration": 0,
    "start_time": "2024-11-21T01:10:08.704Z"
   },
   {
    "duration": 0,
    "start_time": "2024-11-21T01:10:08.705Z"
   },
   {
    "duration": 0,
    "start_time": "2024-11-21T01:10:08.706Z"
   },
   {
    "duration": 0,
    "start_time": "2024-11-21T01:10:08.867Z"
   },
   {
    "duration": 0,
    "start_time": "2024-11-21T01:10:08.868Z"
   },
   {
    "duration": 2,
    "start_time": "2024-11-21T01:10:30.155Z"
   },
   {
    "duration": 220,
    "start_time": "2024-11-21T01:10:33.323Z"
   },
   {
    "duration": 230,
    "start_time": "2024-11-21T01:10:33.724Z"
   },
   {
    "duration": 209,
    "start_time": "2024-11-21T01:10:34.128Z"
   },
   {
    "duration": 227,
    "start_time": "2024-11-21T01:10:34.480Z"
   },
   {
    "duration": 267,
    "start_time": "2024-11-21T01:10:34.822Z"
   },
   {
    "duration": 270,
    "start_time": "2024-11-21T01:10:35.121Z"
   },
   {
    "duration": 245,
    "start_time": "2024-11-21T01:10:35.460Z"
   },
   {
    "duration": 2716,
    "start_time": "2024-11-21T01:10:35.788Z"
   },
   {
    "duration": 9,
    "start_time": "2024-11-21T01:10:38.506Z"
   },
   {
    "duration": 4,
    "start_time": "2024-11-21T01:10:38.516Z"
   },
   {
    "duration": 6,
    "start_time": "2024-11-21T01:10:38.522Z"
   },
   {
    "duration": 14,
    "start_time": "2024-11-21T01:10:38.529Z"
   },
   {
    "duration": 15804,
    "start_time": "2024-11-21T01:10:38.562Z"
   },
   {
    "duration": 493044,
    "start_time": "2024-11-21T01:10:54.368Z"
   },
   {
    "duration": 5080,
    "start_time": "2024-11-21T01:27:17.328Z"
   },
   {
    "duration": 1188,
    "start_time": "2024-11-21T01:27:22.410Z"
   },
   {
    "duration": 15,
    "start_time": "2024-11-21T01:27:23.600Z"
   },
   {
    "duration": 111,
    "start_time": "2024-11-21T01:27:23.616Z"
   },
   {
    "duration": 21,
    "start_time": "2024-11-21T01:27:23.729Z"
   },
   {
    "duration": 20,
    "start_time": "2024-11-21T01:27:23.752Z"
   },
   {
    "duration": 16,
    "start_time": "2024-11-21T01:27:23.773Z"
   },
   {
    "duration": 13,
    "start_time": "2024-11-21T01:27:23.790Z"
   },
   {
    "duration": 20,
    "start_time": "2024-11-21T01:27:23.804Z"
   },
   {
    "duration": 41,
    "start_time": "2024-11-21T01:27:23.827Z"
   },
   {
    "duration": 14,
    "start_time": "2024-11-21T01:27:23.870Z"
   },
   {
    "duration": 10,
    "start_time": "2024-11-21T01:27:23.886Z"
   },
   {
    "duration": 16,
    "start_time": "2024-11-21T01:27:23.897Z"
   },
   {
    "duration": 13,
    "start_time": "2024-11-21T01:27:23.914Z"
   },
   {
    "duration": 36,
    "start_time": "2024-11-21T01:27:23.929Z"
   },
   {
    "duration": 7,
    "start_time": "2024-11-21T01:27:23.967Z"
   },
   {
    "duration": 14,
    "start_time": "2024-11-21T01:27:23.976Z"
   },
   {
    "duration": 24,
    "start_time": "2024-11-21T01:27:23.992Z"
   },
   {
    "duration": 10,
    "start_time": "2024-11-21T01:27:24.017Z"
   },
   {
    "duration": 34,
    "start_time": "2024-11-21T01:27:24.029Z"
   },
   {
    "duration": 66,
    "start_time": "2024-11-21T01:27:24.064Z"
   },
   {
    "duration": 104,
    "start_time": "2024-11-21T01:27:24.131Z"
   },
   {
    "duration": 349,
    "start_time": "2024-11-21T01:27:24.237Z"
   },
   {
    "duration": 421,
    "start_time": "2024-11-21T01:27:24.587Z"
   },
   {
    "duration": 1413,
    "start_time": "2024-11-21T01:27:25.009Z"
   },
   {
    "duration": 3857,
    "start_time": "2024-11-21T01:27:26.423Z"
   },
   {
    "duration": 3,
    "start_time": "2024-11-21T01:27:30.281Z"
   },
   {
    "duration": 317,
    "start_time": "2024-11-21T01:27:30.286Z"
   },
   {
    "duration": 260,
    "start_time": "2024-11-21T01:27:30.605Z"
   },
   {
    "duration": 227,
    "start_time": "2024-11-21T01:27:30.867Z"
   },
   {
    "duration": 223,
    "start_time": "2024-11-21T01:27:31.096Z"
   },
   {
    "duration": 286,
    "start_time": "2024-11-21T01:27:31.320Z"
   },
   {
    "duration": 290,
    "start_time": "2024-11-21T01:27:31.608Z"
   },
   {
    "duration": 290,
    "start_time": "2024-11-21T01:27:31.900Z"
   },
   {
    "duration": 2728,
    "start_time": "2024-11-21T01:27:32.192Z"
   },
   {
    "duration": 48,
    "start_time": "2024-11-21T01:27:34.921Z"
   },
   {
    "duration": 5,
    "start_time": "2024-11-21T01:27:34.970Z"
   },
   {
    "duration": 11,
    "start_time": "2024-11-21T01:27:34.976Z"
   },
   {
    "duration": 15675,
    "start_time": "2024-11-21T01:27:34.988Z"
   },
   {
    "duration": 497999,
    "start_time": "2024-11-21T01:27:50.665Z"
   },
   {
    "duration": 116,
    "start_time": "2024-11-21T01:36:08.665Z"
   },
   {
    "duration": 0,
    "start_time": "2024-11-21T01:36:08.783Z"
   },
   {
    "duration": 0,
    "start_time": "2024-11-21T01:36:08.784Z"
   },
   {
    "duration": 0,
    "start_time": "2024-11-21T01:36:08.785Z"
   },
   {
    "duration": 13,
    "start_time": "2024-11-21T01:36:40.324Z"
   },
   {
    "duration": 14,
    "start_time": "2024-11-21T01:36:45.086Z"
   },
   {
    "duration": 14,
    "start_time": "2024-11-21T01:38:03.788Z"
   },
   {
    "duration": 14567,
    "start_time": "2024-11-21T01:38:09.248Z"
   },
   {
    "duration": 662303,
    "start_time": "2024-11-21T01:38:27.128Z"
   },
   {
    "duration": 5109,
    "start_time": "2024-11-21T01:57:43.631Z"
   },
   {
    "duration": 1252,
    "start_time": "2024-11-21T01:57:48.742Z"
   },
   {
    "duration": 14,
    "start_time": "2024-11-21T01:57:49.996Z"
   },
   {
    "duration": 126,
    "start_time": "2024-11-21T01:57:50.013Z"
   },
   {
    "duration": 24,
    "start_time": "2024-11-21T01:57:50.140Z"
   },
   {
    "duration": 25,
    "start_time": "2024-11-21T01:57:50.165Z"
   },
   {
    "duration": 19,
    "start_time": "2024-11-21T01:57:50.191Z"
   },
   {
    "duration": 25,
    "start_time": "2024-11-21T01:57:50.212Z"
   },
   {
    "duration": 24,
    "start_time": "2024-11-21T01:57:50.239Z"
   },
   {
    "duration": 42,
    "start_time": "2024-11-21T01:57:50.266Z"
   },
   {
    "duration": 111,
    "start_time": "2024-11-21T01:57:50.309Z"
   },
   {
    "duration": 42,
    "start_time": "2024-11-21T01:57:50.422Z"
   },
   {
    "duration": 32,
    "start_time": "2024-11-21T01:57:50.466Z"
   },
   {
    "duration": 24,
    "start_time": "2024-11-21T01:57:50.500Z"
   },
   {
    "duration": 14,
    "start_time": "2024-11-21T01:57:50.525Z"
   },
   {
    "duration": 14,
    "start_time": "2024-11-21T01:57:50.541Z"
   },
   {
    "duration": 22,
    "start_time": "2024-11-21T01:57:50.556Z"
   },
   {
    "duration": 33,
    "start_time": "2024-11-21T01:57:50.579Z"
   },
   {
    "duration": 9,
    "start_time": "2024-11-21T01:57:50.614Z"
   },
   {
    "duration": 48,
    "start_time": "2024-11-21T01:57:50.625Z"
   },
   {
    "duration": 92,
    "start_time": "2024-11-21T01:57:50.675Z"
   },
   {
    "duration": 107,
    "start_time": "2024-11-21T01:57:50.769Z"
   },
   {
    "duration": 410,
    "start_time": "2024-11-21T01:57:50.878Z"
   },
   {
    "duration": 383,
    "start_time": "2024-11-21T01:57:51.289Z"
   },
   {
    "duration": 1397,
    "start_time": "2024-11-21T01:57:51.674Z"
   },
   {
    "duration": 4001,
    "start_time": "2024-11-21T01:57:53.073Z"
   },
   {
    "duration": 3,
    "start_time": "2024-11-21T01:57:57.075Z"
   },
   {
    "duration": 239,
    "start_time": "2024-11-21T01:57:57.081Z"
   },
   {
    "duration": 248,
    "start_time": "2024-11-21T01:57:57.321Z"
   },
   {
    "duration": 221,
    "start_time": "2024-11-21T01:57:57.570Z"
   },
   {
    "duration": 225,
    "start_time": "2024-11-21T01:57:57.792Z"
   },
   {
    "duration": 282,
    "start_time": "2024-11-21T01:57:58.018Z"
   },
   {
    "duration": 302,
    "start_time": "2024-11-21T01:57:58.301Z"
   },
   {
    "duration": 295,
    "start_time": "2024-11-21T01:57:58.605Z"
   },
   {
    "duration": 2810,
    "start_time": "2024-11-21T01:57:58.902Z"
   },
   {
    "duration": 10,
    "start_time": "2024-11-21T01:58:01.714Z"
   },
   {
    "duration": 11,
    "start_time": "2024-11-21T01:58:01.725Z"
   },
   {
    "duration": 28,
    "start_time": "2024-11-21T01:58:01.737Z"
   },
   {
    "duration": 15196,
    "start_time": "2024-11-21T01:58:01.767Z"
   },
   {
    "duration": 498316,
    "start_time": "2024-11-21T01:58:16.965Z"
   },
   {
    "duration": 670609,
    "start_time": "2024-11-21T02:06:35.283Z"
   },
   {
    "duration": 118,
    "start_time": "2024-11-21T02:17:45.894Z"
   },
   {
    "duration": 0,
    "start_time": "2024-11-21T02:17:46.014Z"
   },
   {
    "duration": 0,
    "start_time": "2024-11-21T02:17:46.015Z"
   },
   {
    "duration": 2804,
    "start_time": "2024-11-21T02:18:03.208Z"
   },
   {
    "duration": 135,
    "start_time": "2024-11-21T02:18:12.099Z"
   },
   {
    "duration": 311,
    "start_time": "2024-11-21T02:18:17.116Z"
   },
   {
    "duration": 10332,
    "start_time": "2024-11-21T19:02:50.710Z"
   },
   {
    "duration": 1490,
    "start_time": "2024-11-21T19:03:01.045Z"
   },
   {
    "duration": 14,
    "start_time": "2024-11-21T19:03:02.536Z"
   },
   {
    "duration": 494,
    "start_time": "2024-11-21T19:03:02.552Z"
   },
   {
    "duration": 23,
    "start_time": "2024-11-21T19:03:03.048Z"
   },
   {
    "duration": 25,
    "start_time": "2024-11-21T19:03:03.072Z"
   },
   {
    "duration": 18,
    "start_time": "2024-11-21T19:03:03.098Z"
   },
   {
    "duration": 61,
    "start_time": "2024-11-21T19:03:03.118Z"
   },
   {
    "duration": 38,
    "start_time": "2024-11-21T19:03:03.181Z"
   },
   {
    "duration": 12,
    "start_time": "2024-11-21T19:03:03.221Z"
   },
   {
    "duration": 45,
    "start_time": "2024-11-21T19:03:03.234Z"
   },
   {
    "duration": 24,
    "start_time": "2024-11-21T19:03:03.280Z"
   },
   {
    "duration": 13,
    "start_time": "2024-11-21T19:03:03.306Z"
   },
   {
    "duration": 18,
    "start_time": "2024-11-21T19:03:03.320Z"
   },
   {
    "duration": 20,
    "start_time": "2024-11-21T19:03:03.340Z"
   },
   {
    "duration": 74,
    "start_time": "2024-11-21T19:03:03.361Z"
   },
   {
    "duration": 36,
    "start_time": "2024-11-21T19:03:03.437Z"
   },
   {
    "duration": 24,
    "start_time": "2024-11-21T19:03:03.475Z"
   },
   {
    "duration": 9,
    "start_time": "2024-11-21T19:03:03.501Z"
   },
   {
    "duration": 19,
    "start_time": "2024-11-21T19:03:03.512Z"
   },
   {
    "duration": 77,
    "start_time": "2024-11-21T19:03:03.533Z"
   },
   {
    "duration": 117,
    "start_time": "2024-11-21T19:03:03.612Z"
   },
   {
    "duration": 373,
    "start_time": "2024-11-21T19:03:03.730Z"
   },
   {
    "duration": 470,
    "start_time": "2024-11-21T19:03:04.105Z"
   },
   {
    "duration": 1525,
    "start_time": "2024-11-21T19:03:04.577Z"
   },
   {
    "duration": 4010,
    "start_time": "2024-11-21T19:03:06.104Z"
   },
   {
    "duration": 3,
    "start_time": "2024-11-21T19:03:10.116Z"
   },
   {
    "duration": 300,
    "start_time": "2024-11-21T19:03:10.122Z"
   },
   {
    "duration": 268,
    "start_time": "2024-11-21T19:03:10.424Z"
   },
   {
    "duration": 225,
    "start_time": "2024-11-21T19:03:10.694Z"
   },
   {
    "duration": 255,
    "start_time": "2024-11-21T19:03:10.921Z"
   },
   {
    "duration": 283,
    "start_time": "2024-11-21T19:03:11.177Z"
   },
   {
    "duration": 299,
    "start_time": "2024-11-21T19:03:11.462Z"
   },
   {
    "duration": 291,
    "start_time": "2024-11-21T19:03:11.763Z"
   },
   {
    "duration": 3011,
    "start_time": "2024-11-21T19:03:12.055Z"
   },
   {
    "duration": 10,
    "start_time": "2024-11-21T19:03:15.067Z"
   },
   {
    "duration": 23,
    "start_time": "2024-11-21T19:03:15.079Z"
   },
   {
    "duration": 9,
    "start_time": "2024-11-21T19:03:15.103Z"
   },
   {
    "duration": 13206,
    "start_time": "2024-11-21T19:03:15.114Z"
   },
   {
    "duration": 572738,
    "start_time": "2024-11-21T19:03:28.322Z"
   },
   {
    "duration": 660939,
    "start_time": "2024-11-21T19:13:01.062Z"
   },
   {
    "duration": 112,
    "start_time": "2024-11-21T19:24:02.002Z"
   },
   {
    "duration": 0,
    "start_time": "2024-11-21T19:24:02.115Z"
   },
   {
    "duration": 0,
    "start_time": "2024-11-21T19:24:02.117Z"
   },
   {
    "duration": 33,
    "start_time": "2024-11-21T19:52:21.987Z"
   },
   {
    "duration": 124,
    "start_time": "2024-11-21T19:53:54.885Z"
   },
   {
    "duration": 337,
    "start_time": "2024-11-21T19:54:02.826Z"
   },
   {
    "duration": 3,
    "start_time": "2024-11-21T20:02:12.717Z"
   },
   {
    "duration": 1587,
    "start_time": "2024-11-21T21:01:48.565Z"
   },
   {
    "duration": 972,
    "start_time": "2024-11-21T21:02:28.619Z"
   },
   {
    "duration": 10,
    "start_time": "2024-11-21T21:02:51.306Z"
   },
   {
    "duration": 11,
    "start_time": "2024-11-21T21:02:57.097Z"
   },
   {
    "duration": 46,
    "start_time": "2024-11-21T21:03:15.243Z"
   },
   {
    "duration": 97,
    "start_time": "2024-11-21T21:04:02.182Z"
   },
   {
    "duration": 331,
    "start_time": "2024-11-21T21:04:23.822Z"
   },
   {
    "duration": 390,
    "start_time": "2024-11-21T21:05:25.234Z"
   },
   {
    "duration": 1404,
    "start_time": "2024-11-21T21:05:41.977Z"
   },
   {
    "duration": 3838,
    "start_time": "2024-11-21T21:06:44.582Z"
   },
   {
    "duration": 3,
    "start_time": "2024-11-21T21:06:54.324Z"
   },
   {
    "duration": 6201,
    "start_time": "2024-11-21T21:07:05.518Z"
   },
   {
    "duration": 1227,
    "start_time": "2024-11-21T21:07:11.721Z"
   },
   {
    "duration": 14,
    "start_time": "2024-11-21T21:07:12.950Z"
   },
   {
    "duration": 153,
    "start_time": "2024-11-21T21:07:12.966Z"
   },
   {
    "duration": 26,
    "start_time": "2024-11-21T21:07:13.120Z"
   },
   {
    "duration": 21,
    "start_time": "2024-11-21T21:07:13.148Z"
   },
   {
    "duration": 15,
    "start_time": "2024-11-21T21:07:13.170Z"
   },
   {
    "duration": 35,
    "start_time": "2024-11-21T21:07:13.186Z"
   },
   {
    "duration": 13,
    "start_time": "2024-11-21T21:07:13.222Z"
   },
   {
    "duration": 10,
    "start_time": "2024-11-21T21:07:13.238Z"
   },
   {
    "duration": 15,
    "start_time": "2024-11-21T21:07:13.250Z"
   },
   {
    "duration": 11,
    "start_time": "2024-11-21T21:07:13.266Z"
   },
   {
    "duration": 41,
    "start_time": "2024-11-21T21:07:13.279Z"
   },
   {
    "duration": 16,
    "start_time": "2024-11-21T21:07:13.321Z"
   },
   {
    "duration": 4,
    "start_time": "2024-11-21T21:07:13.339Z"
   },
   {
    "duration": 5,
    "start_time": "2024-11-21T21:07:13.345Z"
   },
   {
    "duration": 8,
    "start_time": "2024-11-21T21:07:13.351Z"
   },
   {
    "duration": 19,
    "start_time": "2024-11-21T21:07:13.361Z"
   },
   {
    "duration": 9,
    "start_time": "2024-11-21T21:07:13.412Z"
   },
   {
    "duration": 10,
    "start_time": "2024-11-21T21:07:13.422Z"
   },
   {
    "duration": 64,
    "start_time": "2024-11-21T21:07:13.434Z"
   },
   {
    "duration": 116,
    "start_time": "2024-11-21T21:07:13.499Z"
   },
   {
    "duration": 400,
    "start_time": "2024-11-21T21:07:13.616Z"
   },
   {
    "duration": 406,
    "start_time": "2024-11-21T21:07:14.018Z"
   },
   {
    "duration": 1493,
    "start_time": "2024-11-21T21:07:14.425Z"
   },
   {
    "duration": 4041,
    "start_time": "2024-11-21T21:07:15.920Z"
   },
   {
    "duration": 3,
    "start_time": "2024-11-21T21:07:19.962Z"
   },
   {
    "duration": 229,
    "start_time": "2024-11-21T21:07:19.967Z"
   },
   {
    "duration": 248,
    "start_time": "2024-11-21T21:07:20.198Z"
   },
   {
    "duration": 236,
    "start_time": "2024-11-21T21:07:20.448Z"
   },
   {
    "duration": 282,
    "start_time": "2024-11-21T21:07:20.685Z"
   },
   {
    "duration": 289,
    "start_time": "2024-11-21T21:07:20.969Z"
   },
   {
    "duration": 298,
    "start_time": "2024-11-21T21:07:21.259Z"
   },
   {
    "duration": 293,
    "start_time": "2024-11-21T21:07:21.559Z"
   },
   {
    "duration": 2999,
    "start_time": "2024-11-21T21:07:21.853Z"
   },
   {
    "duration": 10,
    "start_time": "2024-11-21T21:07:24.853Z"
   },
   {
    "duration": 5,
    "start_time": "2024-11-21T21:07:24.864Z"
   },
   {
    "duration": 5,
    "start_time": "2024-11-21T21:07:24.870Z"
   },
   {
    "duration": 12846,
    "start_time": "2024-11-21T21:07:24.877Z"
   },
   {
    "duration": 570739,
    "start_time": "2024-11-21T21:07:37.725Z"
   },
   {
    "duration": 667098,
    "start_time": "2024-11-21T21:17:08.466Z"
   },
   {
    "duration": 35,
    "start_time": "2024-11-21T21:28:15.566Z"
   },
   {
    "duration": 148,
    "start_time": "2024-11-21T21:28:15.602Z"
   },
   {
    "duration": 348,
    "start_time": "2024-11-21T21:28:15.751Z"
   },
   {
    "duration": 3,
    "start_time": "2024-11-21T21:28:16.101Z"
   }
  ],
  "kernelspec": {
   "display_name": "Python 3 (ipykernel)",
   "language": "python",
   "name": "python3"
  },
  "language_info": {
   "codemirror_mode": {
    "name": "ipython",
    "version": 3
   },
   "file_extension": ".py",
   "mimetype": "text/x-python",
   "name": "python",
   "nbconvert_exporter": "python",
   "pygments_lexer": "ipython3",
   "version": "3.9.5"
  },
  "toc": {
   "base_numbering": 1,
   "nav_menu": {},
   "number_sections": true,
   "sideBar": true,
   "skip_h1_title": true,
   "title_cell": "План исследования",
   "title_sidebar": "Содержание",
   "toc_cell": true,
   "toc_position": {
    "height": "calc(100% - 180px)",
    "left": "10px",
    "top": "150px",
    "width": "317px"
   },
   "toc_section_display": true,
   "toc_window_display": true
  }
 },
 "nbformat": 4,
 "nbformat_minor": 5
}
